{
 "cells": [
  {
   "cell_type": "code",
   "execution_count": 6,
   "metadata": {},
   "outputs": [
    {
     "name": "stderr",
     "output_type": "stream",
     "text": [
      "2023-04-04 20:19:33.058794: I tensorflow/core/platform/cpu_feature_guard.cc:193] This TensorFlow binary is optimized with oneAPI Deep Neural Network Library (oneDNN) to use the following CPU instructions in performance-critical operations:  AVX2 AVX512F FMA\n",
      "To enable them in other operations, rebuild TensorFlow with the appropriate compiler flags.\n",
      "2023-04-04 20:19:34.401347: W tensorflow/compiler/xla/stream_executor/platform/default/dso_loader.cc:64] Could not load dynamic library 'libcudart.so.11.0'; dlerror: libcudart.so.11.0: cannot open shared object file: No such file or directory\n",
      "2023-04-04 20:19:34.401368: I tensorflow/compiler/xla/stream_executor/cuda/cudart_stub.cc:29] Ignore above cudart dlerror if you do not have a GPU set up on your machine.\n",
      "2023-04-04 20:19:38.021985: W tensorflow/compiler/xla/stream_executor/platform/default/dso_loader.cc:64] Could not load dynamic library 'libnvinfer.so.7'; dlerror: libnvinfer.so.7: cannot open shared object file: No such file or directory\n",
      "2023-04-04 20:19:38.022205: W tensorflow/compiler/xla/stream_executor/platform/default/dso_loader.cc:64] Could not load dynamic library 'libnvinfer_plugin.so.7'; dlerror: libnvinfer_plugin.so.7: cannot open shared object file: No such file or directory\n",
      "2023-04-04 20:19:38.022216: W tensorflow/compiler/tf2tensorrt/utils/py_utils.cc:38] TF-TRT Warning: Cannot dlopen some TensorRT libraries. If you would like to use Nvidia GPU with TensorRT, please make sure the missing libraries mentioned above are installed properly.\n"
     ]
    }
   ],
   "source": [
    "import pandas as pd\n",
    "from transformers import pipeline\n",
    "import gensim.downloader as api\n",
    "from sklearn.feature_extraction.text import CountVectorizer\n",
    "import numpy as np\n",
    "from sklearn.metrics.pairwise import cosine_similarity"
   ]
  },
  {
   "attachments": {},
   "cell_type": "markdown",
   "metadata": {},
   "source": [
    "## Functions "
   ]
  },
  {
   "cell_type": "code",
   "execution_count": 1,
   "metadata": {},
   "outputs": [],
   "source": [
    "def get_vectors(lst_keywords, wv):\n",
    "    \n",
    "    # Creating the vectorizer \n",
    "    vectorizer = CountVectorizer(stop_words='english')\n",
    "\n",
    "    # Fit the model with our data (each keyword becomes a feature, some are split)\n",
    "    X = vectorizer.fit_transform(lst_keywords)\n",
    "\n",
    "    # Make an array and fills it in\n",
    "    CountVectorizedData=pd.DataFrame(X.toarray(), columns=vectorizer.get_feature_names_out())\n",
    "\n",
    "    # Words in the vocabulary (some keywords are split)\n",
    "    WordsVocab=CountVectorizedData.columns\n",
    "\n",
    "    # Creating dataframe holding sentences\n",
    "    #X_corpus_train = X\n",
    "    #CountVecData=CountVectorizedData.iloc[:, :-1]\n",
    "    \n",
    "    # Creating empty dataframe to hold sentences\n",
    "    W2Vec_Data_temp=pd.DataFrame()\n",
    "    \n",
    "    Sentence_1=[[wv[word] if word in wv.key_to_index.keys() else np.zeros(300) for word in WordsVocab[CountVectorizedData.iloc[i , :]>=1]] for i in range(CountVectorizedData.shape[0])]\n",
    "    W2Vec_Data_temp=W2Vec_Data_temp.append(pd.DataFrame(Sentence_1))\n",
    "    Sentence_2=[[wv[word.capitalize()] if word.capitalize() in wv.key_to_index.keys() and word not in wv.key_to_index.keys()  else np.zeros(300) for word in WordsVocab[CountVectorizedData.iloc[i , :]>=1]] for i in range(CountVectorizedData.shape[0])]\n",
    "    W2Vec_Data_temp=W2Vec_Data_temp.append(pd.DataFrame(Sentence_2))\n",
    "    test_sum_df = W2Vec_Data_temp.groupby(W2Vec_Data_temp.index).sum()\n",
    "    #W2Vec_Data = test_sum_df.sum(axis=1)\n",
    "    test_sum_df[test_sum_df.applymap(lambda x: np.allclose(x, 0))] = np.nan\n",
    "    \n",
    "    W2Vec_Data_mean = test_sum_df.apply(lambda x: np.mean(x[x.notnull()]), axis=1)\n",
    "    \n",
    "    W2Vec_Data_df = pd.DataFrame(W2Vec_Data_mean)\n",
    "    W2Vec_Data = W2Vec_Data_df[0].apply(pd.Series)\n",
    "    #W2Vec_Data= W2Vec_Data_df_final\n",
    "    #W2Vec_Data = pd.DataFrame([sum([wv[word] for word in WordsVocab[CountVectorizedData.iloc[i , :] >= 1] \\\n",
    "    #                                if word in wv.index_to_key]) for i in range(CountVectorizedData.shape[0])])\n",
    "    \n",
    "    return W2Vec_Data"
   ]
  },
  {
   "cell_type": "code",
   "execution_count": 305,
   "metadata": {},
   "outputs": [],
   "source": [
    "def get_vectors_old(lst_keywords, wv):\n",
    "    \n",
    "    # Creating the vectorizer \n",
    "    vectorizer = CountVectorizer(stop_words='english')\n",
    "\n",
    "    # Fit the model with our data (each keyword becomes a feature, some are split)\n",
    "    X = vectorizer.fit_transform(lst_keywords)\n",
    "\n",
    "    # Make an array and fills it in\n",
    "    CountVectorizedData=pd.DataFrame(X.toarray(), columns=vectorizer.get_feature_names_out())\n",
    "\n",
    "    # Words in the vocabulary (some keywords are split)\n",
    "    WordsVocab=CountVectorizedData.columns\n",
    "\n",
    "    # Creating empty dataframe to hold sentences\n",
    "    W2Vec_Data=pd.DataFrame()\n",
    "\n",
    "    # Looping through each row for the data\n",
    "    for i in range(CountVectorizedData.shape[0]):\n",
    "\n",
    "        # initiating a sentence with all zeros\n",
    "        sentence = np.zeros(300)\n",
    "\n",
    "        # Looping thru each word in the sentence and if its present in \n",
    "        # the Word2Vec model then storing its vector\n",
    "        for word in WordsVocab[CountVectorizedData.iloc[i , :] >= 1]:\n",
    "            if word in wv.index_to_key:\n",
    "                sentence = sentence + wv[word] \n",
    "        # Appending the sentence to the dataframe\n",
    "        W2Vec_Data = W2Vec_Data.append(pd.DataFrame([sentence]))\n",
    "\n",
    "    return W2Vec_Data"
   ]
  },
  {
   "cell_type": "markdown",
   "metadata": {},
   "source": [
    "## Load data and models"
   ]
  },
  {
   "cell_type": "code",
   "execution_count": 3,
   "metadata": {},
   "outputs": [],
   "source": [
    "# Specify wanted time range\n",
    "start_date = '2019-02-01'\n",
    "end_date = '2020-02-01'\n",
    "\n",
    "# Where data files will be stored\n",
    "path_to_data_files = '../../data/interim/'\n",
    "\n",
    "# Load DW data\n",
    "clean_data_file = path_to_data_files + '/clean_keywords_' + start_date + '_' + end_date + '.json'\n",
    "df_dw = pd.read_json(clean_data_file, orient ='split', compression = 'infer')\n",
    "\n",
    "# Load Google data\n",
    "google_file = path_to_data_files + start_date + '_' + end_date + '_World_daily_trending_searches.json'\n",
    "df_google = pd.read_json(google_file, orient ='split', compression = 'infer') "
   ]
  },
  {
   "cell_type": "code",
   "execution_count": 7,
   "metadata": {},
   "outputs": [
    {
     "data": {
      "application/vnd.jupyter.widget-view+json": {
       "model_id": "5f2e402f612e49f6ae221d951b57b8eb",
       "version_major": 2,
       "version_minor": 0
      },
      "text/plain": [
       "Downloading:   0%|          | 0.00/1.15k [00:00<?, ?B/s]"
      ]
     },
     "metadata": {},
     "output_type": "display_data"
    },
    {
     "data": {
      "application/vnd.jupyter.widget-view+json": {
       "model_id": "445a666999e04dd5849e34702fe133b5",
       "version_major": 2,
       "version_minor": 0
      },
      "text/plain": [
       "Downloading:   0%|          | 0.00/1.63G [00:00<?, ?B/s]"
      ]
     },
     "metadata": {},
     "output_type": "display_data"
    },
    {
     "data": {
      "application/vnd.jupyter.widget-view+json": {
       "model_id": "8a991e57239b408aa36812e25a2f87f6",
       "version_major": 2,
       "version_minor": 0
      },
      "text/plain": [
       "Downloading:   0%|          | 0.00/26.0 [00:00<?, ?B/s]"
      ]
     },
     "metadata": {},
     "output_type": "display_data"
    },
    {
     "data": {
      "application/vnd.jupyter.widget-view+json": {
       "model_id": "ef2f34a6c05640e7972190bcaf43bf19",
       "version_major": 2,
       "version_minor": 0
      },
      "text/plain": [
       "Downloading:   0%|          | 0.00/899k [00:00<?, ?B/s]"
      ]
     },
     "metadata": {},
     "output_type": "display_data"
    },
    {
     "data": {
      "application/vnd.jupyter.widget-view+json": {
       "model_id": "a4075a19101443e09a08ecc532a21d77",
       "version_major": 2,
       "version_minor": 0
      },
      "text/plain": [
       "Downloading:   0%|          | 0.00/456k [00:00<?, ?B/s]"
      ]
     },
     "metadata": {},
     "output_type": "display_data"
    },
    {
     "data": {
      "application/vnd.jupyter.widget-view+json": {
       "model_id": "017651bfbc084d739b8014b6b706c63f",
       "version_major": 2,
       "version_minor": 0
      },
      "text/plain": [
       "Downloading:   0%|          | 0.00/1.36M [00:00<?, ?B/s]"
      ]
     },
     "metadata": {},
     "output_type": "display_data"
    },
    {
     "name": "stdout",
     "output_type": "stream",
     "text": [
      "[==================================================] 100.0% 1662.8/1662.8MB downloaded\n"
     ]
    }
   ],
   "source": [
    "# Runs for 1min20\n",
    "# Load pre-trained zero shot learning model\n",
    "pipe = pipeline(model=\"facebook/bart-large-mnli\") \n",
    "\n",
    "# Loads word2vec google model\n",
    "wv = api.load('word2vec-google-news-300')"
   ]
  },
  {
   "attachments": {},
   "cell_type": "markdown",
   "metadata": {},
   "source": [
    "## Match datasets in time"
   ]
  },
  {
   "cell_type": "code",
   "execution_count": 5,
   "metadata": {},
   "outputs": [],
   "source": [
    "# Extract date range in data\n",
    "start_date_dw = pd.to_datetime(df_dw['Date']).min()\n",
    "end_date_dw = pd.to_datetime(df_dw['Date']).max()\n",
    "\n",
    "# Remove rows witn no category\n",
    "df_dw.dropna(subset=['cleanFocusCategory'], inplace = True)\n",
    "df_dw.reset_index(drop = True, inplace = True)\n",
    "\n",
    "# Keeps only google data within DW data date range\n",
    "df_google.sort_values(by ='date', inplace = True) \n",
    "mask = (pd.to_datetime(df_google['date']) > start_date_dw) & (pd.to_datetime(df_google['date']) <= end_date_dw)\n",
    "df_google_subset = df_google.loc[mask].copy()"
   ]
  },
  {
   "attachments": {},
   "cell_type": "markdown",
   "metadata": {},
   "source": [
    "## Zero-shot learning model"
   ]
  },
  {
   "cell_type": "code",
   "execution_count": 6,
   "metadata": {},
   "outputs": [
    {
     "name": "stdout",
     "output_type": "stream",
     "text": [
      "29 categories:  ['Film', 'Arts', 'Business', 'History', 'Health', 'Media', 'Terrorism', 'Politics', 'Technology', 'Lifestyle', 'Religion', 'Catastrophe', 'Learning German', 'Literature', 'Music', 'Digital World', 'Sports', 'Law and Justice', 'Culture', 'Science', 'Travel', 'Crime', 'Education', 'Conflicts', 'Human Rights', 'Cars and Transportation', 'Nature and Environment', 'Society', 'Soccer']\n"
     ]
    }
   ],
   "source": [
    "# Target variable (category)\n",
    "focus_category_list = list(set(df_dw['cleanFocusCategory']))\n",
    "print(len(focus_category_list), 'categories: ', focus_category_list)"
   ]
  },
  {
   "cell_type": "code",
   "execution_count": 7,
   "metadata": {},
   "outputs": [],
   "source": [
    "# Replace 'Topic' by None and remove them for now (TODO)\n",
    "df_google_subset['topic_type'].replace({'Topic': None}, inplace = True)\n",
    "df_google_subset.dropna(subset=['topic_type'], inplace = True)\n",
    "\n",
    "# Make a new column combining those 2\n",
    "df_google_subset['topic_title_type'] = df_google_subset['topic_title'] + ', ' + df_google_subset['topic_type']"
   ]
  },
  {
   "cell_type": "code",
   "execution_count": 8,
   "metadata": {},
   "outputs": [],
   "source": [
    "# On Google keywords \n",
    "load = 1\n",
    "\n",
    "filename_google_kw = path_to_data_files + '/zero_shot_prediction_google_keywords_' + start_date + '_' + end_date + '.json'\n",
    "\n",
    "if load: \n",
    "    df_prediction = pd.read_json(filename_google_kw, orient ='split', compression = 'infer')\n",
    "else:\n",
    "    # Runs for 14min (for 100 google keyword lines)\n",
    "    df_prediction = df_google_subset[['topic_title', 'topic_type', 'topic_title_type']].copy()\n",
    "\n",
    "    # Runs the model\n",
    "    category_outputs = [pipe(kw, candidate_labels = focus_category_list) for kw in df_prediction['topic_title_type'].to_list()]\n",
    "    labels = list(map(lambda x: x['labels'][0], category_outputs))\n",
    "\n",
    "    # Add a column to dataframe\n",
    "    df_prediction['Predicted category'] = labels\n",
    "    df_prediction.to_json(filename_google_kw, orient = 'split', compression = 'infer', index = 'true')"
   ]
  },
  {
   "cell_type": "code",
   "execution_count": 16,
   "metadata": {},
   "outputs": [],
   "source": [
    "# On DW keywords (to assess accuracy)\n",
    "load = 0\n",
    "\n",
    "filename_dw_kw = path_to_data_files + 'zero_shot_prediction_dw_keywords_' + start_date + '_' + end_date + '.json'\n",
    "\n",
    "if load: \n",
    "    df_dw_prediction = pd.read_json(filename_dw_kw, orient ='split', compression = 'infer')\n",
    "else:\n",
    "    # 1min for 4 words\n",
    "    # 55min for 200 articles\n",
    "    df_dw_prediction = df_dw[0:4].copy()\n",
    "\n",
    "    # Runs the model\n",
    "    category_outputs = [pipe(', '.join(kw), candidate_labels = focus_category_list) for kw in df_dw_prediction['keywordStringsCleanAfterFuzz']]\n",
    "    labels = list(map(lambda x: x['labels'][0], category_outputs))\n",
    "\n",
    "    # Add a column to dataframe\n",
    "    df_dw_prediction['Predicted category'] = labels\n",
    "    df_dw_prediction.to_json(filename_dw_kw, orient = 'split', compression = 'infer', index = 'true')"
   ]
  },
  {
   "cell_type": "code",
   "execution_count": 17,
   "metadata": {},
   "outputs": [
    {
     "name": "stdout",
     "output_type": "stream",
     "text": [
      "Compared to similar categories: 0.25\n"
     ]
    }
   ],
   "source": [
    "# Check prediction\n",
    "accuracy_sim_dw_categ = sum(df_dw_prediction['Predicted category'] == df_dw_prediction['cleanFocusCategory']) / len(df_dw_prediction)\n",
    "print('Compared to similar categories:', accuracy_sim_dw_categ)"
   ]
  },
  {
   "attachments": {},
   "cell_type": "markdown",
   "metadata": {},
   "source": [
    "## Assess performance: Compare to similar DW keyword - category pairs"
   ]
  },
  {
   "cell_type": "code",
   "execution_count": 19,
   "metadata": {},
   "outputs": [],
   "source": [
    "# Vectorisation of DW keywords\n",
    "load = 0\n",
    "\n",
    "filename_dw_kw_vec = path_to_data_files + 'vectorised_clean_keywords_' + start_date + '_' + end_date + '.json'\n",
    "\n",
    "if load: \n",
    "    vec_keywords_dw = pd.read_json(filename_dw_kw_vec, orient ='split', compression = 'infer')\n",
    "else:\n",
    "    # runs during 10 min\n",
    "    lst_keywords_dw = df_dw['keywordStringsCleanAfterFuzz'].astype(str)\n",
    "    vec_keywords_dw = get_vectors(lst_keywords_dw, wv)\n",
    "    vec_keywords_dw.to_json(filename_dw_kw_vec, orient = 'split', compression = 'infer', index = 'true')"
   ]
  },
  {
   "cell_type": "code",
   "execution_count": 22,
   "metadata": {},
   "outputs": [
    {
     "data": {
      "text/html": [
       "<div>\n",
       "<style scoped>\n",
       "    .dataframe tbody tr th:only-of-type {\n",
       "        vertical-align: middle;\n",
       "    }\n",
       "\n",
       "    .dataframe tbody tr th {\n",
       "        vertical-align: top;\n",
       "    }\n",
       "\n",
       "    .dataframe thead th {\n",
       "        text-align: right;\n",
       "    }\n",
       "</style>\n",
       "<table border=\"1\" class=\"dataframe\">\n",
       "  <thead>\n",
       "    <tr style=\"text-align: right;\">\n",
       "      <th></th>\n",
       "      <th>0</th>\n",
       "      <th>1</th>\n",
       "      <th>2</th>\n",
       "      <th>3</th>\n",
       "      <th>4</th>\n",
       "      <th>5</th>\n",
       "      <th>6</th>\n",
       "      <th>7</th>\n",
       "      <th>8</th>\n",
       "      <th>9</th>\n",
       "      <th>...</th>\n",
       "      <th>290</th>\n",
       "      <th>291</th>\n",
       "      <th>292</th>\n",
       "      <th>293</th>\n",
       "      <th>294</th>\n",
       "      <th>295</th>\n",
       "      <th>296</th>\n",
       "      <th>297</th>\n",
       "      <th>298</th>\n",
       "      <th>299</th>\n",
       "    </tr>\n",
       "  </thead>\n",
       "  <tbody>\n",
       "    <tr>\n",
       "      <th>0</th>\n",
       "      <td>-0.418457</td>\n",
       "      <td>0.111389</td>\n",
       "      <td>0.332275</td>\n",
       "      <td>0.768799</td>\n",
       "      <td>-0.060303</td>\n",
       "      <td>0.311279</td>\n",
       "      <td>-0.025146</td>\n",
       "      <td>-0.443359</td>\n",
       "      <td>-0.147827</td>\n",
       "      <td>0.296127</td>\n",
       "      <td>...</td>\n",
       "      <td>0.212280</td>\n",
       "      <td>-0.166016</td>\n",
       "      <td>0.217834</td>\n",
       "      <td>0.162491</td>\n",
       "      <td>0.114319</td>\n",
       "      <td>-0.160889</td>\n",
       "      <td>-0.500732</td>\n",
       "      <td>-0.004761</td>\n",
       "      <td>0.395630</td>\n",
       "      <td>0.437256</td>\n",
       "    </tr>\n",
       "    <tr>\n",
       "      <th>0</th>\n",
       "      <td>-0.460449</td>\n",
       "      <td>0.531982</td>\n",
       "      <td>0.046326</td>\n",
       "      <td>1.095947</td>\n",
       "      <td>-0.085938</td>\n",
       "      <td>0.175049</td>\n",
       "      <td>0.387207</td>\n",
       "      <td>-0.168335</td>\n",
       "      <td>0.180420</td>\n",
       "      <td>0.680176</td>\n",
       "      <td>...</td>\n",
       "      <td>0.637329</td>\n",
       "      <td>-0.153809</td>\n",
       "      <td>0.126221</td>\n",
       "      <td>0.080078</td>\n",
       "      <td>0.227051</td>\n",
       "      <td>-0.291016</td>\n",
       "      <td>0.989746</td>\n",
       "      <td>-0.595100</td>\n",
       "      <td>0.504883</td>\n",
       "      <td>0.080811</td>\n",
       "    </tr>\n",
       "    <tr>\n",
       "      <th>0</th>\n",
       "      <td>-0.475464</td>\n",
       "      <td>1.047974</td>\n",
       "      <td>1.359253</td>\n",
       "      <td>1.510742</td>\n",
       "      <td>-0.635254</td>\n",
       "      <td>-0.362061</td>\n",
       "      <td>-0.671265</td>\n",
       "      <td>-1.688110</td>\n",
       "      <td>0.505371</td>\n",
       "      <td>0.206787</td>\n",
       "      <td>...</td>\n",
       "      <td>0.637207</td>\n",
       "      <td>0.774963</td>\n",
       "      <td>0.293091</td>\n",
       "      <td>0.757812</td>\n",
       "      <td>0.041016</td>\n",
       "      <td>-0.019165</td>\n",
       "      <td>0.195312</td>\n",
       "      <td>-0.059547</td>\n",
       "      <td>0.490234</td>\n",
       "      <td>0.163086</td>\n",
       "    </tr>\n",
       "    <tr>\n",
       "      <th>0</th>\n",
       "      <td>0.174316</td>\n",
       "      <td>-0.738037</td>\n",
       "      <td>0.027344</td>\n",
       "      <td>0.559570</td>\n",
       "      <td>-0.570068</td>\n",
       "      <td>0.352356</td>\n",
       "      <td>-0.320312</td>\n",
       "      <td>-0.703613</td>\n",
       "      <td>0.001465</td>\n",
       "      <td>0.390442</td>\n",
       "      <td>...</td>\n",
       "      <td>0.186035</td>\n",
       "      <td>0.391602</td>\n",
       "      <td>-0.219482</td>\n",
       "      <td>0.823853</td>\n",
       "      <td>-0.545410</td>\n",
       "      <td>-0.432373</td>\n",
       "      <td>-0.753906</td>\n",
       "      <td>0.273804</td>\n",
       "      <td>-0.796387</td>\n",
       "      <td>-0.203369</td>\n",
       "    </tr>\n",
       "    <tr>\n",
       "      <th>0</th>\n",
       "      <td>0.087891</td>\n",
       "      <td>-0.032959</td>\n",
       "      <td>-0.085938</td>\n",
       "      <td>0.347656</td>\n",
       "      <td>-0.293213</td>\n",
       "      <td>-0.332520</td>\n",
       "      <td>0.028198</td>\n",
       "      <td>-0.318115</td>\n",
       "      <td>0.312866</td>\n",
       "      <td>0.570312</td>\n",
       "      <td>...</td>\n",
       "      <td>0.045898</td>\n",
       "      <td>0.572754</td>\n",
       "      <td>-0.748291</td>\n",
       "      <td>0.079590</td>\n",
       "      <td>-0.007980</td>\n",
       "      <td>-0.281006</td>\n",
       "      <td>-0.177734</td>\n",
       "      <td>0.120850</td>\n",
       "      <td>-0.166748</td>\n",
       "      <td>0.209961</td>\n",
       "    </tr>\n",
       "    <tr>\n",
       "      <th>...</th>\n",
       "      <td>...</td>\n",
       "      <td>...</td>\n",
       "      <td>...</td>\n",
       "      <td>...</td>\n",
       "      <td>...</td>\n",
       "      <td>...</td>\n",
       "      <td>...</td>\n",
       "      <td>...</td>\n",
       "      <td>...</td>\n",
       "      <td>...</td>\n",
       "      <td>...</td>\n",
       "      <td>...</td>\n",
       "      <td>...</td>\n",
       "      <td>...</td>\n",
       "      <td>...</td>\n",
       "      <td>...</td>\n",
       "      <td>...</td>\n",
       "      <td>...</td>\n",
       "      <td>...</td>\n",
       "      <td>...</td>\n",
       "      <td>...</td>\n",
       "    </tr>\n",
       "    <tr>\n",
       "      <th>0</th>\n",
       "      <td>0.590820</td>\n",
       "      <td>0.489868</td>\n",
       "      <td>0.804688</td>\n",
       "      <td>1.092026</td>\n",
       "      <td>-0.213135</td>\n",
       "      <td>0.330078</td>\n",
       "      <td>-0.034851</td>\n",
       "      <td>-0.566132</td>\n",
       "      <td>0.545654</td>\n",
       "      <td>0.593506</td>\n",
       "      <td>...</td>\n",
       "      <td>-0.334351</td>\n",
       "      <td>0.389771</td>\n",
       "      <td>-0.601501</td>\n",
       "      <td>1.057922</td>\n",
       "      <td>-0.651123</td>\n",
       "      <td>0.143799</td>\n",
       "      <td>-0.674316</td>\n",
       "      <td>-0.861084</td>\n",
       "      <td>-0.719604</td>\n",
       "      <td>0.797852</td>\n",
       "    </tr>\n",
       "    <tr>\n",
       "      <th>0</th>\n",
       "      <td>-1.031250</td>\n",
       "      <td>0.431091</td>\n",
       "      <td>0.291290</td>\n",
       "      <td>0.325256</td>\n",
       "      <td>-0.135620</td>\n",
       "      <td>-0.246155</td>\n",
       "      <td>-0.062012</td>\n",
       "      <td>-1.328125</td>\n",
       "      <td>-0.057861</td>\n",
       "      <td>0.447754</td>\n",
       "      <td>...</td>\n",
       "      <td>0.121582</td>\n",
       "      <td>0.137695</td>\n",
       "      <td>-0.274963</td>\n",
       "      <td>1.029785</td>\n",
       "      <td>-0.316162</td>\n",
       "      <td>-0.039307</td>\n",
       "      <td>0.096558</td>\n",
       "      <td>0.428234</td>\n",
       "      <td>0.532715</td>\n",
       "      <td>0.469238</td>\n",
       "    </tr>\n",
       "    <tr>\n",
       "      <th>0</th>\n",
       "      <td>-1.046021</td>\n",
       "      <td>0.205078</td>\n",
       "      <td>0.046387</td>\n",
       "      <td>0.674805</td>\n",
       "      <td>-0.268921</td>\n",
       "      <td>-0.764160</td>\n",
       "      <td>-0.029388</td>\n",
       "      <td>-0.792114</td>\n",
       "      <td>0.654236</td>\n",
       "      <td>0.044189</td>\n",
       "      <td>...</td>\n",
       "      <td>-0.334106</td>\n",
       "      <td>0.408886</td>\n",
       "      <td>0.107056</td>\n",
       "      <td>0.387939</td>\n",
       "      <td>-0.033447</td>\n",
       "      <td>-0.427734</td>\n",
       "      <td>-0.494019</td>\n",
       "      <td>-0.980957</td>\n",
       "      <td>-0.265015</td>\n",
       "      <td>0.675537</td>\n",
       "    </tr>\n",
       "    <tr>\n",
       "      <th>0</th>\n",
       "      <td>-0.496216</td>\n",
       "      <td>0.077698</td>\n",
       "      <td>0.554565</td>\n",
       "      <td>1.222656</td>\n",
       "      <td>-0.420898</td>\n",
       "      <td>0.158203</td>\n",
       "      <td>-0.232544</td>\n",
       "      <td>-0.916382</td>\n",
       "      <td>0.005005</td>\n",
       "      <td>0.307114</td>\n",
       "      <td>...</td>\n",
       "      <td>0.218262</td>\n",
       "      <td>-0.089722</td>\n",
       "      <td>0.562012</td>\n",
       "      <td>0.416992</td>\n",
       "      <td>0.082703</td>\n",
       "      <td>0.108276</td>\n",
       "      <td>-0.178406</td>\n",
       "      <td>-0.291382</td>\n",
       "      <td>0.483032</td>\n",
       "      <td>0.306885</td>\n",
       "    </tr>\n",
       "    <tr>\n",
       "      <th>0</th>\n",
       "      <td>-0.521301</td>\n",
       "      <td>0.382080</td>\n",
       "      <td>0.871948</td>\n",
       "      <td>1.750122</td>\n",
       "      <td>-0.828735</td>\n",
       "      <td>-0.246078</td>\n",
       "      <td>-0.380615</td>\n",
       "      <td>-0.306519</td>\n",
       "      <td>0.280029</td>\n",
       "      <td>0.075195</td>\n",
       "      <td>...</td>\n",
       "      <td>-0.482178</td>\n",
       "      <td>0.156128</td>\n",
       "      <td>-0.569042</td>\n",
       "      <td>0.109863</td>\n",
       "      <td>-0.532837</td>\n",
       "      <td>-0.135437</td>\n",
       "      <td>0.177246</td>\n",
       "      <td>-0.507935</td>\n",
       "      <td>0.555359</td>\n",
       "      <td>1.307449</td>\n",
       "    </tr>\n",
       "  </tbody>\n",
       "</table>\n",
       "<p>1055 rows × 300 columns</p>\n",
       "</div>"
      ],
      "text/plain": [
       "         0         1         2         3         4         5         6    \\\n",
       "0  -0.418457  0.111389  0.332275  0.768799 -0.060303  0.311279 -0.025146   \n",
       "0  -0.460449  0.531982  0.046326  1.095947 -0.085938  0.175049  0.387207   \n",
       "0  -0.475464  1.047974  1.359253  1.510742 -0.635254 -0.362061 -0.671265   \n",
       "0   0.174316 -0.738037  0.027344  0.559570 -0.570068  0.352356 -0.320312   \n",
       "0   0.087891 -0.032959 -0.085938  0.347656 -0.293213 -0.332520  0.028198   \n",
       "..       ...       ...       ...       ...       ...       ...       ...   \n",
       "0   0.590820  0.489868  0.804688  1.092026 -0.213135  0.330078 -0.034851   \n",
       "0  -1.031250  0.431091  0.291290  0.325256 -0.135620 -0.246155 -0.062012   \n",
       "0  -1.046021  0.205078  0.046387  0.674805 -0.268921 -0.764160 -0.029388   \n",
       "0  -0.496216  0.077698  0.554565  1.222656 -0.420898  0.158203 -0.232544   \n",
       "0  -0.521301  0.382080  0.871948  1.750122 -0.828735 -0.246078 -0.380615   \n",
       "\n",
       "         7         8         9    ...       290       291       292       293  \\\n",
       "0  -0.443359 -0.147827  0.296127  ...  0.212280 -0.166016  0.217834  0.162491   \n",
       "0  -0.168335  0.180420  0.680176  ...  0.637329 -0.153809  0.126221  0.080078   \n",
       "0  -1.688110  0.505371  0.206787  ...  0.637207  0.774963  0.293091  0.757812   \n",
       "0  -0.703613  0.001465  0.390442  ...  0.186035  0.391602 -0.219482  0.823853   \n",
       "0  -0.318115  0.312866  0.570312  ...  0.045898  0.572754 -0.748291  0.079590   \n",
       "..       ...       ...       ...  ...       ...       ...       ...       ...   \n",
       "0  -0.566132  0.545654  0.593506  ... -0.334351  0.389771 -0.601501  1.057922   \n",
       "0  -1.328125 -0.057861  0.447754  ...  0.121582  0.137695 -0.274963  1.029785   \n",
       "0  -0.792114  0.654236  0.044189  ... -0.334106  0.408886  0.107056  0.387939   \n",
       "0  -0.916382  0.005005  0.307114  ...  0.218262 -0.089722  0.562012  0.416992   \n",
       "0  -0.306519  0.280029  0.075195  ... -0.482178  0.156128 -0.569042  0.109863   \n",
       "\n",
       "         294       295       296       297       298       299  \n",
       "0   0.114319 -0.160889 -0.500732 -0.004761  0.395630  0.437256  \n",
       "0   0.227051 -0.291016  0.989746 -0.595100  0.504883  0.080811  \n",
       "0   0.041016 -0.019165  0.195312 -0.059547  0.490234  0.163086  \n",
       "0  -0.545410 -0.432373 -0.753906  0.273804 -0.796387 -0.203369  \n",
       "0  -0.007980 -0.281006 -0.177734  0.120850 -0.166748  0.209961  \n",
       "..       ...       ...       ...       ...       ...       ...  \n",
       "0  -0.651123  0.143799 -0.674316 -0.861084 -0.719604  0.797852  \n",
       "0  -0.316162 -0.039307  0.096558  0.428234  0.532715  0.469238  \n",
       "0  -0.033447 -0.427734 -0.494019 -0.980957 -0.265015  0.675537  \n",
       "0   0.082703  0.108276 -0.178406 -0.291382  0.483032  0.306885  \n",
       "0  -0.532837 -0.135437  0.177246 -0.507935  0.555359  1.307449  \n",
       "\n",
       "[1055 rows x 300 columns]"
      ]
     },
     "execution_count": 22,
     "metadata": {},
     "output_type": "execute_result"
    }
   ],
   "source": [
    "vec_keywords_dw = get_vectors(lst_keywords_dw, wv)\n",
    "vec_keywords_dw"
   ]
  },
  {
   "cell_type": "code",
   "execution_count": 490,
   "metadata": {},
   "outputs": [],
   "source": [
    "# Vectorisation of DW category\n",
    "category_dw = focus_category_list\n",
    "vec_category_dw = get_vectors(category_dw, wv)"
   ]
  },
  {
   "cell_type": "code",
   "execution_count": 519,
   "metadata": {},
   "outputs": [],
   "source": [
    "## Google topic on DW keywords\n",
    "\n",
    "# Vectorisation of Google keywords\n",
    "lst_keywords_ggl = df_prediction['topic_type'].astype(str) # topic_type or topic_title or topic_title_type (best predictor: topic_type)\n",
    "vec_keywords_ggl = get_vectors(lst_keywords_ggl, wv)\n",
    "\n",
    "# Compute distances: google keywords vs DW keywords \n",
    "ggl_dw_word_distances = cosine_similarity(vec_keywords_ggl, vec_keywords_dw) \n",
    "\n",
    "# Get indices of similar (above threshold) DW keywords\n",
    "distance_threshold = 0.4\n",
    "ind_ggl_to_dw = [[ind for ind in range(len(ggl_word_list)) if ggl_word_list[ind] > distance_threshold] for ggl_word_list in ggl_dw_word_distances]\n",
    "\n",
    "# Extract most frequet category for similar DW keywords\n",
    "most_freq_categories = [df_dw['cleanFocusCategory'][lst_keywords_dw.index[ind_ggl_to_dw[i]]].mode()[0] if len(ind_ggl_to_dw[i]) > 0 else None for i in range(len(ind_ggl_to_dw))]\n",
    "\n",
    "# Make a new column in df\n",
    "df_prediction['Category of similar DW keywords'] = most_freq_categories"
   ]
  },
  {
   "cell_type": "code",
   "execution_count": 516,
   "metadata": {},
   "outputs": [
    {
     "name": "stdout",
     "output_type": "stream",
     "text": [
      "Compared to similar categories: 0.47164948453608246\n"
     ]
    }
   ],
   "source": [
    "distance_threshold = 0.2\n",
    "\n",
    "# Vectorisation of Google keywords\n",
    "lst_keywords_ggl = df_prediction['topic_type'].astype(str) # topic_type or topic_title or topic_title_type (best predictor: topic_type)\n",
    "vec_keywords_ggl = get_vectors(lst_keywords_ggl, wv)\n",
    "\n",
    "# Compute distances: google keywords vs DW categories\n",
    "ggl_dw_categ_distances = cosine_similarity(vec_keywords_ggl, vec_category_dw) \n",
    "\n",
    "# Get indices of similar (above threshold) DW keywords\n",
    "closest_categ = [[category_dw[dist.argmax()], round(dist.max(),2)] for dist in ggl_dw_categ_distances]\n",
    "\n",
    "# Make a new column in df\n",
    "df_prediction['Most similar DW category'] = [row[0] if row[1] > distance_threshold else None for row in closest_categ]\n",
    "\n",
    "# Check prediction\n",
    "accuracy_sim_dw_categ = sum(df_prediction['Predicted category'] == df_prediction['Most similar DW category']) / len(df_prediction)\n",
    "print('Compared to similar categories:', accuracy_sim_dw_categ)"
   ]
  },
  {
   "cell_type": "code",
   "execution_count": 520,
   "metadata": {},
   "outputs": [
    {
     "name": "stdout",
     "output_type": "stream",
     "text": [
      "Accuracy:\n",
      "Compared to category of similar keywords: 0.3711340206185567\n",
      "Compared to similar categories: 0.47164948453608246\n"
     ]
    }
   ],
   "source": [
    "accuracy_sim_dw_keywords = sum(df_prediction['Predicted category'] == df_prediction['Category of similar DW keywords']) / len(df_prediction)\n",
    "accuracy_sim_dw_categ = sum(df_prediction['Predicted category'] == df_prediction['Most similar DW category']) / len(df_prediction)\n",
    "print('Accuracy:')\n",
    "print('Compared to category of similar keywords:', accuracy_sim_dw_keywords) \n",
    "print('Compared to similar categories:', accuracy_sim_dw_categ)\n"
   ]
  },
  {
   "cell_type": "code",
   "execution_count": 496,
   "metadata": {},
   "outputs": [
    {
     "data": {
      "text/html": [
       "<div>\n",
       "<style scoped>\n",
       "    .dataframe tbody tr th:only-of-type {\n",
       "        vertical-align: middle;\n",
       "    }\n",
       "\n",
       "    .dataframe tbody tr th {\n",
       "        vertical-align: top;\n",
       "    }\n",
       "\n",
       "    .dataframe thead th {\n",
       "        text-align: right;\n",
       "    }\n",
       "</style>\n",
       "<table border=\"1\" class=\"dataframe\">\n",
       "  <thead>\n",
       "    <tr style=\"text-align: right;\">\n",
       "      <th></th>\n",
       "      <th>topic_title</th>\n",
       "      <th>topic_type</th>\n",
       "      <th>topic_title_type</th>\n",
       "      <th>Predicted category</th>\n",
       "      <th>Category of similar DW keywords</th>\n",
       "      <th>Most similar DW category</th>\n",
       "    </tr>\n",
       "  </thead>\n",
       "  <tbody>\n",
       "    <tr>\n",
       "      <th>35</th>\n",
       "      <td>National Football League Playoffs</td>\n",
       "      <td>Championship</td>\n",
       "      <td>National Football League Playoffs, Championship</td>\n",
       "      <td>Sports</td>\n",
       "      <td>Sports</td>\n",
       "      <td>Sports</td>\n",
       "    </tr>\n",
       "    <tr>\n",
       "      <th>42</th>\n",
       "      <td>Yellowstone</td>\n",
       "      <td>Drama series</td>\n",
       "      <td>Yellowstone, Drama series</td>\n",
       "      <td>Media</td>\n",
       "      <td>None</td>\n",
       "      <td>Offbeat</td>\n",
       "    </tr>\n",
       "    <tr>\n",
       "      <th>41</th>\n",
       "      <td>Secondary school</td>\n",
       "      <td>School category</td>\n",
       "      <td>Secondary school, School category</td>\n",
       "      <td>Education</td>\n",
       "      <td>None</td>\n",
       "      <td>Education</td>\n",
       "    </tr>\n",
       "    <tr>\n",
       "      <th>40</th>\n",
       "      <td>Week</td>\n",
       "      <td>Unit of time</td>\n",
       "      <td>Week, Unit of time</td>\n",
       "      <td>Offbeat</td>\n",
       "      <td>None</td>\n",
       "      <td>History</td>\n",
       "    </tr>\n",
       "    <tr>\n",
       "      <th>39</th>\n",
       "      <td>Tampa</td>\n",
       "      <td>City in Florida</td>\n",
       "      <td>Tampa, City in Florida</td>\n",
       "      <td>Offbeat</td>\n",
       "      <td>Politics</td>\n",
       "      <td>Learning German</td>\n",
       "    </tr>\n",
       "    <tr>\n",
       "      <th>...</th>\n",
       "      <td>...</td>\n",
       "      <td>...</td>\n",
       "      <td>...</td>\n",
       "      <td>...</td>\n",
       "      <td>...</td>\n",
       "      <td>...</td>\n",
       "    </tr>\n",
       "    <tr>\n",
       "      <th>1963</th>\n",
       "      <td>Boris Johnson</td>\n",
       "      <td>Member of Parliament of the United Kingdom</td>\n",
       "      <td>Boris Johnson, Member of Parliament of the Uni...</td>\n",
       "      <td>Politics</td>\n",
       "      <td>Politics</td>\n",
       "      <td>Society</td>\n",
       "    </tr>\n",
       "    <tr>\n",
       "      <th>1967</th>\n",
       "      <td>Thor</td>\n",
       "      <td>Film series</td>\n",
       "      <td>Thor, Film series</td>\n",
       "      <td>Media</td>\n",
       "      <td>Culture</td>\n",
       "      <td>Offbeat</td>\n",
       "    </tr>\n",
       "    <tr>\n",
       "      <th>1968</th>\n",
       "      <td>Thor: Love and Thunder</td>\n",
       "      <td>2022 film</td>\n",
       "      <td>Thor: Love and Thunder, 2022 film</td>\n",
       "      <td>Media</td>\n",
       "      <td>Culture</td>\n",
       "      <td>Offbeat</td>\n",
       "    </tr>\n",
       "    <tr>\n",
       "      <th>1965</th>\n",
       "      <td>Shinzo Abe</td>\n",
       "      <td>Former Prime Minister of Japan</td>\n",
       "      <td>Shinzo Abe, Former Prime Minister of Japan</td>\n",
       "      <td>Politics</td>\n",
       "      <td>Politics</td>\n",
       "      <td>Learning German</td>\n",
       "    </tr>\n",
       "    <tr>\n",
       "      <th>1966</th>\n",
       "      <td>Japan</td>\n",
       "      <td>Country in East Asia</td>\n",
       "      <td>Japan, Country in East Asia</td>\n",
       "      <td>Offbeat</td>\n",
       "      <td>Politics</td>\n",
       "      <td>Digital World</td>\n",
       "    </tr>\n",
       "  </tbody>\n",
       "</table>\n",
       "<p>1164 rows × 6 columns</p>\n",
       "</div>"
      ],
      "text/plain": [
       "                            topic_title  \\\n",
       "35    National Football League Playoffs   \n",
       "42                          Yellowstone   \n",
       "41                     Secondary school   \n",
       "40                                 Week   \n",
       "39                                Tampa   \n",
       "...                                 ...   \n",
       "1963                      Boris Johnson   \n",
       "1967                               Thor   \n",
       "1968             Thor: Love and Thunder   \n",
       "1965                         Shinzo Abe   \n",
       "1966                              Japan   \n",
       "\n",
       "                                      topic_type  \\\n",
       "35                                  Championship   \n",
       "42                                  Drama series   \n",
       "41                               School category   \n",
       "40                                  Unit of time   \n",
       "39                               City in Florida   \n",
       "...                                          ...   \n",
       "1963  Member of Parliament of the United Kingdom   \n",
       "1967                                 Film series   \n",
       "1968                                   2022 film   \n",
       "1965              Former Prime Minister of Japan   \n",
       "1966                        Country in East Asia   \n",
       "\n",
       "                                       topic_title_type Predicted category  \\\n",
       "35      National Football League Playoffs, Championship             Sports   \n",
       "42                            Yellowstone, Drama series              Media   \n",
       "41                    Secondary school, School category          Education   \n",
       "40                                   Week, Unit of time            Offbeat   \n",
       "39                               Tampa, City in Florida            Offbeat   \n",
       "...                                                 ...                ...   \n",
       "1963  Boris Johnson, Member of Parliament of the Uni...           Politics   \n",
       "1967                                  Thor, Film series              Media   \n",
       "1968                  Thor: Love and Thunder, 2022 film              Media   \n",
       "1965         Shinzo Abe, Former Prime Minister of Japan           Politics   \n",
       "1966                        Japan, Country in East Asia            Offbeat   \n",
       "\n",
       "     Category of similar DW keywords Most similar DW category  \n",
       "35                            Sports                   Sports  \n",
       "42                              None                  Offbeat  \n",
       "41                              None                Education  \n",
       "40                              None                  History  \n",
       "39                          Politics          Learning German  \n",
       "...                              ...                      ...  \n",
       "1963                        Politics                  Society  \n",
       "1967                         Culture                  Offbeat  \n",
       "1968                         Culture                  Offbeat  \n",
       "1965                        Politics          Learning German  \n",
       "1966                        Politics            Digital World  \n",
       "\n",
       "[1164 rows x 6 columns]"
      ]
     },
     "execution_count": 496,
     "metadata": {},
     "output_type": "execute_result"
    }
   ],
   "source": [
    "df_prediction"
   ]
  },
  {
   "cell_type": "markdown",
   "metadata": {},
   "source": [
    "# Test other model"
   ]
  },
  {
   "cell_type": "code",
   "execution_count": 3,
   "metadata": {},
   "outputs": [],
   "source": [
    "import pandas as pd\n",
    "# Specify wanted time range\n",
    "start_date = '2019-01-01'\n",
    "end_date = '2020-01-01'\n",
    "\n",
    "# Where data files will be stored\n",
    "path_to_data_files = '../../data/interim/'\n",
    "\n",
    "# Load DW data\n",
    "clean_data_file = path_to_data_files + '/clean_keywords_' + start_date + '_' + end_date + '.json'\n",
    "df_dw = pd.read_json(clean_data_file, orient ='split', compression = 'infer')"
   ]
  },
  {
   "cell_type": "code",
   "execution_count": 4,
   "metadata": {},
   "outputs": [],
   "source": [
    "from sklearn.model_selection import train_test_split\n",
    "from sklearn.svm import LinearSVC, SVC\n",
    "from sklearn.metrics import accuracy_score\n",
    "\n",
    "# Split in test and train\n",
    "lst_keywords_train, lst_keywords_test, label_train, label_test, indices_train, indices_test = \\\n",
    "    train_test_split(df_dw['keywordStringsCleanAfterFuzz'], df_dw['cleanFocusParentCategory'], df_dw.index, test_size=0.33, random_state=0) "
   ]
  },
  {
   "cell_type": "code",
   "execution_count": 8,
   "metadata": {},
   "outputs": [],
   "source": [
    "vec_keywords_dw_train = get_vectors(lst_keywords_train.astype(str), wv)\n",
    "vec_keywords_dw_test = get_vectors(lst_keywords_test.astype(str), wv)"
   ]
  },
  {
   "cell_type": "code",
   "execution_count": 247,
   "metadata": {},
   "outputs": [],
   "source": [
    "from sklearn.dummy import DummyClassifier\n",
    "import matplotlib.pyplot as plt\n",
    "\n",
    "score = {}"
   ]
  },
  {
   "cell_type": "code",
   "execution_count": 248,
   "metadata": {},
   "outputs": [],
   "source": [
    "model = DummyClassifier(strategy='uniform')\n",
    "model.fit(vec_keywords_dw_train.values, label_train.values)\n",
    "\n",
    "y_pred = model.predict(vec_keywords_dw_test.values)\n",
    "score['Chance'] = accuracy_score(label_test.values, y_pred)"
   ]
  },
  {
   "cell_type": "code",
   "execution_count": 249,
   "metadata": {},
   "outputs": [],
   "source": [
    "model = DummyClassifier(strategy='stratified')\n",
    "model.fit(vec_keywords_dw_train.values, label_train.values)\n",
    "\n",
    "y_pred = model.predict(vec_keywords_dw_test.values)\n",
    "score['Weighted chance'] = accuracy_score(label_test.values, y_pred)"
   ]
  },
  {
   "cell_type": "code",
   "execution_count": 250,
   "metadata": {},
   "outputs": [],
   "source": [
    "model = LinearSVC(max_iter = 8000)\n",
    "model.fit(vec_keywords_dw_train.values, label_train.values)\n",
    "\n",
    "y_pred = model.predict(vec_keywords_dw_test.values)\n",
    "score['Linear SVC'] = accuracy_score(label_test.values, y_pred)"
   ]
  },
  {
   "cell_type": "code",
   "execution_count": 251,
   "metadata": {},
   "outputs": [],
   "source": [
    "model = SVC(C=20, kernel='rbf')\n",
    "model.fit(vec_keywords_dw_train.values, label_train.values)\n",
    "\n",
    "y_pred = model.predict(vec_keywords_dw_test.values)\n",
    "score['SVC with RBF'] = accuracy_score(label_test.values, y_pred)"
   ]
  },
  {
   "cell_type": "code",
   "execution_count": 252,
   "metadata": {},
   "outputs": [
    {
     "data": {
      "image/png": "[encoded data removed]",
      "text/plain": [
       "<Figure size 640x480 with 1 Axes>"
      ]
     },
     "metadata": {},
     "output_type": "display_data"
    }
   ],
   "source": [
    "key, values = zip(*score.items())\n",
    "plt.bar(key, values)\n",
    "plt.ylabel('Accuracy score on test set', fontsize=16)\n",
    "plt.ylim(0, 1)  \n",
    "\n",
    "plt.show()"
   ]
  },
  {
   "cell_type": "markdown",
   "metadata": {},
   "source": [
    "# ZSL"
   ]
  },
  {
   "cell_type": "code",
   "execution_count": 129,
   "metadata": {},
   "outputs": [
    {
     "ename": "ValueError",
     "evalue": "You appear to be using a legacy multi-label data representation. Sequence of sequences are no longer supported; use a binary array or sparse matrix instead - the MultiLabelBinarizer transformer can convert to this format.",
     "output_type": "error",
     "traceback": [
      "\u001b[0;31m---------------------------------------------------------------------------\u001b[0m",
      "\u001b[0;31mValueError\u001b[0m                                Traceback (most recent call last)",
      "\u001b[0;32m/tmp/ipykernel_29978/1677346638.py\u001b[0m in \u001b[0;36m<module>\u001b[0;34m\u001b[0m\n\u001b[1;32m      2\u001b[0m \u001b[0;31m# 55min for 200 articles\u001b[0m\u001b[0;34m\u001b[0m\u001b[0;34m\u001b[0m\u001b[0;34m\u001b[0m\u001b[0m\n\u001b[1;32m      3\u001b[0m \u001b[0my_pred_zsl\u001b[0m \u001b[0;34m=\u001b[0m \u001b[0;34m[\u001b[0m\u001b[0mpipe\u001b[0m\u001b[0;34m(\u001b[0m\u001b[0;34m', '\u001b[0m\u001b[0;34m.\u001b[0m\u001b[0mjoin\u001b[0m\u001b[0;34m(\u001b[0m\u001b[0mkw\u001b[0m\u001b[0;34m)\u001b[0m\u001b[0;34m,\u001b[0m \u001b[0mcandidate_labels\u001b[0m \u001b[0;34m=\u001b[0m \u001b[0mfocus_category_list\u001b[0m\u001b[0;34m)\u001b[0m \u001b[0;32mfor\u001b[0m \u001b[0mkw\u001b[0m \u001b[0;32min\u001b[0m \u001b[0mlst_keywords_test\u001b[0m\u001b[0;34m[\u001b[0m\u001b[0;36m0\u001b[0m\u001b[0;34m:\u001b[0m\u001b[0;36m3\u001b[0m\u001b[0;34m]\u001b[0m\u001b[0;34m]\u001b[0m\u001b[0;34m\u001b[0m\u001b[0;34m\u001b[0m\u001b[0m\n\u001b[0;32m----> 4\u001b[0;31m \u001b[0maccuracy_score\u001b[0m\u001b[0;34m(\u001b[0m\u001b[0mlst_keywords_test\u001b[0m\u001b[0;34m[\u001b[0m\u001b[0;36m0\u001b[0m\u001b[0;34m:\u001b[0m\u001b[0;36m3\u001b[0m\u001b[0;34m]\u001b[0m\u001b[0;34m.\u001b[0m\u001b[0mvalues\u001b[0m\u001b[0;34m,\u001b[0m \u001b[0my_pred_zsl\u001b[0m\u001b[0;34m)\u001b[0m\u001b[0;34m\u001b[0m\u001b[0;34m\u001b[0m\u001b[0m\n\u001b[0m",
      "\u001b[0;32m~/venv/lib64/python3.7/site-packages/sklearn/metrics/_classification.py\u001b[0m in \u001b[0;36maccuracy_score\u001b[0;34m(y_true, y_pred, normalize, sample_weight)\u001b[0m\n\u001b[1;32m    209\u001b[0m \u001b[0;34m\u001b[0m\u001b[0m\n\u001b[1;32m    210\u001b[0m     \u001b[0;31m# Compute accuracy for each possible representation\u001b[0m\u001b[0;34m\u001b[0m\u001b[0;34m\u001b[0m\u001b[0;34m\u001b[0m\u001b[0m\n\u001b[0;32m--> 211\u001b[0;31m     \u001b[0my_type\u001b[0m\u001b[0;34m,\u001b[0m \u001b[0my_true\u001b[0m\u001b[0;34m,\u001b[0m \u001b[0my_pred\u001b[0m \u001b[0;34m=\u001b[0m \u001b[0m_check_targets\u001b[0m\u001b[0;34m(\u001b[0m\u001b[0my_true\u001b[0m\u001b[0;34m,\u001b[0m \u001b[0my_pred\u001b[0m\u001b[0;34m)\u001b[0m\u001b[0;34m\u001b[0m\u001b[0;34m\u001b[0m\u001b[0m\n\u001b[0m\u001b[1;32m    212\u001b[0m     \u001b[0mcheck_consistent_length\u001b[0m\u001b[0;34m(\u001b[0m\u001b[0my_true\u001b[0m\u001b[0;34m,\u001b[0m \u001b[0my_pred\u001b[0m\u001b[0;34m,\u001b[0m \u001b[0msample_weight\u001b[0m\u001b[0;34m)\u001b[0m\u001b[0;34m\u001b[0m\u001b[0;34m\u001b[0m\u001b[0m\n\u001b[1;32m    213\u001b[0m     \u001b[0;32mif\u001b[0m \u001b[0my_type\u001b[0m\u001b[0;34m.\u001b[0m\u001b[0mstartswith\u001b[0m\u001b[0;34m(\u001b[0m\u001b[0;34m\"multilabel\"\u001b[0m\u001b[0;34m)\u001b[0m\u001b[0;34m:\u001b[0m\u001b[0;34m\u001b[0m\u001b[0;34m\u001b[0m\u001b[0m\n",
      "\u001b[0;32m~/venv/lib64/python3.7/site-packages/sklearn/metrics/_classification.py\u001b[0m in \u001b[0;36m_check_targets\u001b[0;34m(y_true, y_pred)\u001b[0m\n\u001b[1;32m     83\u001b[0m     \"\"\"\n\u001b[1;32m     84\u001b[0m     \u001b[0mcheck_consistent_length\u001b[0m\u001b[0;34m(\u001b[0m\u001b[0my_true\u001b[0m\u001b[0;34m,\u001b[0m \u001b[0my_pred\u001b[0m\u001b[0;34m)\u001b[0m\u001b[0;34m\u001b[0m\u001b[0;34m\u001b[0m\u001b[0m\n\u001b[0;32m---> 85\u001b[0;31m     \u001b[0mtype_true\u001b[0m \u001b[0;34m=\u001b[0m \u001b[0mtype_of_target\u001b[0m\u001b[0;34m(\u001b[0m\u001b[0my_true\u001b[0m\u001b[0;34m)\u001b[0m\u001b[0;34m\u001b[0m\u001b[0;34m\u001b[0m\u001b[0m\n\u001b[0m\u001b[1;32m     86\u001b[0m     \u001b[0mtype_pred\u001b[0m \u001b[0;34m=\u001b[0m \u001b[0mtype_of_target\u001b[0m\u001b[0;34m(\u001b[0m\u001b[0my_pred\u001b[0m\u001b[0;34m)\u001b[0m\u001b[0;34m\u001b[0m\u001b[0;34m\u001b[0m\u001b[0m\n\u001b[1;32m     87\u001b[0m \u001b[0;34m\u001b[0m\u001b[0m\n",
      "\u001b[0;32m~/venv/lib64/python3.7/site-packages/sklearn/utils/multiclass.py\u001b[0m in \u001b[0;36mtype_of_target\u001b[0;34m(y)\u001b[0m\n\u001b[1;32m    298\u001b[0m         ):\n\u001b[1;32m    299\u001b[0m             raise ValueError(\n\u001b[0;32m--> 300\u001b[0;31m                 \u001b[0;34m\"You appear to be using a legacy multi-label data\"\u001b[0m\u001b[0;34m\u001b[0m\u001b[0;34m\u001b[0m\u001b[0m\n\u001b[0m\u001b[1;32m    301\u001b[0m                 \u001b[0;34m\" representation. Sequence of sequences are no\"\u001b[0m\u001b[0;34m\u001b[0m\u001b[0;34m\u001b[0m\u001b[0m\n\u001b[1;32m    302\u001b[0m                 \u001b[0;34m\" longer supported; use a binary array or sparse\"\u001b[0m\u001b[0;34m\u001b[0m\u001b[0;34m\u001b[0m\u001b[0m\n",
      "\u001b[0;31mValueError\u001b[0m: You appear to be using a legacy multi-label data representation. Sequence of sequences are no longer supported; use a binary array or sparse matrix instead - the MultiLabelBinarizer transformer can convert to this format."
     ]
    }
   ],
   "source": [
    "# 1min for 4 words\n",
    "# 55min for 200 articles\n",
    "zsl_outputs = [pipe(', '.join(kw), candidate_labels = focus_category_list) for kw in lst_keywords_test[0:2]]\n",
    "y_pred_zsl = list(map(lambda x: x['labels'][0], zsl_outputs))\n",
    "accuracy_score(label_test[0:2].values, y_pred_zsl)"
   ]
  },
  {
   "cell_type": "code",
   "execution_count": 148,
   "metadata": {},
   "outputs": [
    {
     "data": {
      "text/plain": [
       "['Culture', 'Conflicts', 'Terrorism']"
      ]
     },
     "execution_count": 148,
     "metadata": {},
     "output_type": "execute_result"
    }
   ],
   "source": [
    "y_pred_zsl"
   ]
  },
  {
   "cell_type": "code",
   "execution_count": null,
   "metadata": {},
   "outputs": [],
   "source": []
  }
 ],
 "metadata": {
  "kernelspec": {
   "display_name": "venv",
   "language": "python",
   "name": "python3"
  },
  "language_info": {
   "codemirror_mode": {
    "name": "ipython",
    "version": 3
   },
   "file_extension": ".py",
   "mimetype": "text/x-python",
   "name": "python",
   "nbconvert_exporter": "python",
   "pygments_lexer": "ipython3",
   "version": "3.7.16"
  },
  "orig_nbformat": 4
 },
 "nbformat": 4,
 "nbformat_minor": 2
}
