{
 "cells": [
  {
   "cell_type": "code",
   "execution_count": 1,
   "metadata": {},
   "outputs": [],
   "source": [
    "import pandas as pd\n",
    "from pytrends.request import TrendReq as UTrendReq\n",
    "import time\n",
    "from pytrends.exceptions import ResponseError\n",
    "\n",
    "'''Define header to prevent 429 errors from Google'''\n",
    "GET_METHOD='get'\n",
    "headers = {\n",
    "    'authority': 'trends.google.com',\n",
    "    'accept': 'application/json, text/plain, */*',\n",
    "    'accept-language': 'en-GB;q=0.9,en;q=0.8,es;q=0.7',\n",
    "    'content-type': 'application/json;charset=UTF-8',\n",
    "    'cookie': '__utma=10102256.1937595387.1677588086.1677588086.1678441622.2; __utmc=10102256; __utmz=10102256.1678441622.2.2.utmcsr=trends.google.com|utmccn=(referral)|utmcmd=referral|utmcct=/; __utmt=1; __utmb=10102256.13.9.1678442016068; CONSENT=YES+GB.en-GB+; HSID=AwrWd8APwv-yBWgzh; SSID=AeXCoum7ArBP5_-aa; APISID=CH4IjtEJhVzXdXGB/AFPE6uuFtOUDiSjnb; SAPISID=FcPgZF83fs0zxFml/Ad59_bwdrgg_kZ4q4; __Secure-1PAPISID=FcPgZF83fs0zxFml/Ad59_bwdrgg_kZ4q4; __Secure-3PAPISID=FcPgZF83fs0zxFml/Ad59_bwdrgg_kZ4q4; SID=TwhPHvTugfJu62Xh-HCJkOIPdoEDrL6q-6Eu9itbEI8mmKw9wzJdgT6c48lYdsNyN4E5xA.; __Secure-1PSID=TwhPHvTugfJu62Xh-HCJkOIPdoEDrL6q-6Eu9itbEI8mmKw9mFTrJ0j2r8zMRcq3v-A7Dg.; __Secure-3PSID=TwhPHvTugfJu62Xh-HCJkOIPdoEDrL6q-6Eu9itbEI8mmKw9xQIlYIR6TyZD2qXkeuopSA.; OGPC=19031986-1:; AEC=ARSKqsLpZW_sbZN2NdijlA8HPzuRHa1TPtYLHLGgaOIZpt8oJZL9PYZZYQ; SEARCH_SAMESITE=CgQI4ZcB; 1P_JAR=2023-03-10-09; NID=511=bYRTpZST7bJyL0z371h4Y79EMA1j9QqQFUpi8vJsSmiWdINx5gKruSDljEBAFfs9FYsxRrmP7vulT_MdtU2xEXQSW837vsgNY9s0i2WZAeFETmMEDrju3d_HgA2Wxy5DrFrIOaOiFu6LkpD7pY4wF4qrMZ38BzvW4NkYX_fUI7bFzHXsg24iHara1hPmPIXOSl6wQgsssfGHUntOI9PgY_eXaAEJbY7VgTr1hjNvEDlFSYOuzLvHSzo9kX9ALXA5-WOICbuLdAucZc3hJKo1dUKM51JCkzLsUHm99MWA86Icz-dmMW8ybQZhEUd2YgsBHHn5MV8uSVpcZ53n4_KL7r6sOpfWZ0ZXairmL3NH-hHz4Vyq; _gid=GA1.3.1682047475.1678441583; OTZ=6935626_48_48_123900_44_436380; _gat_gtag_UA_4401283=1; _ga=GA1.3.1937595387.1677588086; SIDCC=AFvIBn_I_znBUYDEoxfE1jUbrp_F8T607DZhlzI9o_gQoZmA4OxNjglOrH8Q8er3Cv4uzoWYkX9Z; __Secure-1PSIDCC=AFvIBn_Nhc9nywxJ_UrRYogvErcX48ygHEiBzjRRZtPe-mIwBTe_M7UbvKR4d-rAuhYyGJi-Dm0; __Secure-3PSIDCC=AFvIBn8vpeAOp5e0oAWBAETEzSClsyQlm3vQJhAQP7T7Z51q1K7zHDm_-CSGFEPasFw0sRHoJDU; _ga_VWZPXDNJJB=GS1.1.1678441583.2.1.1678442016.0.0.0',\n",
    "    'origin': 'https://trends.google.com',\n",
    "    'referer': 'https://trends.google.com/trends/explore?date=now%201-d&q=Adele&hl=en-GB',\n",
    "    'sec-ch-ua': '\"Chromium\";v=\"110\", \"Not A(Brand\";v=\"24\", \"Google Chrome\";v=\"110\"',\n",
    "    'sec-ch-ua-arch': '\"x86\"',\n",
    "    'sec-ch-ua-bitness': '\"64\"',\n",
    "    'sec-ch-ua-full-version': '\"110.0.5481.177\"',\n",
    "    'sec-ch-ua-full-version-list': '\"Chromium\";v=\"110.0.5481.177\", \"Not A(Brand\";v=\"24.0.0.0\", \"Google Chrome\";v=\"110.0.5481.177\"',\n",
    "    'sec-ch-ua-mobile': '?0',\n",
    "    'sec-ch-ua-model': '',\n",
    "    'sec-ch-ua-platform': '\"macOS\"',\n",
    "    'sec-ch-ua-platform-version': '\"13.2.1\"',\n",
    "    'sec-ch-ua-wow64': '?0',\n",
    "    'sec-fetch-dest': 'empty',\n",
    "    'sec-fetch-mode': 'cors',\n",
    "    'sec-fetch-site': 'same-origin',\n",
    "    'user-agent': 'Mozilla/5.0 (Macintosh; Intel Mac OS X 10_15_7) AppleWebKit/537.36 (KHTML, like Gecko) Chrome/110.0.0.0 Safari/537.36',\n",
    "    'x-client-data': 'CIq2yQEIprbJAQjEtskBCKmdygEIkufKAQiVocsBCPyqzAEI9/XMAQib/swBCI6MzQEIlZbNAQiols0BCOGXzQEI5JfNAQjzl80BCMyYzQEI2JjNAQjzmc0BCLSazQEI0uGsAg==',\n",
    "}"
   ]
  },
  {
   "cell_type": "code",
   "execution_count": 2,
   "metadata": {},
   "outputs": [],
   "source": [
    "''' Implement header inside new TrendReq class'''\n",
    "class TrendReq(UTrendReq):\n",
    "    def _get_data(self, url, method=GET_METHOD, trim_chars=0, **kwargs):\n",
    "        return super()._get_data(url, method=GET_METHOD, trim_chars=trim_chars, headers=headers, **kwargs)"
   ]
  },
  {
   "cell_type": "code",
   "execution_count": 32,
   "metadata": {},
   "outputs": [],
   "source": [
    "def get_daily_trending_searches(filepath = '../data/interim/',start_date = '20190101', end_date = '20190101', geography=''):\n",
    "    '''Takes a start date, end date and geography to retrieve daily Google trending searches during that date range in that geography\n",
    "    also puts that dataframe inside a json file in the folder indicated by the filepath'''\n",
    "\n",
    "    daily_trending_searches = pd.DataFrame()\n",
    "\n",
    "    pytrend = TrendReq(                    \n",
    "    # proxies=['https://34.203.233.13:80','https://35.201.123.31:880'], \n",
    "    # #hl='en-US', tz=360, timeout=(10,25)\n",
    "    retries=2, backoff_factor=0.1, requests_args={'verify':False})\n",
    "\n",
    "    for i in [dr.strftime('%Y-%m-%d') for dr in pd.date_range(start_date,end_date)]:\n",
    "        try:\n",
    "            pytrend.build_payload(kw_list=[''], timeframe=i + ' ' + i, geo=geography)\n",
    "            df_rt_test = pytrend.related_topics()\n",
    "            data = df_rt_test['']['rising']\n",
    "            time.sleep(12)\n",
    "            print(i)\n",
    "        except ResponseError:\n",
    "            print('Timeout')\n",
    "        daily_trending_searches = daily_trending_searches.append(data)\n",
    "    daily_trending_searches.reset_index(drop=True, inplace=True)\n",
    "    daily_trending_searches['date'] = daily_trending_searches['link'].apply(lambda x: x.split('&')[1].split('date=')[1].split('+')[0])\n",
    "    daily_trending_searches['location'] = geography if geography != '' else 'World' \n",
    "    # storing the data in JSON format\n",
    "    daily_trending_searches.to_json(filepath+start_date+'_'+end_date+'_daily_trending_searches.json', orient = 'split', compression = 'infer', index = 'true')\n",
    "    \n",
    "    return daily_trending_searches"
   ]
  }
 ],
 "metadata": {
  "kernelspec": {
   "display_name": "venv",
   "language": "python",
   "name": "python3"
  },
  "language_info": {
   "codemirror_mode": {
    "name": "ipython",
    "version": 3
   },
   "file_extension": ".py",
   "mimetype": "text/x-python",
   "name": "python",
   "nbconvert_exporter": "python",
   "pygments_lexer": "ipython3",
   "version": "3.7.16"
  },
  "orig_nbformat": 4
 },
 "nbformat": 4,
 "nbformat_minor": 2
}
