{
 "cells": [
  {
   "cell_type": "code",
   "execution_count": 2,
   "metadata": {},
   "outputs": [],
   "source": [
    "from rapidfuzz import process as pr\n",
    "import pandas as pd"
   ]
  },
  {
   "attachments": {},
   "cell_type": "markdown",
   "metadata": {},
   "source": [
    "### RapidFuzz"
   ]
  },
  {
   "cell_type": "code",
   "execution_count": 7,
   "metadata": {},
   "outputs": [],
   "source": [
    "# #load set of DW keywords before fuzzyWuzzy into the file\n",
    "#uni_kw=pd.read_csv('../data/interim/out_2019-2021_keywords_before_FuzzyWuzzy.csv') \n",
    "file1='../data/interim/out_2019-2021_keywords_before_FuzzyWuzzy.csv' #old file with keywords that are not sepaarted by commas\n",
    "file2='../data/interim/out_2019-2021_keywords_before_FuzzyWuzzy_1503.csv'\n",
    "uni_kw=pd.read_csv(file, names = ['ind', 'keyword'], header=0)\n",
    "#unique_keywords=uni_kw"
   ]
  },
  {
   "cell_type": "code",
   "execution_count": null,
   "metadata": {},
   "outputs": [],
   "source": [
    "list((pd.read_csv(file2, names = ['ind', 'keyword'], header=0))['keyword'])"
   ]
  },
  {
   "cell_type": "code",
   "execution_count": null,
   "metadata": {},
   "outputs": [],
   "source": [
    "list((pd.read_csv(file1, names = ['ind', 'keyword'], header=0))['keyword'])"
   ]
  },
  {
   "cell_type": "code",
   "execution_count": null,
   "metadata": {},
   "outputs": [],
   "source": [
    "list(uni_kw['keyword'])"
   ]
  },
  {
   "cell_type": "code",
   "execution_count": 15,
   "metadata": {},
   "outputs": [
    {
     "ename": "TypeError",
     "evalue": "object of type 'float' has no len()",
     "output_type": "error",
     "traceback": [
      "\u001b[0;31m---------------------------------------------------------------------------\u001b[0m",
      "\u001b[0;31mTypeError\u001b[0m                                 Traceback (most recent call last)",
      "\u001b[0;32m/tmp/ipykernel_6421/14412987.py\u001b[0m in \u001b[0;36m<module>\u001b[0;34m\u001b[0m\n\u001b[0;32m----> 1\u001b[0;31m \u001b[0mratio_array\u001b[0m\u001b[0;34m=\u001b[0m \u001b[0mpr\u001b[0m\u001b[0;34m.\u001b[0m\u001b[0mcdist\u001b[0m\u001b[0;34m(\u001b[0m\u001b[0mlist\u001b[0m\u001b[0;34m(\u001b[0m\u001b[0muni_kw\u001b[0m\u001b[0;34m[\u001b[0m\u001b[0;34m'keyword'\u001b[0m\u001b[0;34m]\u001b[0m\u001b[0;34m)\u001b[0m\u001b[0;34m,\u001b[0m\u001b[0mlist\u001b[0m\u001b[0;34m(\u001b[0m\u001b[0muni_kw\u001b[0m\u001b[0;34m[\u001b[0m\u001b[0;34m'keyword'\u001b[0m\u001b[0;34m]\u001b[0m\u001b[0;34m)\u001b[0m\u001b[0;34m,\u001b[0m\u001b[0mscore_cutoff\u001b[0m \u001b[0;34m=\u001b[0m \u001b[0;36m70\u001b[0m\u001b[0;34m)\u001b[0m\u001b[0;34m\u001b[0m\u001b[0;34m\u001b[0m\u001b[0m\n\u001b[0m",
      "\u001b[0;32m~/Documents/venv/lib64/python3.7/site-packages/rapidfuzz/process_cpp.py\u001b[0m in \u001b[0;36mcdist\u001b[0;34m(queries, choices, scorer, processor, score_cutoff, score_hint, dtype, workers, **kwargs)\u001b[0m\n\u001b[1;32m     80\u001b[0m             \u001b[0mdtype\u001b[0m\u001b[0;34m=\u001b[0m\u001b[0mdtype\u001b[0m\u001b[0;34m,\u001b[0m\u001b[0;34m\u001b[0m\u001b[0;34m\u001b[0m\u001b[0m\n\u001b[1;32m     81\u001b[0m             \u001b[0mworkers\u001b[0m\u001b[0;34m=\u001b[0m\u001b[0mworkers\u001b[0m\u001b[0;34m,\u001b[0m\u001b[0;34m\u001b[0m\u001b[0;34m\u001b[0m\u001b[0m\n\u001b[0;32m---> 82\u001b[0;31m             \u001b[0;34m**\u001b[0m\u001b[0mkwargs\u001b[0m\u001b[0;34m,\u001b[0m\u001b[0;34m\u001b[0m\u001b[0;34m\u001b[0m\u001b[0m\n\u001b[0m\u001b[1;32m     83\u001b[0m         )\n\u001b[1;32m     84\u001b[0m     )\n",
      "\u001b[0;32msrc/rapidfuzz/process_cpp_impl.pyx\u001b[0m in \u001b[0;36mrapidfuzz.process_cpp_impl.cdist\u001b[0;34m()\u001b[0m\n",
      "\u001b[0;32msrc/rapidfuzz/process_cpp_impl.pyx\u001b[0m in \u001b[0;36mrapidfuzz.process_cpp_impl.cdist_two_lists\u001b[0;34m()\u001b[0m\n",
      "\u001b[0;32msrc/rapidfuzz/process_cpp_impl.pyx\u001b[0m in \u001b[0;36mrapidfuzz.process_cpp_impl.preprocess\u001b[0;34m()\u001b[0m\n",
      "\u001b[0;32m./src/rapidfuzz/cpp_common.pxd\u001b[0m in \u001b[0;36mcpp_common.conv_sequence\u001b[0;34m()\u001b[0m\n",
      "\u001b[0;32m./src/rapidfuzz/cpp_common.pxd\u001b[0m in \u001b[0;36mcpp_common.hash_sequence\u001b[0;34m()\u001b[0m\n",
      "\u001b[0;31mTypeError\u001b[0m: object of type 'float' has no len()"
     ]
    }
   ],
   "source": [
    "ratio_array= pr.cdist(list(uni_kw['keyword']),list(uni_kw['keyword']),score_cutoff = 70)"
   ]
  },
  {
   "cell_type": "code",
   "execution_count": null,
   "metadata": {},
   "outputs": [],
   "source": [
    "df_array = pd.DataFrame(ratio_array, columns = list(uni_kw['keyword']),index=list(uni_kw['keyword']))"
   ]
  },
  {
   "cell_type": "code",
   "execution_count": null,
   "metadata": {},
   "outputs": [],
   "source": [
    "df_array.shape"
   ]
  },
  {
   "cell_type": "code",
   "execution_count": null,
   "metadata": {},
   "outputs": [],
   "source": [
    "len(ratio_array)\n",
    "#df_array = pd.DataFrame(ratio_array, columns = list(uni_kw['keyword']))\n",
    "df_array.head(6)"
   ]
  },
  {
   "cell_type": "code",
   "execution_count": null,
   "metadata": {},
   "outputs": [],
   "source": [
    "df_array['ANgela Merkel'].value_counts().sum"
   ]
  },
  {
   "cell_type": "code",
   "execution_count": null,
   "metadata": {},
   "outputs": [],
   "source": [
    "#df_array.iloc[84:89,84:89]\n",
    "df_array.loc['angela merkel':'ANgela Merkel']"
   ]
  },
  {
   "cell_type": "code",
   "execution_count": null,
   "metadata": {},
   "outputs": [],
   "source": [
    "# def deduplicating(df_):\n",
    "#     non_zero_values = [el for el in row if el!=0] # keep all values that are non-zero in a row\n",
    "#     if len(non_zero_values)>1: # save index of this row if it has 2 or more non-zero values (they all have 1 value at least, i.e., 100 with themselves)\n",
    "#         indices_correlating_rows.append(i)\n",
    "\n",
    "\n"
   ]
  },
  {
   "cell_type": "code",
   "execution_count": null,
   "metadata": {},
   "outputs": [],
   "source": []
  },
  {
   "cell_type": "code",
   "execution_count": null,
   "metadata": {},
   "outputs": [],
   "source": [
    "indices_correlating_rows = []\n",
    "for i, row in enumerate(ratio_array.iloc[:5,:5]):\n",
    "    non_zero_values = [el for el in row if el!=0] # keep all values that are non-zero in a row\n",
    "    if len(non_zero_values)>1: # save index of this row if it has 2 or more non-zero values (they all have 1 value at least, i.e., 100 with themselves)\n",
    "        indices_correlating_rows.append(i)"
   ]
  }
 ],
 "metadata": {
  "kernelspec": {
   "display_name": "venv",
   "language": "python",
   "name": "python3"
  },
  "language_info": {
   "codemirror_mode": {
    "name": "ipython",
    "version": 3
   },
   "file_extension": ".py",
   "mimetype": "text/x-python",
   "name": "python",
   "nbconvert_exporter": "python",
   "pygments_lexer": "ipython3",
   "version": "3.7.16"
  },
  "orig_nbformat": 4
 },
 "nbformat": 4,
 "nbformat_minor": 2
}
