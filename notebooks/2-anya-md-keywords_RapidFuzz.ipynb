{
 "cells": [
  {
   "cell_type": "code",
   "execution_count": 1,
   "metadata": {},
   "outputs": [],
   "source": [
    "from rapidfuzz import process as pr\n",
    "import pandas as pd\n",
    "import numpy as np\n",
    "from textblob import TextBlob # to convert plurals to singulars"
   ]
  },
  {
   "attachments": {},
   "cell_type": "markdown",
   "metadata": {},
   "source": [
    "### RapidFuzz"
   ]
  },
  {
   "cell_type": "code",
   "execution_count": 2,
   "metadata": {},
   "outputs": [],
   "source": [
    "# #load set of DW keywords before fuzzyWuzzy into the file\n",
    "uni_kw=pd.read_csv('../data/interim/out_2019-2021_keywords_before_FuzzyWuzzy.csv', names = ['ind', 'keyword'], header=0) \n",
    "#unique_keywords=uni_kw"
   ]
  },
  {
   "cell_type": "code",
   "execution_count": 3,
   "metadata": {},
   "outputs": [
    {
     "name": "stdout",
     "output_type": "stream",
     "text": [
      "32704\n"
     ]
    },
    {
     "data": {
      "text/html": [
       "<div>\n",
       "<style scoped>\n",
       "    .dataframe tbody tr th:only-of-type {\n",
       "        vertical-align: middle;\n",
       "    }\n",
       "\n",
       "    .dataframe tbody tr th {\n",
       "        vertical-align: top;\n",
       "    }\n",
       "\n",
       "    .dataframe thead th {\n",
       "        text-align: right;\n",
       "    }\n",
       "</style>\n",
       "<table border=\"1\" class=\"dataframe\">\n",
       "  <thead>\n",
       "    <tr style=\"text-align: right;\">\n",
       "      <th></th>\n",
       "      <th>ind</th>\n",
       "      <th>keyword</th>\n",
       "    </tr>\n",
       "  </thead>\n",
       "  <tbody>\n",
       "    <tr>\n",
       "      <th>0</th>\n",
       "      <td>0</td>\n",
       "      <td>malware</td>\n",
       "    </tr>\n",
       "    <tr>\n",
       "      <th>1</th>\n",
       "      <td>1</td>\n",
       "      <td>state repression</td>\n",
       "    </tr>\n",
       "    <tr>\n",
       "      <th>2</th>\n",
       "      <td>2</td>\n",
       "      <td>climate consensus</td>\n",
       "    </tr>\n",
       "    <tr>\n",
       "      <th>3</th>\n",
       "      <td>3</td>\n",
       "      <td>Canary Islands</td>\n",
       "    </tr>\n",
       "    <tr>\n",
       "      <th>4</th>\n",
       "      <td>4</td>\n",
       "      <td>Angela I</td>\n",
       "    </tr>\n",
       "  </tbody>\n",
       "</table>\n",
       "</div>"
      ],
      "text/plain": [
       "   ind            keyword\n",
       "0    0            malware\n",
       "1    1   state repression\n",
       "2    2  climate consensus\n",
       "3    3     Canary Islands\n",
       "4    4           Angela I"
      ]
     },
     "execution_count": 3,
     "metadata": {},
     "output_type": "execute_result"
    }
   ],
   "source": [
    "print(len(uni_kw))\n",
    "uni_kw.head()"
   ]
  },
  {
   "cell_type": "markdown",
   "metadata": {},
   "source": [
    "# Cleaning"
   ]
  },
  {
   "cell_type": "markdown",
   "metadata": {},
   "source": [
    "### Cleaning 1: all in lower case"
   ]
  },
  {
   "cell_type": "code",
   "execution_count": 4,
   "metadata": {},
   "outputs": [
    {
     "name": "stdout",
     "output_type": "stream",
     "text": [
      "original:  32704\n",
      "all in lower case:  30385\n"
     ]
    }
   ],
   "source": [
    "keywords = list(uni_kw['keyword'])\n",
    "keywords_clean = list(set(uni_kw['keyword'].str.lower())) # Cleaning: Write all in lower case\n",
    "\n",
    "print('original: ', len(keywords))\n",
    "print('all in lower case: ', len(keywords_clean))"
   ]
  },
  {
   "cell_type": "markdown",
   "metadata": {},
   "source": [
    "### Cleaning 2: split keywords that were not split"
   ]
  },
  {
   "cell_type": "code",
   "execution_count": 5,
   "metadata": {},
   "outputs": [
    {
     "name": "stdout",
     "output_type": "stream",
     "text": [
      "after splitting: 30404\n"
     ]
    }
   ],
   "source": [
    "substring = ', '\n",
    "\n",
    "list_multikw = [kw for kw in keywords_clean if substring in kw] # keywords that did not get split\n",
    "new_keywords = [kw.split(substring) for kw in list_multikw] # make a list of new keywords (the splited multi kw)\n",
    "\n",
    "# Flatten list of list of new keywords\n",
    "flat_new_keywords = [item for sublist in new_keywords for item in sublist]\n",
    "flat_new_keywords.remove('') # remove empty values\n",
    "\n",
    "# Remove the non-seperated keywords\n",
    "for el in list_multikw:\n",
    "    keywords_clean.remove(el)\n",
    "\n",
    "# Add the seperated ones\n",
    "keywords_clean = keywords_clean + flat_new_keywords\n",
    "\n",
    "print('after splitting:', len(keywords_clean)) # number is higher because split long keyowrds into multiple"
   ]
  },
  {
   "attachments": {},
   "cell_type": "markdown",
   "metadata": {},
   "source": [
    "### Cleaning 3: remove '\\u2002' and '.' and '\\xa0'"
   ]
  },
  {
   "cell_type": "code",
   "execution_count": 7,
   "metadata": {},
   "outputs": [
    {
     "name": "stdout",
     "output_type": "stream",
     "text": [
      "after removing u2022: 30334\n"
     ]
    }
   ],
   "source": [
    "keywords_clean = list(set([kw.replace('\\u2002','') for kw in keywords_clean]))\n",
    "keywords_clean = list(set([kw.replace('.','') for kw in keywords_clean]))\n",
    "keywords_clean = list(set([kw.replace('\\xa0',' ') for kw in keywords_clean]))\n",
    "print('after removing u2022:', len(keywords_clean))"
   ]
  },
  {
   "attachments": {},
   "cell_type": "markdown",
   "metadata": {},
   "source": [
    "# Compute similarity of each keyword of each other"
   ]
  },
  {
   "cell_type": "code",
   "execution_count": 8,
   "metadata": {},
   "outputs": [
    {
     "data": {
      "text/plain": [
       "30334"
      ]
     },
     "execution_count": 8,
     "metadata": {},
     "output_type": "execute_result"
    }
   ],
   "source": [
    "ratio_array= pr.cdist(keywords_clean, keywords_clean, score_cutoff = 90)\n",
    "len(ratio_array)"
   ]
  },
  {
   "cell_type": "code",
   "execution_count": 9,
   "metadata": {},
   "outputs": [
    {
     "data": {
      "text/html": [
       "<div>\n",
       "<style scoped>\n",
       "    .dataframe tbody tr th:only-of-type {\n",
       "        vertical-align: middle;\n",
       "    }\n",
       "\n",
       "    .dataframe tbody tr th {\n",
       "        vertical-align: top;\n",
       "    }\n",
       "\n",
       "    .dataframe thead th {\n",
       "        text-align: right;\n",
       "    }\n",
       "</style>\n",
       "<table border=\"1\" class=\"dataframe\">\n",
       "  <thead>\n",
       "    <tr style=\"text-align: right;\">\n",
       "      <th></th>\n",
       "      <th>christmas eve</th>\n",
       "      <th>president rumen radev</th>\n",
       "      <th>happenings</th>\n",
       "      <th>mohamed noor</th>\n",
       "      <th>aga khan university</th>\n",
       "      <th>sports editor</th>\n",
       "      <th>industrialization</th>\n",
       "      <th>suat corlu</th>\n",
       "      <th>developing nations</th>\n",
       "      <th>nerves</th>\n",
       "      <th>...</th>\n",
       "      <th>radioactive waste</th>\n",
       "      <th>drag queen</th>\n",
       "      <th>suffrage</th>\n",
       "      <th>bioterrorism</th>\n",
       "      <th>us elections 2020</th>\n",
       "      <th>laboratory rats</th>\n",
       "      <th>unicorn</th>\n",
       "      <th>locarno</th>\n",
       "      <th>sex shops</th>\n",
       "      <th>eygpt</th>\n",
       "    </tr>\n",
       "  </thead>\n",
       "  <tbody>\n",
       "    <tr>\n",
       "      <th>0</th>\n",
       "      <td>100.0</td>\n",
       "      <td>0.0</td>\n",
       "      <td>0.0</td>\n",
       "      <td>0.0</td>\n",
       "      <td>0.0</td>\n",
       "      <td>0.0</td>\n",
       "      <td>0.0</td>\n",
       "      <td>0.0</td>\n",
       "      <td>0.0</td>\n",
       "      <td>0.0</td>\n",
       "      <td>...</td>\n",
       "      <td>0.0</td>\n",
       "      <td>0.0</td>\n",
       "      <td>0.0</td>\n",
       "      <td>0.0</td>\n",
       "      <td>0.0</td>\n",
       "      <td>0.0</td>\n",
       "      <td>0.0</td>\n",
       "      <td>0.0</td>\n",
       "      <td>0.0</td>\n",
       "      <td>0.0</td>\n",
       "    </tr>\n",
       "    <tr>\n",
       "      <th>1</th>\n",
       "      <td>0.0</td>\n",
       "      <td>100.0</td>\n",
       "      <td>0.0</td>\n",
       "      <td>0.0</td>\n",
       "      <td>0.0</td>\n",
       "      <td>0.0</td>\n",
       "      <td>0.0</td>\n",
       "      <td>0.0</td>\n",
       "      <td>0.0</td>\n",
       "      <td>0.0</td>\n",
       "      <td>...</td>\n",
       "      <td>0.0</td>\n",
       "      <td>0.0</td>\n",
       "      <td>0.0</td>\n",
       "      <td>0.0</td>\n",
       "      <td>0.0</td>\n",
       "      <td>0.0</td>\n",
       "      <td>0.0</td>\n",
       "      <td>0.0</td>\n",
       "      <td>0.0</td>\n",
       "      <td>0.0</td>\n",
       "    </tr>\n",
       "    <tr>\n",
       "      <th>2</th>\n",
       "      <td>0.0</td>\n",
       "      <td>0.0</td>\n",
       "      <td>100.0</td>\n",
       "      <td>0.0</td>\n",
       "      <td>0.0</td>\n",
       "      <td>0.0</td>\n",
       "      <td>0.0</td>\n",
       "      <td>0.0</td>\n",
       "      <td>0.0</td>\n",
       "      <td>0.0</td>\n",
       "      <td>...</td>\n",
       "      <td>0.0</td>\n",
       "      <td>0.0</td>\n",
       "      <td>0.0</td>\n",
       "      <td>0.0</td>\n",
       "      <td>0.0</td>\n",
       "      <td>0.0</td>\n",
       "      <td>0.0</td>\n",
       "      <td>0.0</td>\n",
       "      <td>0.0</td>\n",
       "      <td>0.0</td>\n",
       "    </tr>\n",
       "    <tr>\n",
       "      <th>3</th>\n",
       "      <td>0.0</td>\n",
       "      <td>0.0</td>\n",
       "      <td>0.0</td>\n",
       "      <td>100.0</td>\n",
       "      <td>0.0</td>\n",
       "      <td>0.0</td>\n",
       "      <td>0.0</td>\n",
       "      <td>0.0</td>\n",
       "      <td>0.0</td>\n",
       "      <td>0.0</td>\n",
       "      <td>...</td>\n",
       "      <td>0.0</td>\n",
       "      <td>0.0</td>\n",
       "      <td>0.0</td>\n",
       "      <td>0.0</td>\n",
       "      <td>0.0</td>\n",
       "      <td>0.0</td>\n",
       "      <td>0.0</td>\n",
       "      <td>0.0</td>\n",
       "      <td>0.0</td>\n",
       "      <td>0.0</td>\n",
       "    </tr>\n",
       "    <tr>\n",
       "      <th>4</th>\n",
       "      <td>0.0</td>\n",
       "      <td>0.0</td>\n",
       "      <td>0.0</td>\n",
       "      <td>0.0</td>\n",
       "      <td>100.0</td>\n",
       "      <td>0.0</td>\n",
       "      <td>0.0</td>\n",
       "      <td>0.0</td>\n",
       "      <td>0.0</td>\n",
       "      <td>0.0</td>\n",
       "      <td>...</td>\n",
       "      <td>0.0</td>\n",
       "      <td>0.0</td>\n",
       "      <td>0.0</td>\n",
       "      <td>0.0</td>\n",
       "      <td>0.0</td>\n",
       "      <td>0.0</td>\n",
       "      <td>0.0</td>\n",
       "      <td>0.0</td>\n",
       "      <td>0.0</td>\n",
       "      <td>0.0</td>\n",
       "    </tr>\n",
       "    <tr>\n",
       "      <th>5</th>\n",
       "      <td>0.0</td>\n",
       "      <td>0.0</td>\n",
       "      <td>0.0</td>\n",
       "      <td>0.0</td>\n",
       "      <td>0.0</td>\n",
       "      <td>100.0</td>\n",
       "      <td>0.0</td>\n",
       "      <td>0.0</td>\n",
       "      <td>0.0</td>\n",
       "      <td>0.0</td>\n",
       "      <td>...</td>\n",
       "      <td>0.0</td>\n",
       "      <td>0.0</td>\n",
       "      <td>0.0</td>\n",
       "      <td>0.0</td>\n",
       "      <td>0.0</td>\n",
       "      <td>0.0</td>\n",
       "      <td>0.0</td>\n",
       "      <td>0.0</td>\n",
       "      <td>0.0</td>\n",
       "      <td>0.0</td>\n",
       "    </tr>\n",
       "  </tbody>\n",
       "</table>\n",
       "<p>6 rows × 30334 columns</p>\n",
       "</div>"
      ],
      "text/plain": [
       "   christmas eve  president rumen radev  happenings  mohamed noor  \\\n",
       "0          100.0                    0.0         0.0           0.0   \n",
       "1            0.0                  100.0         0.0           0.0   \n",
       "2            0.0                    0.0       100.0           0.0   \n",
       "3            0.0                    0.0         0.0         100.0   \n",
       "4            0.0                    0.0         0.0           0.0   \n",
       "5            0.0                    0.0         0.0           0.0   \n",
       "\n",
       "   aga khan university  sports editor  industrialization  suat corlu  \\\n",
       "0                  0.0            0.0                0.0         0.0   \n",
       "1                  0.0            0.0                0.0         0.0   \n",
       "2                  0.0            0.0                0.0         0.0   \n",
       "3                  0.0            0.0                0.0         0.0   \n",
       "4                100.0            0.0                0.0         0.0   \n",
       "5                  0.0          100.0                0.0         0.0   \n",
       "\n",
       "   developing nations  nerves  ...  radioactive waste  drag queen  suffrage  \\\n",
       "0                 0.0     0.0  ...                0.0         0.0       0.0   \n",
       "1                 0.0     0.0  ...                0.0         0.0       0.0   \n",
       "2                 0.0     0.0  ...                0.0         0.0       0.0   \n",
       "3                 0.0     0.0  ...                0.0         0.0       0.0   \n",
       "4                 0.0     0.0  ...                0.0         0.0       0.0   \n",
       "5                 0.0     0.0  ...                0.0         0.0       0.0   \n",
       "\n",
       "   bioterrorism  us elections 2020  laboratory rats  unicorn  locarno  \\\n",
       "0           0.0                0.0              0.0      0.0      0.0   \n",
       "1           0.0                0.0              0.0      0.0      0.0   \n",
       "2           0.0                0.0              0.0      0.0      0.0   \n",
       "3           0.0                0.0              0.0      0.0      0.0   \n",
       "4           0.0                0.0              0.0      0.0      0.0   \n",
       "5           0.0                0.0              0.0      0.0      0.0   \n",
       "\n",
       "   sex shops  eygpt  \n",
       "0        0.0    0.0  \n",
       "1        0.0    0.0  \n",
       "2        0.0    0.0  \n",
       "3        0.0    0.0  \n",
       "4        0.0    0.0  \n",
       "5        0.0    0.0  \n",
       "\n",
       "[6 rows x 30334 columns]"
      ]
     },
     "execution_count": 9,
     "metadata": {},
     "output_type": "execute_result"
    }
   ],
   "source": [
    "df_array = pd.DataFrame(ratio_array, columns = keywords_clean)\n",
    "df_array.head(6)"
   ]
  },
  {
   "attachments": {},
   "cell_type": "markdown",
   "metadata": {},
   "source": [
    "### Extract similar keywords based on this matrix"
   ]
  },
  {
   "cell_type": "code",
   "execution_count": 10,
   "metadata": {},
   "outputs": [
    {
     "data": {
      "text/plain": [
       "4949"
      ]
     },
     "execution_count": 10,
     "metadata": {},
     "output_type": "execute_result"
    }
   ],
   "source": [
    "# Count number of non zero values in each row\n",
    "nb_non_zero = np.count_nonzero(np.asarray(ratio_array), axis=1) \n",
    "\n",
    "# Save indices of rows with more than 1 non-zero value\n",
    "indices_correlating_rows = [i for i, el in enumerate(list(nb_non_zero)) if el>1]\n",
    "len(indices_correlating_rows)"
   ]
  },
  {
   "cell_type": "code",
   "execution_count": 11,
   "metadata": {},
   "outputs": [
    {
     "name": "stdout",
     "output_type": "stream",
     "text": [
      "['developing nations', 'degeloping nations']\n",
      "['trial', 'tribal', 'trials']\n",
      "['women rights', \"women's rights\", 'womens rights', 'women’s rights', \"womens' rights\"]\n",
      "['muslim', 'muslims']\n",
      "['tunnels', 'tunnel']\n",
      "['indigineous people', 'indigenous people']\n",
      "['rolling stones', 'rolling stone']\n",
      "['jemaah islamiyah', 'jemaah islamiah']\n",
      "['alien', 'aliens']\n",
      "['workers party', \"workers' party\", \"worker's party\"]\n",
      "['power plant', 'power plants']\n",
      "['humans', 'human']\n",
      "['northrhine-westphalia', 'north rhine westphalia', 'north-rhine westphalia', 'north rhine-westphalia']\n",
      "['sausages', 'sausage']\n",
      "['blood donation', 'blood donations']\n",
      "['transitional military council', 'transitional military council (tmc)']\n",
      "['stroke', 'strokes']\n",
      "['cartoon', 'cartoons']\n",
      "['european union', 'european  union', 'europea union', 'european unon', 'euroepan union', 'european unions', 'europen union']\n",
      "['jounalist', 'journalists', 'journalist']\n",
      "['cruise ship', 'cruiseship', 'cruise ships']\n",
      "[\"people's democratic party\", \"peoples' democratic party\"]\n",
      "['pretzels', 'pretzel']\n",
      "['auto maker', 'automaker', 'automakers']\n",
      "['pangolins', 'pangolin']\n",
      "['globalization', 'globalisation']\n",
      "['outbreaks', 'outbreak']\n",
      "['fake vaccination certificate', 'vaccination certificate']\n",
      "['jihad', 'jihadi']\n",
      "['portrait', 'potrait']\n"
     ]
    }
   ],
   "source": [
    "for i in range(0,30):\n",
    "    list_similar_words = [keyword for val, keyword in zip(list(df_array.iloc[indices_correlating_rows[i]]), keywords_clean) if val!=0]\n",
    "    print(list_similar_words)"
   ]
  },
  {
   "cell_type": "code",
   "execution_count": null,
   "metadata": {},
   "outputs": [],
   "source": [
    "# Use this to remove singlulars from those words (don't do before because too many errors, e.g., us = u, thomas = thoma)\n",
    "keywords_clean = [' '.join(list(TextBlob(kw).words.singularize())) for kw in keywords_clean]\n",
    "print('after removing u2022:', len(keywords_clean))\n",
    "keywords_clean"
   ]
  },
  {
   "cell_type": "code",
   "execution_count": null,
   "metadata": {},
   "outputs": [],
   "source": []
  }
 ],
 "metadata": {
  "kernelspec": {
   "display_name": "venv",
   "language": "python",
   "name": "python3"
  },
  "language_info": {
   "codemirror_mode": {
    "name": "ipython",
    "version": 3
   },
   "file_extension": ".py",
   "mimetype": "text/x-python",
   "name": "python",
   "nbconvert_exporter": "python",
   "pygments_lexer": "ipython3",
   "version": "3.7.16"
  },
  "orig_nbformat": 4
 },
 "nbformat": 4,
 "nbformat_minor": 2
}
