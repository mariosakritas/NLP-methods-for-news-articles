{
 "cells": [
  {
   "attachments": {},
   "cell_type": "markdown",
   "metadata": {},
   "source": [
    "# Team DatenWelle\n",
    "\n",
    "## Keywords to timeseries"
   ]
  },
  {
   "cell_type": "code",
   "execution_count": 257,
   "metadata": {},
   "outputs": [],
   "source": [
    "import json\n",
    "import pandas as pd\n",
    "import matplotlib.pyplot as plt\n",
    "import os.path as op\n",
    "from datetime import datetime, timedelta\n",
    "from matplotlib.dates import date2num\n",
    "from collections import Counter"
   ]
  },
  {
   "cell_type": "code",
   "execution_count": 2,
   "metadata": {},
   "outputs": [],
   "source": [
    "# Opening JSON file\n",
    "f = open('../data/raw/CMS_2010_to_June_2022_ENGLISH.json')\n",
    "  \n",
    "# returns JSON object as \n",
    "# a dictionary\n",
    "data = json.load(f)\n",
    "df = pd.DataFrame.from_dict(data)"
   ]
  },
  {
   "cell_type": "code",
   "execution_count": 3,
   "metadata": {},
   "outputs": [],
   "source": [
    "df = df.sort_values(by= 'lastModifiedDate')\n",
    "df = df.reset_index()"
   ]
  },
  {
   "attachments": {},
   "cell_type": "markdown",
   "metadata": {},
   "source": [
    "### Keyword exploration - Angela Merkel"
   ]
  },
  {
   "cell_type": "code",
   "execution_count": 4,
   "metadata": {},
   "outputs": [],
   "source": [
    "# Make a new df with only articles that have keyword: Angela Merkel\n",
    "not_angela_indices = []\n",
    "for i, row in enumerate(df['keywordStrings']):\n",
    "    if 'Angela Merkel' not in row:\n",
    "        not_angela_indices.append(i)\n",
    "\n",
    "df_angela = df.drop(not_angela_indices)\n"
   ]
  },
  {
   "cell_type": "code",
   "execution_count": 6,
   "metadata": {},
   "outputs": [
    {
     "data": {
      "text/plain": [
       "array(['2010-01-01T06:39:00.000Z', '2010-01-17T20:12:16.000Z',\n",
       "       '2010-01-22T17:10:00.000Z', ..., '2022-06-09T16:51:14.646Z',\n",
       "       '2022-06-17T10:34:33.577Z', '2022-06-29T17:49:53.740Z'],\n",
       "      dtype=object)"
      ]
     },
     "execution_count": 6,
     "metadata": {},
     "output_type": "execute_result"
    }
   ],
   "source": [
    "df_angela.lastModifiedDate.values"
   ]
  },
  {
   "cell_type": "code",
   "execution_count": 7,
   "metadata": {},
   "outputs": [],
   "source": [
    "df_angela['date_day'] = df_angela.lastModifiedDate.apply(lambda x: x[:10] if x is not None else x)\n",
    "df_angela['date_month'] = df_angela.lastModifiedDate.apply(lambda x: x[:7] if x is not None else x)"
   ]
  },
  {
   "cell_type": "code",
   "execution_count": 10,
   "metadata": {},
   "outputs": [
    {
     "data": {
      "image/png": "[encoded data removed]",
      "text/plain": [
       "<Figure size 1500x1000 with 1 Axes>"
      ]
     },
     "metadata": {},
     "output_type": "display_data"
    }
   ],
   "source": [
    "output_dir = '../reports/figures'\n",
    "fig,ax = plt.subplots(figsize = (15,10))\n",
    "ax.hist(df_angela.date_month, bins =137)\n",
    "ax.set_xticks(df_angela.date_month.unique()[::10])\n",
    "ax.set_xlabel('Time')\n",
    "ax.set_ylabel('Mentions per month')\n",
    "fig.savefig(op.join(output_dir,'Angela_Merkel_and_DW_a_love_story.pdf'))\n",
    "plt.show()"
   ]
  },
  {
   "cell_type": "markdown",
   "metadata": {},
   "source": [
    "# Extract different time ranges"
   ]
  },
  {
   "cell_type": "code",
   "execution_count": 151,
   "metadata": {},
   "outputs": [],
   "source": [
    "# Convert to timestamp format\n",
    "df_angela['date_format_str'] = df_angela.lastModifiedDate.apply(lambda x: datetime.fromisoformat(x[:-1]).strftime('%Y-%m-%d %H:%M:%S'))\n",
    "df_angela['timestamp_format'] = df_angela.lastModifiedDate.apply(lambda x: datetime.fromisoformat(x[:-1]))"
   ]
  },
  {
   "cell_type": "code",
   "execution_count": 300,
   "metadata": {},
   "outputs": [],
   "source": [
    "# TODO: automate better the start and end date\n",
    "start =  df_angela['datetime_format'].iloc[0].to_pydatetime() # first element - convert timestamp to datetime\n",
    "end = df_angela['datetime_format'].iloc[-1].to_pydatetime() # last element\n",
    "one_day = timedelta(days = 1)  \n",
    "\n",
    "date_list = df_angela['datetime_format']"
   ]
  },
  {
   "cell_type": "code",
   "execution_count": null,
   "metadata": {},
   "outputs": [],
   "source": [
    "not_in_df = list(set(all_year_months) - set(df_angela['year_months'].tolist()))"
   ]
  },
  {
   "cell_type": "code",
   "execution_count": 388,
   "metadata": {},
   "outputs": [
    {
     "data": {
      "text/html": [
       "<div>\n",
       "<style scoped>\n",
       "    .dataframe tbody tr th:only-of-type {\n",
       "        vertical-align: middle;\n",
       "    }\n",
       "\n",
       "    .dataframe tbody tr th {\n",
       "        vertical-align: top;\n",
       "    }\n",
       "\n",
       "    .dataframe thead th {\n",
       "        text-align: right;\n",
       "    }\n",
       "</style>\n",
       "<table border=\"1\" class=\"dataframe\">\n",
       "  <thead>\n",
       "    <tr style=\"text-align: right;\">\n",
       "      <th></th>\n",
       "      <th>val</th>\n",
       "      <th>year_week</th>\n",
       "    </tr>\n",
       "  </thead>\n",
       "  <tbody>\n",
       "    <tr>\n",
       "      <th>0</th>\n",
       "      <td>0</td>\n",
       "      <td>200901</td>\n",
       "    </tr>\n",
       "    <tr>\n",
       "      <th>1</th>\n",
       "      <td>0</td>\n",
       "      <td>200902</td>\n",
       "    </tr>\n",
       "    <tr>\n",
       "      <th>2</th>\n",
       "      <td>0</td>\n",
       "      <td>200903</td>\n",
       "    </tr>\n",
       "    <tr>\n",
       "      <th>3</th>\n",
       "      <td>0</td>\n",
       "      <td>200904</td>\n",
       "    </tr>\n",
       "    <tr>\n",
       "      <th>4</th>\n",
       "      <td>0</td>\n",
       "      <td>200905</td>\n",
       "    </tr>\n",
       "    <tr>\n",
       "      <th>...</th>\n",
       "      <td>...</td>\n",
       "      <td>...</td>\n",
       "    </tr>\n",
       "    <tr>\n",
       "      <th>737</th>\n",
       "      <td>0</td>\n",
       "      <td>202249</td>\n",
       "    </tr>\n",
       "    <tr>\n",
       "      <th>738</th>\n",
       "      <td>0</td>\n",
       "      <td>202250</td>\n",
       "    </tr>\n",
       "    <tr>\n",
       "      <th>739</th>\n",
       "      <td>0</td>\n",
       "      <td>202251</td>\n",
       "    </tr>\n",
       "    <tr>\n",
       "      <th>740</th>\n",
       "      <td>0</td>\n",
       "      <td>202252</td>\n",
       "    </tr>\n",
       "    <tr>\n",
       "      <th>741</th>\n",
       "      <td>0</td>\n",
       "      <td>202253</td>\n",
       "    </tr>\n",
       "  </tbody>\n",
       "</table>\n",
       "<p>742 rows × 2 columns</p>\n",
       "</div>"
      ],
      "text/plain": [
       "     val year_week\n",
       "0      0    200901\n",
       "1      0    200902\n",
       "2      0    200903\n",
       "3      0    200904\n",
       "4      0    200905\n",
       "..   ...       ...\n",
       "737    0    202249\n",
       "738    0    202250\n",
       "739    0    202251\n",
       "740    0    202252\n",
       "741    0    202253\n",
       "\n",
       "[742 rows x 2 columns]"
      ]
     },
     "execution_count": 388,
     "metadata": {},
     "output_type": "execute_result"
    }
   ],
   "source": [
    "# Write date as year+week\n",
    "df_angela['year_week'] = df_angela.datetime_format.apply(\n",
    "lambda x: int(str(x.isocalendar()[0]) + str(x.isocalendar()[1])) if len(str(x.isocalendar()[1])) > 1 else \\\n",
    "        int(str(x.isocalendar()[0]) + '0' + str(x.isocalendar()[1])))\n",
    "\n",
    "# Count articles per week\n",
    "yearweek_counts = dict(Counter(df_angela['year_week'].tolist()))\n",
    "\n",
    "# Compute all year weeks from 2009 to 2022\n",
    "all_year_weeks = [year*100+week for week in range(1, 54) for year in range(2009, 2023)]\n",
    "not_in_df = list(set(all_year_weeks) - set(df_angela['year_week'].tolist()))\n",
    "\n",
    "# Add weeks that are not in table (and set to 0 articles)\n",
    "for key_ in not_in_df:\n",
    "    yearweek_counts[key_] = 0\n",
    "\n",
    "# Cleaning and sort by date\n",
    "df_yearweek_counts = pd.DataFrame.from_dict(yearweek_counts, orient='index', columns=['val'])\n",
    "df_yearweek_counts['year_week'] = df_yearweek_counts.index\n",
    "df_yearweek_counts.sort_values(by='year_week', inplace=True)\n",
    "df_yearweek_counts = df_yearweek_counts.reset_index()\n",
    "df_yearweek_counts.drop('index', axis=1, inplace=True)\n",
    "\n",
    "# Convert to strings to not have empty bits on x-axis\n",
    "df_yearweek_counts['year_week'] = df_yearweek_counts.year_week.apply(lambda x: str(x))\n",
    "\n",
    "df_yearweek_counts"
   ]
  },
  {
   "cell_type": "code",
   "execution_count": 405,
   "metadata": {},
   "outputs": [
    {
     "data": {
      "text/html": [
       "<div>\n",
       "<style scoped>\n",
       "    .dataframe tbody tr th:only-of-type {\n",
       "        vertical-align: middle;\n",
       "    }\n",
       "\n",
       "    .dataframe tbody tr th {\n",
       "        vertical-align: top;\n",
       "    }\n",
       "\n",
       "    .dataframe thead th {\n",
       "        text-align: right;\n",
       "    }\n",
       "</style>\n",
       "<table border=\"1\" class=\"dataframe\">\n",
       "  <thead>\n",
       "    <tr style=\"text-align: right;\">\n",
       "      <th></th>\n",
       "      <th>val</th>\n",
       "      <th>year_week</th>\n",
       "    </tr>\n",
       "  </thead>\n",
       "  <tbody>\n",
       "    <tr>\n",
       "      <th>52</th>\n",
       "      <td>1</td>\n",
       "      <td>200953</td>\n",
       "    </tr>\n",
       "    <tr>\n",
       "      <th>53</th>\n",
       "      <td>0</td>\n",
       "      <td>201001</td>\n",
       "    </tr>\n",
       "    <tr>\n",
       "      <th>54</th>\n",
       "      <td>1</td>\n",
       "      <td>201002</td>\n",
       "    </tr>\n",
       "    <tr>\n",
       "      <th>55</th>\n",
       "      <td>1</td>\n",
       "      <td>201003</td>\n",
       "    </tr>\n",
       "    <tr>\n",
       "      <th>56</th>\n",
       "      <td>0</td>\n",
       "      <td>201004</td>\n",
       "    </tr>\n",
       "    <tr>\n",
       "      <th>...</th>\n",
       "      <td>...</td>\n",
       "      <td>...</td>\n",
       "    </tr>\n",
       "    <tr>\n",
       "      <th>710</th>\n",
       "      <td>0</td>\n",
       "      <td>202222</td>\n",
       "    </tr>\n",
       "    <tr>\n",
       "      <th>711</th>\n",
       "      <td>2</td>\n",
       "      <td>202223</td>\n",
       "    </tr>\n",
       "    <tr>\n",
       "      <th>712</th>\n",
       "      <td>1</td>\n",
       "      <td>202224</td>\n",
       "    </tr>\n",
       "    <tr>\n",
       "      <th>713</th>\n",
       "      <td>0</td>\n",
       "      <td>202225</td>\n",
       "    </tr>\n",
       "    <tr>\n",
       "      <th>714</th>\n",
       "      <td>1</td>\n",
       "      <td>202226</td>\n",
       "    </tr>\n",
       "  </tbody>\n",
       "</table>\n",
       "<p>663 rows × 2 columns</p>\n",
       "</div>"
      ],
      "text/plain": [
       "     val year_week\n",
       "52     1    200953\n",
       "53     0    201001\n",
       "54     1    201002\n",
       "55     1    201003\n",
       "56     0    201004\n",
       "..   ...       ...\n",
       "710    0    202222\n",
       "711    2    202223\n",
       "712    1    202224\n",
       "713    0    202225\n",
       "714    1    202226\n",
       "\n",
       "[663 rows x 2 columns]"
      ]
     },
     "execution_count": 405,
     "metadata": {},
     "output_type": "execute_result"
    }
   ],
   "source": [
    "# TODO: automate this\n",
    "df_yearweek_counts_smaller = df_yearweek_counts.iloc[52:-27] # drop the 50 first rows and the last 27 because = 0\n",
    "df_yearweek_counts_smaller"
   ]
  },
  {
   "cell_type": "code",
   "execution_count": 407,
   "metadata": {},
   "outputs": [
    {
     "data": {
      "image/png": "[encoded data removed]",
      "text/plain": [
       "<Figure size 1500x1000 with 1 Axes>"
      ]
     },
     "metadata": {},
     "output_type": "display_data"
    }
   ],
   "source": [
    "fig,ax = plt.subplots(figsize = (15,10))\n",
    "\n",
    "ax.bar(df_yearweek_counts_smaller['year_week'], df_yearweek_counts_smaller['val']) \n",
    "ax.set_xlabel('Year+week')\n",
    "ax.set_ylabel('Mentions per week')\n",
    "ax.xaxis.set_major_locator(plt.MaxNLocator(18)) # only show a certain number of xticks\n",
    "\n",
    "plt.xticks(rotation=90)\n",
    "plt.show()"
   ]
  },
  {
   "cell_type": "markdown",
   "metadata": {},
   "source": []
  }
 ],
 "metadata": {
  "kernelspec": {
   "display_name": "Python 3",
   "language": "python",
   "name": "python3"
  },
  "language_info": {
   "codemirror_mode": {
    "name": "ipython",
    "version": 3
   },
   "file_extension": ".py",
   "mimetype": "text/x-python",
   "name": "python",
   "nbconvert_exporter": "python",
   "pygments_lexer": "ipython3",
   "version": "3.7.16"
  },
  "orig_nbformat": 4
 },
 "nbformat": 4,
 "nbformat_minor": 2
}
