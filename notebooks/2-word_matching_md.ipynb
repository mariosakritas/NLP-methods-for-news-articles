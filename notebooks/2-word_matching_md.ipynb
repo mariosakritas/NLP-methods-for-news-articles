{
 "cells": [
  {
   "cell_type": "code",
   "execution_count": 167,
   "metadata": {},
   "outputs": [],
   "source": [
    "# Import\n",
    "import json\n",
    "import pandas as pd\n",
    "import numpy as np\n",
    "import matplotlib.pyplot as plt\n",
    "from gensim.models import FastText # To use fastText for word embeddings\n",
    "from sklearn.feature_extraction.text import TfidfVectorizer # to use tfidf for word embeddings\n",
    "from sklearn.model_selection import train_test_split\n",
    "from sklearn.svm import LinearSVC\n",
    "from sklearn.metrics import confusion_matrix\n",
    "from sklearn.metrics import accuracy_score"
   ]
  },
  {
   "cell_type": "code",
   "execution_count": 3,
   "metadata": {},
   "outputs": [
    {
     "name": "stdout",
     "output_type": "stream",
     "text": [
      "         id                                               name  \\\n",
      "0  16489913                 UN imposes sanctions on DRC rebels   \n",
      "1  16489912            Catholic Church abuse hotline goes cold   \n",
      "2  16489903  \"Fiscal cliff\" tax hikes go into effect in the US   \n",
      "3  16490025  Kim seeks reconciliation with South, economic ...   \n",
      "4  16490029  Senate-approved fiscal deal faces House consid...   \n",
      "\n",
      "                    shortTitle  \\\n",
      "0      UN sanctions DRC rebels   \n",
      "1                 Disconnected   \n",
      "2  US goes over \"fiscal cliff\"   \n",
      "3    A rare New Year's address   \n",
      "4   US House mulls fiscal deal   \n",
      "\n",
      "                                                text  \\\n",
      "0  <p>\\n\\tThe UN Security Council has sanctioned ...   \n",
      "1  <p>\\n\\tFor two and a half years, the counselin...   \n",
      "2  <p>\\n\\tAs the clock struck midnight in Washing...   \n",
      "3  <p>\\n\\tKim Jong Un, who came to office just ov...   \n",
      "4  <p>\\n\\tLess than two hours after the US had of...   \n",
      "\n",
      "                                              teaser  \\\n",
      "0  A UN Security Council sanctions committee has ...   \n",
      "1  The Catholic Church in Germany has closed its ...   \n",
      "2  A series of tax hikes and spending cuts have g...   \n",
      "3  North Korea's leader has used a rare New Year’...   \n",
      "4  The US Senate has approved a bill to stop a se...   \n",
      "\n",
      "                                         shortTeaser kicker regions  \\\n",
      "0                                                      None      []   \n",
      "1  The Catholic Church has shut down a hotline fo...   None      []   \n",
      "2                                                      None      []   \n",
      "3                                                      None      []   \n",
      "4                                                      None      []   \n",
      "\n",
      "                                            keywords  \\\n",
      "0  [{'name': 'DRC'}, {'name': 'M23'}, {'name': 'F...   \n",
      "1  [{'name': 'telephone'}, {'name': 'hotline'}, {...   \n",
      "2  [{'name': 'fiscal cliff'}, {'name': 'Obama'}, ...   \n",
      "3  [{'name': 'Kim Jong Un'}, {'name': 'Kim Jong I...   \n",
      "4  [{'name': 'fiscal cliff'}, {'name': 'US Senate...   \n",
      "\n",
      "                                      keywordStrings  ...  \\\n",
      "0  [DRC, M23, FDLR, Rwanda, Susan Rice, UN securi...  ...   \n",
      "1  [telephone, hotline, helpline, Catholic Church...  ...   \n",
      "2  [fiscal cliff, Obama, congress, spending cuts,...  ...   \n",
      "3  [Kim Jong Un, Kim Jong Il, Kim Il Sung, lee my...  ...   \n",
      "4  [fiscal cliff, US Senate, Senate vote, fiscal ...  ...   \n",
      "\n",
      "                                        contentLinks  \\\n",
      "0  [{'name': None}, {'name': 'Goma residents fear...   \n",
      "1  [{'name': None}, {'name': None}, {'name': None...   \n",
      "2  [{'name': None}, {'name': '2012 defined by leg...   \n",
      "3  [{'name': None}, {'name': 'South Korea condemn...   \n",
      "4  [{'name': None}, {'name': 'Soft landing as US ...   \n",
      "\n",
      "                                            articles isOpinion  \\\n",
      "0  [{'name': 'Goma residents fear renewed conflic...     False   \n",
      "1                                                 []     False   \n",
      "2  [{'name': '2012 defined by legislative gridloc...     False   \n",
      "3  [{'name': 'South Korea condemns North Korea's ...     False   \n",
      "4       [{'name': 'US reaches 'fiscal cliff' deal'}]     False   \n",
      "\n",
      "  geographicLocations                                contentAssociations  \\\n",
      "0                  []  [{'id': 30420921}, {'id': 30420923}, {'id': 30...   \n",
      "1                  []  [{'id': 30420944}, {'id': 30420945}, {'id': 30...   \n",
      "2                  []  [{'id': 30420865}, {'id': 30420867}, {'id': 30...   \n",
      "3                  []  [{'id': 30421237}, {'id': 30421239}, {'id': 30...   \n",
      "4                  []  [{'id': 30421071}, {'id': 30421073}, {'id': 30...   \n",
      "\n",
      "                                mainContentImageLink  \\\n",
      "0  {'description': 'Kongo M23 Rebellen ziehen aus...   \n",
      "1                                {'description': ''}   \n",
      "2                                {'description': ''}   \n",
      "3                                {'description': ''}   \n",
      "4                                {'description': ''}   \n",
      "\n",
      "                                              images externalLinks topStory  \\\n",
      "0  [{'name': 'Kongo M23 Rebellen ziehen aus beset...            []    False   \n",
      "1  [{'name': 'Symbolbild Missbrauch Opfer'}, {'na...            []    False   \n",
      "2  [{'name': 'Barack Obama PK Silvester Haushalts...            []    False   \n",
      "3  [{'name': 'Nordkorea Neujahrsansprache von Kim...            []    False   \n",
      "4  [{'name': 'USA Senat Fiskalklippe Verhandlunge...            []    False   \n",
      "\n",
      "  language  \n",
      "0     None  \n",
      "1     None  \n",
      "2     None  \n",
      "3     None  \n",
      "4     None  \n",
      "\n",
      "[5 rows x 28 columns]\n"
     ]
    }
   ],
   "source": [
    "# Open data\n",
    "# Opening JSON file\n",
    "f = open('../data/raw/CMS_2010_to_June_2022_ENGLISH.json')\n",
    "  \n",
    "# returns JSON object as \n",
    "# a dictionary\n",
    "data = json.load(f)\n",
    "\n",
    "df = pd.DataFrame.from_dict(data)\n",
    "\n",
    "print(df.head())"
   ]
  },
  {
   "cell_type": "code",
   "execution_count": 4,
   "metadata": {},
   "outputs": [],
   "source": [
    "df['firstKeyword'] = df['keywords'].apply(lambda x: x[0]['name'] if len(x) != 0 else None)\n",
    "df['secondKeyword'] = df['keywords'].apply(lambda x: x[1]['name'] if len(x) > 1 else None)\n",
    "df['thirdKeyword'] = df['keywords'].apply(lambda x: x[2]['name'] if len(x) > 2 else None)\n",
    "df['fourthKeyword'] = df['keywords'].apply(lambda x: x[3]['name'] if len(x) > 3 else None)\n",
    "\n",
    "df['cleanFocusCategory'] = df['thematicFocusCategory'].apply(lambda x: x['name'] if x is not None else x)\n",
    "\n",
    "df = df[['firstKeyword', 'secondKeyword', 'thirdKeyword', 'fourthKeyword', 'thematicFocusCategory', 'cleanFocusCategory']]"
   ]
  },
  {
   "cell_type": "code",
   "execution_count": 5,
   "metadata": {},
   "outputs": [
    {
     "data": {
      "text/html": [
       "<div>\n",
       "<style scoped>\n",
       "    .dataframe tbody tr th:only-of-type {\n",
       "        vertical-align: middle;\n",
       "    }\n",
       "\n",
       "    .dataframe tbody tr th {\n",
       "        vertical-align: top;\n",
       "    }\n",
       "\n",
       "    .dataframe thead th {\n",
       "        text-align: right;\n",
       "    }\n",
       "</style>\n",
       "<table border=\"1\" class=\"dataframe\">\n",
       "  <thead>\n",
       "    <tr style=\"text-align: right;\">\n",
       "      <th></th>\n",
       "      <th>firstKeyword</th>\n",
       "      <th>secondKeyword</th>\n",
       "      <th>thirdKeyword</th>\n",
       "      <th>fourthKeyword</th>\n",
       "      <th>thematicFocusCategory</th>\n",
       "      <th>cleanFocusCategory</th>\n",
       "    </tr>\n",
       "  </thead>\n",
       "  <tbody>\n",
       "    <tr>\n",
       "      <th>0</th>\n",
       "      <td>Africalink</td>\n",
       "      <td>Top Story</td>\n",
       "      <td>Africa on the Move</td>\n",
       "      <td>Making a Difference</td>\n",
       "      <td>{'name': 'History'}</td>\n",
       "      <td>History</td>\n",
       "    </tr>\n",
       "    <tr>\n",
       "      <th>1</th>\n",
       "      <td>Commerzbank</td>\n",
       "      <td>job cuts</td>\n",
       "      <td>administration</td>\n",
       "      <td>retail banking</td>\n",
       "      <td>{'name': 'Business'}</td>\n",
       "      <td>Business</td>\n",
       "    </tr>\n",
       "    <tr>\n",
       "      <th>2</th>\n",
       "      <td>Moody's</td>\n",
       "      <td>Turkey</td>\n",
       "      <td>ratings agency</td>\n",
       "      <td>junk status</td>\n",
       "      <td>{'name': 'Business'}</td>\n",
       "      <td>Business</td>\n",
       "    </tr>\n",
       "    <tr>\n",
       "      <th>3</th>\n",
       "      <td>Syria</td>\n",
       "      <td>Aleppo</td>\n",
       "      <td>war crimes</td>\n",
       "      <td>water</td>\n",
       "      <td>{'name': 'Conflicts'}</td>\n",
       "      <td>Conflicts</td>\n",
       "    </tr>\n",
       "    <tr>\n",
       "      <th>4</th>\n",
       "      <td>Conflict Zone</td>\n",
       "      <td>Talk</td>\n",
       "      <td>link</td>\n",
       "      <td>None</td>\n",
       "      <td>{'name': 'Politics'}</td>\n",
       "      <td>Politics</td>\n",
       "    </tr>\n",
       "    <tr>\n",
       "      <th>...</th>\n",
       "      <td>...</td>\n",
       "      <td>...</td>\n",
       "      <td>...</td>\n",
       "      <td>...</td>\n",
       "      <td>...</td>\n",
       "      <td>...</td>\n",
       "    </tr>\n",
       "    <tr>\n",
       "      <th>79908</th>\n",
       "      <td>Turkey</td>\n",
       "      <td>Recep Tayipp Erdogan</td>\n",
       "      <td>Finland Sweden</td>\n",
       "      <td>NATO</td>\n",
       "      <td>{'name': 'Politics'}</td>\n",
       "      <td>Politics</td>\n",
       "    </tr>\n",
       "    <tr>\n",
       "      <th>79909</th>\n",
       "      <td>pollution</td>\n",
       "      <td>gold mine</td>\n",
       "      <td>Turkey</td>\n",
       "      <td>Anagold</td>\n",
       "      <td>{'name': 'Nature and Environment'}</td>\n",
       "      <td>Nature and Environment</td>\n",
       "    </tr>\n",
       "    <tr>\n",
       "      <th>79910</th>\n",
       "      <td>war</td>\n",
       "      <td>Ukraine</td>\n",
       "      <td>Russia</td>\n",
       "      <td>Russian attack</td>\n",
       "      <td>{'name': 'Conflicts'}</td>\n",
       "      <td>Conflicts</td>\n",
       "    </tr>\n",
       "    <tr>\n",
       "      <th>79911</th>\n",
       "      <td>France</td>\n",
       "      <td>vegetarian</td>\n",
       "      <td>steak</td>\n",
       "      <td>sausage</td>\n",
       "      <td>{'name': 'Business'}</td>\n",
       "      <td>Business</td>\n",
       "    </tr>\n",
       "    <tr>\n",
       "      <th>79912</th>\n",
       "      <td>Ecuador</td>\n",
       "      <td>protests</td>\n",
       "      <td>None</td>\n",
       "      <td>None</td>\n",
       "      <td>{'name': 'Politics'}</td>\n",
       "      <td>Politics</td>\n",
       "    </tr>\n",
       "  </tbody>\n",
       "</table>\n",
       "<p>79913 rows × 6 columns</p>\n",
       "</div>"
      ],
      "text/plain": [
       "        firstKeyword         secondKeyword        thirdKeyword  \\\n",
       "0         Africalink             Top Story  Africa on the Move   \n",
       "1        Commerzbank              job cuts      administration   \n",
       "2            Moody's                Turkey      ratings agency   \n",
       "3              Syria                Aleppo          war crimes   \n",
       "4      Conflict Zone                  Talk                link   \n",
       "...              ...                   ...                 ...   \n",
       "79908         Turkey  Recep Tayipp Erdogan      Finland Sweden   \n",
       "79909      pollution             gold mine              Turkey   \n",
       "79910            war               Ukraine              Russia   \n",
       "79911         France            vegetarian               steak   \n",
       "79912        Ecuador              protests                None   \n",
       "\n",
       "             fourthKeyword               thematicFocusCategory  \\\n",
       "0      Making a Difference                 {'name': 'History'}   \n",
       "1           retail banking                {'name': 'Business'}   \n",
       "2              junk status                {'name': 'Business'}   \n",
       "3                    water               {'name': 'Conflicts'}   \n",
       "4                     None                {'name': 'Politics'}   \n",
       "...                    ...                                 ...   \n",
       "79908                 NATO                {'name': 'Politics'}   \n",
       "79909              Anagold  {'name': 'Nature and Environment'}   \n",
       "79910       Russian attack               {'name': 'Conflicts'}   \n",
       "79911              sausage                {'name': 'Business'}   \n",
       "79912                 None                {'name': 'Politics'}   \n",
       "\n",
       "           cleanFocusCategory  \n",
       "0                     History  \n",
       "1                    Business  \n",
       "2                    Business  \n",
       "3                   Conflicts  \n",
       "4                    Politics  \n",
       "...                       ...  \n",
       "79908                Politics  \n",
       "79909  Nature and Environment  \n",
       "79910               Conflicts  \n",
       "79911                Business  \n",
       "79912                Politics  \n",
       "\n",
       "[79913 rows x 6 columns]"
      ]
     },
     "execution_count": 5,
     "metadata": {},
     "output_type": "execute_result"
    }
   ],
   "source": [
    "# Playground Magda\n",
    "\n",
    "df.dropna(subset=['thematicFocusCategory'], inplace=True) # Drop rows without a category\n",
    "df.reset_index(inplace=True, drop=True) # reset index\n",
    "\n",
    "df"
   ]
  },
  {
   "cell_type": "code",
   "execution_count": 6,
   "metadata": {},
   "outputs": [
    {
     "data": {
      "image/png": "[encoded data removed]",
      "text/plain": [
       "<Figure size 1000x200 with 1 Axes>"
      ]
     },
     "metadata": {},
     "output_type": "display_data"
    }
   ],
   "source": [
    "# Look only at first keyword\n",
    "# Imbalanced classes (Category)\n",
    "fig = plt.figure(figsize=(10,2))\n",
    "df.groupby('cleanFocusCategory').firstKeyword.count().sort_values(ascending=False).plot.bar()\n",
    "plt.show()\n",
    "\n",
    "# NB: Conventional algorithms are often biased towards the majority class, not taking the data distribution into consideration. \n",
    "# Minority classes can be treated as outliers, problem for cancer detection for instance. \n",
    "\n",
    "# Solution: Use stratify in test train split !"
   ]
  },
  {
   "cell_type": "code",
   "execution_count": 180,
   "metadata": {},
   "outputs": [
    {
     "data": {
      "text/plain": [
       "count       79913\n",
       "unique      14868\n",
       "top       Germany\n",
       "freq         2735\n",
       "Name: firstKeyword, dtype: object"
      ]
     },
     "execution_count": 180,
     "metadata": {},
     "output_type": "execute_result"
    }
   ],
   "source": [
    "# TODO: translation: some keywords are in german: 'Commerzbank', 'DW Akademie'. Some keywords are strange: 'Africalink'\n",
    "\n",
    "df.firstKeyword.describe()"
   ]
  },
  {
   "attachments": {},
   "cell_type": "markdown",
   "metadata": {},
   "source": [
    "## Word embedding\n",
    "= Convert each word into a vector. E.g., TFIDF; Word2vec, FastText, ..."
   ]
  },
  {
   "cell_type": "code",
   "execution_count": 178,
   "metadata": {},
   "outputs": [
    {
     "data": {
      "text/plain": [
       "(79913, 22306)"
      ]
     },
     "execution_count": 178,
     "metadata": {},
     "output_type": "execute_result"
    }
   ],
   "source": [
    "# TF-IDF\n",
    "tfidf = TfidfVectorizer(sublinear_tf=True, norm='l2', encoding='latin-1', ngram_range=(1, 2), stop_words='english')\n",
    "features = tfidf.fit_transform(df.firstKeyword).toarray()\n",
    "features.shape # if single word: 1 feature, if 2 words: 3 features (e.g., 'dw', 'akademie', 'dw akademie')"
   ]
  },
  {
   "cell_type": "code",
   "execution_count": 183,
   "metadata": {},
   "outputs": [
    {
     "data": {
      "text/plain": [
       "(79913, 100)"
      ]
     },
     "execution_count": 183,
     "metadata": {},
     "output_type": "execute_result"
    }
   ],
   "source": [
    "# FastText\n",
    "tokens = [keyword.split() for keyword in df.firstKeyword] # tokenise: split into words\n",
    "model_ft = FastText(tokens, vector_size = 100) # model_ft.wv['pollution']: get word vector for a specific word; model_ft.wv.similar_by_word('pollution', topn=5): Look for the 5 most similar words\n",
    "\n",
    "word_vectors = [np.array(model_ft.wv[token]) for token in tokens]\n",
    "word_vectors_av = np.array([np.average(word_vector, axis=0) for word_vector in word_vectors]) # if: ['dw','akademie'] = 2 vectors = here we average them\n",
    "\n",
    "features = word_vectors_av\n",
    "features.shape"
   ]
  },
  {
   "cell_type": "markdown",
   "metadata": {},
   "source": [
    "## Run classification model"
   ]
  },
  {
   "cell_type": "code",
   "execution_count": 184,
   "metadata": {},
   "outputs": [
    {
     "name": "stdout",
     "output_type": "stream",
     "text": [
      "79913\n",
      "79913\n",
      "79913\n"
     ]
    }
   ],
   "source": [
    "labels = df['cleanFocusCategory']\n",
    "\n",
    "print(len(tokens))      # words \n",
    "print(len(features))    # words encoded in vectors = model input\n",
    "print(len(labels))      # Focuscategory = model output\n",
    "\n",
    "# Train test split with stratify to account for imbalanced category labels\n",
    "X_train, X_test, y_train, y_test, indices_train, indices_test = train_test_split(features, labels, df.index, test_size=0.33, \n",
    "                                                                                 random_state=0,stratify=labels)"
   ]
  },
  {
   "cell_type": "code",
   "execution_count": 185,
   "metadata": {},
   "outputs": [],
   "source": [
    "model = LinearSVC()\n",
    "model.fit(X_train, y_train)"
   ]
  },
  {
   "cell_type": "code",
   "execution_count": 165,
   "metadata": {},
   "outputs": [],
   "source": [
    "y_pred = model.predict(X_test)\n",
    "accuracy_score(y_test,y_pred)"
   ]
  },
  {
   "cell_type": "markdown",
   "metadata": {},
   "source": [
    "## Plot results"
   ]
  },
  {
   "cell_type": "code",
   "execution_count": null,
   "metadata": {},
   "outputs": [],
   "source": [
    "conf_mat = confusion_matrix(y_test, y_pred, labels = labels.unique().tolist())\n",
    "fig, ax = plt.subplots(figsize=(20,20))\n",
    "sns.heatmap(conf_mat, annot=True, xticklabels=True, yticklabels=True)\n",
    "plt.ylabel('Actual')\n",
    "plt.xlabel('Predicted')\n",
    "plt.show()"
   ]
  }
 ],
 "metadata": {
  "kernelspec": {
   "display_name": "Python 3",
   "language": "python",
   "name": "python3"
  },
  "language_info": {
   "codemirror_mode": {
    "name": "ipython",
    "version": 3
   },
   "file_extension": ".py",
   "mimetype": "text/x-python",
   "name": "python",
   "nbconvert_exporter": "python",
   "pygments_lexer": "ipython3",
   "version": "3.7.16"
  },
  "orig_nbformat": 4
 },
 "nbformat": 4,
 "nbformat_minor": 2
}
