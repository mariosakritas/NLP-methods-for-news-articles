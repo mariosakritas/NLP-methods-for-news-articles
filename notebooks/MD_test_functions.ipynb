{
 "cells": [
  {
   "cell_type": "code",
   "execution_count": 1,
   "metadata": {},
   "outputs": [],
   "source": [
    "import sys\n",
    "sys.path.append('../src/')\n",
    "\n",
    "from data.preprocess_keywords import clean_keywords"
   ]
  },
  {
   "cell_type": "code",
   "execution_count": 2,
   "metadata": {},
   "outputs": [],
   "source": []
  },
  {
   "cell_type": "code",
   "execution_count": 43,
   "metadata": {},
   "outputs": [],
   "source": [
    "import pandas as pd \n",
    "import json\n",
    "\n",
    "def get_data(data_file, start_date, end_date):\n",
    "    \n",
    "    # Opening JSON file\n",
    "    f = open(data_file)\n",
    "    \n",
    "    # returns JSON object as a dictionary\n",
    "    data = json.load(f)\n",
    "\n",
    "    # convert to data frame\n",
    "    df = pd.DataFrame.from_dict(data)\n",
    "\n",
    "    # sorts dataframe by date\n",
    "    df = df.sort_values(by='lastModifiedDate') \n",
    "\n",
    "    # creates a mask (list of True or False) for indices within the specified date range\n",
    "    mask = (pd.to_datetime(df['lastModifiedDate']) > start_date) & (pd.to_datetime(df['lastModifiedDate']) <= end_date)\n",
    "    \n",
    "    # extracts subset from this dataset\n",
    "    df_subset = df.loc[mask]\n",
    "\n",
    "    return df_subset\n"
   ]
  },
  {
   "cell_type": "code",
   "execution_count": 44,
   "metadata": {},
   "outputs": [],
   "source": [
    "data_file = '../data/raw/CMS_2010_to_June_2022_ENGLISH.json'\n",
    "start_date = '2019-01-01'\n",
    "end_date = '2022-01-01'\n",
    "\n",
    "df_subset = get_data(data_file, start_date, end_date)"
   ]
  },
  {
   "cell_type": "code",
   "execution_count": 6,
   "metadata": {},
   "outputs": [
    {
     "name": "stdout",
     "output_type": "stream",
     "text": [
      "Cleaning DONE. Number of unique keywords went from 32682 to 30228\n"
     ]
    }
   ],
   "source": [
    "lst_lst_keywords = list(df_subset.keywordStrings)\n",
    "\n",
    "lst_lst_keywords_clean = clean_keywords(lst_lst_keywords)"
   ]
  }
 ],
 "metadata": {
  "kernelspec": {
   "display_name": "venv",
   "language": "python",
   "name": "python3"
  },
  "language_info": {
   "codemirror_mode": {
    "name": "ipython",
    "version": 3
   },
   "file_extension": ".py",
   "mimetype": "text/x-python",
   "name": "python",
   "nbconvert_exporter": "python",
   "pygments_lexer": "ipython3",
   "version": "3.7.16"
  },
  "orig_nbformat": 4
 },
 "nbformat": 4,
 "nbformat_minor": 2
}
