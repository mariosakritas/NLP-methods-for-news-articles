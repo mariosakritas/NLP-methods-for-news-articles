{
 "cells": [
  {
   "cell_type": "code",
   "execution_count": 1,
   "metadata": {},
   "outputs": [
    {
     "name": "stdout",
     "output_type": "stream",
     "text": [
      "Getting data...\n",
      "Loading data DONE. Number of articles is 175659\n",
      "Extracting data DONE. Number of articles from 2019-01-01 to 2022-01-01 is 33829\n",
      "Cleaning step 1 out of 2 DONE. Number of unique keywords went from 32682 to 30228\n",
      "Cleaning step 2 out of 2 DONE. Number of unique keywords went from 30228 to 28005\n",
      "Finished. Data stored in ../data/interim/clean_keywords_2019-01-01_2022-01-01.json\n"
     ]
    }
   ],
   "source": [
    "import sys\n",
    "# Add src folder to the path\n",
    "sys.path.append('../src/')\n",
    "\n",
    "from data.preprocess_keywords import make_cleaned_keywords_df\n",
    "from data.make_datasets import get_data\n",
    "\n",
    "# Specify wanted time range\n",
    "start_date = '2019-01-01'\n",
    "end_date = '2022-01-01'\n",
    "\n",
    "# Path to data\n",
    "data_file = '../data/raw/CMS_2010_to_June_2022_ENGLISH.json'\n",
    "\n",
    "# Load and extract data within time range\n",
    "df_subset = get_data(data_file, start_date, end_date)\n",
    "\n",
    "# Cleans keywords and saves data as a dataframe\n",
    "make_cleaned_keywords_df(df_subset, start_date, end_date)"
   ]
  },
  {
   "cell_type": "markdown",
   "metadata": {},
   "source": [
    "### Load data"
   ]
  },
  {
   "cell_type": "code",
   "execution_count": 3,
   "metadata": {},
   "outputs": [],
   "source": [
    "import pandas as pd\n",
    "\n",
    "# Load data\n",
    "filepath = '../data/interim/clean_keywords_' + start_date + '_' + end_date + '.json'\n",
    "df_loaded = pd.read_json(filepath, orient ='split', compression = 'infer')"
   ]
  },
  {
   "cell_type": "code",
   "execution_count": 3,
   "metadata": {},
   "outputs": [
    {
     "data": {
      "text/plain": [
       "7.508720396548559"
      ]
     },
     "execution_count": 3,
     "metadata": {},
     "output_type": "execute_result"
    }
   ],
   "source": [
    "(32682-30228)*100 / 32682"
   ]
  },
  {
   "cell_type": "code",
   "execution_count": 4,
   "metadata": {},
   "outputs": [
    {
     "data": {
      "text/plain": [
       "14.310629704424453"
      ]
     },
     "execution_count": 4,
     "metadata": {},
     "output_type": "execute_result"
    }
   ],
   "source": [
    "(32682-28005)*100 / 32682"
   ]
  },
  {
   "cell_type": "code",
   "execution_count": 4,
   "metadata": {},
   "outputs": [
    {
     "data": {
      "text/html": [
       "<div>\n",
       "<style scoped>\n",
       "    .dataframe tbody tr th:only-of-type {\n",
       "        vertical-align: middle;\n",
       "    }\n",
       "\n",
       "    .dataframe tbody tr th {\n",
       "        vertical-align: top;\n",
       "    }\n",
       "\n",
       "    .dataframe thead th {\n",
       "        text-align: right;\n",
       "    }\n",
       "</style>\n",
       "<table border=\"1\" class=\"dataframe\">\n",
       "  <thead>\n",
       "    <tr style=\"text-align: right;\">\n",
       "      <th></th>\n",
       "      <th>id</th>\n",
       "      <th>lastModifiedDate</th>\n",
       "      <th>keywordStrings</th>\n",
       "      <th>keywordStringsCleanAfterFuzz</th>\n",
       "    </tr>\n",
       "  </thead>\n",
       "  <tbody>\n",
       "    <tr>\n",
       "      <th>0</th>\n",
       "      <td>59371723</td>\n",
       "      <td>2021-10-01T00:20:38.656Z</td>\n",
       "      <td>[Pele, surgery, hospital, soccer, Brazil]</td>\n",
       "      <td>[pele, surgery, hospital, soccer, brazil]</td>\n",
       "    </tr>\n",
       "    <tr>\n",
       "      <th>1</th>\n",
       "      <td>59359281</td>\n",
       "      <td>2021-10-01T00:29:33.565Z</td>\n",
       "      <td>[Nicolas Sarkozy, trial, corruption, France, P...</td>\n",
       "      <td>[nicolas sarkozy, trial, corruption, france, p...</td>\n",
       "    </tr>\n",
       "    <tr>\n",
       "      <th>2</th>\n",
       "      <td>59346777</td>\n",
       "      <td>2021-10-01T00:36:25.971Z</td>\n",
       "      <td>[La Palma, volcano, Spain]</td>\n",
       "      <td>[la palma, volcano, spain]</td>\n",
       "    </tr>\n",
       "    <tr>\n",
       "      <th>3</th>\n",
       "      <td>59372630</td>\n",
       "      <td>2021-10-01T04:02:53.880Z</td>\n",
       "      <td>[Ecuador, prison riot, calm restored, emergency]</td>\n",
       "      <td>[ecuador, prison riots, calm restored, emergency]</td>\n",
       "    </tr>\n",
       "    <tr>\n",
       "      <th>4</th>\n",
       "      <td>59372518</td>\n",
       "      <td>2021-10-01T04:52:39.739Z</td>\n",
       "      <td>[Stuttgart, fire, bus depot]</td>\n",
       "      <td>[stuttgart, fire, bus depot]</td>\n",
       "    </tr>\n",
       "    <tr>\n",
       "      <th>...</th>\n",
       "      <td>...</td>\n",
       "      <td>...</td>\n",
       "      <td>...</td>\n",
       "      <td>...</td>\n",
       "    </tr>\n",
       "    <tr>\n",
       "      <th>3194</th>\n",
       "      <td>60304782</td>\n",
       "      <td>2021-12-31T18:47:57.479Z</td>\n",
       "      <td>[Putin, New Year, Coronavirus, Navalny, Ukraine]</td>\n",
       "      <td>[putin, new year, coronavirus, navalny, ukraine]</td>\n",
       "    </tr>\n",
       "    <tr>\n",
       "      <th>3195</th>\n",
       "      <td>60299904</td>\n",
       "      <td>2021-12-31T19:06:43.423Z</td>\n",
       "      <td>[Germany, Olaf Scholz, New Year, New Year's ad...</td>\n",
       "      <td>[germany, olaf scholz, new year, new year's ad...</td>\n",
       "    </tr>\n",
       "    <tr>\n",
       "      <th>3196</th>\n",
       "      <td>60300458</td>\n",
       "      <td>2021-12-31T20:27:51.092Z</td>\n",
       "      <td>[Colorado, wildfires, Boulder County, evacuati...</td>\n",
       "      <td>[colorado, wildfires, boulder county, evacuati...</td>\n",
       "    </tr>\n",
       "    <tr>\n",
       "      <th>3197</th>\n",
       "      <td>60267980</td>\n",
       "      <td>2021-12-31T20:32:20.303Z</td>\n",
       "      <td>[RCEP, Regional Comprehensive Economic Partner...</td>\n",
       "      <td>[rcep, regional comprehensive economic partner...</td>\n",
       "    </tr>\n",
       "    <tr>\n",
       "      <th>3198</th>\n",
       "      <td>60304913</td>\n",
       "      <td>2021-12-31T20:38:11.201Z</td>\n",
       "      <td>[France, birth control, contraception, contrac...</td>\n",
       "      <td>[france, birth control, contraception, contrac...</td>\n",
       "    </tr>\n",
       "  </tbody>\n",
       "</table>\n",
       "<p>3199 rows × 4 columns</p>\n",
       "</div>"
      ],
      "text/plain": [
       "            id          lastModifiedDate  \\\n",
       "0     59371723  2021-10-01T00:20:38.656Z   \n",
       "1     59359281  2021-10-01T00:29:33.565Z   \n",
       "2     59346777  2021-10-01T00:36:25.971Z   \n",
       "3     59372630  2021-10-01T04:02:53.880Z   \n",
       "4     59372518  2021-10-01T04:52:39.739Z   \n",
       "...        ...                       ...   \n",
       "3194  60304782  2021-12-31T18:47:57.479Z   \n",
       "3195  60299904  2021-12-31T19:06:43.423Z   \n",
       "3196  60300458  2021-12-31T20:27:51.092Z   \n",
       "3197  60267980  2021-12-31T20:32:20.303Z   \n",
       "3198  60304913  2021-12-31T20:38:11.201Z   \n",
       "\n",
       "                                         keywordStrings  \\\n",
       "0             [Pele, surgery, hospital, soccer, Brazil]   \n",
       "1     [Nicolas Sarkozy, trial, corruption, France, P...   \n",
       "2                            [La Palma, volcano, Spain]   \n",
       "3      [Ecuador, prison riot, calm restored, emergency]   \n",
       "4                          [Stuttgart, fire, bus depot]   \n",
       "...                                                 ...   \n",
       "3194   [Putin, New Year, Coronavirus, Navalny, Ukraine]   \n",
       "3195  [Germany, Olaf Scholz, New Year, New Year's ad...   \n",
       "3196  [Colorado, wildfires, Boulder County, evacuati...   \n",
       "3197  [RCEP, Regional Comprehensive Economic Partner...   \n",
       "3198  [France, birth control, contraception, contrac...   \n",
       "\n",
       "                           keywordStringsCleanAfterFuzz  \n",
       "0             [pele, surgery, hospital, soccer, brazil]  \n",
       "1     [nicolas sarkozy, trial, corruption, france, p...  \n",
       "2                            [la palma, volcano, spain]  \n",
       "3     [ecuador, prison riots, calm restored, emergency]  \n",
       "4                          [stuttgart, fire, bus depot]  \n",
       "...                                                 ...  \n",
       "3194   [putin, new year, coronavirus, navalny, ukraine]  \n",
       "3195  [germany, olaf scholz, new year, new year's ad...  \n",
       "3196  [colorado, wildfires, boulder county, evacuati...  \n",
       "3197  [rcep, regional comprehensive economic partner...  \n",
       "3198  [france, birth control, contraception, contrac...  \n",
       "\n",
       "[3199 rows x 4 columns]"
      ]
     },
     "execution_count": 4,
     "metadata": {},
     "output_type": "execute_result"
    }
   ],
   "source": [
    "df_loaded"
   ]
  },
  {
   "cell_type": "code",
   "execution_count": null,
   "metadata": {},
   "outputs": [],
   "source": []
  }
 ],
 "metadata": {
  "kernelspec": {
   "display_name": "venv",
   "language": "python",
   "name": "python3"
  },
  "language_info": {
   "codemirror_mode": {
    "name": "ipython",
    "version": 3
   },
   "file_extension": ".py",
   "mimetype": "text/x-python",
   "name": "python",
   "nbconvert_exporter": "python",
   "pygments_lexer": "ipython3",
   "version": "3.7.16"
  },
  "orig_nbformat": 4
 },
 "nbformat": 4,
 "nbformat_minor": 2
}
