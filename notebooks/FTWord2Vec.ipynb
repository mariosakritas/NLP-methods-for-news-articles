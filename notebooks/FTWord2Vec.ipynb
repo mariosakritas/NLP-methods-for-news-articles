{
 "cells": [
  {
   "cell_type": "code",
   "execution_count": 1,
   "metadata": {},
   "outputs": [],
   "source": [
    "import json\n",
    "import pandas as pd\n",
    "# Opening JSON file\n",
    "f = open('/home/ferdinand_t/data/CMS_2010_to_June_2022_ENGLISH.json')\n",
    "# returns JSON object as\n",
    "# a dictionary\n",
    "data = json.load(f)\n",
    "df = pd.DataFrame.from_dict(data)"
   ]
  },
  {
   "cell_type": "code",
   "execution_count": 2,
   "metadata": {},
   "outputs": [],
   "source": [
    "from sklearn.feature_extraction.text import TfidfVectorizer\n",
    "import seaborn as sns\n",
    "import matplotlib.pyplot as plt\n",
    "from sklearn.svm import LinearSVC\n",
    "from sklearn.model_selection import train_test_split"
   ]
  },
  {
   "cell_type": "code",
   "execution_count": 3,
   "metadata": {},
   "outputs": [],
   "source": [
    "df['firstKeyword'] = df['keywords'].apply(lambda x: x[0]['name'] if len(x) != 0 else None)\n",
    "#df['secondKeyword'] = df['keywords'].apply(lambda x: x[1]['name'] if len(x) > 1 else None)\n",
    "#df['thirdKeyword'] = df['keywords'].apply(lambda x: x[2]['name'] if len(x) > 2 else None)\n",
    "#df['fourthKeyword'] = df['keywords'].apply(lambda x: x[3]['name'] if len(x) > 3 else None)\n",
    "\n",
    "df['cleanFocusCategory'] = df['thematicFocusCategory'].apply(lambda x: x['name'] if x is not None else x)\n",
    "\n",
    "#df = df[['firstKeyword', 'secondKeyword', 'thirdKeyword', 'fourthKeyword', 'thematicFocusCategory', 'cleanFocusCategory']]\n",
    "\n",
    "df = df[['firstKeyword', 'keywordStrings', 'cleanFocusCategory']]\n",
    "\n",
    "df_clean = df.copy()\n",
    "df_clean = df_clean.dropna()\n",
    "df_clean['cleanKeywordStrings'] = [' '.join(map(str, l)) for l in df_clean['keywordStrings']]"
   ]
  },
  {
   "cell_type": "code",
   "execution_count": 6,
   "metadata": {},
   "outputs": [],
   "source": [
    "df_clean['cleanFocusCategory']=df_clean['cleanFocusCategory'].astype('category')\n",
    "label_mapping = df_clean['cleanFocusCategory'].cat.categories\n",
    "df_clean['cleanFocusCategory'] = df_clean['cleanFocusCategory'].cat.codes\n",
    "X = df_clean['cleanKeywordStrings']\n",
    "y = df_clean['cleanFocusCategory']"
   ]
  },
  {
   "cell_type": "code",
   "execution_count": 7,
   "metadata": {},
   "outputs": [],
   "source": [
    "test_size = 0.33\n",
    "random_state = 0\n",
    "\n",
    "X_train, X_test, y_train, y_test = train_test_split(\n",
    "    X, y, test_size=test_size, random_state=random_state, stratify=y)"
   ]
  },
  {
   "cell_type": "code",
   "execution_count": 32,
   "metadata": {},
   "outputs": [
    {
     "ename": "TypeError",
     "evalue": "Can't instantiate abstract class Pipeline with abstract methods _forward, _sanitize_parameters, postprocess, preprocess",
     "output_type": "error",
     "traceback": [
      "\u001b[0;31m---------------------------------------------------------------------------\u001b[0m",
      "\u001b[0;31mTypeError\u001b[0m                                 Traceback (most recent call last)",
      "\u001b[0;32m/tmp/ipykernel_6857/2312517617.py\u001b[0m in \u001b[0;36m<module>\u001b[0;34m\u001b[0m\n\u001b[1;32m      6\u001b[0m \u001b[0mgensim_word2vec_tr\u001b[0m \u001b[0;34m=\u001b[0m \u001b[0mW2VTransformer\u001b[0m\u001b[0;34m(\u001b[0m\u001b[0;34m)\u001b[0m\u001b[0;34m\u001b[0m\u001b[0;34m\u001b[0m\u001b[0m\n\u001b[1;32m      7\u001b[0m \u001b[0mxgb\u001b[0m \u001b[0;34m=\u001b[0m \u001b[0mXGBClassifier\u001b[0m\u001b[0;34m(\u001b[0m\u001b[0;34m)\u001b[0m\u001b[0;34m\u001b[0m\u001b[0;34m\u001b[0m\u001b[0m\n\u001b[0;32m----> 8\u001b[0;31m \u001b[0mw2v_xgb\u001b[0m \u001b[0;34m=\u001b[0m \u001b[0mPipeline\u001b[0m\u001b[0;34m(\u001b[0m\u001b[0;34m[\u001b[0m\u001b[0;34m(\u001b[0m\u001b[0;34m'w2v'\u001b[0m\u001b[0;34m,\u001b[0m \u001b[0mW2VTransformer\u001b[0m\u001b[0;34m(\u001b[0m\u001b[0;34m)\u001b[0m\u001b[0;34m)\u001b[0m\u001b[0;34m,\u001b[0m \u001b[0;34m(\u001b[0m\u001b[0;34m'xgb'\u001b[0m\u001b[0;34m,\u001b[0m \u001b[0mXGBClassifier\u001b[0m\u001b[0;34m(\u001b[0m\u001b[0;34m)\u001b[0m\u001b[0;34m)\u001b[0m\u001b[0;34m]\u001b[0m\u001b[0;34m)\u001b[0m\u001b[0;34m\u001b[0m\u001b[0;34m\u001b[0m\u001b[0m\n\u001b[0m\u001b[1;32m      9\u001b[0m \u001b[0mw2v_xgb\u001b[0m\u001b[0;34m\u001b[0m\u001b[0;34m\u001b[0m\u001b[0m\n",
      "\u001b[0;31mTypeError\u001b[0m: Can't instantiate abstract class Pipeline with abstract methods _forward, _sanitize_parameters, postprocess, preprocess"
     ]
    }
   ],
   "source": [
    "from xgboost import XGBClassifier\n",
    "from sklearn.pipeline import Pipeline\n",
    "from transformers import *\n",
    "from gensim.sklearn_api import W2VTransformer\n",
    "\n",
    "gensim_word2vec_tr = W2VTransformer()\n",
    "xgb = XGBClassifier()\n",
    "w2v_xgb = Pipeline([('w2v', W2VTransformer()), ('xgb', XGBClassifier())])\n",
    "w2v_xgb"
   ]
  },
  {
   "cell_type": "code",
   "execution_count": null,
   "metadata": {},
   "outputs": [],
   "source": [
    "import time\n",
    "\n",
    "start = time.time()\n",
    "w2v_xgb.fit(X_train, y_train)\n",
    "elapse = time.time() - start\n",
    "print('elapsed: ', elapse)\n",
    "w2v_xgb"
   ]
  },
  {
   "cell_type": "code",
   "execution_count": null,
   "metadata": {},
   "outputs": [],
   "source": [
    "from sklearn.metrics import accuracy_score, confusion_matrix\n",
    "\n",
    "y_train_pred = w2v_xgb.predict(X_train)\n",
    "print('Training set accuracy %s' % accuracy_score(y_train, y_train_pred))\n",
    "confusion_matrix(y_train, y_train_pred)"
   ]
  },
  {
   "cell_type": "code",
   "execution_count": null,
   "metadata": {},
   "outputs": [],
   "source": [
    "y_test_pred = w2v_xgb.predict(X_test)\n",
    "print('Test set accuracy %s' % accuracy_score(y_test, y_test_pred))\n",
    "confusion_matrix(y_test, y_test_pred)"
   ]
  },
  {
   "cell_type": "code",
   "execution_count": null,
   "metadata": {},
   "outputs": [],
   "source": [
    "vocab_size = len(w2v_xgb.named_steps['w2v'].model_.wv.index2word)\n",
    "print('vocabulary size:', vocab_size)\n",
    "w2v_xgb.named_steps['w2v'].model_.wv.most_similar(positive=['stock'])"
   ]
  },
  {
   "cell_type": "code",
   "execution_count": null,
   "metadata": {},
   "outputs": [],
   "source": [
    "# the keras model/graph would look something like this:\n",
    "from keras import layers, optimizers, Model\n",
    "\n",
    "# adjustable parameter that control the dimension of the word vectors\n",
    "embed_size = 100\n",
    "\n",
    "input_center = layers.Input((1,))\n",
    "input_context = layers.Input((1,))\n",
    "\n",
    "embedding = layers.Embedding(vocab_size, embed_size, input_length=1, name='embed_in')\n",
    "center = embedding(input_center)  # shape [seq_len, # features (1), embed_size]\n",
    "context = embedding(input_context)\n",
    "\n",
    "center = layers.Reshape((embed_size,))(center)\n",
    "context = layers.Reshape((embed_size,))(context)\n",
    "\n",
    "dot_product = layers.dot([center, context], axes=1)\n",
    "output = layers.Dense(46, activation='sigmoid')(dot_product)\n",
    "model = Model(inputs=[input_center, input_context], outputs=output)\n",
    "model.compile(loss='categorical_crossentropy', optimizer=optimizers.RMSprop(lr=0.01))\n",
    "model.summary()"
   ]
  },
  {
   "cell_type": "code",
   "execution_count": null,
   "metadata": {},
   "outputs": [
    {
     "ename": "ImportError",
     "evalue": "cannot import name 'KerasWord2VecVectorizer' from 'transformers' (/home/ferdinand_t/venv/lib64/python3.7/site-packages/transformers/__init__.py)",
     "output_type": "error",
     "traceback": [
      "\u001b[0;31m---------------------------------------------------------------------------\u001b[0m",
      "\u001b[0;31mImportError\u001b[0m                               Traceback (most recent call last)",
      "\u001b[0;32m/tmp/ipykernel_6857/2387072008.py\u001b[0m in \u001b[0;36m<module>\u001b[0;34m\u001b[0m\n\u001b[0;32m----> 1\u001b[0;31m \u001b[0;32mfrom\u001b[0m \u001b[0mtransformers\u001b[0m \u001b[0;32mimport\u001b[0m \u001b[0mKerasWord2VecVectorizer\u001b[0m\u001b[0;34m\u001b[0m\u001b[0;34m\u001b[0m\u001b[0m\n\u001b[0m\u001b[1;32m      2\u001b[0m \u001b[0;34m\u001b[0m\u001b[0m\n\u001b[1;32m      3\u001b[0m keras_word2vec_tr = KerasWord2VecVectorizer(embed_size=50, min_count=3, epochs=5000,\n\u001b[1;32m      4\u001b[0m                                             negative_samples=2)\n\u001b[1;32m      5\u001b[0m \u001b[0mkeras_word2vec_tr\u001b[0m\u001b[0;34m\u001b[0m\u001b[0;34m\u001b[0m\u001b[0m\n",
      "\u001b[0;31mImportError\u001b[0m: cannot import name 'KerasWord2VecVectorizer' from 'transformers' (/home/ferdinand_t/venv/lib64/python3.7/site-packages/transformers/__init__.py)"
     ]
    }
   ],
   "source": [
    "from transformers import KerasWord2VecVectorizer\n",
    "\n",
    "keras_word2vec_tr = KerasWord2VecVectorizer(embed_size=50, min_count=3, epochs=5000,\n",
    "                                            negative_samples=2)\n",
    "keras_word2vec_tr"
   ]
  },
  {
   "cell_type": "code",
   "execution_count": null,
   "metadata": {},
   "outputs": [],
   "source": [
    "keras_w2v_xgb = Pipeline([\n",
    "    ('w2v', keras_word2vec_tr), \n",
    "    ('xgb', xgb)\n",
    "])\n",
    "\n",
    "keras_w2v_xgb.fit(X_train, y_train)"
   ]
  },
  {
   "cell_type": "code",
   "execution_count": null,
   "metadata": {},
   "outputs": [],
   "source": [
    "y_train_pred = keras_w2v_xgb.predict(X_train)\n",
    "print('Training set accuracy %s' % accuracy_score(y_train, y_train_pred))\n",
    "confusion_matrix(y_train, y_train_pred)"
   ]
  },
  {
   "cell_type": "code",
   "execution_count": null,
   "metadata": {},
   "outputs": [],
   "source": [
    "y_test_pred = keras_w2v_xgb.predict(X_test)\n",
    "print('Test set accuracy %s' % accuracy_score(y_test, y_test_pred))\n",
    "confusion_matrix(y_test, y_test_pred)"
   ]
  },
  {
   "cell_type": "code",
   "execution_count": null,
   "metadata": {},
   "outputs": [],
   "source": [
    "print('vocabulary size:', keras_w2v_xgb.named_steps['w2v'].vocab_size_)\n",
    "keras_w2v_xgb.named_steps['w2v'].most_similar(positive=['stock'])"
   ]
  },
  {
   "cell_type": "code",
   "execution_count": null,
   "metadata": {},
   "outputs": [
    {
     "ename": "TypeError",
     "evalue": "Can't instantiate abstract class Pipeline with abstract methods _forward, _sanitize_parameters, postprocess, preprocess",
     "output_type": "error",
     "traceback": [
      "\u001b[0;31m---------------------------------------------------------------------------\u001b[0m",
      "\u001b[0;31mTypeError\u001b[0m                                 Traceback (most recent call last)",
      "\u001b[0;32m/tmp/ipykernel_6857/3986514033.py\u001b[0m in \u001b[0;36m<module>\u001b[0;34m\u001b[0m\n\u001b[1;32m      7\u001b[0m tfidf_logistic = Pipeline([\n\u001b[1;32m      8\u001b[0m     \u001b[0;34m(\u001b[0m\u001b[0;34m'tfidf'\u001b[0m\u001b[0;34m,\u001b[0m \u001b[0mtfidf\u001b[0m\u001b[0;34m)\u001b[0m\u001b[0;34m,\u001b[0m\u001b[0;34m\u001b[0m\u001b[0;34m\u001b[0m\u001b[0m\n\u001b[0;32m----> 9\u001b[0;31m     \u001b[0;34m(\u001b[0m\u001b[0;34m'logistic'\u001b[0m\u001b[0;34m,\u001b[0m \u001b[0mlogistic\u001b[0m\u001b[0;34m)\u001b[0m\u001b[0;34m\u001b[0m\u001b[0;34m\u001b[0m\u001b[0m\n\u001b[0m\u001b[1;32m     10\u001b[0m ])\n",
      "\u001b[0;31mTypeError\u001b[0m: Can't instantiate abstract class Pipeline with abstract methods _forward, _sanitize_parameters, postprocess, preprocess"
     ]
    }
   ],
   "source": [
    "from sklearn.linear_model import LogisticRegression\n",
    "from sklearn.feature_extraction.text import TfidfVectorizer\n",
    " \n",
    "tfidf = TfidfVectorizer(stop_words='english', analyzer=lambda x: x)\n",
    "logistic = LogisticRegression(solver='liblinear', multi_class='auto')\n",
    "\n",
    "tfidf_logistic = Pipeline([\n",
    "    ('tfidf', tfidf), \n",
    "    ('logistic', logistic)\n",
    "])"
   ]
  },
  {
   "cell_type": "code",
   "execution_count": null,
   "metadata": {},
   "outputs": [],
   "source": [
    "from scipy.stats import randint, uniform\n",
    "\n",
    "w2v_params = {'w2v__size': [100, 150, 200]}\n",
    "tfidf_params = {'tfidf__ngram_range': [(1, 1), (1, 2)]}\n",
    "logistic_params = {'logistic__C': [0.5, 1.0, 1.5]}\n",
    "xgb_params = {'xgb__max_depth': randint(low=3, high=12),\n",
    "              'xgb__colsample_bytree': uniform(loc=0.8, scale=0.2),\n",
    "              'xgb__subsample': uniform(loc=0.8, scale=0.2)}\n",
    "\n",
    "tfidf_logistic_params = {**tfidf_params, **logistic_params}\n",
    "w2v_xgb_params = {**w2v_params, **xgb_params}"
   ]
  },
  {
   "cell_type": "code",
   "execution_count": null,
   "metadata": {},
   "outputs": [],
   "source": [
    "from sklearn.model_selection import RandomizedSearchCV\n",
    "\n",
    "cv = 3\n",
    "n_iter = 3\n",
    "random_state = 1234\n",
    "scoring = 'accuracy'\n",
    "\n",
    "all_models = [\n",
    "    ('w2v_xgb', w2v_xgb, w2v_xgb_params),\n",
    "    ('tfidf_logistic', tfidf_logistic, tfidf_logistic_params)\n",
    "]\n",
    "\n",
    "all_models_info = []\n",
    "for name, model, params in all_models:\n",
    "    print('training:', name)\n",
    "    model_tuned = RandomizedSearchCV(\n",
    "        estimator=model,\n",
    "        param_distributions=params,\n",
    "        cv=cv,\n",
    "        n_iter=n_iter,\n",
    "        n_jobs=-1,\n",
    "        verbose=1,\n",
    "        scoring=scoring,\n",
    "        random_state=random_state,\n",
    "        return_train_score=False\n",
    "    ).fit(X_train, y_train)\n",
    "    \n",
    "    y_test_pred = model_tuned.predict(X_test)\n",
    "    test_score = accuracy_score(y_test, y_test_pred)\n",
    "    info = name, model_tuned.best_score_, test_score, model_tuned\n",
    "    all_models_info.append(info)\n",
    "\n",
    "columns = ['model_name', 'train_score', 'test_score', 'estimator']\n",
    "results = pd.DataFrame(all_models_info, columns=columns)\n",
    "results = (results\n",
    "           .sort_values('test_score', ascending=False)\n",
    "           .reset_index(drop=True))\n",
    "results"
   ]
  },
  {
   "cell_type": "code",
   "execution_count": null,
   "metadata": {},
   "outputs": [],
   "source": []
  }
 ],
 "metadata": {
  "kernelspec": {
   "display_name": "venv",
   "language": "python",
   "name": "python3"
  },
  "language_info": {
   "codemirror_mode": {
    "name": "ipython",
    "version": 3
   },
   "file_extension": ".py",
   "mimetype": "text/x-python",
   "name": "python",
   "nbconvert_exporter": "python",
   "pygments_lexer": "ipython3",
   "version": "3.7.16"
  },
  "orig_nbformat": 4
 },
 "nbformat": 4,
 "nbformat_minor": 2
}
