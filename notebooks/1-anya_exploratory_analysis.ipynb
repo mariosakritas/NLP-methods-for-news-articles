{
 "cells": [
  {
   "attachments": {},
   "cell_type": "markdown",
   "metadata": {},
   "source": [
    "# Team DatenWelle\n",
    "\n",
    "## Exploratory data analysis\n",
    "\n",
    "This notebook loads the data from JSON format and performs some initial clean-up and visualisation tasks"
   ]
  },
  {
   "cell_type": "code",
   "execution_count": 1,
   "metadata": {},
   "outputs": [],
   "source": [
    "#!git pull\n",
    "#!git status\n",
    "#!git add 1-anya_exploratory_analysis.ipynb\n",
    "#!git push"
   ]
  },
  {
   "cell_type": "code",
   "execution_count": 2,
   "metadata": {},
   "outputs": [],
   "source": [
    "import json\n",
    "import pandas as pd\n",
    "import seaborn as sns\n",
    "import matplotlib.pyplot as plt"
   ]
  },
  {
   "cell_type": "code",
   "execution_count": 3,
   "metadata": {},
   "outputs": [
    {
     "name": "stdout",
     "output_type": "stream",
     "text": [
      "         id                                               name  \\\n",
      "0  16489913                 UN imposes sanctions on DRC rebels   \n",
      "1  16489912            Catholic Church abuse hotline goes cold   \n",
      "2  16489903  \"Fiscal cliff\" tax hikes go into effect in the US   \n",
      "3  16490025  Kim seeks reconciliation with South, economic ...   \n",
      "4  16490029  Senate-approved fiscal deal faces House consid...   \n",
      "\n",
      "                    shortTitle  \\\n",
      "0      UN sanctions DRC rebels   \n",
      "1                 Disconnected   \n",
      "2  US goes over \"fiscal cliff\"   \n",
      "3    A rare New Year's address   \n",
      "4   US House mulls fiscal deal   \n",
      "\n",
      "                                                text  \\\n",
      "0  <p>\\n\\tThe UN Security Council has sanctioned ...   \n",
      "1  <p>\\n\\tFor two and a half years, the counselin...   \n",
      "2  <p>\\n\\tAs the clock struck midnight in Washing...   \n",
      "3  <p>\\n\\tKim Jong Un, who came to office just ov...   \n",
      "4  <p>\\n\\tLess than two hours after the US had of...   \n",
      "\n",
      "                                              teaser  \\\n",
      "0  A UN Security Council sanctions committee has ...   \n",
      "1  The Catholic Church in Germany has closed its ...   \n",
      "2  A series of tax hikes and spending cuts have g...   \n",
      "3  North Korea's leader has used a rare New Year’...   \n",
      "4  The US Senate has approved a bill to stop a se...   \n",
      "\n",
      "                                         shortTeaser kicker regions  \\\n",
      "0                                                      None      []   \n",
      "1  The Catholic Church has shut down a hotline fo...   None      []   \n",
      "2                                                      None      []   \n",
      "3                                                      None      []   \n",
      "4                                                      None      []   \n",
      "\n",
      "                                            keywords  \\\n",
      "0  [{'name': 'DRC'}, {'name': 'M23'}, {'name': 'F...   \n",
      "1  [{'name': 'telephone'}, {'name': 'hotline'}, {...   \n",
      "2  [{'name': 'fiscal cliff'}, {'name': 'Obama'}, ...   \n",
      "3  [{'name': 'Kim Jong Un'}, {'name': 'Kim Jong I...   \n",
      "4  [{'name': 'fiscal cliff'}, {'name': 'US Senate...   \n",
      "\n",
      "                                      keywordStrings  ...  \\\n",
      "0  [DRC, M23, FDLR, Rwanda, Susan Rice, UN securi...  ...   \n",
      "1  [telephone, hotline, helpline, Catholic Church...  ...   \n",
      "2  [fiscal cliff, Obama, congress, spending cuts,...  ...   \n",
      "3  [Kim Jong Un, Kim Jong Il, Kim Il Sung, lee my...  ...   \n",
      "4  [fiscal cliff, US Senate, Senate vote, fiscal ...  ...   \n",
      "\n",
      "                                        contentLinks  \\\n",
      "0  [{'name': None}, {'name': 'Goma residents fear...   \n",
      "1  [{'name': None}, {'name': None}, {'name': None...   \n",
      "2  [{'name': None}, {'name': '2012 defined by leg...   \n",
      "3  [{'name': None}, {'name': 'South Korea condemn...   \n",
      "4  [{'name': None}, {'name': 'Soft landing as US ...   \n",
      "\n",
      "                                            articles isOpinion  \\\n",
      "0  [{'name': 'Goma residents fear renewed conflic...     False   \n",
      "1                                                 []     False   \n",
      "2  [{'name': '2012 defined by legislative gridloc...     False   \n",
      "3  [{'name': 'South Korea condemns North Korea's ...     False   \n",
      "4       [{'name': 'US reaches 'fiscal cliff' deal'}]     False   \n",
      "\n",
      "  geographicLocations                                contentAssociations  \\\n",
      "0                  []  [{'id': 30420921}, {'id': 30420923}, {'id': 30...   \n",
      "1                  []  [{'id': 30420944}, {'id': 30420945}, {'id': 30...   \n",
      "2                  []  [{'id': 30420865}, {'id': 30420867}, {'id': 30...   \n",
      "3                  []  [{'id': 30421237}, {'id': 30421239}, {'id': 30...   \n",
      "4                  []  [{'id': 30421071}, {'id': 30421073}, {'id': 30...   \n",
      "\n",
      "                                mainContentImageLink  \\\n",
      "0  {'description': 'Kongo M23 Rebellen ziehen aus...   \n",
      "1                                {'description': ''}   \n",
      "2                                {'description': ''}   \n",
      "3                                {'description': ''}   \n",
      "4                                {'description': ''}   \n",
      "\n",
      "                                              images externalLinks topStory  \\\n",
      "0  [{'name': 'Kongo M23 Rebellen ziehen aus beset...            []    False   \n",
      "1  [{'name': 'Symbolbild Missbrauch Opfer'}, {'na...            []    False   \n",
      "2  [{'name': 'Barack Obama PK Silvester Haushalts...            []    False   \n",
      "3  [{'name': 'Nordkorea Neujahrsansprache von Kim...            []    False   \n",
      "4  [{'name': 'USA Senat Fiskalklippe Verhandlunge...            []    False   \n",
      "\n",
      "  language  \n",
      "0     None  \n",
      "1     None  \n",
      "2     None  \n",
      "3     None  \n",
      "4     None  \n",
      "\n",
      "[5 rows x 28 columns]\n"
     ]
    }
   ],
   "source": [
    "# Opening JSON file\n",
    "f = open('../data/raw/CMS_2010_to_June_2022_ENGLISH.json')\n",
    "  \n",
    "# returns JSON object as \n",
    "# a dictionary\n",
    "data = json.load(f)\n",
    "\n",
    "df = pd.DataFrame.from_dict(data)\n",
    "\n",
    "print(df.head())"
   ]
  },
  {
   "cell_type": "code",
   "execution_count": 4,
   "metadata": {},
   "outputs": [
    {
     "name": "stdout",
     "output_type": "stream",
     "text": [
      "<class 'pandas.core.frame.DataFrame'>\n",
      "Index: 175659 entries, 0 to 175658\n",
      "Data columns (total 28 columns):\n",
      " #   Column                 Non-Null Count   Dtype \n",
      "---  ------                 --------------   ----- \n",
      " 0   id                     175659 non-null  int64 \n",
      " 1   name                   175659 non-null  object\n",
      " 2   shortTitle             175659 non-null  object\n",
      " 3   text                   175659 non-null  object\n",
      " 4   teaser                 175659 non-null  object\n",
      " 5   shortTeaser            175659 non-null  object\n",
      " 6   kicker                 70090 non-null   object\n",
      " 7   regions                175659 non-null  object\n",
      " 8   keywords               175659 non-null  object\n",
      " 9   keywordStrings         175659 non-null  object\n",
      " 10  thematicFocusCategory  79913 non-null   object\n",
      " 11  navigations            175659 non-null  object\n",
      " 12  categories             175659 non-null  object\n",
      " 13  departments            175659 non-null  object\n",
      " 14  firstPublicationDate   42070 non-null   object\n",
      " 15  lastModifiedDate       175659 non-null  object\n",
      " 16  contentDate            175659 non-null  object\n",
      " 17  relatedAutoTopics      175659 non-null  object\n",
      " 18  contentLinks           175659 non-null  object\n",
      " 19  articles               175659 non-null  object\n",
      " 20  isOpinion              175659 non-null  bool  \n",
      " 21  geographicLocations    150365 non-null  object\n",
      " 22  contentAssociations    175659 non-null  object\n",
      " 23  mainContentImageLink   170364 non-null  object\n",
      " 24  images                 175659 non-null  object\n",
      " 25  externalLinks          175659 non-null  object\n",
      " 26  topStory               175659 non-null  bool  \n",
      " 27  language               25294 non-null   object\n",
      "dtypes: bool(2), int64(1), object(25)\n",
      "memory usage: 36.5+ MB\n"
     ]
    }
   ],
   "source": [
    "df_copy= df.copy()\n",
    "#general info on the data\n",
    "df.info()"
   ]
  },
  {
   "cell_type": "code",
   "execution_count": 5,
   "metadata": {},
   "outputs": [
    {
     "data": {
      "text/plain": [
       "id                            0\n",
       "name                          0\n",
       "shortTitle                    0\n",
       "text                          0\n",
       "teaser                        0\n",
       "shortTeaser                   0\n",
       "kicker                   105569\n",
       "regions                       0\n",
       "keywords                      0\n",
       "keywordStrings                0\n",
       "thematicFocusCategory     95746\n",
       "navigations                   0\n",
       "categories                    0\n",
       "departments                   0\n",
       "firstPublicationDate     133589\n",
       "lastModifiedDate              0\n",
       "contentDate                   0\n",
       "relatedAutoTopics             0\n",
       "contentLinks                  0\n",
       "articles                      0\n",
       "isOpinion                     0\n",
       "geographicLocations       25294\n",
       "contentAssociations           0\n",
       "mainContentImageLink       5295\n",
       "images                        0\n",
       "externalLinks                 0\n",
       "topStory                      0\n",
       "language                 150365\n",
       "dtype: int64"
      ]
     },
     "execution_count": 5,
     "metadata": {},
     "output_type": "execute_result"
    }
   ],
   "source": [
    "df.isnull().sum()\n"
   ]
  },
  {
   "cell_type": "code",
   "execution_count": 6,
   "metadata": {},
   "outputs": [],
   "source": [
    "#sns.countplot(y=df.isnull().sum(),data=df)"
   ]
  },
  {
   "cell_type": "code",
   "execution_count": 7,
   "metadata": {},
   "outputs": [
    {
     "data": {
      "text/plain": [
       "0                                                        []\n",
       "1                                                        []\n",
       "2                                                        []\n",
       "3                                                        []\n",
       "4                                                        []\n",
       "                                ...                        \n",
       "175654    [{'name': 'Turkey'}, {'name': 'Sweden'}, {'nam...\n",
       "175655                                 [{'name': 'Turkey'}]\n",
       "175656                     [{'name': 'Russian Federation'}]\n",
       "175657                                 [{'name': 'France'}]\n",
       "175658                                [{'name': 'Ecuador'}]\n",
       "Name: regions, Length: 175659, dtype: object"
      ]
     },
     "execution_count": 7,
     "metadata": {},
     "output_type": "execute_result"
    }
   ],
   "source": [
    "df['regions']"
   ]
  },
  {
   "cell_type": "code",
   "execution_count": 8,
   "metadata": {},
   "outputs": [],
   "source": [
    "cd=df['contentDate'].tail()"
   ]
  },
  {
   "cell_type": "code",
   "execution_count": 9,
   "metadata": {},
   "outputs": [
    {
     "data": {
      "text/plain": [
       "175654    2022-06-30T19:00:09.518Z\n",
       "175655    2022-06-30T19:23:57.846Z\n",
       "175656    2022-06-30T19:53:57.730Z\n",
       "175657    2022-06-30T19:54:24.110Z\n",
       "175658    2022-06-30T19:56:58.370Z\n",
       "Name: firstPublicationDate, dtype: object"
      ]
     },
     "execution_count": 9,
     "metadata": {},
     "output_type": "execute_result"
    }
   ],
   "source": [
    "fp=df['firstPublicationDate'].tail()\n",
    "fp"
   ]
  },
  {
   "cell_type": "code",
   "execution_count": 10,
   "metadata": {},
   "outputs": [
    {
     "data": {
      "text/plain": [
       "([0, 1, 2, 3, 4],\n",
       " [Text(0, 0, '2022-06-30T19:00:09.518Z'),\n",
       "  Text(0, 1, '2022-06-30T19:23:57.846Z'),\n",
       "  Text(0, 2, '2022-06-30T19:53:57.730Z'),\n",
       "  Text(0, 3, '2022-06-30T19:54:24.110Z'),\n",
       "  Text(0, 4, '2022-06-30T19:56:58.370Z')])"
      ]
     },
     "execution_count": 10,
     "metadata": {},
     "output_type": "execute_result"
    },
    {
     "data": {
      "image/png": "[encoded data removed]",
      "text/plain": [
       "<Figure size 500x500 with 1 Axes>"
      ]
     },
     "metadata": {},
     "output_type": "display_data"
    }
   ],
   "source": [
    "sns.relplot(data=df, x=cd,y=fp)\n",
    "plt.xticks(fontsize=6, rotation=90)\n",
    "plt.yticks(fontsize=6)"
   ]
  },
  {
   "attachments": {},
   "cell_type": "markdown",
   "metadata": {},
   "source": [
    "## exploring regions (c)Magda"
   ]
  },
  {
   "cell_type": "code",
   "execution_count": 11,
   "metadata": {},
   "outputs": [
    {
     "data": {
      "image/png": "[encoded data removed]",
      "text/plain": [
       "<Figure size 300x200 with 1 Axes>"
      ]
     },
     "metadata": {},
     "output_type": "display_data"
    }
   ],
   "source": [
    "# Keep rrows where regions is not empty\n",
    "df_regions_notempty = df[df['regions'].apply(lambda x: len(x)) > 0]\n",
    "\n",
    "# Keep rows where there is only one region\n",
    "df_regions_n1 = df[df['regions'].apply(lambda x: len(x)) == 1]\n",
    "\n",
    "# Plot numbers \n",
    "fig = plt.figure(figsize=(3,2))\n",
    "ax = fig.add_axes([0,0,1,1])\n",
    "x = ['empty', 'not empty', '1 region']\n",
    "y = [len(df)-len(df_regions_notempty),len(df_regions_notempty), len(df_regions_n1)]\n",
    "ax.bar(x,y)\n",
    "plt.show()"
   ]
  },
  {
   "attachments": {},
   "cell_type": "markdown",
   "metadata": {},
   "source": [
    "## Exploring Focus Categories column"
   ]
  },
  {
   "cell_type": "code",
   "execution_count": 12,
   "metadata": {},
   "outputs": [
    {
     "data": {
      "text/plain": [
       "array([None, 'History', 'Business', 'Conflicts', 'Politics', 'Culture',\n",
       "       'Society', 'Education', 'Digital World', 'Sports', 'Crime',\n",
       "       'Lifestyle', 'Religion', 'Human Rights', 'Science', 'Music',\n",
       "       'Law and Justice', 'Terrorism', 'Nature and Environment', 'Film',\n",
       "       'Travel', 'Media', 'Technology', 'Soccer', 'Learning German',\n",
       "       'Catastrophe', 'Cars and Transportation', 'Health', 'Literature',\n",
       "       'Arts', 'Architecture', 'Dance', 'Design', 'Theater', 'Migration',\n",
       "       'Freedom of Speech', 'Trade', 'Rule of Law', 'Press Freedom',\n",
       "       'Offbeat', 'Equality', 'Climate', 'Corruption', 'Diversity',\n",
       "       'Innovation', 'Globalization', 'Food Security'], dtype=object)"
      ]
     },
     "execution_count": 12,
     "metadata": {},
     "output_type": "execute_result"
    }
   ],
   "source": [
    "\n",
    "#df['thematicFocusCategory'].astype(str).unique()\n",
    "#Exporting dictionary into the array of 'clean' focus categories\n",
    "focus_clean = df['thematicFocusCategory'].apply(lambda x: x['name'] if x is not None else x)\n",
    "focus_clean.unique()"
   ]
  },
  {
   "cell_type": "code",
   "execution_count": 13,
   "metadata": {},
   "outputs": [
    {
     "data": {
      "text/plain": [
       "Politics                   24923\n",
       "Sports                      6546\n",
       "Business                    6295\n",
       "Culture                     5699\n",
       "Society                     4809\n",
       "Conflicts                   4568\n",
       "Nature and Environment      4260\n",
       "Crime                       3548\n",
       "Health                      2781\n",
       "Law and Justice             1783\n",
       "Catastrophe                 1740\n",
       "Media                       1740\n",
       "Science                     1499\n",
       "Travel                      1416\n",
       "Human Rights                1254\n",
       "Music                        846\n",
       "Terrorism                    829\n",
       "History                      659\n",
       "Religion                     619\n",
       "Technology                   515\n",
       "Film                         414\n",
       "Soccer                       405\n",
       "Education                    384\n",
       "Cars and Transportation      352\n",
       "Lifestyle                    335\n",
       "Arts                         321\n",
       "Literature                   244\n",
       "Migration                    223\n",
       "Press Freedom                219\n",
       "Digital World                119\n",
       "Rule of Law                  109\n",
       "Learning German               75\n",
       "Climate                       64\n",
       "Trade                         63\n",
       "Freedom of Speech             55\n",
       "Equality                      53\n",
       "Offbeat                       38\n",
       "Architecture                  36\n",
       "Food Security                 27\n",
       "Design                        10\n",
       "Globalization                  9\n",
       "Dance                          7\n",
       "Theater                        6\n",
       "Corruption                     6\n",
       "Diversity                      5\n",
       "Innovation                     5\n",
       "Name: thematicFocusCategory, dtype: int64"
      ]
     },
     "execution_count": 13,
     "metadata": {},
     "output_type": "execute_result"
    }
   ],
   "source": [
    "# Amount of articles per FocusCategory\n",
    "focus_clean.value_counts()"
   ]
  },
  {
   "cell_type": "code",
   "execution_count": 14,
   "metadata": {},
   "outputs": [
    {
     "data": {
      "text/plain": [
       "(array([ 0,  1,  2,  3,  4,  5,  6,  7,  8,  9, 10, 11, 12, 13, 14, 15, 16,\n",
       "        17, 18, 19, 20, 21, 22, 23, 24, 25, 26, 27, 28, 29, 30, 31, 32, 33,\n",
       "        34, 35, 36, 37, 38, 39, 40, 41, 42, 43, 44, 45]),\n",
       " [Text(0, 0, 'History'),\n",
       "  Text(0, 1, 'Business'),\n",
       "  Text(0, 2, 'Conflicts'),\n",
       "  Text(0, 3, 'Politics'),\n",
       "  Text(0, 4, 'Culture'),\n",
       "  Text(0, 5, 'Society'),\n",
       "  Text(0, 6, 'Education'),\n",
       "  Text(0, 7, 'Digital World'),\n",
       "  Text(0, 8, 'Sports'),\n",
       "  Text(0, 9, 'Crime'),\n",
       "  Text(0, 10, 'Lifestyle'),\n",
       "  Text(0, 11, 'Religion'),\n",
       "  Text(0, 12, 'Human Rights'),\n",
       "  Text(0, 13, 'Science'),\n",
       "  Text(0, 14, 'Music'),\n",
       "  Text(0, 15, 'Law and Justice'),\n",
       "  Text(0, 16, 'Terrorism'),\n",
       "  Text(0, 17, 'Nature and Environment'),\n",
       "  Text(0, 18, 'Film'),\n",
       "  Text(0, 19, 'Travel'),\n",
       "  Text(0, 20, 'Media'),\n",
       "  Text(0, 21, 'Technology'),\n",
       "  Text(0, 22, 'Soccer'),\n",
       "  Text(0, 23, 'Learning German'),\n",
       "  Text(0, 24, 'Catastrophe'),\n",
       "  Text(0, 25, 'Cars and Transportation'),\n",
       "  Text(0, 26, 'Health'),\n",
       "  Text(0, 27, 'Literature'),\n",
       "  Text(0, 28, 'Arts'),\n",
       "  Text(0, 29, 'Architecture'),\n",
       "  Text(0, 30, 'Dance'),\n",
       "  Text(0, 31, 'Design'),\n",
       "  Text(0, 32, 'Theater'),\n",
       "  Text(0, 33, 'Migration'),\n",
       "  Text(0, 34, 'Freedom of Speech'),\n",
       "  Text(0, 35, 'Trade'),\n",
       "  Text(0, 36, 'Rule of Law'),\n",
       "  Text(0, 37, 'Press Freedom'),\n",
       "  Text(0, 38, 'Offbeat'),\n",
       "  Text(0, 39, 'Equality'),\n",
       "  Text(0, 40, 'Climate'),\n",
       "  Text(0, 41, 'Corruption'),\n",
       "  Text(0, 42, 'Diversity'),\n",
       "  Text(0, 43, 'Innovation'),\n",
       "  Text(0, 44, 'Globalization'),\n",
       "  Text(0, 45, 'Food Security')])"
      ]
     },
     "execution_count": 14,
     "metadata": {},
     "output_type": "execute_result"
    },
    {
     "data": {
      "image/png": "[encoded data removed]",
      "text/plain": [
       "<Figure size 640x480 with 1 Axes>"
      ]
     },
     "metadata": {},
     "output_type": "display_data"
    }
   ],
   "source": [
    "#Plotting amount of TopStories across FocusCategories\n",
    "sns.countplot(y=focus_clean, hue='topStory', data=df)\n",
    "plt.xscale('log')\n",
    "plt.yticks(fontsize=6)#, rotation=90)"
   ]
  },
  {
   "attachments": {},
   "cell_type": "markdown",
   "metadata": {},
   "source": [
    "### Keywords exploration"
   ]
  },
  {
   "cell_type": "code",
   "execution_count": 15,
   "metadata": {},
   "outputs": [
    {
     "data": {
      "text/plain": [
       "0         [{'name': 'DRC'}, {'name': 'M23'}, {'name': 'F...\n",
       "1         [{'name': 'telephone'}, {'name': 'hotline'}, {...\n",
       "2         [{'name': 'fiscal cliff'}, {'name': 'Obama'}, ...\n",
       "3         [{'name': 'Kim Jong Un'}, {'name': 'Kim Jong I...\n",
       "4         [{'name': 'fiscal cliff'}, {'name': 'US Senate...\n",
       "                                ...                        \n",
       "175654    [{'name': 'Turkey'}, {'name': 'Recep Tayipp Er...\n",
       "175655    [{'name': 'pollution'}, {'name': 'gold mine'},...\n",
       "175656    [{'name': 'war'}, {'name': 'Ukraine'}, {'name'...\n",
       "175657    [{'name': 'France'}, {'name': 'vegetarian'}, {...\n",
       "175658          [{'name': 'Ecuador'}, {'name': 'protests'}]\n",
       "Name: keywords, Length: 175659, dtype: object"
      ]
     },
     "execution_count": 15,
     "metadata": {},
     "output_type": "execute_result"
    }
   ],
   "source": [
    "df['keywords'] # is keywords in dictionary"
   ]
  },
  {
   "cell_type": "code",
   "execution_count": 16,
   "metadata": {},
   "outputs": [
    {
     "data": {
      "text/plain": [
       "0"
      ]
     },
     "execution_count": 16,
     "metadata": {},
     "output_type": "execute_result"
    }
   ],
   "source": [
    "df['keywords'].isna().sum()\n"
   ]
  },
  {
   "cell_type": "code",
   "execution_count": 17,
   "metadata": {},
   "outputs": [],
   "source": [
    "def get_keywords(row):\n",
    "    if row is None:\n",
    "        return None\n",
    "    else:\n",
    "        res_list = []\n",
    "        for name_dict in row:\n",
    "            res_list.append(name_dict['name'])\n",
    "        return res_list\n",
    "\n",
    "lists_kw=df['keywords'].apply(get_keywords)"
   ]
  },
  {
   "cell_type": "code",
   "execution_count": 38,
   "metadata": {},
   "outputs": [
    {
     "ename": "NameError",
     "evalue": "name 'lists_kw' is not defined",
     "output_type": "error",
     "traceback": [
      "\u001b[0;31m---------------------------------------------------------------------------\u001b[0m",
      "\u001b[0;31mNameError\u001b[0m                                 Traceback (most recent call last)",
      "\u001b[0;32m/tmp/ipykernel_25601/2707355594.py\u001b[0m in \u001b[0;36m<module>\u001b[0;34m\u001b[0m\n\u001b[0;32m----> 1\u001b[0;31m \u001b[0mlist_kw\u001b[0m\u001b[0;34m=\u001b[0m\u001b[0mlists_kw\u001b[0m\u001b[0;34m.\u001b[0m\u001b[0mtolist\u001b[0m\u001b[0;34m(\u001b[0m\u001b[0;34m)\u001b[0m\u001b[0;34m\u001b[0m\u001b[0;34m\u001b[0m\u001b[0m\n\u001b[0m\u001b[1;32m      2\u001b[0m \u001b[0mlist1\u001b[0m\u001b[0;34m\u001b[0m\u001b[0;34m\u001b[0m\u001b[0m\n",
      "\u001b[0;31mNameError\u001b[0m: name 'lists_kw' is not defined"
     ]
    }
   ],
   "source": [
    "list_kw=lists_kw.tolist()\n",
    "list1"
   ]
  },
  {
   "cell_type": "code",
   "execution_count": null,
   "metadata": {},
   "outputs": [],
   "source": [
    "s = [1, 2, 3]\n",
    "list(set(t) - set(s)"
   ]
  },
  {
   "cell_type": "code",
   "execution_count": 30,
   "metadata": {},
   "outputs": [
    {
     "ename": "AttributeError",
     "evalue": "'list' object has no attribute 'strip'",
     "output_type": "error",
     "traceback": [
      "\u001b[0;31m---------------------------------------------------------------------------\u001b[0m",
      "\u001b[0;31mAttributeError\u001b[0m                            Traceback (most recent call last)",
      "\u001b[0;32m/tmp/ipykernel_25601/478356232.py\u001b[0m in \u001b[0;36m<module>\u001b[0;34m\u001b[0m\n\u001b[0;32m----> 1\u001b[0;31m \u001b[0mlist1\u001b[0m\u001b[0;34m.\u001b[0m\u001b[0mstrip\u001b[0m\u001b[0;34m(\u001b[0m\u001b[0;34m)\u001b[0m\u001b[0;34m\u001b[0m\u001b[0;34m\u001b[0m\u001b[0m\n\u001b[0m",
      "\u001b[0;31mAttributeError\u001b[0m: 'list' object has no attribute 'strip'"
     ]
    }
   ],
   "source": [
    "list1.strip()"
   ]
  },
  {
   "cell_type": "code",
   "execution_count": 21,
   "metadata": {},
   "outputs": [
    {
     "ename": "KeyboardInterrupt",
     "evalue": "",
     "output_type": "error",
     "traceback": [
      "\u001b[0;31m---------------------------------------------------------------------------\u001b[0m",
      "\u001b[0;31mKeyboardInterrupt\u001b[0m                         Traceback (most recent call last)",
      "\u001b[0;32m/tmp/ipykernel_25601/1280046439.py\u001b[0m in \u001b[0;36m<module>\u001b[0;34m\u001b[0m\n\u001b[1;32m      1\u001b[0m \u001b[0mi\u001b[0m\u001b[0;34m=\u001b[0m\u001b[0;36m0\u001b[0m\u001b[0;34m\u001b[0m\u001b[0;34m\u001b[0m\u001b[0m\n\u001b[1;32m      2\u001b[0m \u001b[0;32mwhile\u001b[0m \u001b[0mi\u001b[0m \u001b[0;34m<\u001b[0m \u001b[0;36m10\u001b[0m\u001b[0;34m:\u001b[0m \u001b[0;31m#175658\u001b[0m\u001b[0;34m\u001b[0m\u001b[0;34m\u001b[0m\u001b[0m\n\u001b[0;32m----> 3\u001b[0;31m     \u001b[0mlists\u001b[0m\u001b[0;34m[\u001b[0m\u001b[0mi\u001b[0m\u001b[0;34m]\u001b[0m\u001b[0;34m.\u001b[0m\u001b[0mappend\u001b[0m\u001b[0;34m(\u001b[0m\u001b[0mlists\u001b[0m\u001b[0;34m[\u001b[0m\u001b[0mi\u001b[0m\u001b[0;34m+\u001b[0m\u001b[0;36m1\u001b[0m\u001b[0;34m]\u001b[0m\u001b[0;34m)\u001b[0m\u001b[0;34m\u001b[0m\u001b[0;34m\u001b[0m\u001b[0m\n\u001b[0m",
      "\u001b[0;32m~/Documents/venv/lib64/python3.7/site-packages/pandas/core/series.py\u001b[0m in \u001b[0;36m__getitem__\u001b[0;34m(self, key)\u001b[0m\n\u001b[1;32m    936\u001b[0m             \u001b[0mkey\u001b[0m \u001b[0;34m=\u001b[0m \u001b[0munpack_1tuple\u001b[0m\u001b[0;34m(\u001b[0m\u001b[0mkey\u001b[0m\u001b[0;34m)\u001b[0m\u001b[0;34m\u001b[0m\u001b[0;34m\u001b[0m\u001b[0m\n\u001b[1;32m    937\u001b[0m \u001b[0;34m\u001b[0m\u001b[0m\n\u001b[0;32m--> 938\u001b[0;31m         \u001b[0;32mif\u001b[0m \u001b[0mis_integer\u001b[0m\u001b[0;34m(\u001b[0m\u001b[0mkey\u001b[0m\u001b[0;34m)\u001b[0m \u001b[0;32mand\u001b[0m \u001b[0mself\u001b[0m\u001b[0;34m.\u001b[0m\u001b[0mindex\u001b[0m\u001b[0;34m.\u001b[0m\u001b[0m_should_fallback_to_positional\u001b[0m\u001b[0;34m(\u001b[0m\u001b[0;34m)\u001b[0m\u001b[0;34m:\u001b[0m\u001b[0;34m\u001b[0m\u001b[0;34m\u001b[0m\u001b[0m\n\u001b[0m\u001b[1;32m    939\u001b[0m             \u001b[0;32mreturn\u001b[0m \u001b[0mself\u001b[0m\u001b[0;34m.\u001b[0m\u001b[0m_values\u001b[0m\u001b[0;34m[\u001b[0m\u001b[0mkey\u001b[0m\u001b[0;34m]\u001b[0m\u001b[0;34m\u001b[0m\u001b[0;34m\u001b[0m\u001b[0m\n\u001b[1;32m    940\u001b[0m \u001b[0;34m\u001b[0m\u001b[0m\n",
      "\u001b[0;31mKeyboardInterrupt\u001b[0m: "
     ]
    }
   ],
   "source": [
    "i=0\n",
    "while i < 10: #175658\n",
    "    fulllist=lists[i].append(lists[i+1])"
   ]
  },
  {
   "cell_type": "code",
   "execution_count": null,
   "metadata": {},
   "outputs": [
    {
     "data": {
      "text/plain": [
       "0         [DRC, M23, FDLR, Rwanda, Susan Rice, UN securi...\n",
       "1         [telephone, hotline, helpline, Catholic Church...\n",
       "2         [fiscal cliff, Obama, congress, spending cuts,...\n",
       "3         [Kim Jong Un, Kim Jong Il, Kim Il Sung, lee my...\n",
       "4         [fiscal cliff, US Senate, Senate vote, fiscal ...\n",
       "                                ...                        \n",
       "175654    [Turkey, Recep Tayipp Erdogan, Finland Sweden,...\n",
       "175655     [pollution, gold mine, Turkey, Anagold, cyanide]\n",
       "175656    [war, Ukraine, Russia, Russian attack, soldier...\n",
       "175657                 [France, vegetarian, steak, sausage]\n",
       "175658                                  [Ecuador, protests]\n",
       "Name: keywordStrings, Length: 175659, dtype: object"
      ]
     },
     "execution_count": 42,
     "metadata": {},
     "output_type": "execute_result"
    }
   ],
   "source": [
    "keywords=df['keywordStrings'] # is keywords in strings\n",
    "keywords"
   ]
  },
  {
   "cell_type": "code",
   "execution_count": null,
   "metadata": {},
   "outputs": [
    {
     "data": {
      "text/plain": [
       "0"
      ]
     },
     "execution_count": 48,
     "metadata": {},
     "output_type": "execute_result"
    }
   ],
   "source": [
    "keywords.isna().sum()"
   ]
  },
  {
   "cell_type": "code",
   "execution_count": null,
   "metadata": {},
   "outputs": [
    {
     "data": {
      "text/plain": [
       "['syria',\n",
       " 'brahimi',\n",
       " 'bashar assad',\n",
       " 'rebel forces',\n",
       " 'syrian civil war',\n",
       " 'aleppo',\n",
       " 'damascus']"
      ]
     },
     "execution_count": 25,
     "metadata": {},
     "output_type": "execute_result"
    }
   ],
   "source": [
    "# for i in df['keywordStrings']:\n",
    "#     print(i)\n",
    "df['keywordStrings'][10]\n"
   ]
  }
 ],
 "metadata": {
  "kernelspec": {
   "display_name": "Python 3",
   "language": "python",
   "name": "python3"
  },
  "language_info": {
   "codemirror_mode": {
    "name": "ipython",
    "version": 3
   },
   "file_extension": ".py",
   "mimetype": "text/x-python",
   "name": "python",
   "nbconvert_exporter": "python",
   "pygments_lexer": "ipython3",
   "version": "3.7.16"
  },
  "orig_nbformat": 4
 },
 "nbformat": 4,
 "nbformat_minor": 2
}
