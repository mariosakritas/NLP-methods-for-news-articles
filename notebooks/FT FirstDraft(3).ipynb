{
 "cells": [
  {
   "cell_type": "code",
   "execution_count": 1,
   "id": "4deeb5be",
   "metadata": {},
   "outputs": [],
   "source": [
    "import json\n",
    "import pandas as pd\n",
    "# Opening JSON file\n",
    "f = open('/home/ferdinand_t/data/CMS_2010_to_June_2022_ENGLISH.json')\n",
    "# returns JSON object as\n",
    "# a dictionary\n",
    "data = json.load(f)\n",
    "df = pd.DataFrame.from_dict(data)"
   ]
  },
  {
   "cell_type": "code",
   "execution_count": 2,
   "id": "eab9c51b",
   "metadata": {},
   "outputs": [],
   "source": [
    "from sklearn.feature_extraction.text import TfidfVectorizer\n",
    "import seaborn as sns\n",
    "import matplotlib.pyplot as plt\n",
    "from sklearn.svm import LinearSVC\n",
    "from sklearn.model_selection import train_test_split"
   ]
  },
  {
   "cell_type": "code",
   "execution_count": 3,
   "id": "51254a6f",
   "metadata": {},
   "outputs": [],
   "source": [
    "# df['firstKeyword'] = df['keywords'].apply(lambda x: x[0]['name'] if len(x) != 0 else None)\n",
    "# #df['secondKeyword'] = df['keywords'].apply(lambda x: x[1]['name'] if len(x) > 1 else None)\n",
    "# #df['thirdKeyword'] = df['keywords'].apply(lambda x: x[2]['name'] if len(x) > 2 else None)\n",
    "# #df['fourthKeyword'] = df['keywords'].apply(lambda x: x[3]['name'] if len(x) > 3 else None)\n",
    "\n",
    "# df['cleanFocusCategory'] = df['thematicFocusCategory'].apply(lambda x: x['name'] if x is not None else x)\n",
    "\n",
    "# #df = df[['firstKeyword', 'secondKeyword', 'thirdKeyword', 'fourthKeyword', 'thematicFocusCategory', 'cleanFocusCategory']]\n",
    "\n",
    "# df = df[['firstKeyword', 'keywordStrings', 'cleanFocusCategory']]\n",
    "\n",
    "# df_clean = df.copy()\n",
    "# df_clean = df_clean.dropna()\n",
    "# df_clean['cleanKeywordStrings'] = [' '.join(map(str, l)) for l in df_clean['keywordStrings']]\n",
    "\n"
   ]
  },
  {
   "cell_type": "code",
   "execution_count": 4,
   "id": "9043c464",
   "metadata": {},
   "outputs": [],
   "source": [
    "# tfidf_first = TfidfVectorizer(sublinear_tf=True, min_df=1, norm='l2', encoding='latin-1', ngram_range=(1, 3), stop_words='english')\n",
    "# features_first = tfidf_first.fit_transform(df_clean['firstKeyword'])\n",
    "# labels_first = df_clean['cleanFocusCategory']\n",
    "# features_first.shape"
   ]
  },
  {
   "cell_type": "code",
   "execution_count": null,
   "id": "c60fa7a4",
   "metadata": {},
   "outputs": [],
   "source": []
  },
  {
   "cell_type": "code",
   "execution_count": 5,
   "id": "5536ae08",
   "metadata": {},
   "outputs": [],
   "source": [
    "# #category_id_df = df_clean['cleanFocusCategory'].drop_duplicates().sort_values()\n",
    "# model = LinearSVC()\n",
    "# X_train_first, X_test_first, y_train_first, y_test_first, indices_train_first, indices_test_first = train_test_split(features_first, labels_first, df_clean.index, test_size=0.33, random_state=0,stratify=labels)\n",
    "# model.fit(X_train_first, y_train_first)\n",
    "# y_pred_first = model.predict(X_test_first)\n",
    "# from sklearn.metrics import confusion_matrix\n",
    "# conf_mat = confusion_matrix(y_test_first, y_pred_first)\n",
    "# from sklearn.metrics import accuracy_score\n",
    "# accuracy_score(y_test_first,y_pred_first)"
   ]
  },
  {
   "cell_type": "code",
   "execution_count": 6,
   "id": "6fa3f949",
   "metadata": {},
   "outputs": [],
   "source": [
    "# tfidf = TfidfVectorizer(sublinear_tf=True, min_df=1, norm='l2', encoding='latin-1', ngram_range=(1, 3), stop_words='english')\n",
    "# features = tfidf.fit_transform(df_clean['cleanKeywordStrings'])\n",
    "# features_test = tfidf.fit_transform(df_clean['firstKeyword'])\n",
    "# labels = df_clean['cleanFocusCategory']\n",
    "# features_test.shape"
   ]
  },
  {
   "cell_type": "code",
   "execution_count": 7,
   "id": "2294a7b5",
   "metadata": {},
   "outputs": [],
   "source": [
    "# #category_id_df = df_clean['cleanFocusCategory'].drop_duplicates().sort_values()\n",
    "# model = LinearSVC()\n",
    "# X_train, X_test, y_train, y_test, indices_train, indices_test = train_test_split(features, labels, df_clean.index, test_size=0.33, random_state=0,stratify=labels)\n",
    "# model.fit(X_train, y_train)\n",
    "# X_test_firstkey = tfidf.transform(df_clean['firstKeyword'][indices_test])\n",
    "# y_pred = model.predict(X_test_firstkey)\n",
    "# from sklearn.metrics import confusion_matrix\n",
    "# conf_mat = confusion_matrix(y_test, y_pred)"
   ]
  },
  {
   "cell_type": "code",
   "execution_count": 8,
   "id": "39572369",
   "metadata": {},
   "outputs": [],
   "source": [
    "#tfidf.get_feature_names()"
   ]
  },
  {
   "cell_type": "code",
   "execution_count": 9,
   "id": "eb200477",
   "metadata": {},
   "outputs": [],
   "source": [
    "# model = LinearSVC()\n",
    "# X_train_first, X_test_first, y_train_first, y_test_first, indices_train_first, indices_test_first = train_test_split(df_clean['firstKeyword'], df_clean['cleanFocusCategory'], df_clean.index, test_size=0.33, random_state=0,stratify=df_clean['cleanFocusCategory'])\n",
    "\n",
    "# tfidf = TfidfVectorizer(sublinear_tf=True, min_df=1, norm='l2', encoding='latin-1', ngram_range=(1, 3), stop_words=None)\n",
    "# features_train = tfidf.fit_transform(X_train_first)\n",
    "# #features_test = tfidf.fit_transform(df_clean['firstKeyword'])\n",
    "# labels_train = y_train_first\n",
    "\n",
    "# model.fit(features_train, labels_train)\n",
    "\n",
    "# features_test = tfidf.transform(X_test_first)\n",
    "# labels_test = y_test_first\n",
    "\n",
    "# y_pred_first = model.predict(features_test)\n",
    "# from sklearn.metrics import confusion_matrix\n",
    "# conf_mat = confusion_matrix(y_test_first, y_pred_first)\n",
    "# from sklearn.metrics import accuracy_score\n",
    "# accuracy_score(y_test_first,y_pred_first)"
   ]
  },
  {
   "cell_type": "code",
   "execution_count": 10,
   "id": "022f8339",
   "metadata": {},
   "outputs": [],
   "source": [
    "# model = LinearSVC()\n",
    "# X_train, X_test, y_train, y_test, indices_train, indices_test = train_test_split(df_clean['cleanKeywordStrings'], df_clean['cleanFocusCategory'], df_clean.index, test_size=0.33, random_state=0,stratify=df_clean['cleanFocusCategory'])\n",
    "\n",
    "# tfidf = TfidfVectorizer(sublinear_tf=True, min_df=1, norm='l2', encoding='latin-1', ngram_range=(1, 3), stop_words=None)\n",
    "# features_train = tfidf.fit_transform(X_train)\n",
    "# #features_test = tfidf.fit_transform(df_clean['firstKeyword'])\n",
    "# labels_train = y_train\n",
    "\n",
    "# model.fit(features_train, labels_train)\n",
    "\n",
    "# features_test = tfidf.transform(X_test)\n",
    "# labels_test = y_test\n",
    "\n",
    "# y_pred = model.predict(features_test)\n",
    "# from sklearn.metrics import confusion_matrix\n",
    "# conf_mat = confusion_matrix(y_test, y_pred)\n",
    "# from sklearn.metrics import accuracy_score\n",
    "# accuracy_score(y_test,y_pred)"
   ]
  },
  {
   "cell_type": "code",
   "execution_count": 11,
   "id": "b454a922",
   "metadata": {},
   "outputs": [],
   "source": [
    "# f = open('/home/ferdinand_t/data/CMS_2010_to_June_2022_ENGLISH.json')\n",
    "# # returns JSON object as\n",
    "# # a dictionary\n",
    "# data = json.load(f)\n",
    "# df = pd.DataFrame.from_dict(data)"
   ]
  },
  {
   "cell_type": "code",
   "execution_count": 12,
   "id": "60a5b5a3",
   "metadata": {},
   "outputs": [
    {
     "data": {
      "text/plain": [
       "Index(['id', 'name', 'shortTitle', 'text', 'teaser', 'shortTeaser', 'kicker',\n",
       "       'regions', 'keywords', 'keywordStrings', 'thematicFocusCategory',\n",
       "       'navigations', 'categories', 'departments', 'firstPublicationDate',\n",
       "       'lastModifiedDate', 'contentDate', 'relatedAutoTopics', 'contentLinks',\n",
       "       'articles', 'isOpinion', 'geographicLocations', 'contentAssociations',\n",
       "       'mainContentImageLink', 'images', 'externalLinks', 'topStory',\n",
       "       'language'],\n",
       "      dtype='object')"
      ]
     },
     "execution_count": 12,
     "metadata": {},
     "output_type": "execute_result"
    }
   ],
   "source": [
    "df.columns"
   ]
  },
  {
   "cell_type": "code",
   "execution_count": 13,
   "id": "4a3a8cd7",
   "metadata": {},
   "outputs": [
    {
     "name": "stderr",
     "output_type": "stream",
     "text": [
      "2023-03-15 15:19:43.931968: I tensorflow/core/platform/cpu_feature_guard.cc:193] This TensorFlow binary is optimized with oneAPI Deep Neural Network Library (oneDNN) to use the following CPU instructions in performance-critical operations:  AVX2 AVX512F FMA\n",
      "To enable them in other operations, rebuild TensorFlow with the appropriate compiler flags.\n",
      "2023-03-15 15:19:47.328362: W tensorflow/compiler/xla/stream_executor/platform/default/dso_loader.cc:64] Could not load dynamic library 'libnvinfer.so.7'; dlerror: libnvinfer.so.7: cannot open shared object file: No such file or directory\n",
      "2023-03-15 15:19:47.328703: W tensorflow/compiler/xla/stream_executor/platform/default/dso_loader.cc:64] Could not load dynamic library 'libnvinfer_plugin.so.7'; dlerror: libnvinfer_plugin.so.7: cannot open shared object file: No such file or directory\n",
      "2023-03-15 15:19:47.328729: W tensorflow/compiler/tf2tensorrt/utils/py_utils.cc:38] TF-TRT Warning: Cannot dlopen some TensorRT libraries. If you would like to use Nvidia GPU with TensorRT, please make sure the missing libraries mentioned above are installed properly.\n"
     ]
    }
   ],
   "source": [
    "from keybert import KeyBERT"
   ]
  },
  {
   "cell_type": "code",
   "execution_count": 14,
   "id": "d94c8a4f",
   "metadata": {},
   "outputs": [],
   "source": [
    "doc = df['text'][0]"
   ]
  },
  {
   "cell_type": "code",
   "execution_count": 15,
   "id": "a1bf28ef",
   "metadata": {},
   "outputs": [],
   "source": [
    "kw_model = KeyBERT()\n",
    "keywords = kw_model.extract_keywords(doc)"
   ]
  },
  {
   "cell_type": "code",
   "execution_count": 16,
   "id": "f28753d0",
   "metadata": {},
   "outputs": [
    {
     "data": {
      "text/plain": [
       "[('rwandan', 0.4465),\n",
       " ('rwanda', 0.434),\n",
       " ('rebels', 0.387),\n",
       " ('m23', 0.366),\n",
       " ('uganda', 0.3634)]"
      ]
     },
     "execution_count": 16,
     "metadata": {},
     "output_type": "execute_result"
    }
   ],
   "source": [
    "kw_model.extract_keywords(doc, keyphrase_ngram_range=(1, 1), stop_words=None)"
   ]
  },
  {
   "cell_type": "code",
   "execution_count": 17,
   "id": "d95422f5",
   "metadata": {},
   "outputs": [
    {
     "data": {
      "text/plain": [
       "['DRC', 'M23', 'FDLR', 'Rwanda', 'Susan Rice', 'UN security council']"
      ]
     },
     "execution_count": 17,
     "metadata": {},
     "output_type": "execute_result"
    }
   ],
   "source": [
    "df['keywordStrings'][0]"
   ]
  },
  {
   "cell_type": "code",
   "execution_count": 18,
   "id": "920de352",
   "metadata": {},
   "outputs": [],
   "source": [
    "# f = open('/home/ferdinand_t/data/CMS_2010_to_June_2022_ENGLISH.json')\n",
    "# # returns JSON object as\n",
    "# # a dictionary\n",
    "# data = json.load(f)\n",
    "# df = pd.DataFrame.from_dict(data)"
   ]
  },
  {
   "cell_type": "code",
   "execution_count": 21,
   "id": "8ca392d8",
   "metadata": {},
   "outputs": [],
   "source": [
    "df['firstKeyword'] = df['keywords'].apply(lambda x: x[0]['name'] if len(x) != 0 else None)\n",
    "#df['secondKeyword'] = df['keywords'].apply(lambda x: x[1]['name'] if len(x) > 1 else None)\n",
    "#df['thirdKeyword'] = df['keywords'].apply(lambda x: x[2]['name'] if len(x) > 2 else None)\n",
    "#df['fourthKeyword'] = df['keywords'].apply(lambda x: x[3]['name'] if len(x) > 3 else None)\n",
    "\n",
    "df['cleanFocusCategory'] = df['thematicFocusCategory'].apply(lambda x: x['name'] if x is not None else x)\n",
    "\n",
    "#df = df[['firstKeyword', 'secondKeyword', 'thirdKeyword', 'fourthKeyword', 'thematicFocusCategory', 'cleanFocusCategory']]\n",
    "\n",
    "df = df[['firstKeyword', 'keywordStrings', 'cleanFocusCategory']]\n",
    "\n",
    "df_clean = df.copy()\n",
    "df_clean = df_clean.dropna()\n",
    "df_clean['cleanKeywordStrings'] = [' '.join(map(str, l)) for l in df_clean['keywordStrings']]"
   ]
  },
  {
   "cell_type": "code",
   "execution_count": 28,
   "id": "f82acb03",
   "metadata": {},
   "outputs": [
    {
     "data": {
      "text/plain": [
       "(79913, 46)"
      ]
     },
     "execution_count": 28,
     "metadata": {},
     "output_type": "execute_result"
    }
   ],
   "source": [
    "# One-hot encoding the original 'category' field and create new dataframe\n",
    "df_clean_dummy = pd.get_dummies(df_clean['cleanFocusCategory'])\n",
    "df_clean_dummy.shape"
   ]
  },
  {
   "cell_type": "code",
   "execution_count": 29,
   "id": "2a7ebd92",
   "metadata": {},
   "outputs": [],
   "source": [
    "dl_clean = df_clean.join(df_clean_dummy)"
   ]
  },
  {
   "cell_type": "code",
   "execution_count": 30,
   "id": "dcd8adb3",
   "metadata": {},
   "outputs": [],
   "source": [
    "# from sklearn.preprocessing import LabelEncoder\n",
    "# encoder = LabelEncoder()\n",
    "# transformed_label = encoder.fit_transform(df_clean['cleanFocusCategory'][-20000:-1])\n",
    "# print(transformed_label)"
   ]
  },
  {
   "cell_type": "code",
   "execution_count": 80,
   "id": "123f54c0",
   "metadata": {},
   "outputs": [],
   "source": [
    "X_train, X_test, y_train, y_test, indices_train, indices_test = train_test_split(df_clean['cleanKeywordStrings'][-40000:-1], df_clean_dummy[-40000:-1], df_clean.index[-40000:-1], test_size=0.33, random_state=0)\n",
    "\n",
    "tfidf = TfidfVectorizer(sublinear_tf=True, min_df=1, norm='l2', encoding='latin-1', ngram_range=(1, 1), stop_words=None)\n",
    "features_train = tfidf.fit_transform(X_train)\n",
    "labels_train = y_train\n",
    "\n",
    "#model.fit(features_train, labels_train)\n",
    "\n",
    "features_test = tfidf.transform(X_test)\n",
    "labels_test = y_test\n",
    "\n",
    "#y_pred = model.predict(features_test)\n",
    "from sklearn.metrics import confusion_matrix\n",
    "#conf_mat = confusion_matrix(y_test, y_pred)\n",
    "from sklearn.metrics import accuracy_score\n",
    "#accuracy_score(y_test,y_pred)"
   ]
  },
  {
   "cell_type": "code",
   "execution_count": null,
   "id": "32c6f90e",
   "metadata": {},
   "outputs": [],
   "source": []
  },
  {
   "cell_type": "code",
   "execution_count": 81,
   "id": "6af18a53",
   "metadata": {},
   "outputs": [],
   "source": [
    "from keras.models import Sequential\n",
    "from keras import layers\n",
    "from tensorflow.keras.layers import Dense, Embedding, Dropout, LSTM\n",
    "\n",
    "input_dim = features_train.shape[1]  # Number of features\n",
    "\n",
    "model = Sequential()\n",
    "model.add(layers.Dense(20, input_dim=input_dim, activation='relu'))\n",
    "model.add(Dropout(0.6))\n",
    "model.add(layers.Dense(46, activation='softmax'))"
   ]
  },
  {
   "cell_type": "code",
   "execution_count": 82,
   "id": "e9ad5bf6",
   "metadata": {},
   "outputs": [
    {
     "name": "stdout",
     "output_type": "stream",
     "text": [
      "Model: \"sequential\"\n",
      "_________________________________________________________________\n",
      " Layer (type)                Output Shape              Param #   \n",
      "=================================================================\n",
      " dense (Dense)               (None, 20)                421420    \n",
      "                                                                 \n",
      " dropout (Dropout)           (None, 20)                0         \n",
      "                                                                 \n",
      " dense_1 (Dense)             (None, 46)                966       \n",
      "                                                                 \n",
      "=================================================================\n",
      "Total params: 422,386\n",
      "Trainable params: 422,386\n",
      "Non-trainable params: 0\n",
      "_________________________________________________________________\n"
     ]
    }
   ],
   "source": [
    "model.compile(loss='categorical_crossentropy', \n",
    "              optimizer='adam', \n",
    "              metrics=['accuracy'])\n",
    "model.summary()"
   ]
  },
  {
   "cell_type": "code",
   "execution_count": 83,
   "id": "69d91e84",
   "metadata": {},
   "outputs": [],
   "source": [
    "\n",
    "# import tensorflow as tf\n",
    "# features_train_enc = tf.sparse.reorder(features_train.toarray())\n",
    "# features_test_enc = tf.sparse.reorder(features_test.toarray())\n",
    "# labels_train_enc = tf.sparse.reorder(labels_train)\n",
    "# labels_test_enc = tf.sparse.reorder(labels_test)"
   ]
  },
  {
   "cell_type": "code",
   "execution_count": 84,
   "id": "40ef51b8",
   "metadata": {},
   "outputs": [],
   "source": [
    "history = model.fit(features_train.toarray(), labels_train,\n",
    "                    epochs=20,\n",
    "                    verbose=False,\n",
    "                    validation_data=(features_test.toarray(), labels_test),\n",
    "                    batch_size=5)"
   ]
  },
  {
   "cell_type": "code",
   "execution_count": 85,
   "id": "b283917a",
   "metadata": {},
   "outputs": [],
   "source": [
    "from keras.backend import clear_session\n",
    "clear_session()"
   ]
  },
  {
   "cell_type": "code",
   "execution_count": 86,
   "id": "2bac090b",
   "metadata": {},
   "outputs": [
    {
     "ename": "",
     "evalue": "",
     "output_type": "error",
     "traceback": [
      "\u001b[1;31mCanceled future for execute_request message before replies were done"
     ]
    },
    {
     "ename": "",
     "evalue": "",
     "output_type": "error",
     "traceback": [
      "\u001b[1;31mThe Kernel crashed while executing code in the the current cell or a previous cell. Please review the code in the cell(s) to identify a possible cause of the failure. Click <a href='https://aka.ms/vscodeJupyterKernelCrash'>here</a> for more info. View Jupyter <a href='command:jupyter.viewOutput'>log</a> for further details."
     ]
    }
   ],
   "source": [
    "loss, acc = model.evaluate(features_train.toarray(), labels_train, verbose=False)\n",
    "print(\"Training Accuracy: {:.4f}\".format(acc))\n",
    "loss, acc = model.evaluate(features_test.toarray(), labels_test, verbose=False)\n",
    "print(\"Testing Accuracy:  {:.4f}\".format(acc))"
   ]
  },
  {
   "cell_type": "code",
   "execution_count": null,
   "id": "b80d8fbd",
   "metadata": {},
   "outputs": [],
   "source": [
    "import matplotlib.pyplot as plt\n",
    "plt.style.use('ggplot')\n",
    "\n",
    "def plot_history(history):\n",
    "    acc = history.history['accuracy']\n",
    "    val_acc = history.history['val_accuracy']\n",
    "    loss = history.history['loss']\n",
    "    val_loss = history.history['val_loss']\n",
    "    x = range(1, len(acc) + 1)\n",
    "\n",
    "    plt.figure(figsize=(12, 5))\n",
    "    plt.subplot(1, 2, 1)\n",
    "    plt.plot(x, acc, 'b', label='Training acc')\n",
    "    plt.plot(x, val_acc, 'r', label='Validation acc')\n",
    "    plt.title('Training and validation accuracy')\n",
    "    plt.legend()\n",
    "    plt.subplot(1, 2, 2)\n",
    "    plt.plot(x, loss, 'b', label='Training loss')\n",
    "    plt.plot(x, val_loss, 'r', label='Validation loss')\n",
    "    plt.title('Training and validation loss')\n",
    "    plt.legend()"
   ]
  },
  {
   "cell_type": "code",
   "execution_count": null,
   "id": "84da10ac",
   "metadata": {},
   "outputs": [
    {
     "data": {
      "image/png": "[encoded data removed]",
      "text/plain": [
       "<Figure size 1200x500 with 2 Axes>"
      ]
     },
     "metadata": {},
     "output_type": "display_data"
    }
   ],
   "source": [
    "plot_history(history)"
   ]
  },
  {
   "cell_type": "code",
   "execution_count": null,
   "id": "4da3c75d",
   "metadata": {},
   "outputs": [
    {
     "ename": "AttributeError",
     "evalue": "'DataFrame' object has no attribute 'unique'",
     "output_type": "error",
     "traceback": [
      "\u001b[0;31m---------------------------------------------------------------------------\u001b[0m",
      "\u001b[0;31mAttributeError\u001b[0m                            Traceback (most recent call last)",
      "\u001b[0;32m/tmp/ipykernel_5436/616028992.py\u001b[0m in \u001b[0;36m<module>\u001b[0;34m\u001b[0m\n\u001b[0;32m----> 1\u001b[0;31m \u001b[0mlabels_train\u001b[0m\u001b[0;34m.\u001b[0m\u001b[0munique\u001b[0m\u001b[0;34m(\u001b[0m\u001b[0;34m)\u001b[0m\u001b[0;34m\u001b[0m\u001b[0;34m\u001b[0m\u001b[0m\n\u001b[0m",
      "\u001b[0;32m~/venv/lib64/python3.7/site-packages/pandas/core/generic.py\u001b[0m in \u001b[0;36m__getattr__\u001b[0;34m(self, name)\u001b[0m\n\u001b[1;32m   5485\u001b[0m         ):\n\u001b[1;32m   5486\u001b[0m             \u001b[0;32mreturn\u001b[0m \u001b[0mself\u001b[0m\u001b[0;34m[\u001b[0m\u001b[0mname\u001b[0m\u001b[0;34m]\u001b[0m\u001b[0;34m\u001b[0m\u001b[0;34m\u001b[0m\u001b[0m\n\u001b[0;32m-> 5487\u001b[0;31m         \u001b[0;32mreturn\u001b[0m \u001b[0mobject\u001b[0m\u001b[0;34m.\u001b[0m\u001b[0m__getattribute__\u001b[0m\u001b[0;34m(\u001b[0m\u001b[0mself\u001b[0m\u001b[0;34m,\u001b[0m \u001b[0mname\u001b[0m\u001b[0;34m)\u001b[0m\u001b[0;34m\u001b[0m\u001b[0;34m\u001b[0m\u001b[0m\n\u001b[0m\u001b[1;32m   5488\u001b[0m \u001b[0;34m\u001b[0m\u001b[0m\n\u001b[1;32m   5489\u001b[0m     \u001b[0;32mdef\u001b[0m \u001b[0m__setattr__\u001b[0m\u001b[0;34m(\u001b[0m\u001b[0mself\u001b[0m\u001b[0;34m,\u001b[0m \u001b[0mname\u001b[0m\u001b[0;34m:\u001b[0m \u001b[0mstr\u001b[0m\u001b[0;34m,\u001b[0m \u001b[0mvalue\u001b[0m\u001b[0;34m)\u001b[0m \u001b[0;34m->\u001b[0m \u001b[0;32mNone\u001b[0m\u001b[0;34m:\u001b[0m\u001b[0;34m\u001b[0m\u001b[0;34m\u001b[0m\u001b[0m\n",
      "\u001b[0;31mAttributeError\u001b[0m: 'DataFrame' object has no attribute 'unique'"
     ]
    }
   ],
   "source": [
    "labels_train.unique()"
   ]
  }
 ],
 "metadata": {
  "kernelspec": {
   "display_name": "Python 3 (ipykernel)",
   "language": "python",
   "name": "python3"
  },
  "language_info": {
   "codemirror_mode": {
    "name": "ipython",
    "version": 3
   },
   "file_extension": ".py",
   "mimetype": "text/x-python",
   "name": "python",
   "nbconvert_exporter": "python",
   "pygments_lexer": "ipython3",
   "version": "3.7.16"
  }
 },
 "nbformat": 4,
 "nbformat_minor": 5
}
