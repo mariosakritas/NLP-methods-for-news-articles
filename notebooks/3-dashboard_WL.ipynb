{
 "cells": [
  {
   "attachments": {},
   "cell_type": "markdown",
   "metadata": {},
   "source": [
    "# Dashboard prototype\n",
    "This is making a dashboard to visualise data using Dash and Plotly"
   ]
  },
  {
   "cell_type": "code",
   "execution_count": 1,
   "metadata": {},
   "outputs": [
    {
     "name": "stdout",
     "output_type": "stream",
     "text": [
      "Defaulting to user installation because normal site-packages is not writeable\n",
      "Collecting jupyter-dash\n",
      "  Downloading jupyter_dash-0.4.2-py3-none-any.whl (23 kB)\n",
      "Requirement already satisfied: ipykernel in /home/wojciech/.local/lib/python3.7/site-packages (from jupyter-dash) (6.16.2)\n",
      "Requirement already satisfied: ipython in /home/wojciech/.local/lib/python3.7/site-packages (from jupyter-dash) (7.34.0)\n",
      "Requirement already satisfied: requests in /home/wojciech/.local/lib/python3.7/site-packages (from jupyter-dash) (2.28.2)\n",
      "Collecting retrying\n",
      "  Downloading retrying-1.3.4-py3-none-any.whl (11 kB)\n",
      "Requirement already satisfied: nest-asyncio in /home/wojciech/.local/lib/python3.7/site-packages (from jupyter-dash) (1.5.6)\n",
      "Collecting flask\n",
      "  Downloading Flask-2.2.3-py3-none-any.whl (101 kB)\n",
      "\u001b[K     |████████████████████████████████| 101 kB 16.1 MB/s ta 0:00:01\n",
      "\u001b[?25hCollecting ansi2html\n",
      "  Downloading ansi2html-1.8.0-py3-none-any.whl (16 kB)\n",
      "Collecting dash\n",
      "  Downloading dash-2.9.1-py3-none-any.whl (10.2 MB)\n",
      "\u001b[K     |████████████████████████████████| 10.2 MB 63.8 MB/s eta 0:00:01\n",
      "\u001b[?25hRequirement already satisfied: debugpy>=1.0 in /home/wojciech/.local/lib/python3.7/site-packages (from ipykernel->jupyter-dash) (1.6.6)\n",
      "Requirement already satisfied: pyzmq>=17 in /home/wojciech/.local/lib/python3.7/site-packages (from ipykernel->jupyter-dash) (25.0.0)\n",
      "Requirement already satisfied: jupyter-client>=6.1.12 in /home/wojciech/.local/lib/python3.7/site-packages (from ipykernel->jupyter-dash) (7.4.9)\n",
      "Requirement already satisfied: packaging in /home/wojciech/.local/lib/python3.7/site-packages (from ipykernel->jupyter-dash) (23.0)\n",
      "Requirement already satisfied: traitlets>=5.1.0 in /home/wojciech/.local/lib/python3.7/site-packages (from ipykernel->jupyter-dash) (5.9.0)\n",
      "Requirement already satisfied: matplotlib-inline>=0.1 in /home/wojciech/.local/lib/python3.7/site-packages (from ipykernel->jupyter-dash) (0.1.6)\n",
      "Requirement already satisfied: psutil in /home/wojciech/.local/lib/python3.7/site-packages (from ipykernel->jupyter-dash) (5.9.4)\n",
      "Requirement already satisfied: tornado>=6.1 in /home/wojciech/.local/lib/python3.7/site-packages (from ipykernel->jupyter-dash) (6.2)\n",
      "Requirement already satisfied: backcall in /home/wojciech/.local/lib/python3.7/site-packages (from ipython->jupyter-dash) (0.2.0)\n",
      "Requirement already satisfied: pexpect>4.3; sys_platform != \"win32\" in /home/wojciech/.local/lib/python3.7/site-packages (from ipython->jupyter-dash) (4.8.0)\n",
      "Requirement already satisfied: pygments in /home/wojciech/.local/lib/python3.7/site-packages (from ipython->jupyter-dash) (2.14.0)\n",
      "Requirement already satisfied: setuptools>=18.5 in /usr/lib/python3.7/site-packages (from ipython->jupyter-dash) (49.1.3)\n",
      "Requirement already satisfied: prompt-toolkit!=3.0.0,!=3.0.1,<3.1.0,>=2.0.0 in /home/wojciech/.local/lib/python3.7/site-packages (from ipython->jupyter-dash) (3.0.38)\n",
      "Requirement already satisfied: decorator in /home/wojciech/.local/lib/python3.7/site-packages (from ipython->jupyter-dash) (5.1.1)\n",
      "Requirement already satisfied: pickleshare in /home/wojciech/.local/lib/python3.7/site-packages (from ipython->jupyter-dash) (0.7.5)\n",
      "Requirement already satisfied: jedi>=0.16 in /home/wojciech/.local/lib/python3.7/site-packages (from ipython->jupyter-dash) (0.18.2)\n",
      "Requirement already satisfied: urllib3<1.27,>=1.21.1 in /home/wojciech/.local/lib/python3.7/site-packages (from requests->jupyter-dash) (1.26.14)\n",
      "Requirement already satisfied: certifi>=2017.4.17 in /home/wojciech/.local/lib/python3.7/site-packages (from requests->jupyter-dash) (2022.12.7)\n",
      "Requirement already satisfied: idna<4,>=2.5 in /home/wojciech/.local/lib/python3.7/site-packages (from requests->jupyter-dash) (3.4)\n",
      "Requirement already satisfied: charset-normalizer<4,>=2 in /home/wojciech/.local/lib/python3.7/site-packages (from requests->jupyter-dash) (3.1.0)\n",
      "Requirement already satisfied: six>=1.7.0 in /home/wojciech/.local/lib/python3.7/site-packages (from retrying->jupyter-dash) (1.16.0)\n",
      "Requirement already satisfied: Jinja2>=3.0 in /home/wojciech/.local/lib/python3.7/site-packages (from flask->jupyter-dash) (3.1.2)\n",
      "Requirement already satisfied: click>=8.0 in /home/wojciech/.local/lib/python3.7/site-packages (from flask->jupyter-dash) (8.1.3)\n",
      "Collecting itsdangerous>=2.0\n",
      "  Downloading itsdangerous-2.1.2-py3-none-any.whl (15 kB)\n",
      "Requirement already satisfied: Werkzeug>=2.2.2 in /home/wojciech/.local/lib/python3.7/site-packages (from flask->jupyter-dash) (2.2.3)\n",
      "Requirement already satisfied: importlib-metadata>=3.6.0; python_version < \"3.10\" in /home/wojciech/.local/lib/python3.7/site-packages (from flask->jupyter-dash) (6.0.0)\n",
      "Collecting dash-core-components==2.0.0\n",
      "  Downloading dash_core_components-2.0.0-py3-none-any.whl (3.8 kB)\n",
      "Collecting dash-table==5.0.0\n",
      "  Downloading dash_table-5.0.0-py3-none-any.whl (3.9 kB)\n",
      "Collecting dash-html-components==2.0.0\n",
      "  Downloading dash_html_components-2.0.0-py3-none-any.whl (4.1 kB)\n",
      "Collecting plotly>=5.0.0\n",
      "  Downloading plotly-5.13.1-py2.py3-none-any.whl (15.2 MB)\n",
      "\u001b[K     |████████████████████████████████| 15.2 MB 74.3 MB/s eta 0:00:01\n",
      "\u001b[?25hRequirement already satisfied: jupyter-core>=4.9.2 in /home/wojciech/.local/lib/python3.7/site-packages (from jupyter-client>=6.1.12->ipykernel->jupyter-dash) (4.12.0)\n",
      "Requirement already satisfied: python-dateutil>=2.8.2 in /home/wojciech/.local/lib/python3.7/site-packages (from jupyter-client>=6.1.12->ipykernel->jupyter-dash) (2.8.2)\n",
      "Requirement already satisfied: entrypoints in /home/wojciech/.local/lib/python3.7/site-packages (from jupyter-client>=6.1.12->ipykernel->jupyter-dash) (0.4)\n",
      "Requirement already satisfied: ptyprocess>=0.5 in /home/wojciech/.local/lib/python3.7/site-packages (from pexpect>4.3; sys_platform != \"win32\"->ipython->jupyter-dash) (0.7.0)\n",
      "Requirement already satisfied: wcwidth in /home/wojciech/.local/lib/python3.7/site-packages (from prompt-toolkit!=3.0.0,!=3.0.1,<3.1.0,>=2.0.0->ipython->jupyter-dash) (0.2.6)\n",
      "Requirement already satisfied: parso<0.9.0,>=0.8.0 in /home/wojciech/.local/lib/python3.7/site-packages (from jedi>=0.16->ipython->jupyter-dash) (0.8.3)\n",
      "Requirement already satisfied: MarkupSafe>=2.0 in /home/wojciech/.local/lib/python3.7/site-packages (from Jinja2>=3.0->flask->jupyter-dash) (2.1.2)\n",
      "Requirement already satisfied: typing-extensions>=3.6.4; python_version < \"3.8\" in /home/wojciech/.local/lib/python3.7/site-packages (from importlib-metadata>=3.6.0; python_version < \"3.10\"->flask->jupyter-dash) (4.4.0)\n",
      "Requirement already satisfied: zipp>=0.5 in /home/wojciech/.local/lib/python3.7/site-packages (from importlib-metadata>=3.6.0; python_version < \"3.10\"->flask->jupyter-dash) (3.15.0)\n",
      "Collecting tenacity>=6.2.0\n",
      "  Downloading tenacity-8.2.2-py3-none-any.whl (24 kB)\n",
      "Installing collected packages: retrying, itsdangerous, flask, ansi2html, dash-core-components, dash-table, dash-html-components, tenacity, plotly, dash, jupyter-dash\n",
      "Successfully installed ansi2html-1.8.0 dash-2.9.1 dash-core-components-2.0.0 dash-html-components-2.0.0 dash-table-5.0.0 flask-2.2.3 itsdangerous-2.1.2 jupyter-dash-0.4.2 plotly-5.13.1 retrying-1.3.4 tenacity-8.2.2\n"
     ]
    }
   ],
   "source": [
    "!pip3 install jupyter-dash"
   ]
  },
  {
   "cell_type": "code",
   "execution_count": 118,
   "metadata": {},
   "outputs": [],
   "source": [
    "import json\n",
    "import plotly.express as px\n",
    "import pandas as pd\n",
    "from ast import literal_eval"
   ]
  },
  {
   "cell_type": "code",
   "execution_count": 4,
   "metadata": {},
   "outputs": [
    {
     "name": "stderr",
     "output_type": "stream",
     "text": [
      "/home/wojciech/.local/lib/python3.7/site-packages/IPython/core/interactiveshell.py:3553: DtypeWarning: Columns (22) have mixed types.Specify dtype option on import or set low_memory=False.\n",
      "  exec(code_obj, self.user_global_ns, self.user_ns)\n"
     ]
    },
    {
     "data": {
      "text/html": [
       "<div>\n",
       "<style scoped>\n",
       "    .dataframe tbody tr th:only-of-type {\n",
       "        vertical-align: middle;\n",
       "    }\n",
       "\n",
       "    .dataframe tbody tr th {\n",
       "        vertical-align: top;\n",
       "    }\n",
       "\n",
       "    .dataframe thead th {\n",
       "        text-align: right;\n",
       "    }\n",
       "</style>\n",
       "<table border=\"1\" class=\"dataframe\">\n",
       "  <thead>\n",
       "    <tr style=\"text-align: right;\">\n",
       "      <th></th>\n",
       "      <th>id</th>\n",
       "      <th>name</th>\n",
       "      <th>shortTitle</th>\n",
       "      <th>text</th>\n",
       "      <th>teaser</th>\n",
       "      <th>shortTeaser</th>\n",
       "      <th>kicker</th>\n",
       "      <th>regions</th>\n",
       "      <th>keywords</th>\n",
       "      <th>keywordStrings</th>\n",
       "      <th>...</th>\n",
       "      <th>articles</th>\n",
       "      <th>isOpinion</th>\n",
       "      <th>geographicLocations</th>\n",
       "      <th>contentAssociations</th>\n",
       "      <th>mainContentImageLink</th>\n",
       "      <th>images</th>\n",
       "      <th>externalLinks</th>\n",
       "      <th>topStory</th>\n",
       "      <th>language</th>\n",
       "      <th>ts_lastModifiedDate</th>\n",
       "    </tr>\n",
       "  </thead>\n",
       "  <tbody>\n",
       "    <tr>\n",
       "      <th>60278</th>\n",
       "      <td>46912921</td>\n",
       "      <td>NASA spacecraft enters asteroid Bennu's orbit,...</td>\n",
       "      <td>NASA craft enters asteroid orbit, sets records</td>\n",
       "      <td>&lt;p&gt;NASA's unmanned spacecraft OSIRIS-REx enter...</td>\n",
       "      <td>The OSIRIS-REx spacecraft had arrived at the l...</td>\n",
       "      <td>NASA said its OSIRIS-REx spacecraft succesfull...</td>\n",
       "      <td>NaN</td>\n",
       "      <td>[]</td>\n",
       "      <td>[{'name': 'NASA'}, {'name': 'OSIRIS-REx'}, {'n...</td>\n",
       "      <td>['NASA', 'OSIRIS-REx', 'Bennu', 'asteroid']</td>\n",
       "      <td>...</td>\n",
       "      <td>[{'name': 'After two-year journey, NASA Osiris...</td>\n",
       "      <td>False</td>\n",
       "      <td>[]</td>\n",
       "      <td>[{'id': 47376129}, {'id': 47376131}, {'id': 47...</td>\n",
       "      <td>{'description': None}</td>\n",
       "      <td>[{'name': 'Sonde «Osiris Rex» nach zwei Jahren...</td>\n",
       "      <td>[{'name': 'DW Newsletter'}]</td>\n",
       "      <td>False</td>\n",
       "      <td>NaN</td>\n",
       "      <td>2019-01-01 03:57:28.904000+00:00</td>\n",
       "    </tr>\n",
       "    <tr>\n",
       "      <th>60279</th>\n",
       "      <td>46911356</td>\n",
       "      <td>UK brings in boats to patrol English Channel a...</td>\n",
       "      <td>UK deploys boats amid Channel migration spike</td>\n",
       "      <td>&lt;p&gt;Britain will recall two overseas border pat...</td>\n",
       "      <td>The UK is withdrawing patrol ships from overse...</td>\n",
       "      <td>The UK is withdrawing patrol ships from overse...</td>\n",
       "      <td>NaN</td>\n",
       "      <td>[]</td>\n",
       "      <td>[{'name': 'English Channel'}, {'name': 'migrat...</td>\n",
       "      <td>['English Channel', 'migration', 'boats', 'ill...</td>\n",
       "      <td>...</td>\n",
       "      <td>[{'name': '40 migrants rescued from boats in E...</td>\n",
       "      <td>False</td>\n",
       "      <td>[]</td>\n",
       "      <td>[{'id': 47375206}, {'id': 47375208}, {'id': 47...</td>\n",
       "      <td>{'description': None}</td>\n",
       "      <td>[{'name': 'Großbritanien | Zahl der Bootsflüch...</td>\n",
       "      <td>[]</td>\n",
       "      <td>False</td>\n",
       "      <td>NaN</td>\n",
       "      <td>2019-01-01 06:11:50.527000+00:00</td>\n",
       "    </tr>\n",
       "    <tr>\n",
       "      <th>60280</th>\n",
       "      <td>46909694</td>\n",
       "      <td>In Brazil, Jair Bolsonaro tries to unite the e...</td>\n",
       "      <td>Can Bolsonaro unite Brazil's motley right?</td>\n",
       "      <td>&lt;p&gt;Politics without ideologies and party cliqu...</td>\n",
       "      <td>Brazil is inaugurating President Jair Bolsonar...</td>\n",
       "      <td>In his campaign, Jair Bolsonaro targeted appea...</td>\n",
       "      <td>NaN</td>\n",
       "      <td>[]</td>\n",
       "      <td>[{'name': 'Brazil'}, {'name': 'Jair Bolsonaro'...</td>\n",
       "      <td>['Brazil', 'Jair Bolsonaro', 'Chicago economic...</td>\n",
       "      <td>...</td>\n",
       "      <td>[{'name': \"Bolsonaro's policies divide Afro-Br...</td>\n",
       "      <td>False</td>\n",
       "      <td>[]</td>\n",
       "      <td>[{'id': 47373913}, {'id': 47374152}, {'id': 47...</td>\n",
       "      <td>{'description': None}</td>\n",
       "      <td>[{'name': 'Brasilien - Präsident Jair Bolsonar...</td>\n",
       "      <td>[{'name': ''}]</td>\n",
       "      <td>False</td>\n",
       "      <td>NaN</td>\n",
       "      <td>2019-01-01 06:14:35.563000+00:00</td>\n",
       "    </tr>\n",
       "    <tr>\n",
       "      <th>60281</th>\n",
       "      <td>46912694</td>\n",
       "      <td>Tokyo: Man deliberately drives van into NYE cr...</td>\n",
       "      <td>Man drives car into Tokyo NYE crowd</td>\n",
       "      <td>&lt;p&gt;At least nine people were injured when a ma...</td>\n",
       "      <td>A man with an \"intent to murder\" has driven a ...</td>\n",
       "      <td>A man with an \"intent to murder\" has driven a ...</td>\n",
       "      <td>NaN</td>\n",
       "      <td>[]</td>\n",
       "      <td>[{'name': 'Japan'}, {'name': 'Tokyo'}, {'name'...</td>\n",
       "      <td>['Japan', 'Tokyo', 'Harajuku', 'attack']</td>\n",
       "      <td>...</td>\n",
       "      <td>[]</td>\n",
       "      <td>False</td>\n",
       "      <td>[]</td>\n",
       "      <td>[{'id': 47376009}, {'id': 47376011}, {'id': 47...</td>\n",
       "      <td>{'description': None}</td>\n",
       "      <td>[{'name': 'Japan | Autoangriff in Tokyo'}]</td>\n",
       "      <td>[]</td>\n",
       "      <td>False</td>\n",
       "      <td>NaN</td>\n",
       "      <td>2019-01-01 08:26:11.599000+00:00</td>\n",
       "    </tr>\n",
       "    <tr>\n",
       "      <th>60282</th>\n",
       "      <td>46910092</td>\n",
       "      <td>Bangladesh opposition leader: International co...</td>\n",
       "      <td>International community 'shouldn't recognize n...</td>\n",
       "      <td>&lt;div class=\"vjs-wrapper embed big \"&gt;&lt;h2 aria-l...</td>\n",
       "      <td>In an exclusive interview with DW, Kamal Hossa...</td>\n",
       "      <td>Bangladeshi opposition leader Kamal Hossain sl...</td>\n",
       "      <td>NaN</td>\n",
       "      <td>[]</td>\n",
       "      <td>[{'name': 'Asia'}, {'name': 'Bangladesh'}, {'n...</td>\n",
       "      <td>['Asia', 'Bangladesh', 'elections', 'Kamal Hos...</td>\n",
       "      <td>...</td>\n",
       "      <td>[{'name': \"Opinion: Bangladesh's missed chance...</td>\n",
       "      <td>False</td>\n",
       "      <td>[]</td>\n",
       "      <td>[{'id': 47374183}, {'id': 47374251}, {'id': 47...</td>\n",
       "      <td>{'description': None}</td>\n",
       "      <td>[{'name': 'Dr. Kamal Hossain '}, {'name': 'Pre...</td>\n",
       "      <td>[]</td>\n",
       "      <td>False</td>\n",
       "      <td>NaN</td>\n",
       "      <td>2019-01-01 09:05:00.736000+00:00</td>\n",
       "    </tr>\n",
       "  </tbody>\n",
       "</table>\n",
       "<p>5 rows × 29 columns</p>\n",
       "</div>"
      ],
      "text/plain": [
       "             id                                               name  \\\n",
       "60278  46912921  NASA spacecraft enters asteroid Bennu's orbit,...   \n",
       "60279  46911356  UK brings in boats to patrol English Channel a...   \n",
       "60280  46909694  In Brazil, Jair Bolsonaro tries to unite the e...   \n",
       "60281  46912694  Tokyo: Man deliberately drives van into NYE cr...   \n",
       "60282  46910092  Bangladesh opposition leader: International co...   \n",
       "\n",
       "                                              shortTitle  \\\n",
       "60278     NASA craft enters asteroid orbit, sets records   \n",
       "60279      UK deploys boats amid Channel migration spike   \n",
       "60280         Can Bolsonaro unite Brazil's motley right?   \n",
       "60281                Man drives car into Tokyo NYE crowd   \n",
       "60282  International community 'shouldn't recognize n...   \n",
       "\n",
       "                                                    text  \\\n",
       "60278  <p>NASA's unmanned spacecraft OSIRIS-REx enter...   \n",
       "60279  <p>Britain will recall two overseas border pat...   \n",
       "60280  <p>Politics without ideologies and party cliqu...   \n",
       "60281  <p>At least nine people were injured when a ma...   \n",
       "60282  <div class=\"vjs-wrapper embed big \"><h2 aria-l...   \n",
       "\n",
       "                                                  teaser  \\\n",
       "60278  The OSIRIS-REx spacecraft had arrived at the l...   \n",
       "60279  The UK is withdrawing patrol ships from overse...   \n",
       "60280  Brazil is inaugurating President Jair Bolsonar...   \n",
       "60281  A man with an \"intent to murder\" has driven a ...   \n",
       "60282  In an exclusive interview with DW, Kamal Hossa...   \n",
       "\n",
       "                                             shortTeaser kicker regions  \\\n",
       "60278  NASA said its OSIRIS-REx spacecraft succesfull...    NaN      []   \n",
       "60279  The UK is withdrawing patrol ships from overse...    NaN      []   \n",
       "60280  In his campaign, Jair Bolsonaro targeted appea...    NaN      []   \n",
       "60281  A man with an \"intent to murder\" has driven a ...    NaN      []   \n",
       "60282  Bangladeshi opposition leader Kamal Hossain sl...    NaN      []   \n",
       "\n",
       "                                                keywords  \\\n",
       "60278  [{'name': 'NASA'}, {'name': 'OSIRIS-REx'}, {'n...   \n",
       "60279  [{'name': 'English Channel'}, {'name': 'migrat...   \n",
       "60280  [{'name': 'Brazil'}, {'name': 'Jair Bolsonaro'...   \n",
       "60281  [{'name': 'Japan'}, {'name': 'Tokyo'}, {'name'...   \n",
       "60282  [{'name': 'Asia'}, {'name': 'Bangladesh'}, {'n...   \n",
       "\n",
       "                                          keywordStrings  ...  \\\n",
       "60278        ['NASA', 'OSIRIS-REx', 'Bennu', 'asteroid']  ...   \n",
       "60279  ['English Channel', 'migration', 'boats', 'ill...  ...   \n",
       "60280  ['Brazil', 'Jair Bolsonaro', 'Chicago economic...  ...   \n",
       "60281           ['Japan', 'Tokyo', 'Harajuku', 'attack']  ...   \n",
       "60282  ['Asia', 'Bangladesh', 'elections', 'Kamal Hos...  ...   \n",
       "\n",
       "                                                articles isOpinion  \\\n",
       "60278  [{'name': 'After two-year journey, NASA Osiris...     False   \n",
       "60279  [{'name': '40 migrants rescued from boats in E...     False   \n",
       "60280  [{'name': \"Bolsonaro's policies divide Afro-Br...     False   \n",
       "60281                                                 []     False   \n",
       "60282  [{'name': \"Opinion: Bangladesh's missed chance...     False   \n",
       "\n",
       "      geographicLocations                                contentAssociations  \\\n",
       "60278                  []  [{'id': 47376129}, {'id': 47376131}, {'id': 47...   \n",
       "60279                  []  [{'id': 47375206}, {'id': 47375208}, {'id': 47...   \n",
       "60280                  []  [{'id': 47373913}, {'id': 47374152}, {'id': 47...   \n",
       "60281                  []  [{'id': 47376009}, {'id': 47376011}, {'id': 47...   \n",
       "60282                  []  [{'id': 47374183}, {'id': 47374251}, {'id': 47...   \n",
       "\n",
       "        mainContentImageLink  \\\n",
       "60278  {'description': None}   \n",
       "60279  {'description': None}   \n",
       "60280  {'description': None}   \n",
       "60281  {'description': None}   \n",
       "60282  {'description': None}   \n",
       "\n",
       "                                                  images  \\\n",
       "60278  [{'name': 'Sonde «Osiris Rex» nach zwei Jahren...   \n",
       "60279  [{'name': 'Großbritanien | Zahl der Bootsflüch...   \n",
       "60280  [{'name': 'Brasilien - Präsident Jair Bolsonar...   \n",
       "60281         [{'name': 'Japan | Autoangriff in Tokyo'}]   \n",
       "60282  [{'name': 'Dr. Kamal Hossain '}, {'name': 'Pre...   \n",
       "\n",
       "                     externalLinks topStory language  \\\n",
       "60278  [{'name': 'DW Newsletter'}]    False      NaN   \n",
       "60279                           []    False      NaN   \n",
       "60280               [{'name': ''}]    False      NaN   \n",
       "60281                           []    False      NaN   \n",
       "60282                           []    False      NaN   \n",
       "\n",
       "                    ts_lastModifiedDate  \n",
       "60278  2019-01-01 03:57:28.904000+00:00  \n",
       "60279  2019-01-01 06:11:50.527000+00:00  \n",
       "60280  2019-01-01 06:14:35.563000+00:00  \n",
       "60281  2019-01-01 08:26:11.599000+00:00  \n",
       "60282  2019-01-01 09:05:00.736000+00:00  \n",
       "\n",
       "[5 rows x 29 columns]"
      ]
     },
     "execution_count": 4,
     "metadata": {},
     "output_type": "execute_result"
    }
   ],
   "source": [
    "df = pd.read_csv('../data/interim/CMS_2019_to_2022_ENGLISH.csv', index_col=0)\n",
    "\n",
    "df.head()"
   ]
  },
  {
   "cell_type": "code",
   "execution_count": 10,
   "metadata": {},
   "outputs": [
    {
     "name": "stderr",
     "output_type": "stream",
     "text": [
      "/home/wojciech/.local/lib/python3.7/site-packages/ipykernel_launcher.py:2: SettingWithCopyWarning: \n",
      "A value is trying to be set on a copy of a slice from a DataFrame.\n",
      "Try using .loc[row_indexer,col_indexer] = value instead\n",
      "\n",
      "See the caveats in the documentation: https://pandas.pydata.org/pandas-docs/stable/user_guide/indexing.html#returning-a-view-versus-a-copy\n",
      "  \n"
     ]
    },
    {
     "data": {
      "text/html": [
       "<div>\n",
       "<style scoped>\n",
       "    .dataframe tbody tr th:only-of-type {\n",
       "        vertical-align: middle;\n",
       "    }\n",
       "\n",
       "    .dataframe tbody tr th {\n",
       "        vertical-align: top;\n",
       "    }\n",
       "\n",
       "    .dataframe thead th {\n",
       "        text-align: right;\n",
       "    }\n",
       "</style>\n",
       "<table border=\"1\" class=\"dataframe\">\n",
       "  <thead>\n",
       "    <tr style=\"text-align: right;\">\n",
       "      <th></th>\n",
       "      <th>ts_lastModifiedDate</th>\n",
       "      <th>keywordStrings</th>\n",
       "    </tr>\n",
       "  </thead>\n",
       "  <tbody>\n",
       "    <tr>\n",
       "      <th>60278</th>\n",
       "      <td>2019-01-01 03:57:28.904000+00:00</td>\n",
       "      <td>NASA</td>\n",
       "    </tr>\n",
       "    <tr>\n",
       "      <th>60278</th>\n",
       "      <td>2019-01-01 03:57:28.904000+00:00</td>\n",
       "      <td>OSIRIS-REx</td>\n",
       "    </tr>\n",
       "    <tr>\n",
       "      <th>60278</th>\n",
       "      <td>2019-01-01 03:57:28.904000+00:00</td>\n",
       "      <td>Bennu</td>\n",
       "    </tr>\n",
       "    <tr>\n",
       "      <th>60278</th>\n",
       "      <td>2019-01-01 03:57:28.904000+00:00</td>\n",
       "      <td>asteroid</td>\n",
       "    </tr>\n",
       "    <tr>\n",
       "      <th>60279</th>\n",
       "      <td>2019-01-01 06:11:50.527000+00:00</td>\n",
       "      <td>English Channel</td>\n",
       "    </tr>\n",
       "  </tbody>\n",
       "</table>\n",
       "</div>"
      ],
      "text/plain": [
       "                    ts_lastModifiedDate   keywordStrings\n",
       "60278  2019-01-01 03:57:28.904000+00:00             NASA\n",
       "60278  2019-01-01 03:57:28.904000+00:00       OSIRIS-REx\n",
       "60278  2019-01-01 03:57:28.904000+00:00            Bennu\n",
       "60278  2019-01-01 03:57:28.904000+00:00         asteroid\n",
       "60279  2019-01-01 06:11:50.527000+00:00  English Channel"
      ]
     },
     "execution_count": 10,
     "metadata": {},
     "output_type": "execute_result"
    }
   ],
   "source": [
    "keys_times = df[['ts_lastModifiedDate', 'keywordStrings']]\n",
    "keys_times['keywordStrings'] = keys_times['keywordStrings'].apply(literal_eval)        #This ensures keywordStrings is an actual list, not just 'look-alike'\n",
    "keys_times = keys_times.explode('keywordStrings')\n",
    "keys_times.head()"
   ]
  },
  {
   "cell_type": "code",
   "execution_count": 11,
   "metadata": {},
   "outputs": [
    {
     "name": "stdout",
     "output_type": "stream",
     "text": [
      "Index(['Germany', 'coronavirus', 'COVID-19', 'China', 'Russia', 'Donald Trump',\n",
      "       'Asia', 'US', 'EU', 'Bundesliga'],\n",
      "      dtype='object')\n"
     ]
    }
   ],
   "source": [
    "top10 = keys_times['keywordStrings'].value_counts().nlargest(10)\n",
    "print(top10.index)"
   ]
  },
  {
   "cell_type": "code",
   "execution_count": 13,
   "metadata": {},
   "outputs": [
    {
     "name": "stderr",
     "output_type": "stream",
     "text": [
      "/home/wojciech/.local/lib/python3.7/site-packages/ipykernel_launcher.py:4: FutureWarning: Series.dt.weekofyear and Series.dt.week have been deprecated.  Please use Series.dt.isocalendar().week instead.\n",
      "  after removing the cwd from sys.path.\n"
     ]
    },
    {
     "ename": "ValueError",
     "evalue": "to assemble mappings requires at least that [year, month, day] be specified: [day,month] is missing",
     "output_type": "error",
     "traceback": [
      "\u001b[0;31m---------------------------------------------------------------------------\u001b[0m",
      "\u001b[0;31mValueError\u001b[0m                                Traceback (most recent call last)",
      "\u001b[0;32m/tmp/ipykernel_14268/952403383.py\u001b[0m in \u001b[0;36m<module>\u001b[0;34m\u001b[0m\n\u001b[1;32m      8\u001b[0m \u001b[0mgrouped_keys_times\u001b[0m \u001b[0;34m=\u001b[0m \u001b[0mkeys_times\u001b[0m\u001b[0;34m.\u001b[0m\u001b[0mgroupby\u001b[0m\u001b[0;34m(\u001b[0m\u001b[0;34m[\u001b[0m\u001b[0mkeys_times\u001b[0m\u001b[0;34m.\u001b[0m\u001b[0mkeywordStrings\u001b[0m\u001b[0;34m,\u001b[0m \u001b[0mkeys_times\u001b[0m\u001b[0;34m.\u001b[0m\u001b[0mmonth\u001b[0m\u001b[0;34m,\u001b[0m \u001b[0mkeys_times\u001b[0m\u001b[0;34m.\u001b[0m\u001b[0myear\u001b[0m\u001b[0;34m]\u001b[0m\u001b[0;34m)\u001b[0m\u001b[0;34m.\u001b[0m\u001b[0mcount\u001b[0m\u001b[0;34m(\u001b[0m\u001b[0;34m)\u001b[0m\u001b[0;34m.\u001b[0m\u001b[0mreset_index\u001b[0m\u001b[0;34m(\u001b[0m\u001b[0;34m)\u001b[0m\u001b[0;34m\u001b[0m\u001b[0;34m\u001b[0m\u001b[0m\n\u001b[1;32m      9\u001b[0m \u001b[0mgrouped_keys_times\u001b[0m \u001b[0;34m=\u001b[0m \u001b[0mgrouped_keys_times\u001b[0m\u001b[0;34m.\u001b[0m\u001b[0mrename\u001b[0m\u001b[0;34m(\u001b[0m\u001b[0mcolumns\u001b[0m\u001b[0;34m=\u001b[0m\u001b[0;34m{\u001b[0m\u001b[0;34m\"date\"\u001b[0m\u001b[0;34m:\u001b[0m \u001b[0;34m\"count\"\u001b[0m\u001b[0;34m}\u001b[0m\u001b[0;34m)\u001b[0m\u001b[0;34m\u001b[0m\u001b[0;34m\u001b[0m\u001b[0m\n\u001b[0;32m---> 10\u001b[0;31m \u001b[0mgrouped_keys_times\u001b[0m\u001b[0;34m[\u001b[0m\u001b[0;34m'yearmonth'\u001b[0m\u001b[0;34m]\u001b[0m \u001b[0;34m=\u001b[0m \u001b[0mpd\u001b[0m\u001b[0;34m.\u001b[0m\u001b[0mto_datetime\u001b[0m\u001b[0;34m(\u001b[0m\u001b[0mdict\u001b[0m\u001b[0;34m(\u001b[0m\u001b[0myear\u001b[0m\u001b[0;34m=\u001b[0m\u001b[0mgrouped_keys_times\u001b[0m\u001b[0;34m.\u001b[0m\u001b[0myear\u001b[0m\u001b[0;34m,\u001b[0m \u001b[0mweek\u001b[0m \u001b[0;34m=\u001b[0m \u001b[0mgrouped_keys_times\u001b[0m\u001b[0;34m.\u001b[0m\u001b[0mweek\u001b[0m\u001b[0;34m)\u001b[0m\u001b[0;34m)\u001b[0m\u001b[0;34m\u001b[0m\u001b[0;34m\u001b[0m\u001b[0m\n\u001b[0m\u001b[1;32m     11\u001b[0m \u001b[0mgrouped_keys_times\u001b[0m\u001b[0;34m.\u001b[0m\u001b[0mhead\u001b[0m\u001b[0;34m(\u001b[0m\u001b[0;34m)\u001b[0m\u001b[0;34m\u001b[0m\u001b[0;34m\u001b[0m\u001b[0m\n",
      "\u001b[0;32m~/.local/lib/python3.7/site-packages/pandas/core/tools/datetimes.py\u001b[0m in \u001b[0;36mto_datetime\u001b[0;34m(arg, errors, dayfirst, yearfirst, utc, format, exact, unit, infer_datetime_format, origin, cache)\u001b[0m\n\u001b[1;32m    888\u001b[0m             \u001b[0mresult\u001b[0m \u001b[0;34m=\u001b[0m \u001b[0marg\u001b[0m\u001b[0;34m.\u001b[0m\u001b[0m_constructor\u001b[0m\u001b[0;34m(\u001b[0m\u001b[0mvalues\u001b[0m\u001b[0;34m,\u001b[0m \u001b[0mindex\u001b[0m\u001b[0;34m=\u001b[0m\u001b[0marg\u001b[0m\u001b[0;34m.\u001b[0m\u001b[0mindex\u001b[0m\u001b[0;34m,\u001b[0m \u001b[0mname\u001b[0m\u001b[0;34m=\u001b[0m\u001b[0marg\u001b[0m\u001b[0;34m.\u001b[0m\u001b[0mname\u001b[0m\u001b[0;34m)\u001b[0m\u001b[0;34m\u001b[0m\u001b[0;34m\u001b[0m\u001b[0m\n\u001b[1;32m    889\u001b[0m     \u001b[0;32melif\u001b[0m \u001b[0misinstance\u001b[0m\u001b[0;34m(\u001b[0m\u001b[0marg\u001b[0m\u001b[0;34m,\u001b[0m \u001b[0;34m(\u001b[0m\u001b[0mABCDataFrame\u001b[0m\u001b[0;34m,\u001b[0m \u001b[0mabc\u001b[0m\u001b[0;34m.\u001b[0m\u001b[0mMutableMapping\u001b[0m\u001b[0;34m)\u001b[0m\u001b[0;34m)\u001b[0m\u001b[0;34m:\u001b[0m\u001b[0;34m\u001b[0m\u001b[0;34m\u001b[0m\u001b[0m\n\u001b[0;32m--> 890\u001b[0;31m         \u001b[0mresult\u001b[0m \u001b[0;34m=\u001b[0m \u001b[0m_assemble_from_unit_mappings\u001b[0m\u001b[0;34m(\u001b[0m\u001b[0marg\u001b[0m\u001b[0;34m,\u001b[0m \u001b[0merrors\u001b[0m\u001b[0;34m,\u001b[0m \u001b[0mtz\u001b[0m\u001b[0;34m)\u001b[0m\u001b[0;34m\u001b[0m\u001b[0;34m\u001b[0m\u001b[0m\n\u001b[0m\u001b[1;32m    891\u001b[0m     \u001b[0;32melif\u001b[0m \u001b[0misinstance\u001b[0m\u001b[0;34m(\u001b[0m\u001b[0marg\u001b[0m\u001b[0;34m,\u001b[0m \u001b[0mIndex\u001b[0m\u001b[0;34m)\u001b[0m\u001b[0;34m:\u001b[0m\u001b[0;34m\u001b[0m\u001b[0;34m\u001b[0m\u001b[0m\n\u001b[1;32m    892\u001b[0m         \u001b[0mcache_array\u001b[0m \u001b[0;34m=\u001b[0m \u001b[0m_maybe_cache\u001b[0m\u001b[0;34m(\u001b[0m\u001b[0marg\u001b[0m\u001b[0;34m,\u001b[0m \u001b[0mformat\u001b[0m\u001b[0;34m,\u001b[0m \u001b[0mcache\u001b[0m\u001b[0;34m,\u001b[0m \u001b[0mconvert_listlike\u001b[0m\u001b[0;34m)\u001b[0m\u001b[0;34m\u001b[0m\u001b[0;34m\u001b[0m\u001b[0m\n",
      "\u001b[0;32m~/.local/lib/python3.7/site-packages/pandas/core/tools/datetimes.py\u001b[0m in \u001b[0;36m_assemble_from_unit_mappings\u001b[0;34m(arg, errors, tz)\u001b[0m\n\u001b[1;32m    995\u001b[0m         \u001b[0m_required\u001b[0m \u001b[0;34m=\u001b[0m \u001b[0;34m\",\"\u001b[0m\u001b[0;34m.\u001b[0m\u001b[0mjoin\u001b[0m\u001b[0;34m(\u001b[0m\u001b[0mreq\u001b[0m\u001b[0;34m)\u001b[0m\u001b[0;34m\u001b[0m\u001b[0;34m\u001b[0m\u001b[0m\n\u001b[1;32m    996\u001b[0m         raise ValueError(\n\u001b[0;32m--> 997\u001b[0;31m             \u001b[0;34m\"to assemble mappings requires at least that \"\u001b[0m\u001b[0;34m\u001b[0m\u001b[0;34m\u001b[0m\u001b[0m\n\u001b[0m\u001b[1;32m    998\u001b[0m             \u001b[0;34mf\"[year, month, day] be specified: [{_required}] is missing\"\u001b[0m\u001b[0;34m\u001b[0m\u001b[0;34m\u001b[0m\u001b[0m\n\u001b[1;32m    999\u001b[0m         )\n",
      "\u001b[0;31mValueError\u001b[0m: to assemble mappings requires at least that [year, month, day] be specified: [day,month] is missing"
     ]
    }
   ],
   "source": [
    "keys_times['date']=pd.to_datetime(keys_times['ts_lastModifiedDate'])\n",
    "\n",
    "keys_times[\"day\"] = keys_times[\"date\"].dt.day\n",
    "keys_times[\"month\"] = keys_times[\"date\"].dt.month\n",
    "keys_times[\"year\"] = keys_times[\"date\"].dt.year\n",
    "\n",
    "grouped_keys_times = keys_times.groupby([keys_times.keywordStrings, keys_times.month, keys_times.year]).count().reset_index()\n",
    "grouped_keys_times = grouped_keys_times.rename(columns={\"date\": \"count\"})\n",
    "grouped_keys_times['yearmonth'] = pd.to_datetime(dict(year=grouped_keys_times.year, month=grouped_keys_times.month, day='01'))\n",
    "grouped_keys_times.head()"
   ]
  },
  {
   "cell_type": "code",
   "execution_count": 71,
   "metadata": {},
   "outputs": [
    {
     "data": {
      "application/vnd.plotly.v1+json": {
       "config": {
        "plotlyServerURL": "https://plot.ly"
       },
       "data": [
        {
         "hovertemplate": "keywordStrings=Asia<br>yearmonth=%{x}<br>count=%{y}<extra></extra>",
         "legendgroup": "Asia",
         "line": {
          "color": "#636efa",
          "dash": "solid"
         },
         "marker": {
          "symbol": "circle"
         },
         "mode": "lines",
         "name": "Asia",
         "orientation": "v",
         "showlegend": true,
         "type": "scatter",
         "x": [
          "2019-01-01T00:00:00",
          "2019-02-01T00:00:00",
          "2019-03-01T00:00:00",
          "2019-04-01T00:00:00",
          "2019-05-01T00:00:00",
          "2019-06-01T00:00:00",
          "2019-07-01T00:00:00",
          "2019-08-01T00:00:00",
          "2019-09-01T00:00:00",
          "2019-10-01T00:00:00",
          "2019-11-01T00:00:00",
          "2019-12-01T00:00:00",
          "2020-01-01T00:00:00",
          "2020-02-01T00:00:00",
          "2020-03-01T00:00:00",
          "2020-04-01T00:00:00",
          "2020-05-01T00:00:00",
          "2020-06-01T00:00:00",
          "2020-07-01T00:00:00",
          "2020-08-01T00:00:00",
          "2020-09-01T00:00:00",
          "2020-10-01T00:00:00",
          "2021-01-01T00:00:00",
          "2021-02-01T00:00:00",
          "2021-03-01T00:00:00",
          "2021-04-01T00:00:00",
          "2021-07-01T00:00:00",
          "2021-08-01T00:00:00",
          "2021-09-01T00:00:00",
          "2021-10-01T00:00:00",
          "2021-11-01T00:00:00",
          "2021-12-01T00:00:00"
         ],
         "xaxis": "x",
         "y": [
          36,
          36,
          28,
          28,
          38,
          25,
          37,
          29,
          32,
          33,
          31,
          19,
          21,
          30,
          28,
          47,
          43,
          58,
          54,
          41,
          45,
          54,
          40,
          42,
          69,
          35,
          49,
          57,
          43,
          47,
          47,
          38
         ],
         "yaxis": "y"
        },
        {
         "hovertemplate": "keywordStrings=Donald Trump<br>yearmonth=%{x}<br>count=%{y}<extra></extra>",
         "legendgroup": "Donald Trump",
         "line": {
          "color": "#EF553B",
          "dash": "solid"
         },
         "marker": {
          "symbol": "circle"
         },
         "mode": "lines",
         "name": "Donald Trump",
         "orientation": "v",
         "showlegend": true,
         "type": "scatter",
         "x": [
          "2019-01-01T00:00:00",
          "2019-02-01T00:00:00",
          "2019-03-01T00:00:00",
          "2019-04-01T00:00:00",
          "2019-05-01T00:00:00",
          "2019-06-01T00:00:00",
          "2019-07-01T00:00:00",
          "2019-08-01T00:00:00",
          "2019-09-01T00:00:00",
          "2019-10-01T00:00:00",
          "2019-11-01T00:00:00",
          "2019-12-01T00:00:00",
          "2020-01-01T00:00:00",
          "2020-02-01T00:00:00",
          "2020-03-01T00:00:00",
          "2020-04-01T00:00:00",
          "2020-05-01T00:00:00",
          "2020-06-01T00:00:00",
          "2020-07-01T00:00:00",
          "2020-08-01T00:00:00",
          "2020-09-01T00:00:00",
          "2020-10-01T00:00:00",
          "2020-11-01T00:00:00",
          "2021-01-01T00:00:00",
          "2021-02-01T00:00:00",
          "2021-03-01T00:00:00",
          "2021-04-01T00:00:00",
          "2021-05-01T00:00:00",
          "2021-07-01T00:00:00",
          "2021-08-01T00:00:00",
          "2021-09-01T00:00:00",
          "2021-10-01T00:00:00",
          "2021-11-01T00:00:00",
          "2021-12-01T00:00:00"
         ],
         "xaxis": "x",
         "y": [
          63,
          68,
          57,
          44,
          66,
          75,
          59,
          58,
          61,
          45,
          37,
          35,
          49,
          34,
          27,
          27,
          29,
          57,
          52,
          47,
          57,
          71,
          10,
          95,
          19,
          11,
          6,
          3,
          13,
          2,
          6,
          9,
          8,
          10
         ],
         "yaxis": "y"
        },
        {
         "hovertemplate": "keywordStrings=EU<br>yearmonth=%{x}<br>count=%{y}<extra></extra>",
         "legendgroup": "EU",
         "line": {
          "color": "#00cc96",
          "dash": "solid"
         },
         "marker": {
          "symbol": "circle"
         },
         "mode": "lines",
         "name": "EU",
         "orientation": "v",
         "showlegend": true,
         "type": "scatter",
         "x": [
          "2019-01-01T00:00:00",
          "2019-02-01T00:00:00",
          "2019-03-01T00:00:00",
          "2019-04-01T00:00:00",
          "2019-05-01T00:00:00",
          "2019-06-01T00:00:00",
          "2019-07-01T00:00:00",
          "2019-08-01T00:00:00",
          "2019-09-01T00:00:00",
          "2019-10-01T00:00:00",
          "2019-11-01T00:00:00",
          "2019-12-01T00:00:00",
          "2020-01-01T00:00:00",
          "2020-02-01T00:00:00",
          "2020-03-01T00:00:00",
          "2020-04-01T00:00:00",
          "2020-05-01T00:00:00",
          "2020-06-01T00:00:00",
          "2020-07-01T00:00:00",
          "2020-08-01T00:00:00",
          "2020-09-01T00:00:00",
          "2020-10-01T00:00:00",
          "2020-11-01T00:00:00",
          "2021-01-01T00:00:00",
          "2021-02-01T00:00:00",
          "2021-03-01T00:00:00",
          "2021-04-01T00:00:00",
          "2021-05-01T00:00:00",
          "2021-07-01T00:00:00",
          "2021-08-01T00:00:00",
          "2021-09-01T00:00:00",
          "2021-10-01T00:00:00",
          "2021-11-01T00:00:00",
          "2021-12-01T00:00:00"
         ],
         "xaxis": "x",
         "y": [
          37,
          43,
          68,
          36,
          34,
          39,
          54,
          16,
          29,
          30,
          31,
          28,
          24,
          29,
          23,
          21,
          28,
          41,
          35,
          16,
          40,
          46,
          1,
          38,
          44,
          60,
          15,
          2,
          32,
          20,
          24,
          39,
          33,
          22
         ],
         "yaxis": "y"
        },
        {
         "hovertemplate": "keywordStrings=Germany<br>yearmonth=%{x}<br>count=%{y}<extra></extra>",
         "legendgroup": "Germany",
         "line": {
          "color": "#ab63fa",
          "dash": "solid"
         },
         "marker": {
          "symbol": "circle"
         },
         "mode": "lines",
         "name": "Germany",
         "orientation": "v",
         "showlegend": true,
         "type": "scatter",
         "x": [
          "2019-01-01T00:00:00",
          "2019-02-01T00:00:00",
          "2019-03-01T00:00:00",
          "2019-04-01T00:00:00",
          "2019-05-01T00:00:00",
          "2019-06-01T00:00:00",
          "2019-07-01T00:00:00",
          "2019-08-01T00:00:00",
          "2019-09-01T00:00:00",
          "2019-10-01T00:00:00",
          "2019-11-01T00:00:00",
          "2019-12-01T00:00:00",
          "2020-01-01T00:00:00",
          "2020-02-01T00:00:00",
          "2020-03-01T00:00:00",
          "2020-04-01T00:00:00",
          "2020-05-01T00:00:00",
          "2020-06-01T00:00:00",
          "2020-07-01T00:00:00",
          "2020-08-01T00:00:00",
          "2020-09-01T00:00:00",
          "2020-10-01T00:00:00",
          "2020-11-01T00:00:00",
          "2021-01-01T00:00:00",
          "2021-02-01T00:00:00",
          "2021-03-01T00:00:00",
          "2021-04-01T00:00:00",
          "2021-05-01T00:00:00",
          "2021-07-01T00:00:00",
          "2021-08-01T00:00:00",
          "2021-09-01T00:00:00",
          "2021-10-01T00:00:00",
          "2021-11-01T00:00:00",
          "2021-12-01T00:00:00"
         ],
         "xaxis": "x",
         "y": [
          125,
          108,
          100,
          106,
          96,
          120,
          99,
          105,
          90,
          91,
          129,
          112,
          80,
          100,
          75,
          67,
          100,
          123,
          125,
          121,
          102,
          113,
          11,
          85,
          109,
          96,
          43,
          2,
          103,
          114,
          116,
          106,
          89,
          101
         ],
         "yaxis": "y"
        },
        {
         "hovertemplate": "keywordStrings=Bundesliga<br>yearmonth=%{x}<br>count=%{y}<extra></extra>",
         "legendgroup": "Bundesliga",
         "line": {
          "color": "#FFA15A",
          "dash": "solid"
         },
         "marker": {
          "symbol": "circle"
         },
         "mode": "lines",
         "name": "Bundesliga",
         "orientation": "v",
         "showlegend": true,
         "type": "scatter",
         "x": [
          "2019-01-01T00:00:00",
          "2019-02-01T00:00:00",
          "2019-03-01T00:00:00",
          "2019-04-01T00:00:00",
          "2019-05-01T00:00:00",
          "2019-06-01T00:00:00",
          "2019-07-01T00:00:00",
          "2019-08-01T00:00:00",
          "2019-09-01T00:00:00",
          "2019-10-01T00:00:00",
          "2019-11-01T00:00:00",
          "2019-12-01T00:00:00",
          "2020-01-01T00:00:00",
          "2020-02-01T00:00:00",
          "2020-03-01T00:00:00",
          "2020-04-01T00:00:00",
          "2020-05-01T00:00:00",
          "2020-06-01T00:00:00",
          "2020-07-01T00:00:00",
          "2020-08-01T00:00:00",
          "2020-09-01T00:00:00",
          "2020-10-01T00:00:00",
          "2020-11-01T00:00:00",
          "2020-12-01T00:00:00",
          "2021-01-01T00:00:00",
          "2021-02-01T00:00:00",
          "2021-03-01T00:00:00",
          "2021-04-01T00:00:00",
          "2021-05-01T00:00:00",
          "2021-06-01T00:00:00",
          "2021-07-01T00:00:00",
          "2021-08-01T00:00:00",
          "2021-09-01T00:00:00",
          "2021-10-01T00:00:00",
          "2021-11-01T00:00:00",
          "2021-12-01T00:00:00"
         ],
         "xaxis": "x",
         "y": [
          31,
          45,
          41,
          46,
          39,
          9,
          10,
          45,
          39,
          29,
          29,
          28,
          28,
          38,
          28,
          28,
          43,
          42,
          27,
          17,
          24,
          26,
          1,
          3,
          36,
          29,
          25,
          13,
          3,
          1,
          8,
          21,
          11,
          19,
          14,
          23
         ],
         "yaxis": "y"
        },
        {
         "hovertemplate": "keywordStrings=Russia<br>yearmonth=%{x}<br>count=%{y}<extra></extra>",
         "legendgroup": "Russia",
         "line": {
          "color": "#19d3f3",
          "dash": "solid"
         },
         "marker": {
          "symbol": "circle"
         },
         "mode": "lines",
         "name": "Russia",
         "orientation": "v",
         "showlegend": true,
         "type": "scatter",
         "x": [
          "2019-01-01T00:00:00",
          "2019-02-01T00:00:00",
          "2019-03-01T00:00:00",
          "2019-04-01T00:00:00",
          "2019-05-01T00:00:00",
          "2019-06-01T00:00:00",
          "2019-07-01T00:00:00",
          "2019-08-01T00:00:00",
          "2019-09-01T00:00:00",
          "2019-10-01T00:00:00",
          "2019-11-01T00:00:00",
          "2019-12-01T00:00:00",
          "2020-01-01T00:00:00",
          "2020-02-01T00:00:00",
          "2020-03-01T00:00:00",
          "2020-04-01T00:00:00",
          "2020-05-01T00:00:00",
          "2020-06-01T00:00:00",
          "2020-07-01T00:00:00",
          "2020-08-01T00:00:00",
          "2020-09-01T00:00:00",
          "2020-10-01T00:00:00",
          "2020-11-01T00:00:00",
          "2021-01-01T00:00:00",
          "2021-02-01T00:00:00",
          "2021-03-01T00:00:00",
          "2021-04-01T00:00:00",
          "2021-05-01T00:00:00",
          "2021-07-01T00:00:00",
          "2021-08-01T00:00:00",
          "2021-09-01T00:00:00",
          "2021-10-01T00:00:00",
          "2021-11-01T00:00:00",
          "2021-12-01T00:00:00"
         ],
         "xaxis": "x",
         "y": [
          33,
          44,
          32,
          42,
          47,
          55,
          58,
          51,
          37,
          40,
          38,
          62,
          30,
          34,
          30,
          14,
          31,
          35,
          44,
          41,
          44,
          53,
          5,
          41,
          53,
          39,
          29,
          1,
          39,
          46,
          42,
          38,
          40,
          63
         ],
         "yaxis": "y"
        },
        {
         "hovertemplate": "keywordStrings=China<br>yearmonth=%{x}<br>count=%{y}<extra></extra>",
         "legendgroup": "China",
         "line": {
          "color": "#FF6692",
          "dash": "solid"
         },
         "marker": {
          "symbol": "circle"
         },
         "mode": "lines",
         "name": "China",
         "orientation": "v",
         "showlegend": true,
         "type": "scatter",
         "x": [
          "2019-01-01T00:00:00",
          "2019-02-01T00:00:00",
          "2019-03-01T00:00:00",
          "2019-04-01T00:00:00",
          "2019-05-01T00:00:00",
          "2019-06-01T00:00:00",
          "2019-07-01T00:00:00",
          "2019-08-01T00:00:00",
          "2019-09-01T00:00:00",
          "2019-10-01T00:00:00",
          "2019-11-01T00:00:00",
          "2019-12-01T00:00:00",
          "2020-01-01T00:00:00",
          "2020-02-01T00:00:00",
          "2020-03-01T00:00:00",
          "2020-04-01T00:00:00",
          "2020-05-01T00:00:00",
          "2020-06-01T00:00:00",
          "2020-07-01T00:00:00",
          "2020-08-01T00:00:00",
          "2020-09-01T00:00:00",
          "2020-10-01T00:00:00",
          "2020-11-01T00:00:00",
          "2021-01-01T00:00:00",
          "2021-02-01T00:00:00",
          "2021-03-01T00:00:00",
          "2021-04-01T00:00:00",
          "2021-05-01T00:00:00",
          "2021-07-01T00:00:00",
          "2021-08-01T00:00:00",
          "2021-09-01T00:00:00",
          "2021-10-01T00:00:00",
          "2021-11-01T00:00:00",
          "2021-12-01T00:00:00"
         ],
         "xaxis": "x",
         "y": [
          53,
          29,
          55,
          32,
          46,
          69,
          58,
          63,
          57,
          57,
          63,
          45,
          66,
          66,
          27,
          35,
          57,
          71,
          68,
          49,
          55,
          36,
          4,
          61,
          37,
          71,
          27,
          3,
          40,
          47,
          54,
          48,
          61,
          44
         ],
         "yaxis": "y"
        },
        {
         "hovertemplate": "keywordStrings=US<br>yearmonth=%{x}<br>count=%{y}<extra></extra>",
         "legendgroup": "US",
         "line": {
          "color": "#B6E880",
          "dash": "solid"
         },
         "marker": {
          "symbol": "circle"
         },
         "mode": "lines",
         "name": "US",
         "orientation": "v",
         "showlegend": true,
         "type": "scatter",
         "x": [
          "2019-01-01T00:00:00",
          "2019-02-01T00:00:00",
          "2019-03-01T00:00:00",
          "2019-04-01T00:00:00",
          "2019-05-01T00:00:00",
          "2019-06-01T00:00:00",
          "2019-07-01T00:00:00",
          "2019-08-01T00:00:00",
          "2019-09-01T00:00:00",
          "2019-10-01T00:00:00",
          "2019-11-01T00:00:00",
          "2019-12-01T00:00:00",
          "2020-01-01T00:00:00",
          "2020-02-01T00:00:00",
          "2020-03-01T00:00:00",
          "2020-04-01T00:00:00",
          "2020-05-01T00:00:00",
          "2020-06-01T00:00:00",
          "2020-07-01T00:00:00",
          "2020-08-01T00:00:00",
          "2020-09-01T00:00:00",
          "2020-10-01T00:00:00",
          "2020-11-01T00:00:00",
          "2021-01-01T00:00:00",
          "2021-02-01T00:00:00",
          "2021-03-01T00:00:00",
          "2021-04-01T00:00:00",
          "2021-07-01T00:00:00",
          "2021-08-01T00:00:00",
          "2021-09-01T00:00:00",
          "2021-10-01T00:00:00",
          "2021-11-01T00:00:00",
          "2021-12-01T00:00:00"
         ],
         "xaxis": "x",
         "y": [
          33,
          28,
          29,
          12,
          47,
          45,
          42,
          35,
          41,
          24,
          22,
          25,
          34,
          17,
          20,
          11,
          26,
          38,
          43,
          36,
          40,
          38,
          2,
          55,
          42,
          44,
          17,
          40,
          44,
          48,
          39,
          35,
          32
         ],
         "yaxis": "y"
        },
        {
         "hovertemplate": "keywordStrings=coronavirus<br>yearmonth=%{x}<br>count=%{y}<extra></extra>",
         "legendgroup": "coronavirus",
         "line": {
          "color": "#FF97FF",
          "dash": "solid"
         },
         "marker": {
          "symbol": "circle"
         },
         "mode": "lines",
         "name": "coronavirus",
         "orientation": "v",
         "showlegend": true,
         "type": "scatter",
         "x": [
          "2020-01-01T00:00:00",
          "2020-02-01T00:00:00",
          "2020-03-01T00:00:00",
          "2020-04-01T00:00:00",
          "2020-05-01T00:00:00",
          "2020-06-01T00:00:00",
          "2020-07-01T00:00:00",
          "2020-08-01T00:00:00",
          "2020-09-01T00:00:00",
          "2020-10-01T00:00:00",
          "2020-11-01T00:00:00",
          "2020-12-01T00:00:00",
          "2021-01-01T00:00:00",
          "2021-02-01T00:00:00",
          "2021-03-01T00:00:00",
          "2021-04-01T00:00:00",
          "2021-05-01T00:00:00",
          "2021-06-01T00:00:00",
          "2021-07-01T00:00:00",
          "2021-08-01T00:00:00",
          "2021-09-01T00:00:00",
          "2021-10-01T00:00:00",
          "2021-11-01T00:00:00",
          "2021-12-01T00:00:00"
         ],
         "xaxis": "x",
         "y": [
          31,
          66,
          240,
          357,
          303,
          224,
          212,
          147,
          130,
          199,
          10,
          4,
          204,
          158,
          173,
          75,
          12,
          1,
          106,
          88,
          73,
          56,
          116,
          104
         ],
         "yaxis": "y"
        },
        {
         "hovertemplate": "keywordStrings=COVID-19<br>yearmonth=%{x}<br>count=%{y}<extra></extra>",
         "legendgroup": "COVID-19",
         "line": {
          "color": "#FECB52",
          "dash": "solid"
         },
         "marker": {
          "symbol": "circle"
         },
         "mode": "lines",
         "name": "COVID-19",
         "orientation": "v",
         "showlegend": true,
         "type": "scatter",
         "x": [
          "2020-02-01T00:00:00",
          "2020-03-01T00:00:00",
          "2020-04-01T00:00:00",
          "2020-05-01T00:00:00",
          "2020-06-01T00:00:00",
          "2020-07-01T00:00:00",
          "2020-08-01T00:00:00",
          "2020-09-01T00:00:00",
          "2020-10-01T00:00:00",
          "2020-11-01T00:00:00",
          "2020-12-01T00:00:00",
          "2021-01-01T00:00:00",
          "2021-02-01T00:00:00",
          "2021-03-01T00:00:00",
          "2021-04-01T00:00:00",
          "2021-05-01T00:00:00",
          "2021-06-01T00:00:00",
          "2021-07-01T00:00:00",
          "2021-08-01T00:00:00",
          "2021-09-01T00:00:00",
          "2021-10-01T00:00:00",
          "2021-11-01T00:00:00",
          "2021-12-01T00:00:00"
         ],
         "xaxis": "x",
         "y": [
          23,
          163,
          263,
          250,
          181,
          164,
          142,
          100,
          152,
          9,
          3,
          167,
          142,
          158,
          66,
          10,
          1,
          101,
          74,
          76,
          58,
          140,
          107
         ],
         "yaxis": "y"
        }
       ],
       "layout": {
        "legend": {
         "title": {
          "text": "keywordStrings"
         },
         "tracegroupgap": 0
        },
        "margin": {
         "t": 60
        },
        "template": {
         "data": {
          "bar": [
           {
            "error_x": {
             "color": "#2a3f5f"
            },
            "error_y": {
             "color": "#2a3f5f"
            },
            "marker": {
             "line": {
              "color": "#E5ECF6",
              "width": 0.5
             },
             "pattern": {
              "fillmode": "overlay",
              "size": 10,
              "solidity": 0.2
             }
            },
            "type": "bar"
           }
          ],
          "barpolar": [
           {
            "marker": {
             "line": {
              "color": "#E5ECF6",
              "width": 0.5
             },
             "pattern": {
              "fillmode": "overlay",
              "size": 10,
              "solidity": 0.2
             }
            },
            "type": "barpolar"
           }
          ],
          "carpet": [
           {
            "aaxis": {
             "endlinecolor": "#2a3f5f",
             "gridcolor": "white",
             "linecolor": "white",
             "minorgridcolor": "white",
             "startlinecolor": "#2a3f5f"
            },
            "baxis": {
             "endlinecolor": "#2a3f5f",
             "gridcolor": "white",
             "linecolor": "white",
             "minorgridcolor": "white",
             "startlinecolor": "#2a3f5f"
            },
            "type": "carpet"
           }
          ],
          "choropleth": [
           {
            "colorbar": {
             "outlinewidth": 0,
             "ticks": ""
            },
            "type": "choropleth"
           }
          ],
          "contour": [
           {
            "colorbar": {
             "outlinewidth": 0,
             "ticks": ""
            },
            "colorscale": [
             [
              0,
              "#0d0887"
             ],
             [
              0.1111111111111111,
              "#46039f"
             ],
             [
              0.2222222222222222,
              "#7201a8"
             ],
             [
              0.3333333333333333,
              "#9c179e"
             ],
             [
              0.4444444444444444,
              "#bd3786"
             ],
             [
              0.5555555555555556,
              "#d8576b"
             ],
             [
              0.6666666666666666,
              "#ed7953"
             ],
             [
              0.7777777777777778,
              "#fb9f3a"
             ],
             [
              0.8888888888888888,
              "#fdca26"
             ],
             [
              1,
              "#f0f921"
             ]
            ],
            "type": "contour"
           }
          ],
          "contourcarpet": [
           {
            "colorbar": {
             "outlinewidth": 0,
             "ticks": ""
            },
            "type": "contourcarpet"
           }
          ],
          "heatmap": [
           {
            "colorbar": {
             "outlinewidth": 0,
             "ticks": ""
            },
            "colorscale": [
             [
              0,
              "#0d0887"
             ],
             [
              0.1111111111111111,
              "#46039f"
             ],
             [
              0.2222222222222222,
              "#7201a8"
             ],
             [
              0.3333333333333333,
              "#9c179e"
             ],
             [
              0.4444444444444444,
              "#bd3786"
             ],
             [
              0.5555555555555556,
              "#d8576b"
             ],
             [
              0.6666666666666666,
              "#ed7953"
             ],
             [
              0.7777777777777778,
              "#fb9f3a"
             ],
             [
              0.8888888888888888,
              "#fdca26"
             ],
             [
              1,
              "#f0f921"
             ]
            ],
            "type": "heatmap"
           }
          ],
          "heatmapgl": [
           {
            "colorbar": {
             "outlinewidth": 0,
             "ticks": ""
            },
            "colorscale": [
             [
              0,
              "#0d0887"
             ],
             [
              0.1111111111111111,
              "#46039f"
             ],
             [
              0.2222222222222222,
              "#7201a8"
             ],
             [
              0.3333333333333333,
              "#9c179e"
             ],
             [
              0.4444444444444444,
              "#bd3786"
             ],
             [
              0.5555555555555556,
              "#d8576b"
             ],
             [
              0.6666666666666666,
              "#ed7953"
             ],
             [
              0.7777777777777778,
              "#fb9f3a"
             ],
             [
              0.8888888888888888,
              "#fdca26"
             ],
             [
              1,
              "#f0f921"
             ]
            ],
            "type": "heatmapgl"
           }
          ],
          "histogram": [
           {
            "marker": {
             "pattern": {
              "fillmode": "overlay",
              "size": 10,
              "solidity": 0.2
             }
            },
            "type": "histogram"
           }
          ],
          "histogram2d": [
           {
            "colorbar": {
             "outlinewidth": 0,
             "ticks": ""
            },
            "colorscale": [
             [
              0,
              "#0d0887"
             ],
             [
              0.1111111111111111,
              "#46039f"
             ],
             [
              0.2222222222222222,
              "#7201a8"
             ],
             [
              0.3333333333333333,
              "#9c179e"
             ],
             [
              0.4444444444444444,
              "#bd3786"
             ],
             [
              0.5555555555555556,
              "#d8576b"
             ],
             [
              0.6666666666666666,
              "#ed7953"
             ],
             [
              0.7777777777777778,
              "#fb9f3a"
             ],
             [
              0.8888888888888888,
              "#fdca26"
             ],
             [
              1,
              "#f0f921"
             ]
            ],
            "type": "histogram2d"
           }
          ],
          "histogram2dcontour": [
           {
            "colorbar": {
             "outlinewidth": 0,
             "ticks": ""
            },
            "colorscale": [
             [
              0,
              "#0d0887"
             ],
             [
              0.1111111111111111,
              "#46039f"
             ],
             [
              0.2222222222222222,
              "#7201a8"
             ],
             [
              0.3333333333333333,
              "#9c179e"
             ],
             [
              0.4444444444444444,
              "#bd3786"
             ],
             [
              0.5555555555555556,
              "#d8576b"
             ],
             [
              0.6666666666666666,
              "#ed7953"
             ],
             [
              0.7777777777777778,
              "#fb9f3a"
             ],
             [
              0.8888888888888888,
              "#fdca26"
             ],
             [
              1,
              "#f0f921"
             ]
            ],
            "type": "histogram2dcontour"
           }
          ],
          "mesh3d": [
           {
            "colorbar": {
             "outlinewidth": 0,
             "ticks": ""
            },
            "type": "mesh3d"
           }
          ],
          "parcoords": [
           {
            "line": {
             "colorbar": {
              "outlinewidth": 0,
              "ticks": ""
             }
            },
            "type": "parcoords"
           }
          ],
          "pie": [
           {
            "automargin": true,
            "type": "pie"
           }
          ],
          "scatter": [
           {
            "fillpattern": {
             "fillmode": "overlay",
             "size": 10,
             "solidity": 0.2
            },
            "type": "scatter"
           }
          ],
          "scatter3d": [
           {
            "line": {
             "colorbar": {
              "outlinewidth": 0,
              "ticks": ""
             }
            },
            "marker": {
             "colorbar": {
              "outlinewidth": 0,
              "ticks": ""
             }
            },
            "type": "scatter3d"
           }
          ],
          "scattercarpet": [
           {
            "marker": {
             "colorbar": {
              "outlinewidth": 0,
              "ticks": ""
             }
            },
            "type": "scattercarpet"
           }
          ],
          "scattergeo": [
           {
            "marker": {
             "colorbar": {
              "outlinewidth": 0,
              "ticks": ""
             }
            },
            "type": "scattergeo"
           }
          ],
          "scattergl": [
           {
            "marker": {
             "colorbar": {
              "outlinewidth": 0,
              "ticks": ""
             }
            },
            "type": "scattergl"
           }
          ],
          "scattermapbox": [
           {
            "marker": {
             "colorbar": {
              "outlinewidth": 0,
              "ticks": ""
             }
            },
            "type": "scattermapbox"
           }
          ],
          "scatterpolar": [
           {
            "marker": {
             "colorbar": {
              "outlinewidth": 0,
              "ticks": ""
             }
            },
            "type": "scatterpolar"
           }
          ],
          "scatterpolargl": [
           {
            "marker": {
             "colorbar": {
              "outlinewidth": 0,
              "ticks": ""
             }
            },
            "type": "scatterpolargl"
           }
          ],
          "scatterternary": [
           {
            "marker": {
             "colorbar": {
              "outlinewidth": 0,
              "ticks": ""
             }
            },
            "type": "scatterternary"
           }
          ],
          "surface": [
           {
            "colorbar": {
             "outlinewidth": 0,
             "ticks": ""
            },
            "colorscale": [
             [
              0,
              "#0d0887"
             ],
             [
              0.1111111111111111,
              "#46039f"
             ],
             [
              0.2222222222222222,
              "#7201a8"
             ],
             [
              0.3333333333333333,
              "#9c179e"
             ],
             [
              0.4444444444444444,
              "#bd3786"
             ],
             [
              0.5555555555555556,
              "#d8576b"
             ],
             [
              0.6666666666666666,
              "#ed7953"
             ],
             [
              0.7777777777777778,
              "#fb9f3a"
             ],
             [
              0.8888888888888888,
              "#fdca26"
             ],
             [
              1,
              "#f0f921"
             ]
            ],
            "type": "surface"
           }
          ],
          "table": [
           {
            "cells": {
             "fill": {
              "color": "#EBF0F8"
             },
             "line": {
              "color": "white"
             }
            },
            "header": {
             "fill": {
              "color": "#C8D4E3"
             },
             "line": {
              "color": "white"
             }
            },
            "type": "table"
           }
          ]
         },
         "layout": {
          "annotationdefaults": {
           "arrowcolor": "#2a3f5f",
           "arrowhead": 0,
           "arrowwidth": 1
          },
          "autotypenumbers": "strict",
          "coloraxis": {
           "colorbar": {
            "outlinewidth": 0,
            "ticks": ""
           }
          },
          "colorscale": {
           "diverging": [
            [
             0,
             "#8e0152"
            ],
            [
             0.1,
             "#c51b7d"
            ],
            [
             0.2,
             "#de77ae"
            ],
            [
             0.3,
             "#f1b6da"
            ],
            [
             0.4,
             "#fde0ef"
            ],
            [
             0.5,
             "#f7f7f7"
            ],
            [
             0.6,
             "#e6f5d0"
            ],
            [
             0.7,
             "#b8e186"
            ],
            [
             0.8,
             "#7fbc41"
            ],
            [
             0.9,
             "#4d9221"
            ],
            [
             1,
             "#276419"
            ]
           ],
           "sequential": [
            [
             0,
             "#0d0887"
            ],
            [
             0.1111111111111111,
             "#46039f"
            ],
            [
             0.2222222222222222,
             "#7201a8"
            ],
            [
             0.3333333333333333,
             "#9c179e"
            ],
            [
             0.4444444444444444,
             "#bd3786"
            ],
            [
             0.5555555555555556,
             "#d8576b"
            ],
            [
             0.6666666666666666,
             "#ed7953"
            ],
            [
             0.7777777777777778,
             "#fb9f3a"
            ],
            [
             0.8888888888888888,
             "#fdca26"
            ],
            [
             1,
             "#f0f921"
            ]
           ],
           "sequentialminus": [
            [
             0,
             "#0d0887"
            ],
            [
             0.1111111111111111,
             "#46039f"
            ],
            [
             0.2222222222222222,
             "#7201a8"
            ],
            [
             0.3333333333333333,
             "#9c179e"
            ],
            [
             0.4444444444444444,
             "#bd3786"
            ],
            [
             0.5555555555555556,
             "#d8576b"
            ],
            [
             0.6666666666666666,
             "#ed7953"
            ],
            [
             0.7777777777777778,
             "#fb9f3a"
            ],
            [
             0.8888888888888888,
             "#fdca26"
            ],
            [
             1,
             "#f0f921"
            ]
           ]
          },
          "colorway": [
           "#636efa",
           "#EF553B",
           "#00cc96",
           "#ab63fa",
           "#FFA15A",
           "#19d3f3",
           "#FF6692",
           "#B6E880",
           "#FF97FF",
           "#FECB52"
          ],
          "font": {
           "color": "#2a3f5f"
          },
          "geo": {
           "bgcolor": "white",
           "lakecolor": "white",
           "landcolor": "#E5ECF6",
           "showlakes": true,
           "showland": true,
           "subunitcolor": "white"
          },
          "hoverlabel": {
           "align": "left"
          },
          "hovermode": "closest",
          "mapbox": {
           "style": "light"
          },
          "paper_bgcolor": "white",
          "plot_bgcolor": "#E5ECF6",
          "polar": {
           "angularaxis": {
            "gridcolor": "white",
            "linecolor": "white",
            "ticks": ""
           },
           "bgcolor": "#E5ECF6",
           "radialaxis": {
            "gridcolor": "white",
            "linecolor": "white",
            "ticks": ""
           }
          },
          "scene": {
           "xaxis": {
            "backgroundcolor": "#E5ECF6",
            "gridcolor": "white",
            "gridwidth": 2,
            "linecolor": "white",
            "showbackground": true,
            "ticks": "",
            "zerolinecolor": "white"
           },
           "yaxis": {
            "backgroundcolor": "#E5ECF6",
            "gridcolor": "white",
            "gridwidth": 2,
            "linecolor": "white",
            "showbackground": true,
            "ticks": "",
            "zerolinecolor": "white"
           },
           "zaxis": {
            "backgroundcolor": "#E5ECF6",
            "gridcolor": "white",
            "gridwidth": 2,
            "linecolor": "white",
            "showbackground": true,
            "ticks": "",
            "zerolinecolor": "white"
           }
          },
          "shapedefaults": {
           "line": {
            "color": "#2a3f5f"
           }
          },
          "ternary": {
           "aaxis": {
            "gridcolor": "white",
            "linecolor": "white",
            "ticks": ""
           },
           "baxis": {
            "gridcolor": "white",
            "linecolor": "white",
            "ticks": ""
           },
           "bgcolor": "#E5ECF6",
           "caxis": {
            "gridcolor": "white",
            "linecolor": "white",
            "ticks": ""
           }
          },
          "title": {
           "x": 0.05
          },
          "xaxis": {
           "automargin": true,
           "gridcolor": "white",
           "linecolor": "white",
           "ticks": "",
           "title": {
            "standoff": 15
           },
           "zerolinecolor": "white",
           "zerolinewidth": 2
          },
          "yaxis": {
           "automargin": true,
           "gridcolor": "white",
           "linecolor": "white",
           "ticks": "",
           "title": {
            "standoff": 15
           },
           "zerolinecolor": "white",
           "zerolinewidth": 2
          }
         }
        },
        "xaxis": {
         "anchor": "y",
         "domain": [
          0,
          1
         ],
         "title": {
          "text": "yearmonth"
         }
        },
        "yaxis": {
         "anchor": "x",
         "domain": [
          0,
          1
         ],
         "title": {
          "text": "count"
         }
        }
       }
      }
     },
     "metadata": {},
     "output_type": "display_data"
    }
   ],
   "source": [
    "fig_df = grouped_keys_times.loc[grouped_keys_times['keywordStrings'].isin(top10.index)]\n",
    "fig_df = fig_df.sort_values(by=\"yearmonth\")\n",
    "\n",
    "fig = px.line(fig_df, x='yearmonth', y=\"count\", color=\"keywordStrings\")\n",
    "fig.show()"
   ]
  },
  {
   "attachments": {},
   "cell_type": "markdown",
   "metadata": {},
   "source": [
    "## Weeks series"
   ]
  },
  {
   "cell_type": "code",
   "execution_count": 112,
   "metadata": {},
   "outputs": [
    {
     "name": "stderr",
     "output_type": "stream",
     "text": [
      "/home/wojciech/.local/lib/python3.7/site-packages/ipykernel_launcher.py:2: SettingWithCopyWarning:\n",
      "\n",
      "\n",
      "A value is trying to be set on a copy of a slice from a DataFrame.\n",
      "Try using .loc[row_indexer,col_indexer] = value instead\n",
      "\n",
      "See the caveats in the documentation: https://pandas.pydata.org/pandas-docs/stable/user_guide/indexing.html#returning-a-view-versus-a-copy\n",
      "\n"
     ]
    },
    {
     "data": {
      "text/html": [
       "<div>\n",
       "<style scoped>\n",
       "    .dataframe tbody tr th:only-of-type {\n",
       "        vertical-align: middle;\n",
       "    }\n",
       "\n",
       "    .dataframe tbody tr th {\n",
       "        vertical-align: top;\n",
       "    }\n",
       "\n",
       "    .dataframe thead th {\n",
       "        text-align: right;\n",
       "    }\n",
       "</style>\n",
       "<table border=\"1\" class=\"dataframe\">\n",
       "  <thead>\n",
       "    <tr style=\"text-align: right;\">\n",
       "      <th></th>\n",
       "      <th>keywords</th>\n",
       "      <th>yearweek</th>\n",
       "      <th>count</th>\n",
       "    </tr>\n",
       "  </thead>\n",
       "  <tbody>\n",
       "    <tr>\n",
       "      <th>0</th>\n",
       "      <td>Refugees</td>\n",
       "      <td>2019-40</td>\n",
       "      <td>1</td>\n",
       "    </tr>\n",
       "    <tr>\n",
       "      <th>1</th>\n",
       "      <td>Refugees</td>\n",
       "      <td>2021-08</td>\n",
       "      <td>1</td>\n",
       "    </tr>\n",
       "    <tr>\n",
       "      <th>2</th>\n",
       "      <td>Refugees</td>\n",
       "      <td>2021-11</td>\n",
       "      <td>1</td>\n",
       "    </tr>\n",
       "    <tr>\n",
       "      <th>3</th>\n",
       "      <td>Refugees</td>\n",
       "      <td>2021-13</td>\n",
       "      <td>1</td>\n",
       "    </tr>\n",
       "    <tr>\n",
       "      <th>4</th>\n",
       "      <td>Refugees</td>\n",
       "      <td>2021-19</td>\n",
       "      <td>1</td>\n",
       "    </tr>\n",
       "  </tbody>\n",
       "</table>\n",
       "</div>"
      ],
      "text/plain": [
       "    keywords yearweek  count\n",
       "0   Refugees  2019-40      1\n",
       "1   Refugees  2021-08      1\n",
       "2   Refugees  2021-11      1\n",
       "3   Refugees  2021-13      1\n",
       "4   Refugees  2021-19      1"
      ]
     },
     "execution_count": 112,
     "metadata": {},
     "output_type": "execute_result"
    }
   ],
   "source": [
    "keys_times = df[['ts_lastModifiedDate', 'keywordStrings']]\n",
    "keys_times['keywordStrings'] = keys_times['keywordStrings'].apply(literal_eval)        #This ensures keywordStrings is an actual list, not just 'look-alike'\n",
    "keys_times = keys_times.explode('keywordStrings')\n",
    "\n",
    "keys_times['date'] = pd.to_datetime(keys_times['ts_lastModifiedDate'])\n",
    "keys_times['yearweek'] = keys_times['date'].dt.strftime('%Y-%V')\n",
    "grouped = keys_times.groupby(['keywordStrings', 'yearweek']).agg({'keywordStrings' : ['count']})\n",
    "grouped = grouped.reset_index()\n",
    "grouped = grouped.set_axis(['keywords', 'yearweek', 'count'], axis=1, inplace=False)\n",
    "grouped.head()"
   ]
  },
  {
   "cell_type": "code",
   "execution_count": 113,
   "metadata": {},
   "outputs": [
    {
     "data": {
      "application/vnd.plotly.v1+json": {
       "config": {
        "plotlyServerURL": "https://plot.ly"
       },
       "data": [
        {
         "hovertemplate": "keywords=Asia<br>yearweek=%{x}<br>count=%{y}<extra></extra>",
         "legendgroup": "Asia",
         "line": {
          "color": "#636efa",
          "dash": "solid"
         },
         "marker": {
          "symbol": "circle"
         },
         "mode": "lines",
         "name": "Asia",
         "showlegend": true,
         "type": "scattergl",
         "x": [
          "2019-01",
          "2019-02",
          "2019-03",
          "2019-04",
          "2019-05",
          "2019-06",
          "2019-07",
          "2019-08",
          "2019-09",
          "2019-10",
          "2019-11",
          "2019-12",
          "2019-13",
          "2019-14",
          "2019-15",
          "2019-16",
          "2019-17",
          "2019-18",
          "2019-19",
          "2019-20",
          "2019-21",
          "2019-22",
          "2019-23",
          "2019-24",
          "2019-25",
          "2019-26",
          "2019-27",
          "2019-28",
          "2019-29",
          "2019-30",
          "2019-31",
          "2019-32",
          "2019-33",
          "2019-34",
          "2019-35",
          "2019-36",
          "2019-37",
          "2019-38",
          "2019-39",
          "2019-40",
          "2019-41",
          "2019-42",
          "2019-43",
          "2019-44",
          "2019-45",
          "2019-46",
          "2019-47",
          "2019-48",
          "2019-49",
          "2019-50",
          "2019-51",
          "2019-52",
          "2020-01",
          "2020-02",
          "2020-03",
          "2020-04",
          "2020-05",
          "2020-06",
          "2020-07",
          "2020-08",
          "2020-09",
          "2020-10",
          "2020-11",
          "2020-12",
          "2020-13",
          "2020-14",
          "2020-15",
          "2020-16",
          "2020-17",
          "2020-18",
          "2020-19",
          "2020-20",
          "2020-21",
          "2020-22",
          "2020-23",
          "2020-24",
          "2020-25",
          "2020-26",
          "2020-27",
          "2020-28",
          "2020-29",
          "2020-30",
          "2020-31",
          "2020-32",
          "2020-33",
          "2020-34",
          "2020-35",
          "2020-36",
          "2020-37",
          "2020-38",
          "2020-39",
          "2020-40",
          "2020-41",
          "2020-42",
          "2020-43",
          "2020-44",
          "2021-01",
          "2021-02",
          "2021-03",
          "2021-04",
          "2021-05",
          "2021-06",
          "2021-07",
          "2021-08",
          "2021-09",
          "2021-10",
          "2021-11",
          "2021-12",
          "2021-13",
          "2021-14",
          "2021-15",
          "2021-26",
          "2021-27",
          "2021-28",
          "2021-29",
          "2021-30",
          "2021-31",
          "2021-32",
          "2021-33",
          "2021-34",
          "2021-35",
          "2021-36",
          "2021-37",
          "2021-38",
          "2021-39",
          "2021-40",
          "2021-41",
          "2021-42",
          "2021-43",
          "2021-44",
          "2021-45",
          "2021-46",
          "2021-47",
          "2021-48",
          "2021-49",
          "2021-50",
          "2021-51",
          "2021-52",
          "2021-53"
         ],
         "xaxis": "x",
         "y": [
          8,
          9,
          6,
          9,
          8,
          9,
          10,
          6,
          11,
          5,
          3,
          6,
          12,
          5,
          6,
          6,
          8,
          9,
          8,
          9,
          11,
          5,
          4,
          9,
          4,
          7,
          6,
          12,
          7,
          9,
          6,
          4,
          6,
          8,
          8,
          6,
          4,
          7,
          11,
          10,
          7,
          10,
          6,
          8,
          6,
          5,
          10,
          6,
          3,
          5,
          4,
          5,
          1,
          6,
          5,
          6,
          3,
          6,
          7,
          8,
          10,
          10,
          5,
          8,
          2,
          5,
          11,
          9,
          13,
          12,
          9,
          8,
          13,
          12,
          13,
          13,
          15,
          13,
          11,
          12,
          13,
          9,
          17,
          12,
          8,
          8,
          8,
          11,
          10,
          10,
          9,
          13,
          12,
          10,
          16,
          9,
          10,
          8,
          10,
          10,
          9,
          11,
          7,
          15,
          13,
          18,
          12,
          19,
          14,
          22,
          6,
          4,
          11,
          13,
          7,
          15,
          21,
          16,
          7,
          10,
          10,
          7,
          13,
          10,
          7,
          15,
          10,
          11,
          9,
          9,
          11,
          14,
          8,
          9,
          11,
          9,
          5,
          9,
          2
         ],
         "yaxis": "y"
        },
        {
         "hovertemplate": "keywords=China<br>yearweek=%{x}<br>count=%{y}<extra></extra>",
         "legendgroup": "China",
         "line": {
          "color": "#EF553B",
          "dash": "solid"
         },
         "marker": {
          "symbol": "circle"
         },
         "mode": "lines",
         "name": "China",
         "showlegend": true,
         "type": "scattergl",
         "x": [
          "2019-01",
          "2019-02",
          "2019-03",
          "2019-04",
          "2019-05",
          "2019-06",
          "2019-07",
          "2019-08",
          "2019-09",
          "2019-10",
          "2019-11",
          "2019-12",
          "2019-13",
          "2019-14",
          "2019-15",
          "2019-16",
          "2019-17",
          "2019-18",
          "2019-19",
          "2019-20",
          "2019-21",
          "2019-22",
          "2019-23",
          "2019-24",
          "2019-25",
          "2019-26",
          "2019-27",
          "2019-28",
          "2019-29",
          "2019-30",
          "2019-31",
          "2019-32",
          "2019-33",
          "2019-34",
          "2019-35",
          "2019-36",
          "2019-37",
          "2019-38",
          "2019-39",
          "2019-40",
          "2019-41",
          "2019-42",
          "2019-43",
          "2019-44",
          "2019-45",
          "2019-46",
          "2019-47",
          "2019-48",
          "2019-49",
          "2019-50",
          "2019-51",
          "2019-52",
          "2020-01",
          "2020-02",
          "2020-03",
          "2020-04",
          "2020-05",
          "2020-06",
          "2020-07",
          "2020-08",
          "2020-09",
          "2020-10",
          "2020-11",
          "2020-12",
          "2020-13",
          "2020-14",
          "2020-15",
          "2020-16",
          "2020-17",
          "2020-18",
          "2020-19",
          "2020-20",
          "2020-21",
          "2020-22",
          "2020-23",
          "2020-24",
          "2020-25",
          "2020-26",
          "2020-27",
          "2020-28",
          "2020-29",
          "2020-30",
          "2020-31",
          "2020-32",
          "2020-33",
          "2020-34",
          "2020-35",
          "2020-36",
          "2020-37",
          "2020-38",
          "2020-39",
          "2020-40",
          "2020-41",
          "2020-42",
          "2020-43",
          "2020-44",
          "2020-45",
          "2020-48",
          "2021-01",
          "2021-02",
          "2021-03",
          "2021-04",
          "2021-05",
          "2021-06",
          "2021-07",
          "2021-08",
          "2021-09",
          "2021-10",
          "2021-11",
          "2021-12",
          "2021-13",
          "2021-14",
          "2021-15",
          "2021-16",
          "2021-18",
          "2021-19",
          "2021-21",
          "2021-26",
          "2021-27",
          "2021-28",
          "2021-29",
          "2021-30",
          "2021-31",
          "2021-32",
          "2021-33",
          "2021-34",
          "2021-35",
          "2021-36",
          "2021-37",
          "2021-38",
          "2021-39",
          "2021-40",
          "2021-41",
          "2021-42",
          "2021-43",
          "2021-44",
          "2021-45",
          "2021-46",
          "2021-47",
          "2021-48",
          "2021-49",
          "2021-50",
          "2021-51",
          "2021-52",
          "2021-53"
         ],
         "xaxis": "x",
         "y": [
          16,
          11,
          11,
          15,
          11,
          9,
          6,
          9,
          6,
          10,
          8,
          17,
          17,
          5,
          8,
          4,
          11,
          8,
          17,
          8,
          13,
          10,
          15,
          18,
          19,
          11,
          11,
          17,
          9,
          13,
          17,
          14,
          17,
          16,
          7,
          13,
          13,
          10,
          15,
          15,
          18,
          12,
          11,
          11,
          11,
          12,
          17,
          20,
          11,
          7,
          10,
          7,
          5,
          8,
          17,
          20,
          18,
          22,
          16,
          14,
          13,
          9,
          5,
          4,
          3,
          9,
          5,
          9,
          11,
          10,
          8,
          8,
          22,
          15,
          18,
          16,
          19,
          8,
          18,
          15,
          20,
          10,
          21,
          17,
          7,
          8,
          8,
          14,
          11,
          18,
          12,
          8,
          8,
          4,
          11,
          8,
          3,
          1,
          13,
          14,
          9,
          23,
          5,
          16,
          6,
          10,
          9,
          16,
          16,
          23,
          11,
          14,
          7,
          2,
          1,
          1,
          1,
          3,
          5,
          9,
          11,
          12,
          20,
          9,
          8,
          7,
          8,
          11,
          17,
          14,
          10,
          12,
          11,
          11,
          11,
          19,
          14,
          13,
          13,
          9,
          9,
          11,
          13,
          4,
          2
         ],
         "yaxis": "y"
        },
        {
         "hovertemplate": "keywords=Donald Trump<br>yearweek=%{x}<br>count=%{y}<extra></extra>",
         "legendgroup": "Donald Trump",
         "line": {
          "color": "#00cc96",
          "dash": "solid"
         },
         "marker": {
          "symbol": "circle"
         },
         "mode": "lines",
         "name": "Donald Trump",
         "showlegend": true,
         "type": "scattergl",
         "x": [
          "2019-01",
          "2019-02",
          "2019-03",
          "2019-04",
          "2019-05",
          "2019-06",
          "2019-07",
          "2019-08",
          "2019-09",
          "2019-10",
          "2019-11",
          "2019-12",
          "2019-13",
          "2019-14",
          "2019-15",
          "2019-16",
          "2019-17",
          "2019-18",
          "2019-19",
          "2019-20",
          "2019-21",
          "2019-22",
          "2019-23",
          "2019-24",
          "2019-25",
          "2019-26",
          "2019-27",
          "2019-28",
          "2019-29",
          "2019-30",
          "2019-31",
          "2019-32",
          "2019-33",
          "2019-34",
          "2019-35",
          "2019-36",
          "2019-37",
          "2019-38",
          "2019-39",
          "2019-40",
          "2019-41",
          "2019-42",
          "2019-43",
          "2019-44",
          "2019-45",
          "2019-46",
          "2019-47",
          "2019-48",
          "2019-49",
          "2019-50",
          "2019-51",
          "2019-52",
          "2020-01",
          "2020-02",
          "2020-03",
          "2020-04",
          "2020-05",
          "2020-06",
          "2020-07",
          "2020-08",
          "2020-09",
          "2020-10",
          "2020-11",
          "2020-12",
          "2020-13",
          "2020-14",
          "2020-15",
          "2020-16",
          "2020-17",
          "2020-18",
          "2020-19",
          "2020-20",
          "2020-21",
          "2020-22",
          "2020-23",
          "2020-24",
          "2020-25",
          "2020-26",
          "2020-27",
          "2020-28",
          "2020-29",
          "2020-30",
          "2020-31",
          "2020-32",
          "2020-33",
          "2020-34",
          "2020-35",
          "2020-36",
          "2020-37",
          "2020-38",
          "2020-39",
          "2020-40",
          "2020-41",
          "2020-42",
          "2020-43",
          "2020-44",
          "2020-45",
          "2021-01",
          "2021-02",
          "2021-03",
          "2021-04",
          "2021-05",
          "2021-06",
          "2021-07",
          "2021-08",
          "2021-09",
          "2021-10",
          "2021-11",
          "2021-12",
          "2021-13",
          "2021-14",
          "2021-15",
          "2021-19",
          "2021-26",
          "2021-27",
          "2021-28",
          "2021-29",
          "2021-30",
          "2021-34",
          "2021-37",
          "2021-38",
          "2021-39",
          "2021-40",
          "2021-42",
          "2021-43",
          "2021-44",
          "2021-45",
          "2021-46",
          "2021-47",
          "2021-48",
          "2021-49",
          "2021-50",
          "2021-51",
          "2021-52",
          "2021-53"
         ],
         "xaxis": "x",
         "y": [
          7,
          15,
          18,
          20,
          8,
          18,
          14,
          21,
          22,
          14,
          6,
          15,
          11,
          12,
          8,
          12,
          10,
          10,
          15,
          15,
          16,
          21,
          20,
          15,
          13,
          18,
          9,
          11,
          15,
          15,
          14,
          15,
          10,
          16,
          13,
          9,
          16,
          12,
          22,
          10,
          13,
          11,
          10,
          10,
          8,
          9,
          7,
          5,
          11,
          8,
          12,
          3,
          8,
          14,
          7,
          11,
          11,
          13,
          7,
          3,
          10,
          8,
          4,
          6,
          5,
          10,
          7,
          4,
          6,
          4,
          1,
          4,
          11,
          12,
          18,
          8,
          17,
          11,
          7,
          17,
          15,
          11,
          6,
          9,
          5,
          21,
          10,
          8,
          10,
          15,
          13,
          22,
          21,
          11,
          20,
          9,
          10,
          30,
          35,
          18,
          11,
          1,
          11,
          3,
          4,
          4,
          3,
          2,
          1,
          4,
          2,
          1,
          3,
          1,
          3,
          2,
          3,
          4,
          2,
          3,
          3,
          2,
          2,
          4,
          1,
          2,
          2,
          2,
          1,
          1,
          2,
          4,
          1,
          3,
          1
         ],
         "yaxis": "y"
        },
        {
         "hovertemplate": "keywords=EU<br>yearweek=%{x}<br>count=%{y}<extra></extra>",
         "legendgroup": "EU",
         "line": {
          "color": "#ab63fa",
          "dash": "solid"
         },
         "marker": {
          "symbol": "circle"
         },
         "mode": "lines",
         "name": "EU",
         "showlegend": true,
         "type": "scattergl",
         "x": [
          "2019-01",
          "2019-02",
          "2019-03",
          "2019-04",
          "2019-05",
          "2019-06",
          "2019-07",
          "2019-08",
          "2019-09",
          "2019-10",
          "2019-11",
          "2019-12",
          "2019-13",
          "2019-14",
          "2019-15",
          "2019-16",
          "2019-17",
          "2019-18",
          "2019-19",
          "2019-20",
          "2019-21",
          "2019-22",
          "2019-23",
          "2019-24",
          "2019-25",
          "2019-26",
          "2019-27",
          "2019-28",
          "2019-29",
          "2019-30",
          "2019-31",
          "2019-32",
          "2019-33",
          "2019-34",
          "2019-35",
          "2019-36",
          "2019-37",
          "2019-38",
          "2019-39",
          "2019-40",
          "2019-41",
          "2019-42",
          "2019-43",
          "2019-44",
          "2019-45",
          "2019-46",
          "2019-47",
          "2019-48",
          "2019-49",
          "2019-50",
          "2019-51",
          "2019-52",
          "2020-01",
          "2020-02",
          "2020-03",
          "2020-04",
          "2020-05",
          "2020-06",
          "2020-07",
          "2020-08",
          "2020-09",
          "2020-10",
          "2020-11",
          "2020-12",
          "2020-13",
          "2020-14",
          "2020-15",
          "2020-16",
          "2020-17",
          "2020-18",
          "2020-19",
          "2020-20",
          "2020-21",
          "2020-22",
          "2020-23",
          "2020-24",
          "2020-25",
          "2020-26",
          "2020-27",
          "2020-28",
          "2020-29",
          "2020-30",
          "2020-31",
          "2020-32",
          "2020-33",
          "2020-34",
          "2020-35",
          "2020-36",
          "2020-37",
          "2020-38",
          "2020-39",
          "2020-40",
          "2020-41",
          "2020-42",
          "2020-43",
          "2020-44",
          "2020-45",
          "2021-01",
          "2021-02",
          "2021-03",
          "2021-04",
          "2021-05",
          "2021-06",
          "2021-07",
          "2021-08",
          "2021-09",
          "2021-10",
          "2021-11",
          "2021-12",
          "2021-13",
          "2021-14",
          "2021-15",
          "2021-16",
          "2021-18",
          "2021-21",
          "2021-26",
          "2021-27",
          "2021-28",
          "2021-29",
          "2021-30",
          "2021-31",
          "2021-32",
          "2021-33",
          "2021-34",
          "2021-35",
          "2021-36",
          "2021-37",
          "2021-38",
          "2021-39",
          "2021-40",
          "2021-41",
          "2021-42",
          "2021-43",
          "2021-44",
          "2021-45",
          "2021-46",
          "2021-47",
          "2021-48",
          "2021-49",
          "2021-50",
          "2021-51",
          "2021-53"
         ],
         "xaxis": "x",
         "y": [
          6,
          3,
          12,
          10,
          15,
          16,
          5,
          11,
          5,
          18,
          22,
          13,
          14,
          10,
          13,
          7,
          4,
          6,
          11,
          9,
          7,
          3,
          11,
          6,
          13,
          9,
          25,
          6,
          11,
          8,
          5,
          2,
          5,
          4,
          4,
          7,
          12,
          3,
          5,
          6,
          7,
          6,
          9,
          5,
          12,
          4,
          10,
          5,
          2,
          9,
          9,
          5,
          3,
          4,
          8,
          7,
          4,
          10,
          4,
          9,
          4,
          12,
          1,
          4,
          6,
          5,
          6,
          3,
          4,
          4,
          8,
          4,
          8,
          7,
          11,
          6,
          12,
          8,
          9,
          9,
          8,
          8,
          5,
          2,
          3,
          7,
          4,
          5,
          11,
          8,
          12,
          15,
          5,
          14,
          9,
          7,
          1,
          7,
          7,
          7,
          15,
          13,
          8,
          14,
          9,
          15,
          11,
          14,
          17,
          5,
          10,
          2,
          1,
          1,
          1,
          5,
          7,
          4,
          11,
          5,
          9,
          4,
          3,
          2,
          5,
          4,
          8,
          3,
          7,
          10,
          12,
          9,
          7,
          7,
          9,
          9,
          5,
          7,
          6,
          7,
          5,
          2
         ],
         "yaxis": "y"
        },
        {
         "hovertemplate": "keywords=Russia<br>yearweek=%{x}<br>count=%{y}<extra></extra>",
         "legendgroup": "Russia",
         "line": {
          "color": "#FFA15A",
          "dash": "solid"
         },
         "marker": {
          "symbol": "circle"
         },
         "mode": "lines",
         "name": "Russia",
         "showlegend": true,
         "type": "scattergl",
         "x": [
          "2019-01",
          "2019-02",
          "2019-03",
          "2019-04",
          "2019-05",
          "2019-06",
          "2019-07",
          "2019-08",
          "2019-09",
          "2019-10",
          "2019-11",
          "2019-12",
          "2019-13",
          "2019-14",
          "2019-15",
          "2019-16",
          "2019-17",
          "2019-18",
          "2019-19",
          "2019-20",
          "2019-21",
          "2019-22",
          "2019-23",
          "2019-24",
          "2019-25",
          "2019-26",
          "2019-27",
          "2019-28",
          "2019-29",
          "2019-30",
          "2019-31",
          "2019-32",
          "2019-33",
          "2019-34",
          "2019-35",
          "2019-36",
          "2019-37",
          "2019-38",
          "2019-39",
          "2019-40",
          "2019-41",
          "2019-42",
          "2019-43",
          "2019-44",
          "2019-45",
          "2019-46",
          "2019-47",
          "2019-48",
          "2019-49",
          "2019-50",
          "2019-51",
          "2019-52",
          "2020-02",
          "2020-03",
          "2020-04",
          "2020-05",
          "2020-06",
          "2020-07",
          "2020-08",
          "2020-09",
          "2020-10",
          "2020-11",
          "2020-12",
          "2020-13",
          "2020-14",
          "2020-15",
          "2020-16",
          "2020-17",
          "2020-18",
          "2020-19",
          "2020-20",
          "2020-21",
          "2020-22",
          "2020-23",
          "2020-24",
          "2020-25",
          "2020-26",
          "2020-27",
          "2020-28",
          "2020-29",
          "2020-30",
          "2020-31",
          "2020-32",
          "2020-33",
          "2020-34",
          "2020-35",
          "2020-36",
          "2020-37",
          "2020-38",
          "2020-39",
          "2020-40",
          "2020-41",
          "2020-42",
          "2020-43",
          "2020-44",
          "2020-45",
          "2021-01",
          "2021-02",
          "2021-03",
          "2021-04",
          "2021-05",
          "2021-06",
          "2021-07",
          "2021-08",
          "2021-09",
          "2021-10",
          "2021-11",
          "2021-12",
          "2021-13",
          "2021-14",
          "2021-15",
          "2021-16",
          "2021-20",
          "2021-26",
          "2021-27",
          "2021-28",
          "2021-29",
          "2021-30",
          "2021-31",
          "2021-32",
          "2021-33",
          "2021-34",
          "2021-35",
          "2021-36",
          "2021-37",
          "2021-38",
          "2021-39",
          "2021-40",
          "2021-41",
          "2021-42",
          "2021-43",
          "2021-44",
          "2021-45",
          "2021-46",
          "2021-47",
          "2021-48",
          "2021-49",
          "2021-50",
          "2021-51",
          "2021-52"
         ],
         "xaxis": "x",
         "y": [
          7,
          7,
          11,
          9,
          8,
          13,
          8,
          14,
          9,
          5,
          5,
          6,
          11,
          6,
          8,
          12,
          14,
          13,
          8,
          10,
          14,
          8,
          11,
          15,
          11,
          14,
          12,
          14,
          9,
          19,
          15,
          16,
          11,
          7,
          6,
          11,
          10,
          7,
          7,
          9,
          4,
          9,
          13,
          10,
          6,
          10,
          9,
          12,
          15,
          16,
          9,
          16,
          11,
          7,
          7,
          6,
          3,
          11,
          8,
          12,
          8,
          12,
          2,
          3,
          7,
          3,
          3,
          3,
          3,
          11,
          9,
          4,
          6,
          8,
          10,
          9,
          6,
          6,
          11,
          8,
          12,
          12,
          4,
          9,
          9,
          14,
          13,
          12,
          9,
          8,
          12,
          15,
          16,
          11,
          5,
          3,
          2,
          8,
          18,
          13,
          18,
          12,
          14,
          9,
          4,
          13,
          9,
          8,
          12,
          12,
          8,
          2,
          1,
          2,
          6,
          12,
          4,
          15,
          11,
          15,
          6,
          11,
          7,
          10,
          10,
          12,
          7,
          9,
          10,
          10,
          8,
          8,
          10,
          10,
          10,
          9,
          9,
          19,
          15,
          13
         ],
         "yaxis": "y"
        },
        {
         "hovertemplate": "keywords=US<br>yearweek=%{x}<br>count=%{y}<extra></extra>",
         "legendgroup": "US",
         "line": {
          "color": "#19d3f3",
          "dash": "solid"
         },
         "marker": {
          "symbol": "circle"
         },
         "mode": "lines",
         "name": "US",
         "showlegend": true,
         "type": "scattergl",
         "x": [
          "2019-01",
          "2019-02",
          "2019-03",
          "2019-04",
          "2019-05",
          "2019-06",
          "2019-07",
          "2019-08",
          "2019-09",
          "2019-10",
          "2019-11",
          "2019-12",
          "2019-13",
          "2019-14",
          "2019-15",
          "2019-16",
          "2019-17",
          "2019-18",
          "2019-19",
          "2019-20",
          "2019-21",
          "2019-22",
          "2019-23",
          "2019-24",
          "2019-25",
          "2019-26",
          "2019-27",
          "2019-28",
          "2019-29",
          "2019-30",
          "2019-31",
          "2019-32",
          "2019-33",
          "2019-34",
          "2019-35",
          "2019-36",
          "2019-37",
          "2019-38",
          "2019-39",
          "2019-40",
          "2019-41",
          "2019-42",
          "2019-43",
          "2019-44",
          "2019-45",
          "2019-46",
          "2019-47",
          "2019-48",
          "2019-49",
          "2019-50",
          "2019-51",
          "2019-52",
          "2020-01",
          "2020-02",
          "2020-03",
          "2020-04",
          "2020-05",
          "2020-06",
          "2020-07",
          "2020-08",
          "2020-09",
          "2020-10",
          "2020-11",
          "2020-12",
          "2020-13",
          "2020-14",
          "2020-15",
          "2020-16",
          "2020-17",
          "2020-18",
          "2020-19",
          "2020-20",
          "2020-21",
          "2020-22",
          "2020-23",
          "2020-24",
          "2020-25",
          "2020-26",
          "2020-27",
          "2020-28",
          "2020-29",
          "2020-30",
          "2020-31",
          "2020-32",
          "2020-33",
          "2020-34",
          "2020-35",
          "2020-36",
          "2020-37",
          "2020-38",
          "2020-39",
          "2020-40",
          "2020-41",
          "2020-42",
          "2020-43",
          "2020-44",
          "2020-45",
          "2021-01",
          "2021-02",
          "2021-03",
          "2021-04",
          "2021-05",
          "2021-06",
          "2021-07",
          "2021-08",
          "2021-09",
          "2021-10",
          "2021-11",
          "2021-12",
          "2021-13",
          "2021-14",
          "2021-15",
          "2021-26",
          "2021-27",
          "2021-28",
          "2021-29",
          "2021-30",
          "2021-31",
          "2021-32",
          "2021-33",
          "2021-34",
          "2021-35",
          "2021-36",
          "2021-37",
          "2021-38",
          "2021-39",
          "2021-40",
          "2021-41",
          "2021-42",
          "2021-43",
          "2021-44",
          "2021-45",
          "2021-46",
          "2021-47",
          "2021-48",
          "2021-49",
          "2021-50",
          "2021-51",
          "2021-52",
          "2021-53"
         ],
         "xaxis": "x",
         "y": [
          10,
          6,
          8,
          5,
          10,
          5,
          9,
          6,
          10,
          9,
          5,
          4,
          5,
          4,
          3,
          3,
          1,
          4,
          8,
          18,
          12,
          12,
          12,
          6,
          6,
          15,
          8,
          8,
          12,
          7,
          13,
          14,
          5,
          4,
          6,
          8,
          9,
          11,
          13,
          6,
          7,
          1,
          6,
          5,
          9,
          3,
          6,
          4,
          6,
          9,
          4,
          3,
          3,
          16,
          6,
          4,
          7,
          2,
          5,
          6,
          4,
          6,
          5,
          5,
          1,
          4,
          3,
          1,
          4,
          2,
          4,
          4,
          9,
          7,
          8,
          9,
          10,
          8,
          7,
          6,
          11,
          10,
          16,
          8,
          3,
          10,
          11,
          3,
          9,
          11,
          10,
          12,
          11,
          3,
          16,
          3,
          2,
          14,
          15,
          13,
          12,
          11,
          7,
          12,
          12,
          5,
          7,
          15,
          15,
          3,
          12,
          4,
          2,
          4,
          15,
          6,
          13,
          15,
          11,
          4,
          11,
          12,
          6,
          12,
          15,
          13,
          12,
          6,
          6,
          8,
          7,
          6,
          16,
          5,
          8,
          7,
          5,
          6,
          7,
          1
         ],
         "yaxis": "y"
        },
        {
         "hovertemplate": "keywords=Germany<br>yearweek=%{x}<br>count=%{y}<extra></extra>",
         "legendgroup": "Germany",
         "line": {
          "color": "#FF6692",
          "dash": "solid"
         },
         "marker": {
          "symbol": "circle"
         },
         "mode": "lines",
         "name": "Germany",
         "showlegend": true,
         "type": "scattergl",
         "x": [
          "2019-01",
          "2019-02",
          "2019-03",
          "2019-04",
          "2019-05",
          "2019-06",
          "2019-07",
          "2019-08",
          "2019-09",
          "2019-10",
          "2019-11",
          "2019-12",
          "2019-13",
          "2019-14",
          "2019-15",
          "2019-16",
          "2019-17",
          "2019-18",
          "2019-19",
          "2019-20",
          "2019-21",
          "2019-22",
          "2019-23",
          "2019-24",
          "2019-25",
          "2019-26",
          "2019-27",
          "2019-28",
          "2019-29",
          "2019-30",
          "2019-31",
          "2019-32",
          "2019-33",
          "2019-34",
          "2019-35",
          "2019-36",
          "2019-37",
          "2019-38",
          "2019-39",
          "2019-40",
          "2019-41",
          "2019-42",
          "2019-43",
          "2019-44",
          "2019-45",
          "2019-46",
          "2019-47",
          "2019-48",
          "2019-49",
          "2019-50",
          "2019-51",
          "2019-52",
          "2020-01",
          "2020-02",
          "2020-03",
          "2020-04",
          "2020-05",
          "2020-06",
          "2020-07",
          "2020-08",
          "2020-09",
          "2020-10",
          "2020-11",
          "2020-12",
          "2020-13",
          "2020-14",
          "2020-15",
          "2020-16",
          "2020-17",
          "2020-18",
          "2020-19",
          "2020-20",
          "2020-21",
          "2020-22",
          "2020-23",
          "2020-24",
          "2020-25",
          "2020-26",
          "2020-27",
          "2020-28",
          "2020-29",
          "2020-30",
          "2020-31",
          "2020-32",
          "2020-33",
          "2020-34",
          "2020-35",
          "2020-36",
          "2020-37",
          "2020-38",
          "2020-39",
          "2020-40",
          "2020-41",
          "2020-42",
          "2020-43",
          "2020-44",
          "2020-45",
          "2020-46",
          "2021-01",
          "2021-02",
          "2021-03",
          "2021-04",
          "2021-05",
          "2021-06",
          "2021-07",
          "2021-08",
          "2021-09",
          "2021-10",
          "2021-11",
          "2021-12",
          "2021-13",
          "2021-14",
          "2021-15",
          "2021-16",
          "2021-17",
          "2021-22",
          "2021-26",
          "2021-27",
          "2021-28",
          "2021-29",
          "2021-30",
          "2021-31",
          "2021-32",
          "2021-33",
          "2021-34",
          "2021-35",
          "2021-36",
          "2021-37",
          "2021-38",
          "2021-39",
          "2021-40",
          "2021-41",
          "2021-42",
          "2021-43",
          "2021-44",
          "2021-45",
          "2021-46",
          "2021-47",
          "2021-48",
          "2021-49",
          "2021-50",
          "2021-51",
          "2021-52",
          "2021-53"
         ],
         "xaxis": "x",
         "y": [
          23,
          30,
          27,
          31,
          24,
          31,
          24,
          31,
          24,
          21,
          18,
          29,
          24,
          36,
          23,
          18,
          26,
          17,
          19,
          22,
          20,
          21,
          31,
          25,
          34,
          30,
          23,
          17,
          25,
          21,
          31,
          24,
          15,
          29,
          20,
          20,
          29,
          20,
          17,
          13,
          29,
          24,
          12,
          26,
          29,
          31,
          38,
          26,
          39,
          25,
          18,
          21,
          4,
          15,
          28,
          22,
          15,
          27,
          28,
          31,
          13,
          19,
          10,
          17,
          19,
          17,
          14,
          24,
          9,
          16,
          29,
          21,
          23,
          21,
          29,
          25,
          24,
          37,
          32,
          23,
          23,
          23,
          38,
          23,
          30,
          25,
          34,
          24,
          22,
          27,
          17,
          28,
          25,
          30,
          26,
          24,
          5,
          1,
          13,
          25,
          25,
          15,
          25,
          31,
          28,
          25,
          23,
          16,
          19,
          25,
          23,
          18,
          8,
          5,
          3,
          1,
          5,
          18,
          22,
          27,
          34,
          28,
          27,
          18,
          33,
          23,
          31,
          25,
          25,
          26,
          31,
          18,
          24,
          24,
          29,
          21,
          16,
          18,
          23,
          28,
          25,
          16,
          14,
          7
         ],
         "yaxis": "y"
        },
        {
         "hovertemplate": "keywords=Bundesliga<br>yearweek=%{x}<br>count=%{y}<extra></extra>",
         "legendgroup": "Bundesliga",
         "line": {
          "color": "#B6E880",
          "dash": "solid"
         },
         "marker": {
          "symbol": "circle"
         },
         "mode": "lines",
         "name": "Bundesliga",
         "showlegend": true,
         "type": "scattergl",
         "x": [
          "2019-01",
          "2019-02",
          "2019-03",
          "2019-04",
          "2019-05",
          "2019-06",
          "2019-07",
          "2019-08",
          "2019-09",
          "2019-10",
          "2019-11",
          "2019-12",
          "2019-13",
          "2019-14",
          "2019-15",
          "2019-16",
          "2019-17",
          "2019-18",
          "2019-19",
          "2019-20",
          "2019-21",
          "2019-22",
          "2019-24",
          "2019-25",
          "2019-26",
          "2019-27",
          "2019-28",
          "2019-29",
          "2019-30",
          "2019-31",
          "2019-32",
          "2019-33",
          "2019-34",
          "2019-35",
          "2019-36",
          "2019-37",
          "2019-38",
          "2019-39",
          "2019-40",
          "2019-41",
          "2019-42",
          "2019-43",
          "2019-44",
          "2019-45",
          "2019-46",
          "2019-47",
          "2019-48",
          "2019-49",
          "2019-50",
          "2019-51",
          "2020-02",
          "2020-03",
          "2020-04",
          "2020-05",
          "2020-06",
          "2020-07",
          "2020-08",
          "2020-09",
          "2020-10",
          "2020-11",
          "2020-12",
          "2020-13",
          "2020-14",
          "2020-15",
          "2020-16",
          "2020-17",
          "2020-18",
          "2020-19",
          "2020-20",
          "2020-21",
          "2020-22",
          "2020-23",
          "2020-24",
          "2020-25",
          "2020-26",
          "2020-27",
          "2020-28",
          "2020-29",
          "2020-30",
          "2020-31",
          "2020-32",
          "2020-33",
          "2020-34",
          "2020-35",
          "2020-36",
          "2020-37",
          "2020-38",
          "2020-39",
          "2020-40",
          "2020-41",
          "2020-42",
          "2020-43",
          "2020-44",
          "2020-45",
          "2020-51",
          "2021-01",
          "2021-02",
          "2021-03",
          "2021-04",
          "2021-05",
          "2021-06",
          "2021-07",
          "2021-08",
          "2021-09",
          "2021-10",
          "2021-11",
          "2021-12",
          "2021-13",
          "2021-14",
          "2021-15",
          "2021-18",
          "2021-20",
          "2021-21",
          "2021-25",
          "2021-26",
          "2021-27",
          "2021-29",
          "2021-30",
          "2021-31",
          "2021-32",
          "2021-33",
          "2021-34",
          "2021-35",
          "2021-36",
          "2021-37",
          "2021-38",
          "2021-39",
          "2021-40",
          "2021-41",
          "2021-42",
          "2021-43",
          "2021-44",
          "2021-45",
          "2021-46",
          "2021-47",
          "2021-48",
          "2021-49",
          "2021-50",
          "2021-51",
          "2021-52",
          "2021-53"
         ],
         "xaxis": "x",
         "y": [
          6,
          3,
          8,
          11,
          9,
          11,
          10,
          14,
          12,
          6,
          11,
          9,
          8,
          12,
          11,
          6,
          16,
          9,
          8,
          7,
          12,
          4,
          2,
          3,
          4,
          3,
          1,
          1,
          4,
          4,
          8,
          13,
          11,
          12,
          5,
          6,
          14,
          11,
          9,
          3,
          7,
          6,
          9,
          5,
          6,
          3,
          13,
          11,
          6,
          8,
          6,
          9,
          11,
          9,
          9,
          7,
          4,
          14,
          7,
          12,
          2,
          3,
          4,
          7,
          5,
          5,
          8,
          5,
          11,
          17,
          10,
          12,
          11,
          11,
          5,
          14,
          9,
          3,
          3,
          1,
          6,
          7,
          1,
          3,
          3,
          1,
          12,
          6,
          7,
          5,
          7,
          4,
          5,
          1,
          3,
          9,
          8,
          5,
          10,
          6,
          4,
          11,
          8,
          6,
          8,
          8,
          2,
          5,
          4,
          5,
          1,
          1,
          1,
          1,
          2,
          3,
          2,
          1,
          1,
          6,
          8,
          4,
          2,
          2,
          4,
          2,
          6,
          3,
          5,
          3,
          5,
          1,
          3,
          4,
          5,
          8,
          7,
          5,
          1,
          3,
          4
         ],
         "yaxis": "y"
        },
        {
         "hovertemplate": "keywords=coronavirus<br>yearweek=%{x}<br>count=%{y}<extra></extra>",
         "legendgroup": "coronavirus",
         "line": {
          "color": "#FF97FF",
          "dash": "solid"
         },
         "marker": {
          "symbol": "circle"
         },
         "mode": "lines",
         "name": "coronavirus",
         "showlegend": true,
         "type": "scattergl",
         "x": [
          "2020-03",
          "2020-04",
          "2020-05",
          "2020-06",
          "2020-07",
          "2020-08",
          "2020-09",
          "2020-10",
          "2020-11",
          "2020-12",
          "2020-13",
          "2020-14",
          "2020-15",
          "2020-16",
          "2020-17",
          "2020-18",
          "2020-19",
          "2020-20",
          "2020-21",
          "2020-22",
          "2020-23",
          "2020-24",
          "2020-25",
          "2020-26",
          "2020-27",
          "2020-28",
          "2020-29",
          "2020-30",
          "2020-31",
          "2020-32",
          "2020-33",
          "2020-34",
          "2020-35",
          "2020-36",
          "2020-37",
          "2020-38",
          "2020-39",
          "2020-40",
          "2020-41",
          "2020-42",
          "2020-43",
          "2020-44",
          "2020-45",
          "2020-46",
          "2020-47",
          "2020-49",
          "2020-51",
          "2021-01",
          "2021-02",
          "2021-03",
          "2021-04",
          "2021-05",
          "2021-06",
          "2021-07",
          "2021-08",
          "2021-09",
          "2021-10",
          "2021-11",
          "2021-12",
          "2021-13",
          "2021-14",
          "2021-15",
          "2021-16",
          "2021-17",
          "2021-18",
          "2021-19",
          "2021-20",
          "2021-26",
          "2021-27",
          "2021-28",
          "2021-29",
          "2021-30",
          "2021-31",
          "2021-32",
          "2021-33",
          "2021-34",
          "2021-35",
          "2021-36",
          "2021-37",
          "2021-38",
          "2021-39",
          "2021-40",
          "2021-41",
          "2021-42",
          "2021-43",
          "2021-44",
          "2021-45",
          "2021-46",
          "2021-47",
          "2021-48",
          "2021-49",
          "2021-50",
          "2021-51",
          "2021-52",
          "2021-53"
         ],
         "xaxis": "x",
         "y": [
          2,
          13,
          18,
          14,
          17,
          17,
          16,
          21,
          41,
          65,
          81,
          92,
          85,
          77,
          74,
          84,
          68,
          77,
          71,
          64,
          52,
          51,
          52,
          52,
          48,
          52,
          43,
          44,
          50,
          36,
          41,
          24,
          37,
          38,
          26,
          27,
          24,
          37,
          37,
          43,
          52,
          49,
          3,
          2,
          2,
          1,
          3,
          32,
          47,
          49,
          64,
          43,
          38,
          36,
          41,
          30,
          26,
          48,
          45,
          45,
          33,
          16,
          2,
          4,
          1,
          8,
          2,
          7,
          28,
          24,
          20,
          28,
          29,
          21,
          14,
          19,
          19,
          20,
          15,
          16,
          10,
          13,
          9,
          17,
          15,
          21,
          22,
          28,
          33,
          28,
          20,
          16,
          31,
          21,
          12
         ],
         "yaxis": "y"
        },
        {
         "hovertemplate": "keywords=COVID-19<br>yearweek=%{x}<br>count=%{y}<extra></extra>",
         "legendgroup": "COVID-19",
         "line": {
          "color": "#FECB52",
          "dash": "solid"
         },
         "marker": {
          "symbol": "circle"
         },
         "mode": "lines",
         "name": "COVID-19",
         "showlegend": true,
         "type": "scattergl",
         "x": [
          "2020-07",
          "2020-08",
          "2020-09",
          "2020-10",
          "2020-11",
          "2020-12",
          "2020-13",
          "2020-14",
          "2020-15",
          "2020-16",
          "2020-17",
          "2020-18",
          "2020-19",
          "2020-20",
          "2020-21",
          "2020-22",
          "2020-23",
          "2020-24",
          "2020-25",
          "2020-26",
          "2020-27",
          "2020-28",
          "2020-29",
          "2020-30",
          "2020-31",
          "2020-32",
          "2020-33",
          "2020-34",
          "2020-35",
          "2020-36",
          "2020-37",
          "2020-38",
          "2020-39",
          "2020-40",
          "2020-41",
          "2020-42",
          "2020-43",
          "2020-44",
          "2020-45",
          "2020-47",
          "2020-51",
          "2021-01",
          "2021-02",
          "2021-03",
          "2021-04",
          "2021-05",
          "2021-06",
          "2021-07",
          "2021-08",
          "2021-09",
          "2021-10",
          "2021-11",
          "2021-12",
          "2021-13",
          "2021-14",
          "2021-15",
          "2021-16",
          "2021-17",
          "2021-18",
          "2021-19",
          "2021-20",
          "2021-25",
          "2021-26",
          "2021-27",
          "2021-28",
          "2021-29",
          "2021-30",
          "2021-31",
          "2021-32",
          "2021-33",
          "2021-34",
          "2021-35",
          "2021-36",
          "2021-37",
          "2021-38",
          "2021-39",
          "2021-40",
          "2021-41",
          "2021-42",
          "2021-43",
          "2021-44",
          "2021-45",
          "2021-46",
          "2021-47",
          "2021-48",
          "2021-49",
          "2021-50",
          "2021-51",
          "2021-52",
          "2021-53"
         ],
         "xaxis": "x",
         "y": [
          4,
          7,
          12,
          17,
          31,
          39,
          55,
          57,
          60,
          56,
          67,
          62,
          54,
          72,
          55,
          51,
          38,
          45,
          50,
          39,
          31,
          47,
          30,
          39,
          35,
          35,
          35,
          22,
          38,
          30,
          17,
          26,
          15,
          36,
          26,
          27,
          47,
          33,
          4,
          3,
          3,
          27,
          40,
          47,
          45,
          34,
          32,
          38,
          38,
          43,
          23,
          30,
          44,
          32,
          32,
          17,
          1,
          2,
          3,
          6,
          1,
          1,
          3,
          19,
          26,
          29,
          24,
          24,
          15,
          10,
          16,
          21,
          17,
          20,
          16,
          16,
          7,
          11,
          17,
          18,
          19,
          28,
          39,
          43,
          31,
          27,
          15,
          25,
          20,
          8
         ],
         "yaxis": "y"
        }
       ],
       "layout": {
        "legend": {
         "title": {
          "text": "keywords"
         },
         "tracegroupgap": 0
        },
        "margin": {
         "t": 60
        },
        "template": {
         "data": {
          "bar": [
           {
            "error_x": {
             "color": "#2a3f5f"
            },
            "error_y": {
             "color": "#2a3f5f"
            },
            "marker": {
             "line": {
              "color": "#E5ECF6",
              "width": 0.5
             },
             "pattern": {
              "fillmode": "overlay",
              "size": 10,
              "solidity": 0.2
             }
            },
            "type": "bar"
           }
          ],
          "barpolar": [
           {
            "marker": {
             "line": {
              "color": "#E5ECF6",
              "width": 0.5
             },
             "pattern": {
              "fillmode": "overlay",
              "size": 10,
              "solidity": 0.2
             }
            },
            "type": "barpolar"
           }
          ],
          "carpet": [
           {
            "aaxis": {
             "endlinecolor": "#2a3f5f",
             "gridcolor": "white",
             "linecolor": "white",
             "minorgridcolor": "white",
             "startlinecolor": "#2a3f5f"
            },
            "baxis": {
             "endlinecolor": "#2a3f5f",
             "gridcolor": "white",
             "linecolor": "white",
             "minorgridcolor": "white",
             "startlinecolor": "#2a3f5f"
            },
            "type": "carpet"
           }
          ],
          "choropleth": [
           {
            "colorbar": {
             "outlinewidth": 0,
             "ticks": ""
            },
            "type": "choropleth"
           }
          ],
          "contour": [
           {
            "colorbar": {
             "outlinewidth": 0,
             "ticks": ""
            },
            "colorscale": [
             [
              0,
              "#0d0887"
             ],
             [
              0.1111111111111111,
              "#46039f"
             ],
             [
              0.2222222222222222,
              "#7201a8"
             ],
             [
              0.3333333333333333,
              "#9c179e"
             ],
             [
              0.4444444444444444,
              "#bd3786"
             ],
             [
              0.5555555555555556,
              "#d8576b"
             ],
             [
              0.6666666666666666,
              "#ed7953"
             ],
             [
              0.7777777777777778,
              "#fb9f3a"
             ],
             [
              0.8888888888888888,
              "#fdca26"
             ],
             [
              1,
              "#f0f921"
             ]
            ],
            "type": "contour"
           }
          ],
          "contourcarpet": [
           {
            "colorbar": {
             "outlinewidth": 0,
             "ticks": ""
            },
            "type": "contourcarpet"
           }
          ],
          "heatmap": [
           {
            "colorbar": {
             "outlinewidth": 0,
             "ticks": ""
            },
            "colorscale": [
             [
              0,
              "#0d0887"
             ],
             [
              0.1111111111111111,
              "#46039f"
             ],
             [
              0.2222222222222222,
              "#7201a8"
             ],
             [
              0.3333333333333333,
              "#9c179e"
             ],
             [
              0.4444444444444444,
              "#bd3786"
             ],
             [
              0.5555555555555556,
              "#d8576b"
             ],
             [
              0.6666666666666666,
              "#ed7953"
             ],
             [
              0.7777777777777778,
              "#fb9f3a"
             ],
             [
              0.8888888888888888,
              "#fdca26"
             ],
             [
              1,
              "#f0f921"
             ]
            ],
            "type": "heatmap"
           }
          ],
          "heatmapgl": [
           {
            "colorbar": {
             "outlinewidth": 0,
             "ticks": ""
            },
            "colorscale": [
             [
              0,
              "#0d0887"
             ],
             [
              0.1111111111111111,
              "#46039f"
             ],
             [
              0.2222222222222222,
              "#7201a8"
             ],
             [
              0.3333333333333333,
              "#9c179e"
             ],
             [
              0.4444444444444444,
              "#bd3786"
             ],
             [
              0.5555555555555556,
              "#d8576b"
             ],
             [
              0.6666666666666666,
              "#ed7953"
             ],
             [
              0.7777777777777778,
              "#fb9f3a"
             ],
             [
              0.8888888888888888,
              "#fdca26"
             ],
             [
              1,
              "#f0f921"
             ]
            ],
            "type": "heatmapgl"
           }
          ],
          "histogram": [
           {
            "marker": {
             "pattern": {
              "fillmode": "overlay",
              "size": 10,
              "solidity": 0.2
             }
            },
            "type": "histogram"
           }
          ],
          "histogram2d": [
           {
            "colorbar": {
             "outlinewidth": 0,
             "ticks": ""
            },
            "colorscale": [
             [
              0,
              "#0d0887"
             ],
             [
              0.1111111111111111,
              "#46039f"
             ],
             [
              0.2222222222222222,
              "#7201a8"
             ],
             [
              0.3333333333333333,
              "#9c179e"
             ],
             [
              0.4444444444444444,
              "#bd3786"
             ],
             [
              0.5555555555555556,
              "#d8576b"
             ],
             [
              0.6666666666666666,
              "#ed7953"
             ],
             [
              0.7777777777777778,
              "#fb9f3a"
             ],
             [
              0.8888888888888888,
              "#fdca26"
             ],
             [
              1,
              "#f0f921"
             ]
            ],
            "type": "histogram2d"
           }
          ],
          "histogram2dcontour": [
           {
            "colorbar": {
             "outlinewidth": 0,
             "ticks": ""
            },
            "colorscale": [
             [
              0,
              "#0d0887"
             ],
             [
              0.1111111111111111,
              "#46039f"
             ],
             [
              0.2222222222222222,
              "#7201a8"
             ],
             [
              0.3333333333333333,
              "#9c179e"
             ],
             [
              0.4444444444444444,
              "#bd3786"
             ],
             [
              0.5555555555555556,
              "#d8576b"
             ],
             [
              0.6666666666666666,
              "#ed7953"
             ],
             [
              0.7777777777777778,
              "#fb9f3a"
             ],
             [
              0.8888888888888888,
              "#fdca26"
             ],
             [
              1,
              "#f0f921"
             ]
            ],
            "type": "histogram2dcontour"
           }
          ],
          "mesh3d": [
           {
            "colorbar": {
             "outlinewidth": 0,
             "ticks": ""
            },
            "type": "mesh3d"
           }
          ],
          "parcoords": [
           {
            "line": {
             "colorbar": {
              "outlinewidth": 0,
              "ticks": ""
             }
            },
            "type": "parcoords"
           }
          ],
          "pie": [
           {
            "automargin": true,
            "type": "pie"
           }
          ],
          "scatter": [
           {
            "fillpattern": {
             "fillmode": "overlay",
             "size": 10,
             "solidity": 0.2
            },
            "type": "scatter"
           }
          ],
          "scatter3d": [
           {
            "line": {
             "colorbar": {
              "outlinewidth": 0,
              "ticks": ""
             }
            },
            "marker": {
             "colorbar": {
              "outlinewidth": 0,
              "ticks": ""
             }
            },
            "type": "scatter3d"
           }
          ],
          "scattercarpet": [
           {
            "marker": {
             "colorbar": {
              "outlinewidth": 0,
              "ticks": ""
             }
            },
            "type": "scattercarpet"
           }
          ],
          "scattergeo": [
           {
            "marker": {
             "colorbar": {
              "outlinewidth": 0,
              "ticks": ""
             }
            },
            "type": "scattergeo"
           }
          ],
          "scattergl": [
           {
            "marker": {
             "colorbar": {
              "outlinewidth": 0,
              "ticks": ""
             }
            },
            "type": "scattergl"
           }
          ],
          "scattermapbox": [
           {
            "marker": {
             "colorbar": {
              "outlinewidth": 0,
              "ticks": ""
             }
            },
            "type": "scattermapbox"
           }
          ],
          "scatterpolar": [
           {
            "marker": {
             "colorbar": {
              "outlinewidth": 0,
              "ticks": ""
             }
            },
            "type": "scatterpolar"
           }
          ],
          "scatterpolargl": [
           {
            "marker": {
             "colorbar": {
              "outlinewidth": 0,
              "ticks": ""
             }
            },
            "type": "scatterpolargl"
           }
          ],
          "scatterternary": [
           {
            "marker": {
             "colorbar": {
              "outlinewidth": 0,
              "ticks": ""
             }
            },
            "type": "scatterternary"
           }
          ],
          "surface": [
           {
            "colorbar": {
             "outlinewidth": 0,
             "ticks": ""
            },
            "colorscale": [
             [
              0,
              "#0d0887"
             ],
             [
              0.1111111111111111,
              "#46039f"
             ],
             [
              0.2222222222222222,
              "#7201a8"
             ],
             [
              0.3333333333333333,
              "#9c179e"
             ],
             [
              0.4444444444444444,
              "#bd3786"
             ],
             [
              0.5555555555555556,
              "#d8576b"
             ],
             [
              0.6666666666666666,
              "#ed7953"
             ],
             [
              0.7777777777777778,
              "#fb9f3a"
             ],
             [
              0.8888888888888888,
              "#fdca26"
             ],
             [
              1,
              "#f0f921"
             ]
            ],
            "type": "surface"
           }
          ],
          "table": [
           {
            "cells": {
             "fill": {
              "color": "#EBF0F8"
             },
             "line": {
              "color": "white"
             }
            },
            "header": {
             "fill": {
              "color": "#C8D4E3"
             },
             "line": {
              "color": "white"
             }
            },
            "type": "table"
           }
          ]
         },
         "layout": {
          "annotationdefaults": {
           "arrowcolor": "#2a3f5f",
           "arrowhead": 0,
           "arrowwidth": 1
          },
          "autotypenumbers": "strict",
          "coloraxis": {
           "colorbar": {
            "outlinewidth": 0,
            "ticks": ""
           }
          },
          "colorscale": {
           "diverging": [
            [
             0,
             "#8e0152"
            ],
            [
             0.1,
             "#c51b7d"
            ],
            [
             0.2,
             "#de77ae"
            ],
            [
             0.3,
             "#f1b6da"
            ],
            [
             0.4,
             "#fde0ef"
            ],
            [
             0.5,
             "#f7f7f7"
            ],
            [
             0.6,
             "#e6f5d0"
            ],
            [
             0.7,
             "#b8e186"
            ],
            [
             0.8,
             "#7fbc41"
            ],
            [
             0.9,
             "#4d9221"
            ],
            [
             1,
             "#276419"
            ]
           ],
           "sequential": [
            [
             0,
             "#0d0887"
            ],
            [
             0.1111111111111111,
             "#46039f"
            ],
            [
             0.2222222222222222,
             "#7201a8"
            ],
            [
             0.3333333333333333,
             "#9c179e"
            ],
            [
             0.4444444444444444,
             "#bd3786"
            ],
            [
             0.5555555555555556,
             "#d8576b"
            ],
            [
             0.6666666666666666,
             "#ed7953"
            ],
            [
             0.7777777777777778,
             "#fb9f3a"
            ],
            [
             0.8888888888888888,
             "#fdca26"
            ],
            [
             1,
             "#f0f921"
            ]
           ],
           "sequentialminus": [
            [
             0,
             "#0d0887"
            ],
            [
             0.1111111111111111,
             "#46039f"
            ],
            [
             0.2222222222222222,
             "#7201a8"
            ],
            [
             0.3333333333333333,
             "#9c179e"
            ],
            [
             0.4444444444444444,
             "#bd3786"
            ],
            [
             0.5555555555555556,
             "#d8576b"
            ],
            [
             0.6666666666666666,
             "#ed7953"
            ],
            [
             0.7777777777777778,
             "#fb9f3a"
            ],
            [
             0.8888888888888888,
             "#fdca26"
            ],
            [
             1,
             "#f0f921"
            ]
           ]
          },
          "colorway": [
           "#636efa",
           "#EF553B",
           "#00cc96",
           "#ab63fa",
           "#FFA15A",
           "#19d3f3",
           "#FF6692",
           "#B6E880",
           "#FF97FF",
           "#FECB52"
          ],
          "font": {
           "color": "#2a3f5f"
          },
          "geo": {
           "bgcolor": "white",
           "lakecolor": "white",
           "landcolor": "#E5ECF6",
           "showlakes": true,
           "showland": true,
           "subunitcolor": "white"
          },
          "hoverlabel": {
           "align": "left"
          },
          "hovermode": "closest",
          "mapbox": {
           "style": "light"
          },
          "paper_bgcolor": "white",
          "plot_bgcolor": "#E5ECF6",
          "polar": {
           "angularaxis": {
            "gridcolor": "white",
            "linecolor": "white",
            "ticks": ""
           },
           "bgcolor": "#E5ECF6",
           "radialaxis": {
            "gridcolor": "white",
            "linecolor": "white",
            "ticks": ""
           }
          },
          "scene": {
           "xaxis": {
            "backgroundcolor": "#E5ECF6",
            "gridcolor": "white",
            "gridwidth": 2,
            "linecolor": "white",
            "showbackground": true,
            "ticks": "",
            "zerolinecolor": "white"
           },
           "yaxis": {
            "backgroundcolor": "#E5ECF6",
            "gridcolor": "white",
            "gridwidth": 2,
            "linecolor": "white",
            "showbackground": true,
            "ticks": "",
            "zerolinecolor": "white"
           },
           "zaxis": {
            "backgroundcolor": "#E5ECF6",
            "gridcolor": "white",
            "gridwidth": 2,
            "linecolor": "white",
            "showbackground": true,
            "ticks": "",
            "zerolinecolor": "white"
           }
          },
          "shapedefaults": {
           "line": {
            "color": "#2a3f5f"
           }
          },
          "ternary": {
           "aaxis": {
            "gridcolor": "white",
            "linecolor": "white",
            "ticks": ""
           },
           "baxis": {
            "gridcolor": "white",
            "linecolor": "white",
            "ticks": ""
           },
           "bgcolor": "#E5ECF6",
           "caxis": {
            "gridcolor": "white",
            "linecolor": "white",
            "ticks": ""
           }
          },
          "title": {
           "x": 0.05
          },
          "xaxis": {
           "automargin": true,
           "gridcolor": "white",
           "linecolor": "white",
           "ticks": "",
           "title": {
            "standoff": 15
           },
           "zerolinecolor": "white",
           "zerolinewidth": 2
          },
          "yaxis": {
           "automargin": true,
           "gridcolor": "white",
           "linecolor": "white",
           "ticks": "",
           "title": {
            "standoff": 15
           },
           "zerolinecolor": "white",
           "zerolinewidth": 2
          }
         }
        },
        "xaxis": {
         "anchor": "y",
         "domain": [
          0,
          1
         ],
         "title": {
          "text": "yearweek"
         }
        },
        "yaxis": {
         "anchor": "x",
         "domain": [
          0,
          1
         ],
         "title": {
          "text": "count"
         }
        }
       }
      }
     },
     "metadata": {},
     "output_type": "display_data"
    }
   ],
   "source": [
    "fig_df = grouped.loc[grouped['keywords'].isin(top10.index)]\n",
    "fig_df = fig_df.sort_values(by=\"yearweek\")\n",
    "\n",
    "fig = px.line(fig_df, x='yearweek', y=\"count\", color=\"keywords\")\n",
    "fig.show()"
   ]
  },
  {
   "cell_type": "code",
   "execution_count": 116,
   "metadata": {},
   "outputs": [
    {
     "data": {
      "text/plain": [
       "60278    2019-01-01 03:57:28.904000+00:00\n",
       "60278    2019-01-01 03:57:28.904000+00:00\n",
       "60278    2019-01-01 03:57:28.904000+00:00\n",
       "60278    2019-01-01 03:57:28.904000+00:00\n",
       "60279    2019-01-01 06:11:50.527000+00:00\n",
       "                       ...               \n",
       "172678   2021-12-31 20:38:11.201000+00:00\n",
       "172678   2021-12-31 20:38:11.201000+00:00\n",
       "150367   2022-01-01 02:35:51.098000+00:00\n",
       "150367   2022-01-01 02:35:51.098000+00:00\n",
       "150367   2022-01-01 02:35:51.098000+00:00\n",
       "Name: date, Length: 176285, dtype: datetime64[ns, UTC]"
      ]
     },
     "execution_count": 116,
     "metadata": {},
     "output_type": "execute_result"
    }
   ],
   "source": [
    "keys_times['date'] = pd.to_datetime(keys_times['ts_lastModifiedDate'])\n",
    "\n",
    "keys_times.date"
   ]
  },
  {
   "attachments": {},
   "cell_type": "markdown",
   "metadata": {},
   "source": [
    "## Using full JSON dataset and groupping into weeks"
   ]
  },
  {
   "cell_type": "code",
   "execution_count": 119,
   "metadata": {},
   "outputs": [
    {
     "data": {
      "text/html": [
       "<div>\n",
       "<style scoped>\n",
       "    .dataframe tbody tr th:only-of-type {\n",
       "        vertical-align: middle;\n",
       "    }\n",
       "\n",
       "    .dataframe tbody tr th {\n",
       "        vertical-align: top;\n",
       "    }\n",
       "\n",
       "    .dataframe thead th {\n",
       "        text-align: right;\n",
       "    }\n",
       "</style>\n",
       "<table border=\"1\" class=\"dataframe\">\n",
       "  <thead>\n",
       "    <tr style=\"text-align: right;\">\n",
       "      <th></th>\n",
       "      <th>id</th>\n",
       "      <th>name</th>\n",
       "      <th>shortTitle</th>\n",
       "      <th>text</th>\n",
       "      <th>teaser</th>\n",
       "      <th>shortTeaser</th>\n",
       "      <th>kicker</th>\n",
       "      <th>regions</th>\n",
       "      <th>keywords</th>\n",
       "      <th>keywordStrings</th>\n",
       "      <th>...</th>\n",
       "      <th>contentLinks</th>\n",
       "      <th>articles</th>\n",
       "      <th>isOpinion</th>\n",
       "      <th>geographicLocations</th>\n",
       "      <th>contentAssociations</th>\n",
       "      <th>mainContentImageLink</th>\n",
       "      <th>images</th>\n",
       "      <th>externalLinks</th>\n",
       "      <th>topStory</th>\n",
       "      <th>language</th>\n",
       "    </tr>\n",
       "  </thead>\n",
       "  <tbody>\n",
       "    <tr>\n",
       "      <th>0</th>\n",
       "      <td>16489913</td>\n",
       "      <td>UN imposes sanctions on DRC rebels</td>\n",
       "      <td>UN sanctions DRC rebels</td>\n",
       "      <td>&lt;p&gt;\\n\\tThe UN Security Council has sanctioned ...</td>\n",
       "      <td>A UN Security Council sanctions committee has ...</td>\n",
       "      <td></td>\n",
       "      <td>None</td>\n",
       "      <td>[]</td>\n",
       "      <td>[{'name': 'DRC'}, {'name': 'M23'}, {'name': 'F...</td>\n",
       "      <td>[DRC, M23, FDLR, Rwanda, Susan Rice, UN securi...</td>\n",
       "      <td>...</td>\n",
       "      <td>[{'name': None}, {'name': 'Goma residents fear...</td>\n",
       "      <td>[{'name': 'Goma residents fear renewed conflic...</td>\n",
       "      <td>False</td>\n",
       "      <td>[]</td>\n",
       "      <td>[{'id': 30420921}, {'id': 30420923}, {'id': 30...</td>\n",
       "      <td>{'description': 'Kongo M23 Rebellen ziehen aus...</td>\n",
       "      <td>[{'name': 'Kongo M23 Rebellen ziehen aus beset...</td>\n",
       "      <td>[]</td>\n",
       "      <td>False</td>\n",
       "      <td>None</td>\n",
       "    </tr>\n",
       "    <tr>\n",
       "      <th>1</th>\n",
       "      <td>16489912</td>\n",
       "      <td>Catholic Church abuse hotline goes cold</td>\n",
       "      <td>Disconnected</td>\n",
       "      <td>&lt;p&gt;\\n\\tFor two and a half years, the counselin...</td>\n",
       "      <td>The Catholic Church in Germany has closed its ...</td>\n",
       "      <td>The Catholic Church has shut down a hotline fo...</td>\n",
       "      <td>None</td>\n",
       "      <td>[]</td>\n",
       "      <td>[{'name': 'telephone'}, {'name': 'hotline'}, {...</td>\n",
       "      <td>[telephone, hotline, helpline, Catholic Church...</td>\n",
       "      <td>...</td>\n",
       "      <td>[{'name': None}, {'name': None}, {'name': None...</td>\n",
       "      <td>[]</td>\n",
       "      <td>False</td>\n",
       "      <td>[]</td>\n",
       "      <td>[{'id': 30420944}, {'id': 30420945}, {'id': 30...</td>\n",
       "      <td>{'description': ''}</td>\n",
       "      <td>[{'name': 'Symbolbild Missbrauch Opfer'}, {'na...</td>\n",
       "      <td>[]</td>\n",
       "      <td>False</td>\n",
       "      <td>None</td>\n",
       "    </tr>\n",
       "    <tr>\n",
       "      <th>2</th>\n",
       "      <td>16489903</td>\n",
       "      <td>\"Fiscal cliff\" tax hikes go into effect in the US</td>\n",
       "      <td>US goes over \"fiscal cliff\"</td>\n",
       "      <td>&lt;p&gt;\\n\\tAs the clock struck midnight in Washing...</td>\n",
       "      <td>A series of tax hikes and spending cuts have g...</td>\n",
       "      <td></td>\n",
       "      <td>None</td>\n",
       "      <td>[]</td>\n",
       "      <td>[{'name': 'fiscal cliff'}, {'name': 'Obama'}, ...</td>\n",
       "      <td>[fiscal cliff, Obama, congress, spending cuts,...</td>\n",
       "      <td>...</td>\n",
       "      <td>[{'name': None}, {'name': '2012 defined by leg...</td>\n",
       "      <td>[{'name': '2012 defined by legislative gridloc...</td>\n",
       "      <td>False</td>\n",
       "      <td>[]</td>\n",
       "      <td>[{'id': 30420865}, {'id': 30420867}, {'id': 30...</td>\n",
       "      <td>{'description': ''}</td>\n",
       "      <td>[{'name': 'Barack Obama PK Silvester Haushalts...</td>\n",
       "      <td>[]</td>\n",
       "      <td>False</td>\n",
       "      <td>None</td>\n",
       "    </tr>\n",
       "    <tr>\n",
       "      <th>3</th>\n",
       "      <td>16490025</td>\n",
       "      <td>Kim seeks reconciliation with South, economic ...</td>\n",
       "      <td>A rare New Year's address</td>\n",
       "      <td>&lt;p&gt;\\n\\tKim Jong Un, who came to office just ov...</td>\n",
       "      <td>North Korea's leader has used a rare New Year’...</td>\n",
       "      <td></td>\n",
       "      <td>None</td>\n",
       "      <td>[]</td>\n",
       "      <td>[{'name': 'Kim Jong Un'}, {'name': 'Kim Jong I...</td>\n",
       "      <td>[Kim Jong Un, Kim Jong Il, Kim Il Sung, lee my...</td>\n",
       "      <td>...</td>\n",
       "      <td>[{'name': None}, {'name': 'South Korea condemn...</td>\n",
       "      <td>[{'name': 'South Korea condemns North Korea's ...</td>\n",
       "      <td>False</td>\n",
       "      <td>[]</td>\n",
       "      <td>[{'id': 30421237}, {'id': 30421239}, {'id': 30...</td>\n",
       "      <td>{'description': ''}</td>\n",
       "      <td>[{'name': 'Nordkorea Neujahrsansprache von Kim...</td>\n",
       "      <td>[]</td>\n",
       "      <td>False</td>\n",
       "      <td>None</td>\n",
       "    </tr>\n",
       "    <tr>\n",
       "      <th>4</th>\n",
       "      <td>16490029</td>\n",
       "      <td>Senate-approved fiscal deal faces House consid...</td>\n",
       "      <td>US House mulls fiscal deal</td>\n",
       "      <td>&lt;p&gt;\\n\\tLess than two hours after the US had of...</td>\n",
       "      <td>The US Senate has approved a bill to stop a se...</td>\n",
       "      <td></td>\n",
       "      <td>None</td>\n",
       "      <td>[]</td>\n",
       "      <td>[{'name': 'fiscal cliff'}, {'name': 'US Senate...</td>\n",
       "      <td>[fiscal cliff, US Senate, Senate vote, fiscal ...</td>\n",
       "      <td>...</td>\n",
       "      <td>[{'name': None}, {'name': 'Soft landing as US ...</td>\n",
       "      <td>[{'name': 'US reaches 'fiscal cliff' deal'}]</td>\n",
       "      <td>False</td>\n",
       "      <td>[]</td>\n",
       "      <td>[{'id': 30421071}, {'id': 30421073}, {'id': 30...</td>\n",
       "      <td>{'description': ''}</td>\n",
       "      <td>[{'name': 'USA Senat Fiskalklippe Verhandlunge...</td>\n",
       "      <td>[]</td>\n",
       "      <td>False</td>\n",
       "      <td>None</td>\n",
       "    </tr>\n",
       "  </tbody>\n",
       "</table>\n",
       "<p>5 rows × 28 columns</p>\n",
       "</div>"
      ],
      "text/plain": [
       "         id                                               name  \\\n",
       "0  16489913                 UN imposes sanctions on DRC rebels   \n",
       "1  16489912            Catholic Church abuse hotline goes cold   \n",
       "2  16489903  \"Fiscal cliff\" tax hikes go into effect in the US   \n",
       "3  16490025  Kim seeks reconciliation with South, economic ...   \n",
       "4  16490029  Senate-approved fiscal deal faces House consid...   \n",
       "\n",
       "                    shortTitle  \\\n",
       "0      UN sanctions DRC rebels   \n",
       "1                 Disconnected   \n",
       "2  US goes over \"fiscal cliff\"   \n",
       "3    A rare New Year's address   \n",
       "4   US House mulls fiscal deal   \n",
       "\n",
       "                                                text  \\\n",
       "0  <p>\\n\\tThe UN Security Council has sanctioned ...   \n",
       "1  <p>\\n\\tFor two and a half years, the counselin...   \n",
       "2  <p>\\n\\tAs the clock struck midnight in Washing...   \n",
       "3  <p>\\n\\tKim Jong Un, who came to office just ov...   \n",
       "4  <p>\\n\\tLess than two hours after the US had of...   \n",
       "\n",
       "                                              teaser  \\\n",
       "0  A UN Security Council sanctions committee has ...   \n",
       "1  The Catholic Church in Germany has closed its ...   \n",
       "2  A series of tax hikes and spending cuts have g...   \n",
       "3  North Korea's leader has used a rare New Year’...   \n",
       "4  The US Senate has approved a bill to stop a se...   \n",
       "\n",
       "                                         shortTeaser kicker regions  \\\n",
       "0                                                      None      []   \n",
       "1  The Catholic Church has shut down a hotline fo...   None      []   \n",
       "2                                                      None      []   \n",
       "3                                                      None      []   \n",
       "4                                                      None      []   \n",
       "\n",
       "                                            keywords  \\\n",
       "0  [{'name': 'DRC'}, {'name': 'M23'}, {'name': 'F...   \n",
       "1  [{'name': 'telephone'}, {'name': 'hotline'}, {...   \n",
       "2  [{'name': 'fiscal cliff'}, {'name': 'Obama'}, ...   \n",
       "3  [{'name': 'Kim Jong Un'}, {'name': 'Kim Jong I...   \n",
       "4  [{'name': 'fiscal cliff'}, {'name': 'US Senate...   \n",
       "\n",
       "                                      keywordStrings  ...  \\\n",
       "0  [DRC, M23, FDLR, Rwanda, Susan Rice, UN securi...  ...   \n",
       "1  [telephone, hotline, helpline, Catholic Church...  ...   \n",
       "2  [fiscal cliff, Obama, congress, spending cuts,...  ...   \n",
       "3  [Kim Jong Un, Kim Jong Il, Kim Il Sung, lee my...  ...   \n",
       "4  [fiscal cliff, US Senate, Senate vote, fiscal ...  ...   \n",
       "\n",
       "                                        contentLinks  \\\n",
       "0  [{'name': None}, {'name': 'Goma residents fear...   \n",
       "1  [{'name': None}, {'name': None}, {'name': None...   \n",
       "2  [{'name': None}, {'name': '2012 defined by leg...   \n",
       "3  [{'name': None}, {'name': 'South Korea condemn...   \n",
       "4  [{'name': None}, {'name': 'Soft landing as US ...   \n",
       "\n",
       "                                            articles isOpinion  \\\n",
       "0  [{'name': 'Goma residents fear renewed conflic...     False   \n",
       "1                                                 []     False   \n",
       "2  [{'name': '2012 defined by legislative gridloc...     False   \n",
       "3  [{'name': 'South Korea condemns North Korea's ...     False   \n",
       "4       [{'name': 'US reaches 'fiscal cliff' deal'}]     False   \n",
       "\n",
       "  geographicLocations                                contentAssociations  \\\n",
       "0                  []  [{'id': 30420921}, {'id': 30420923}, {'id': 30...   \n",
       "1                  []  [{'id': 30420944}, {'id': 30420945}, {'id': 30...   \n",
       "2                  []  [{'id': 30420865}, {'id': 30420867}, {'id': 30...   \n",
       "3                  []  [{'id': 30421237}, {'id': 30421239}, {'id': 30...   \n",
       "4                  []  [{'id': 30421071}, {'id': 30421073}, {'id': 30...   \n",
       "\n",
       "                                mainContentImageLink  \\\n",
       "0  {'description': 'Kongo M23 Rebellen ziehen aus...   \n",
       "1                                {'description': ''}   \n",
       "2                                {'description': ''}   \n",
       "3                                {'description': ''}   \n",
       "4                                {'description': ''}   \n",
       "\n",
       "                                              images externalLinks topStory  \\\n",
       "0  [{'name': 'Kongo M23 Rebellen ziehen aus beset...            []    False   \n",
       "1  [{'name': 'Symbolbild Missbrauch Opfer'}, {'na...            []    False   \n",
       "2  [{'name': 'Barack Obama PK Silvester Haushalts...            []    False   \n",
       "3  [{'name': 'Nordkorea Neujahrsansprache von Kim...            []    False   \n",
       "4  [{'name': 'USA Senat Fiskalklippe Verhandlunge...            []    False   \n",
       "\n",
       "  language  \n",
       "0     None  \n",
       "1     None  \n",
       "2     None  \n",
       "3     None  \n",
       "4     None  \n",
       "\n",
       "[5 rows x 28 columns]"
      ]
     },
     "execution_count": 119,
     "metadata": {},
     "output_type": "execute_result"
    }
   ],
   "source": [
    "# Opening JSON file\n",
    "f = open('../data/raw/CMS_2010_to_June_2022_ENGLISH.json')\n",
    "  \n",
    "# returns JSON object as \n",
    "# a dictionary\n",
    "data = json.load(f)\n",
    "\n",
    "df = pd.DataFrame.from_dict(data)\n",
    "\n",
    "df.head()"
   ]
  },
  {
   "cell_type": "code",
   "execution_count": 127,
   "metadata": {},
   "outputs": [
    {
     "name": "stdout",
     "output_type": "stream",
     "text": [
      "Getting data...\n",
      "Loading data DONE. Number of articles is 175659\n",
      "Extracting data DONE. Number of articles from 2019-01-01 to 2022-01-01 is 33829\n",
      "Cleaning step 1 out of 2 DONE. Number of unique keywords went from 32682 to 30228\n",
      "Cleaning step 2 out of 2 DONE. Number of unique keywords went from 30228 to 27996\n",
      "Finished. Data stored in ../data/interim/clean_keywords_2019-01-01_2022-01-01.json\n"
     ]
    },
    {
     "ename": "",
     "evalue": "",
     "output_type": "error",
     "traceback": [
      "\u001b[1;31mThe Kernel crashed while executing code in the the current cell or a previous cell. Please review the code in the cell(s) to identify a possible cause of the failure. Click <a href='https://aka.ms/vscodeJupyterKernelCrash'>here</a> for more info. View Jupyter <a href='command:jupyter.viewOutput'>log</a> for further details."
     ]
    }
   ],
   "source": [
    "import sys\n",
    "# Add src folder to the path\n",
    "sys.path.append('../src/')\n",
    "from data.preprocess_keywords import make_cleaned_keywords_df\n",
    "from data.make_datasets import get_data\n",
    "# Specify wanted time range\n",
    "start_date = '2019-01-01'\n",
    "end_date = '2022-01-01'\n",
    "# Path to data\n",
    "data_file = '../data/raw/CMS_2010_to_June_2022_ENGLISH.json'\n",
    "# Load and extract data within time range\n",
    "df_subset = get_data(data_file, start_date, end_date)\n",
    "# Cleans keywords and saves data as a dataframe\n",
    "make_cleaned_keywords_df(df_subset, start_date, end_date)"
   ]
  },
  {
   "cell_type": "code",
   "execution_count": 125,
   "metadata": {},
   "outputs": [],
   "source": [
    "# Load data\n",
    "filepath = '../data/interim/clean_keywords_' + start_date + '_' + end_date + '.json'\n",
    "df_loaded = pd.read_json(filepath, orient ='split', compression = 'infer')"
   ]
  },
  {
   "cell_type": "code",
   "execution_count": 126,
   "metadata": {},
   "outputs": [
    {
     "data": {
      "text/html": [
       "<div>\n",
       "<style scoped>\n",
       "    .dataframe tbody tr th:only-of-type {\n",
       "        vertical-align: middle;\n",
       "    }\n",
       "\n",
       "    .dataframe tbody tr th {\n",
       "        vertical-align: top;\n",
       "    }\n",
       "\n",
       "    .dataframe thead th {\n",
       "        text-align: right;\n",
       "    }\n",
       "</style>\n",
       "<table border=\"1\" class=\"dataframe\">\n",
       "  <thead>\n",
       "    <tr style=\"text-align: right;\">\n",
       "      <th></th>\n",
       "      <th>id</th>\n",
       "      <th>lastModifiedDate</th>\n",
       "      <th>keywordStrings</th>\n",
       "      <th>keywordStringsCleanAfterFuzz</th>\n",
       "    </tr>\n",
       "  </thead>\n",
       "  <tbody>\n",
       "    <tr>\n",
       "      <th>0</th>\n",
       "      <td>46912921</td>\n",
       "      <td>2019-01-01T03:57:28.904Z</td>\n",
       "      <td>[NASA, OSIRIS-REx, Bennu, asteroid]</td>\n",
       "      <td>[nasa, osiris-rex, bennu, asteroid]</td>\n",
       "    </tr>\n",
       "    <tr>\n",
       "      <th>1</th>\n",
       "      <td>46911356</td>\n",
       "      <td>2019-01-01T06:11:50.527Z</td>\n",
       "      <td>[English Channel, migration, boats, illegal im...</td>\n",
       "      <td>[english channel, migration, boats, illegal im...</td>\n",
       "    </tr>\n",
       "    <tr>\n",
       "      <th>2</th>\n",
       "      <td>46909694</td>\n",
       "      <td>2019-01-01T06:14:35.563Z</td>\n",
       "      <td>[Brazil, Jair Bolsonaro, Chicago economics, Ha...</td>\n",
       "      <td>[brazil, jair bolsonaro, chicago economics, ha...</td>\n",
       "    </tr>\n",
       "    <tr>\n",
       "      <th>3</th>\n",
       "      <td>46912694</td>\n",
       "      <td>2019-01-01T08:26:11.599Z</td>\n",
       "      <td>[Japan, Tokyo, Harajuku, attack]</td>\n",
       "      <td>[japan, tokyo, harajuku, attack]</td>\n",
       "    </tr>\n",
       "    <tr>\n",
       "      <th>4</th>\n",
       "      <td>46910092</td>\n",
       "      <td>2019-01-01T09:05:00.736Z</td>\n",
       "      <td>[Asia, Bangladesh, elections, Kamal Hossain, S...</td>\n",
       "      <td>[asia, bangladesh, elections, kamal hossain, s...</td>\n",
       "    </tr>\n",
       "  </tbody>\n",
       "</table>\n",
       "</div>"
      ],
      "text/plain": [
       "         id          lastModifiedDate  \\\n",
       "0  46912921  2019-01-01T03:57:28.904Z   \n",
       "1  46911356  2019-01-01T06:11:50.527Z   \n",
       "2  46909694  2019-01-01T06:14:35.563Z   \n",
       "3  46912694  2019-01-01T08:26:11.599Z   \n",
       "4  46910092  2019-01-01T09:05:00.736Z   \n",
       "\n",
       "                                      keywordStrings  \\\n",
       "0                [NASA, OSIRIS-REx, Bennu, asteroid]   \n",
       "1  [English Channel, migration, boats, illegal im...   \n",
       "2  [Brazil, Jair Bolsonaro, Chicago economics, Ha...   \n",
       "3                   [Japan, Tokyo, Harajuku, attack]   \n",
       "4  [Asia, Bangladesh, elections, Kamal Hossain, S...   \n",
       "\n",
       "                        keywordStringsCleanAfterFuzz  \n",
       "0                [nasa, osiris-rex, bennu, asteroid]  \n",
       "1  [english channel, migration, boats, illegal im...  \n",
       "2  [brazil, jair bolsonaro, chicago economics, ha...  \n",
       "3                   [japan, tokyo, harajuku, attack]  \n",
       "4  [asia, bangladesh, elections, kamal hossain, s...  "
      ]
     },
     "execution_count": 126,
     "metadata": {},
     "output_type": "execute_result"
    }
   ],
   "source": [
    "df_loaded.head()"
   ]
  }
 ],
 "metadata": {
  "kernelspec": {
   "display_name": "Python 3",
   "language": "python",
   "name": "python3"
  },
  "language_info": {
   "codemirror_mode": {
    "name": "ipython",
    "version": 3
   },
   "file_extension": ".py",
   "mimetype": "text/x-python",
   "name": "python",
   "nbconvert_exporter": "python",
   "pygments_lexer": "ipython3",
   "version": "3.7.16"
  },
  "orig_nbformat": 4
 },
 "nbformat": 4,
 "nbformat_minor": 2
}
