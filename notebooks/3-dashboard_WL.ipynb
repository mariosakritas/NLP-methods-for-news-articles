{
 "cells": [
  {
   "attachments": {},
   "cell_type": "markdown",
   "metadata": {},
   "source": [
    "# Dashboard prototype\n",
    "This is making a dashboard to visualise data using Dash and Plotly"
   ]
  },
  {
   "cell_type": "code",
   "execution_count": 1,
   "metadata": {},
   "outputs": [
    {
     "name": "stdout",
     "output_type": "stream",
     "text": [
      "Defaulting to user installation because normal site-packages is not writeable\n",
      "Collecting jupyter-dash\n",
      "  Downloading jupyter_dash-0.4.2-py3-none-any.whl (23 kB)\n",
      "Requirement already satisfied: ipykernel in /home/wojciech/.local/lib/python3.7/site-packages (from jupyter-dash) (6.16.2)\n",
      "Requirement already satisfied: ipython in /home/wojciech/.local/lib/python3.7/site-packages (from jupyter-dash) (7.34.0)\n",
      "Requirement already satisfied: requests in /home/wojciech/.local/lib/python3.7/site-packages (from jupyter-dash) (2.28.2)\n",
      "Collecting retrying\n",
      "  Downloading retrying-1.3.4-py3-none-any.whl (11 kB)\n",
      "Requirement already satisfied: nest-asyncio in /home/wojciech/.local/lib/python3.7/site-packages (from jupyter-dash) (1.5.6)\n",
      "Collecting flask\n",
      "  Downloading Flask-2.2.3-py3-none-any.whl (101 kB)\n",
      "\u001b[K     |████████████████████████████████| 101 kB 16.1 MB/s ta 0:00:01\n",
      "\u001b[?25hCollecting ansi2html\n",
      "  Downloading ansi2html-1.8.0-py3-none-any.whl (16 kB)\n",
      "Collecting dash\n",
      "  Downloading dash-2.9.1-py3-none-any.whl (10.2 MB)\n",
      "\u001b[K     |████████████████████████████████| 10.2 MB 63.8 MB/s eta 0:00:01\n",
      "\u001b[?25hRequirement already satisfied: debugpy>=1.0 in /home/wojciech/.local/lib/python3.7/site-packages (from ipykernel->jupyter-dash) (1.6.6)\n",
      "Requirement already satisfied: pyzmq>=17 in /home/wojciech/.local/lib/python3.7/site-packages (from ipykernel->jupyter-dash) (25.0.0)\n",
      "Requirement already satisfied: jupyter-client>=6.1.12 in /home/wojciech/.local/lib/python3.7/site-packages (from ipykernel->jupyter-dash) (7.4.9)\n",
      "Requirement already satisfied: packaging in /home/wojciech/.local/lib/python3.7/site-packages (from ipykernel->jupyter-dash) (23.0)\n",
      "Requirement already satisfied: traitlets>=5.1.0 in /home/wojciech/.local/lib/python3.7/site-packages (from ipykernel->jupyter-dash) (5.9.0)\n",
      "Requirement already satisfied: matplotlib-inline>=0.1 in /home/wojciech/.local/lib/python3.7/site-packages (from ipykernel->jupyter-dash) (0.1.6)\n",
      "Requirement already satisfied: psutil in /home/wojciech/.local/lib/python3.7/site-packages (from ipykernel->jupyter-dash) (5.9.4)\n",
      "Requirement already satisfied: tornado>=6.1 in /home/wojciech/.local/lib/python3.7/site-packages (from ipykernel->jupyter-dash) (6.2)\n",
      "Requirement already satisfied: backcall in /home/wojciech/.local/lib/python3.7/site-packages (from ipython->jupyter-dash) (0.2.0)\n",
      "Requirement already satisfied: pexpect>4.3; sys_platform != \"win32\" in /home/wojciech/.local/lib/python3.7/site-packages (from ipython->jupyter-dash) (4.8.0)\n",
      "Requirement already satisfied: pygments in /home/wojciech/.local/lib/python3.7/site-packages (from ipython->jupyter-dash) (2.14.0)\n",
      "Requirement already satisfied: setuptools>=18.5 in /usr/lib/python3.7/site-packages (from ipython->jupyter-dash) (49.1.3)\n",
      "Requirement already satisfied: prompt-toolkit!=3.0.0,!=3.0.1,<3.1.0,>=2.0.0 in /home/wojciech/.local/lib/python3.7/site-packages (from ipython->jupyter-dash) (3.0.38)\n",
      "Requirement already satisfied: decorator in /home/wojciech/.local/lib/python3.7/site-packages (from ipython->jupyter-dash) (5.1.1)\n",
      "Requirement already satisfied: pickleshare in /home/wojciech/.local/lib/python3.7/site-packages (from ipython->jupyter-dash) (0.7.5)\n",
      "Requirement already satisfied: jedi>=0.16 in /home/wojciech/.local/lib/python3.7/site-packages (from ipython->jupyter-dash) (0.18.2)\n",
      "Requirement already satisfied: urllib3<1.27,>=1.21.1 in /home/wojciech/.local/lib/python3.7/site-packages (from requests->jupyter-dash) (1.26.14)\n",
      "Requirement already satisfied: certifi>=2017.4.17 in /home/wojciech/.local/lib/python3.7/site-packages (from requests->jupyter-dash) (2022.12.7)\n",
      "Requirement already satisfied: idna<4,>=2.5 in /home/wojciech/.local/lib/python3.7/site-packages (from requests->jupyter-dash) (3.4)\n",
      "Requirement already satisfied: charset-normalizer<4,>=2 in /home/wojciech/.local/lib/python3.7/site-packages (from requests->jupyter-dash) (3.1.0)\n",
      "Requirement already satisfied: six>=1.7.0 in /home/wojciech/.local/lib/python3.7/site-packages (from retrying->jupyter-dash) (1.16.0)\n",
      "Requirement already satisfied: Jinja2>=3.0 in /home/wojciech/.local/lib/python3.7/site-packages (from flask->jupyter-dash) (3.1.2)\n",
      "Requirement already satisfied: click>=8.0 in /home/wojciech/.local/lib/python3.7/site-packages (from flask->jupyter-dash) (8.1.3)\n",
      "Collecting itsdangerous>=2.0\n",
      "  Downloading itsdangerous-2.1.2-py3-none-any.whl (15 kB)\n",
      "Requirement already satisfied: Werkzeug>=2.2.2 in /home/wojciech/.local/lib/python3.7/site-packages (from flask->jupyter-dash) (2.2.3)\n",
      "Requirement already satisfied: importlib-metadata>=3.6.0; python_version < \"3.10\" in /home/wojciech/.local/lib/python3.7/site-packages (from flask->jupyter-dash) (6.0.0)\n",
      "Collecting dash-core-components==2.0.0\n",
      "  Downloading dash_core_components-2.0.0-py3-none-any.whl (3.8 kB)\n",
      "Collecting dash-table==5.0.0\n",
      "  Downloading dash_table-5.0.0-py3-none-any.whl (3.9 kB)\n",
      "Collecting dash-html-components==2.0.0\n",
      "  Downloading dash_html_components-2.0.0-py3-none-any.whl (4.1 kB)\n",
      "Collecting plotly>=5.0.0\n",
      "  Downloading plotly-5.13.1-py2.py3-none-any.whl (15.2 MB)\n",
      "\u001b[K     |████████████████████████████████| 15.2 MB 74.3 MB/s eta 0:00:01\n",
      "\u001b[?25hRequirement already satisfied: jupyter-core>=4.9.2 in /home/wojciech/.local/lib/python3.7/site-packages (from jupyter-client>=6.1.12->ipykernel->jupyter-dash) (4.12.0)\n",
      "Requirement already satisfied: python-dateutil>=2.8.2 in /home/wojciech/.local/lib/python3.7/site-packages (from jupyter-client>=6.1.12->ipykernel->jupyter-dash) (2.8.2)\n",
      "Requirement already satisfied: entrypoints in /home/wojciech/.local/lib/python3.7/site-packages (from jupyter-client>=6.1.12->ipykernel->jupyter-dash) (0.4)\n",
      "Requirement already satisfied: ptyprocess>=0.5 in /home/wojciech/.local/lib/python3.7/site-packages (from pexpect>4.3; sys_platform != \"win32\"->ipython->jupyter-dash) (0.7.0)\n",
      "Requirement already satisfied: wcwidth in /home/wojciech/.local/lib/python3.7/site-packages (from prompt-toolkit!=3.0.0,!=3.0.1,<3.1.0,>=2.0.0->ipython->jupyter-dash) (0.2.6)\n",
      "Requirement already satisfied: parso<0.9.0,>=0.8.0 in /home/wojciech/.local/lib/python3.7/site-packages (from jedi>=0.16->ipython->jupyter-dash) (0.8.3)\n",
      "Requirement already satisfied: MarkupSafe>=2.0 in /home/wojciech/.local/lib/python3.7/site-packages (from Jinja2>=3.0->flask->jupyter-dash) (2.1.2)\n",
      "Requirement already satisfied: typing-extensions>=3.6.4; python_version < \"3.8\" in /home/wojciech/.local/lib/python3.7/site-packages (from importlib-metadata>=3.6.0; python_version < \"3.10\"->flask->jupyter-dash) (4.4.0)\n",
      "Requirement already satisfied: zipp>=0.5 in /home/wojciech/.local/lib/python3.7/site-packages (from importlib-metadata>=3.6.0; python_version < \"3.10\"->flask->jupyter-dash) (3.15.0)\n",
      "Collecting tenacity>=6.2.0\n",
      "  Downloading tenacity-8.2.2-py3-none-any.whl (24 kB)\n",
      "Installing collected packages: retrying, itsdangerous, flask, ansi2html, dash-core-components, dash-table, dash-html-components, tenacity, plotly, dash, jupyter-dash\n",
      "Successfully installed ansi2html-1.8.0 dash-2.9.1 dash-core-components-2.0.0 dash-html-components-2.0.0 dash-table-5.0.0 flask-2.2.3 itsdangerous-2.1.2 jupyter-dash-0.4.2 plotly-5.13.1 retrying-1.3.4 tenacity-8.2.2\n"
     ]
    }
   ],
   "source": [
    "!pip3 install jupyter-dash"
   ]
  },
  {
   "cell_type": "code",
   "execution_count": 6,
   "metadata": {},
   "outputs": [],
   "source": [
    "import json\n",
    "#from dash import Dash, html, dcc       Dash to be tried later as a standalone app\n",
    "#from jupyter_dash import JupyterDash\n",
    "import plotly.express as px\n",
    "import pandas as pd"
   ]
  },
  {
   "cell_type": "code",
   "execution_count": 21,
   "metadata": {},
   "outputs": [
    {
     "name": "stderr",
     "output_type": "stream",
     "text": [
      "/home/wojciech/.local/lib/python3.7/site-packages/IPython/core/interactiveshell.py:3553: DtypeWarning:\n",
      "\n",
      "Columns (22) have mixed types.Specify dtype option on import or set low_memory=False.\n",
      "\n"
     ]
    },
    {
     "data": {
      "text/html": [
       "<div>\n",
       "<style scoped>\n",
       "    .dataframe tbody tr th:only-of-type {\n",
       "        vertical-align: middle;\n",
       "    }\n",
       "\n",
       "    .dataframe tbody tr th {\n",
       "        vertical-align: top;\n",
       "    }\n",
       "\n",
       "    .dataframe thead th {\n",
       "        text-align: right;\n",
       "    }\n",
       "</style>\n",
       "<table border=\"1\" class=\"dataframe\">\n",
       "  <thead>\n",
       "    <tr style=\"text-align: right;\">\n",
       "      <th></th>\n",
       "      <th>id</th>\n",
       "      <th>name</th>\n",
       "      <th>shortTitle</th>\n",
       "      <th>text</th>\n",
       "      <th>teaser</th>\n",
       "      <th>shortTeaser</th>\n",
       "      <th>kicker</th>\n",
       "      <th>regions</th>\n",
       "      <th>keywords</th>\n",
       "      <th>keywordStrings</th>\n",
       "      <th>...</th>\n",
       "      <th>articles</th>\n",
       "      <th>isOpinion</th>\n",
       "      <th>geographicLocations</th>\n",
       "      <th>contentAssociations</th>\n",
       "      <th>mainContentImageLink</th>\n",
       "      <th>images</th>\n",
       "      <th>externalLinks</th>\n",
       "      <th>topStory</th>\n",
       "      <th>language</th>\n",
       "      <th>ts_lastModifiedDate</th>\n",
       "    </tr>\n",
       "  </thead>\n",
       "  <tbody>\n",
       "    <tr>\n",
       "      <th>60278</th>\n",
       "      <td>46912921</td>\n",
       "      <td>NASA spacecraft enters asteroid Bennu's orbit,...</td>\n",
       "      <td>NASA craft enters asteroid orbit, sets records</td>\n",
       "      <td>&lt;p&gt;NASA's unmanned spacecraft OSIRIS-REx enter...</td>\n",
       "      <td>The OSIRIS-REx spacecraft had arrived at the l...</td>\n",
       "      <td>NASA said its OSIRIS-REx spacecraft succesfull...</td>\n",
       "      <td>NaN</td>\n",
       "      <td>[]</td>\n",
       "      <td>[{'name': 'NASA'}, {'name': 'OSIRIS-REx'}, {'n...</td>\n",
       "      <td>['NASA', 'OSIRIS-REx', 'Bennu', 'asteroid']</td>\n",
       "      <td>...</td>\n",
       "      <td>[{'name': 'After two-year journey, NASA Osiris...</td>\n",
       "      <td>False</td>\n",
       "      <td>[]</td>\n",
       "      <td>[{'id': 47376129}, {'id': 47376131}, {'id': 47...</td>\n",
       "      <td>{'description': None}</td>\n",
       "      <td>[{'name': 'Sonde «Osiris Rex» nach zwei Jahren...</td>\n",
       "      <td>[{'name': 'DW Newsletter'}]</td>\n",
       "      <td>False</td>\n",
       "      <td>NaN</td>\n",
       "      <td>2019-01-01 03:57:28.904000+00:00</td>\n",
       "    </tr>\n",
       "    <tr>\n",
       "      <th>60279</th>\n",
       "      <td>46911356</td>\n",
       "      <td>UK brings in boats to patrol English Channel a...</td>\n",
       "      <td>UK deploys boats amid Channel migration spike</td>\n",
       "      <td>&lt;p&gt;Britain will recall two overseas border pat...</td>\n",
       "      <td>The UK is withdrawing patrol ships from overse...</td>\n",
       "      <td>The UK is withdrawing patrol ships from overse...</td>\n",
       "      <td>NaN</td>\n",
       "      <td>[]</td>\n",
       "      <td>[{'name': 'English Channel'}, {'name': 'migrat...</td>\n",
       "      <td>['English Channel', 'migration', 'boats', 'ill...</td>\n",
       "      <td>...</td>\n",
       "      <td>[{'name': '40 migrants rescued from boats in E...</td>\n",
       "      <td>False</td>\n",
       "      <td>[]</td>\n",
       "      <td>[{'id': 47375206}, {'id': 47375208}, {'id': 47...</td>\n",
       "      <td>{'description': None}</td>\n",
       "      <td>[{'name': 'Großbritanien | Zahl der Bootsflüch...</td>\n",
       "      <td>[]</td>\n",
       "      <td>False</td>\n",
       "      <td>NaN</td>\n",
       "      <td>2019-01-01 06:11:50.527000+00:00</td>\n",
       "    </tr>\n",
       "    <tr>\n",
       "      <th>60280</th>\n",
       "      <td>46909694</td>\n",
       "      <td>In Brazil, Jair Bolsonaro tries to unite the e...</td>\n",
       "      <td>Can Bolsonaro unite Brazil's motley right?</td>\n",
       "      <td>&lt;p&gt;Politics without ideologies and party cliqu...</td>\n",
       "      <td>Brazil is inaugurating President Jair Bolsonar...</td>\n",
       "      <td>In his campaign, Jair Bolsonaro targeted appea...</td>\n",
       "      <td>NaN</td>\n",
       "      <td>[]</td>\n",
       "      <td>[{'name': 'Brazil'}, {'name': 'Jair Bolsonaro'...</td>\n",
       "      <td>['Brazil', 'Jair Bolsonaro', 'Chicago economic...</td>\n",
       "      <td>...</td>\n",
       "      <td>[{'name': \"Bolsonaro's policies divide Afro-Br...</td>\n",
       "      <td>False</td>\n",
       "      <td>[]</td>\n",
       "      <td>[{'id': 47373913}, {'id': 47374152}, {'id': 47...</td>\n",
       "      <td>{'description': None}</td>\n",
       "      <td>[{'name': 'Brasilien - Präsident Jair Bolsonar...</td>\n",
       "      <td>[{'name': ''}]</td>\n",
       "      <td>False</td>\n",
       "      <td>NaN</td>\n",
       "      <td>2019-01-01 06:14:35.563000+00:00</td>\n",
       "    </tr>\n",
       "    <tr>\n",
       "      <th>60281</th>\n",
       "      <td>46912694</td>\n",
       "      <td>Tokyo: Man deliberately drives van into NYE cr...</td>\n",
       "      <td>Man drives car into Tokyo NYE crowd</td>\n",
       "      <td>&lt;p&gt;At least nine people were injured when a ma...</td>\n",
       "      <td>A man with an \"intent to murder\" has driven a ...</td>\n",
       "      <td>A man with an \"intent to murder\" has driven a ...</td>\n",
       "      <td>NaN</td>\n",
       "      <td>[]</td>\n",
       "      <td>[{'name': 'Japan'}, {'name': 'Tokyo'}, {'name'...</td>\n",
       "      <td>['Japan', 'Tokyo', 'Harajuku', 'attack']</td>\n",
       "      <td>...</td>\n",
       "      <td>[]</td>\n",
       "      <td>False</td>\n",
       "      <td>[]</td>\n",
       "      <td>[{'id': 47376009}, {'id': 47376011}, {'id': 47...</td>\n",
       "      <td>{'description': None}</td>\n",
       "      <td>[{'name': 'Japan | Autoangriff in Tokyo'}]</td>\n",
       "      <td>[]</td>\n",
       "      <td>False</td>\n",
       "      <td>NaN</td>\n",
       "      <td>2019-01-01 08:26:11.599000+00:00</td>\n",
       "    </tr>\n",
       "    <tr>\n",
       "      <th>60282</th>\n",
       "      <td>46910092</td>\n",
       "      <td>Bangladesh opposition leader: International co...</td>\n",
       "      <td>International community 'shouldn't recognize n...</td>\n",
       "      <td>&lt;div class=\"vjs-wrapper embed big \"&gt;&lt;h2 aria-l...</td>\n",
       "      <td>In an exclusive interview with DW, Kamal Hossa...</td>\n",
       "      <td>Bangladeshi opposition leader Kamal Hossain sl...</td>\n",
       "      <td>NaN</td>\n",
       "      <td>[]</td>\n",
       "      <td>[{'name': 'Asia'}, {'name': 'Bangladesh'}, {'n...</td>\n",
       "      <td>['Asia', 'Bangladesh', 'elections', 'Kamal Hos...</td>\n",
       "      <td>...</td>\n",
       "      <td>[{'name': \"Opinion: Bangladesh's missed chance...</td>\n",
       "      <td>False</td>\n",
       "      <td>[]</td>\n",
       "      <td>[{'id': 47374183}, {'id': 47374251}, {'id': 47...</td>\n",
       "      <td>{'description': None}</td>\n",
       "      <td>[{'name': 'Dr. Kamal Hossain '}, {'name': 'Pre...</td>\n",
       "      <td>[]</td>\n",
       "      <td>False</td>\n",
       "      <td>NaN</td>\n",
       "      <td>2019-01-01 09:05:00.736000+00:00</td>\n",
       "    </tr>\n",
       "  </tbody>\n",
       "</table>\n",
       "<p>5 rows × 29 columns</p>\n",
       "</div>"
      ],
      "text/plain": [
       "             id                                               name  \\\n",
       "60278  46912921  NASA spacecraft enters asteroid Bennu's orbit,...   \n",
       "60279  46911356  UK brings in boats to patrol English Channel a...   \n",
       "60280  46909694  In Brazil, Jair Bolsonaro tries to unite the e...   \n",
       "60281  46912694  Tokyo: Man deliberately drives van into NYE cr...   \n",
       "60282  46910092  Bangladesh opposition leader: International co...   \n",
       "\n",
       "                                              shortTitle  \\\n",
       "60278     NASA craft enters asteroid orbit, sets records   \n",
       "60279      UK deploys boats amid Channel migration spike   \n",
       "60280         Can Bolsonaro unite Brazil's motley right?   \n",
       "60281                Man drives car into Tokyo NYE crowd   \n",
       "60282  International community 'shouldn't recognize n...   \n",
       "\n",
       "                                                    text  \\\n",
       "60278  <p>NASA's unmanned spacecraft OSIRIS-REx enter...   \n",
       "60279  <p>Britain will recall two overseas border pat...   \n",
       "60280  <p>Politics without ideologies and party cliqu...   \n",
       "60281  <p>At least nine people were injured when a ma...   \n",
       "60282  <div class=\"vjs-wrapper embed big \"><h2 aria-l...   \n",
       "\n",
       "                                                  teaser  \\\n",
       "60278  The OSIRIS-REx spacecraft had arrived at the l...   \n",
       "60279  The UK is withdrawing patrol ships from overse...   \n",
       "60280  Brazil is inaugurating President Jair Bolsonar...   \n",
       "60281  A man with an \"intent to murder\" has driven a ...   \n",
       "60282  In an exclusive interview with DW, Kamal Hossa...   \n",
       "\n",
       "                                             shortTeaser kicker regions  \\\n",
       "60278  NASA said its OSIRIS-REx spacecraft succesfull...    NaN      []   \n",
       "60279  The UK is withdrawing patrol ships from overse...    NaN      []   \n",
       "60280  In his campaign, Jair Bolsonaro targeted appea...    NaN      []   \n",
       "60281  A man with an \"intent to murder\" has driven a ...    NaN      []   \n",
       "60282  Bangladeshi opposition leader Kamal Hossain sl...    NaN      []   \n",
       "\n",
       "                                                keywords  \\\n",
       "60278  [{'name': 'NASA'}, {'name': 'OSIRIS-REx'}, {'n...   \n",
       "60279  [{'name': 'English Channel'}, {'name': 'migrat...   \n",
       "60280  [{'name': 'Brazil'}, {'name': 'Jair Bolsonaro'...   \n",
       "60281  [{'name': 'Japan'}, {'name': 'Tokyo'}, {'name'...   \n",
       "60282  [{'name': 'Asia'}, {'name': 'Bangladesh'}, {'n...   \n",
       "\n",
       "                                          keywordStrings  ...  \\\n",
       "60278        ['NASA', 'OSIRIS-REx', 'Bennu', 'asteroid']  ...   \n",
       "60279  ['English Channel', 'migration', 'boats', 'ill...  ...   \n",
       "60280  ['Brazil', 'Jair Bolsonaro', 'Chicago economic...  ...   \n",
       "60281           ['Japan', 'Tokyo', 'Harajuku', 'attack']  ...   \n",
       "60282  ['Asia', 'Bangladesh', 'elections', 'Kamal Hos...  ...   \n",
       "\n",
       "                                                articles isOpinion  \\\n",
       "60278  [{'name': 'After two-year journey, NASA Osiris...     False   \n",
       "60279  [{'name': '40 migrants rescued from boats in E...     False   \n",
       "60280  [{'name': \"Bolsonaro's policies divide Afro-Br...     False   \n",
       "60281                                                 []     False   \n",
       "60282  [{'name': \"Opinion: Bangladesh's missed chance...     False   \n",
       "\n",
       "      geographicLocations                                contentAssociations  \\\n",
       "60278                  []  [{'id': 47376129}, {'id': 47376131}, {'id': 47...   \n",
       "60279                  []  [{'id': 47375206}, {'id': 47375208}, {'id': 47...   \n",
       "60280                  []  [{'id': 47373913}, {'id': 47374152}, {'id': 47...   \n",
       "60281                  []  [{'id': 47376009}, {'id': 47376011}, {'id': 47...   \n",
       "60282                  []  [{'id': 47374183}, {'id': 47374251}, {'id': 47...   \n",
       "\n",
       "        mainContentImageLink  \\\n",
       "60278  {'description': None}   \n",
       "60279  {'description': None}   \n",
       "60280  {'description': None}   \n",
       "60281  {'description': None}   \n",
       "60282  {'description': None}   \n",
       "\n",
       "                                                  images  \\\n",
       "60278  [{'name': 'Sonde «Osiris Rex» nach zwei Jahren...   \n",
       "60279  [{'name': 'Großbritanien | Zahl der Bootsflüch...   \n",
       "60280  [{'name': 'Brasilien - Präsident Jair Bolsonar...   \n",
       "60281         [{'name': 'Japan | Autoangriff in Tokyo'}]   \n",
       "60282  [{'name': 'Dr. Kamal Hossain '}, {'name': 'Pre...   \n",
       "\n",
       "                     externalLinks topStory language  \\\n",
       "60278  [{'name': 'DW Newsletter'}]    False      NaN   \n",
       "60279                           []    False      NaN   \n",
       "60280               [{'name': ''}]    False      NaN   \n",
       "60281                           []    False      NaN   \n",
       "60282                           []    False      NaN   \n",
       "\n",
       "                    ts_lastModifiedDate  \n",
       "60278  2019-01-01 03:57:28.904000+00:00  \n",
       "60279  2019-01-01 06:11:50.527000+00:00  \n",
       "60280  2019-01-01 06:14:35.563000+00:00  \n",
       "60281  2019-01-01 08:26:11.599000+00:00  \n",
       "60282  2019-01-01 09:05:00.736000+00:00  \n",
       "\n",
       "[5 rows x 29 columns]"
      ]
     },
     "execution_count": 21,
     "metadata": {},
     "output_type": "execute_result"
    }
   ],
   "source": [
    "df = pd.read_csv('../data/interim/CMS_2019_to_2022_ENGLISH.csv', index_col=0)\n",
    "\n",
    "df.head()"
   ]
  },
  {
   "cell_type": "code",
   "execution_count": 25,
   "metadata": {},
   "outputs": [
    {
     "name": "stderr",
     "output_type": "stream",
     "text": [
      "/home/wojciech/.local/lib/python3.7/site-packages/ipykernel_launcher.py:2: SettingWithCopyWarning:\n",
      "\n",
      "\n",
      "A value is trying to be set on a copy of a slice from a DataFrame.\n",
      "Try using .loc[row_indexer,col_indexer] = value instead\n",
      "\n",
      "See the caveats in the documentation: https://pandas.pydata.org/pandas-docs/stable/user_guide/indexing.html#returning-a-view-versus-a-copy\n",
      "\n"
     ]
    },
    {
     "data": {
      "text/html": [
       "<div>\n",
       "<style scoped>\n",
       "    .dataframe tbody tr th:only-of-type {\n",
       "        vertical-align: middle;\n",
       "    }\n",
       "\n",
       "    .dataframe tbody tr th {\n",
       "        vertical-align: top;\n",
       "    }\n",
       "\n",
       "    .dataframe thead th {\n",
       "        text-align: right;\n",
       "    }\n",
       "</style>\n",
       "<table border=\"1\" class=\"dataframe\">\n",
       "  <thead>\n",
       "    <tr style=\"text-align: right;\">\n",
       "      <th></th>\n",
       "      <th>ts_lastModifiedDate</th>\n",
       "      <th>keywordStrings</th>\n",
       "    </tr>\n",
       "  </thead>\n",
       "  <tbody>\n",
       "    <tr>\n",
       "      <th>60278</th>\n",
       "      <td>2019-01-01 03:57:28.904000+00:00</td>\n",
       "      <td>NASA</td>\n",
       "    </tr>\n",
       "    <tr>\n",
       "      <th>60278</th>\n",
       "      <td>2019-01-01 03:57:28.904000+00:00</td>\n",
       "      <td>OSIRIS-REx</td>\n",
       "    </tr>\n",
       "    <tr>\n",
       "      <th>60278</th>\n",
       "      <td>2019-01-01 03:57:28.904000+00:00</td>\n",
       "      <td>Bennu</td>\n",
       "    </tr>\n",
       "    <tr>\n",
       "      <th>60278</th>\n",
       "      <td>2019-01-01 03:57:28.904000+00:00</td>\n",
       "      <td>asteroid</td>\n",
       "    </tr>\n",
       "    <tr>\n",
       "      <th>60279</th>\n",
       "      <td>2019-01-01 06:11:50.527000+00:00</td>\n",
       "      <td>English Channel</td>\n",
       "    </tr>\n",
       "  </tbody>\n",
       "</table>\n",
       "</div>"
      ],
      "text/plain": [
       "                    ts_lastModifiedDate   keywordStrings\n",
       "60278  2019-01-01 03:57:28.904000+00:00             NASA\n",
       "60278  2019-01-01 03:57:28.904000+00:00       OSIRIS-REx\n",
       "60278  2019-01-01 03:57:28.904000+00:00            Bennu\n",
       "60278  2019-01-01 03:57:28.904000+00:00         asteroid\n",
       "60279  2019-01-01 06:11:50.527000+00:00  English Channel"
      ]
     },
     "execution_count": 25,
     "metadata": {},
     "output_type": "execute_result"
    }
   ],
   "source": [
    "keys_times = df[['ts_lastModifiedDate', 'keywordStrings']]\n",
    "keys_times['keywordStrings'] = keys_times['keywordStrings'].apply(literal_eval)        #This ensures keywordStrings is an actual list, not just 'look-alike'\n",
    "keys_times = keys_times.explode('keywordStrings')\n",
    "keys_times.head()"
   ]
  },
  {
   "cell_type": "code",
   "execution_count": 41,
   "metadata": {},
   "outputs": [
    {
     "name": "stdout",
     "output_type": "stream",
     "text": [
      "Index(['Germany', 'coronavirus', 'COVID-19', 'China', 'Russia', 'Donald Trump',\n",
      "       'Asia', 'US', 'EU', 'Bundesliga'],\n",
      "      dtype='object')\n"
     ]
    }
   ],
   "source": [
    "top10 = keys_times['keywordStrings'].value_counts().nlargest(10)\n",
    "print(top10.index)"
   ]
  },
  {
   "cell_type": "code",
   "execution_count": 69,
   "metadata": {},
   "outputs": [
    {
     "data": {
      "text/html": [
       "<div>\n",
       "<style scoped>\n",
       "    .dataframe tbody tr th:only-of-type {\n",
       "        vertical-align: middle;\n",
       "    }\n",
       "\n",
       "    .dataframe tbody tr th {\n",
       "        vertical-align: top;\n",
       "    }\n",
       "\n",
       "    .dataframe thead th {\n",
       "        text-align: right;\n",
       "    }\n",
       "</style>\n",
       "<table border=\"1\" class=\"dataframe\">\n",
       "  <thead>\n",
       "    <tr style=\"text-align: right;\">\n",
       "      <th></th>\n",
       "      <th>keywordStrings</th>\n",
       "      <th>month</th>\n",
       "      <th>year</th>\n",
       "      <th>ts_lastModifiedDate</th>\n",
       "      <th>count</th>\n",
       "      <th>yearmonth</th>\n",
       "    </tr>\n",
       "  </thead>\n",
       "  <tbody>\n",
       "    <tr>\n",
       "      <th>0</th>\n",
       "      <td>Refugees</td>\n",
       "      <td>2</td>\n",
       "      <td>2021</td>\n",
       "      <td>1</td>\n",
       "      <td>1</td>\n",
       "      <td>2021-02-01</td>\n",
       "    </tr>\n",
       "    <tr>\n",
       "      <th>1</th>\n",
       "      <td>Refugees</td>\n",
       "      <td>3</td>\n",
       "      <td>2021</td>\n",
       "      <td>2</td>\n",
       "      <td>2</td>\n",
       "      <td>2021-03-01</td>\n",
       "    </tr>\n",
       "    <tr>\n",
       "      <th>2</th>\n",
       "      <td>Refugees</td>\n",
       "      <td>5</td>\n",
       "      <td>2021</td>\n",
       "      <td>1</td>\n",
       "      <td>1</td>\n",
       "      <td>2021-05-01</td>\n",
       "    </tr>\n",
       "    <tr>\n",
       "      <th>3</th>\n",
       "      <td>Refugees</td>\n",
       "      <td>8</td>\n",
       "      <td>2021</td>\n",
       "      <td>1</td>\n",
       "      <td>1</td>\n",
       "      <td>2021-08-01</td>\n",
       "    </tr>\n",
       "    <tr>\n",
       "      <th>4</th>\n",
       "      <td>Refugees</td>\n",
       "      <td>9</td>\n",
       "      <td>2021</td>\n",
       "      <td>1</td>\n",
       "      <td>1</td>\n",
       "      <td>2021-09-01</td>\n",
       "    </tr>\n",
       "  </tbody>\n",
       "</table>\n",
       "</div>"
      ],
      "text/plain": [
       "  keywordStrings  month  year  ts_lastModifiedDate  count  yearmonth\n",
       "0       Refugees      2  2021                    1      1 2021-02-01\n",
       "1       Refugees      3  2021                    2      2 2021-03-01\n",
       "2       Refugees      5  2021                    1      1 2021-05-01\n",
       "3       Refugees      8  2021                    1      1 2021-08-01\n",
       "4       Refugees      9  2021                    1      1 2021-09-01"
      ]
     },
     "execution_count": 69,
     "metadata": {},
     "output_type": "execute_result"
    }
   ],
   "source": [
    "keys_times['date']=pd.to_datetime(keys_times['ts_lastModifiedDate'])\n",
    "\n",
    "keys_times[\"month\"] = keys_times[\"date\"].dt.month\n",
    "keys_times[\"year\"] = keys_times[\"date\"].dt.year\n",
    "\n",
    "grouped_keys_times = keys_times.groupby([keys_times.keywordStrings, keys_times.month, keys_times.year]).count().reset_index()\n",
    "grouped_keys_times = grouped_keys_times.rename(columns={\"date\": \"count\"})\n",
    "grouped_keys_times['yearmonth'] = pd.to_datetime(dict(year=grouped_keys_times.year, month=grouped_keys_times.month, day='01'))\n",
    "grouped_keys_times.head()"
   ]
  },
  {
   "cell_type": "code",
   "execution_count": 71,
   "metadata": {},
   "outputs": [
    {
     "data": {
      "application/vnd.plotly.v1+json": {
       "config": {
        "plotlyServerURL": "https://plot.ly"
       },
       "data": [
        {
         "hovertemplate": "keywordStrings=Asia<br>yearmonth=%{x}<br>count=%{y}<extra></extra>",
         "legendgroup": "Asia",
         "line": {
          "color": "#636efa",
          "dash": "solid"
         },
         "marker": {
          "symbol": "circle"
         },
         "mode": "lines",
         "name": "Asia",
         "orientation": "v",
         "showlegend": true,
         "type": "scatter",
         "x": [
          "2019-01-01T00:00:00",
          "2019-02-01T00:00:00",
          "2019-03-01T00:00:00",
          "2019-04-01T00:00:00",
          "2019-05-01T00:00:00",
          "2019-06-01T00:00:00",
          "2019-07-01T00:00:00",
          "2019-08-01T00:00:00",
          "2019-09-01T00:00:00",
          "2019-10-01T00:00:00",
          "2019-11-01T00:00:00",
          "2019-12-01T00:00:00",
          "2020-01-01T00:00:00",
          "2020-02-01T00:00:00",
          "2020-03-01T00:00:00",
          "2020-04-01T00:00:00",
          "2020-05-01T00:00:00",
          "2020-06-01T00:00:00",
          "2020-07-01T00:00:00",
          "2020-08-01T00:00:00",
          "2020-09-01T00:00:00",
          "2020-10-01T00:00:00",
          "2021-01-01T00:00:00",
          "2021-02-01T00:00:00",
          "2021-03-01T00:00:00",
          "2021-04-01T00:00:00",
          "2021-07-01T00:00:00",
          "2021-08-01T00:00:00",
          "2021-09-01T00:00:00",
          "2021-10-01T00:00:00",
          "2021-11-01T00:00:00",
          "2021-12-01T00:00:00"
         ],
         "xaxis": "x",
         "y": [
          36,
          36,
          28,
          28,
          38,
          25,
          37,
          29,
          32,
          33,
          31,
          19,
          21,
          30,
          28,
          47,
          43,
          58,
          54,
          41,
          45,
          54,
          40,
          42,
          69,
          35,
          49,
          57,
          43,
          47,
          47,
          38
         ],
         "yaxis": "y"
        },
        {
         "hovertemplate": "keywordStrings=Donald Trump<br>yearmonth=%{x}<br>count=%{y}<extra></extra>",
         "legendgroup": "Donald Trump",
         "line": {
          "color": "#EF553B",
          "dash": "solid"
         },
         "marker": {
          "symbol": "circle"
         },
         "mode": "lines",
         "name": "Donald Trump",
         "orientation": "v",
         "showlegend": true,
         "type": "scatter",
         "x": [
          "2019-01-01T00:00:00",
          "2019-02-01T00:00:00",
          "2019-03-01T00:00:00",
          "2019-04-01T00:00:00",
          "2019-05-01T00:00:00",
          "2019-06-01T00:00:00",
          "2019-07-01T00:00:00",
          "2019-08-01T00:00:00",
          "2019-09-01T00:00:00",
          "2019-10-01T00:00:00",
          "2019-11-01T00:00:00",
          "2019-12-01T00:00:00",
          "2020-01-01T00:00:00",
          "2020-02-01T00:00:00",
          "2020-03-01T00:00:00",
          "2020-04-01T00:00:00",
          "2020-05-01T00:00:00",
          "2020-06-01T00:00:00",
          "2020-07-01T00:00:00",
          "2020-08-01T00:00:00",
          "2020-09-01T00:00:00",
          "2020-10-01T00:00:00",
          "2020-11-01T00:00:00",
          "2021-01-01T00:00:00",
          "2021-02-01T00:00:00",
          "2021-03-01T00:00:00",
          "2021-04-01T00:00:00",
          "2021-05-01T00:00:00",
          "2021-07-01T00:00:00",
          "2021-08-01T00:00:00",
          "2021-09-01T00:00:00",
          "2021-10-01T00:00:00",
          "2021-11-01T00:00:00",
          "2021-12-01T00:00:00"
         ],
         "xaxis": "x",
         "y": [
          63,
          68,
          57,
          44,
          66,
          75,
          59,
          58,
          61,
          45,
          37,
          35,
          49,
          34,
          27,
          27,
          29,
          57,
          52,
          47,
          57,
          71,
          10,
          95,
          19,
          11,
          6,
          3,
          13,
          2,
          6,
          9,
          8,
          10
         ],
         "yaxis": "y"
        },
        {
         "hovertemplate": "keywordStrings=EU<br>yearmonth=%{x}<br>count=%{y}<extra></extra>",
         "legendgroup": "EU",
         "line": {
          "color": "#00cc96",
          "dash": "solid"
         },
         "marker": {
          "symbol": "circle"
         },
         "mode": "lines",
         "name": "EU",
         "orientation": "v",
         "showlegend": true,
         "type": "scatter",
         "x": [
          "2019-01-01T00:00:00",
          "2019-02-01T00:00:00",
          "2019-03-01T00:00:00",
          "2019-04-01T00:00:00",
          "2019-05-01T00:00:00",
          "2019-06-01T00:00:00",
          "2019-07-01T00:00:00",
          "2019-08-01T00:00:00",
          "2019-09-01T00:00:00",
          "2019-10-01T00:00:00",
          "2019-11-01T00:00:00",
          "2019-12-01T00:00:00",
          "2020-01-01T00:00:00",
          "2020-02-01T00:00:00",
          "2020-03-01T00:00:00",
          "2020-04-01T00:00:00",
          "2020-05-01T00:00:00",
          "2020-06-01T00:00:00",
          "2020-07-01T00:00:00",
          "2020-08-01T00:00:00",
          "2020-09-01T00:00:00",
          "2020-10-01T00:00:00",
          "2020-11-01T00:00:00",
          "2021-01-01T00:00:00",
          "2021-02-01T00:00:00",
          "2021-03-01T00:00:00",
          "2021-04-01T00:00:00",
          "2021-05-01T00:00:00",
          "2021-07-01T00:00:00",
          "2021-08-01T00:00:00",
          "2021-09-01T00:00:00",
          "2021-10-01T00:00:00",
          "2021-11-01T00:00:00",
          "2021-12-01T00:00:00"
         ],
         "xaxis": "x",
         "y": [
          37,
          43,
          68,
          36,
          34,
          39,
          54,
          16,
          29,
          30,
          31,
          28,
          24,
          29,
          23,
          21,
          28,
          41,
          35,
          16,
          40,
          46,
          1,
          38,
          44,
          60,
          15,
          2,
          32,
          20,
          24,
          39,
          33,
          22
         ],
         "yaxis": "y"
        },
        {
         "hovertemplate": "keywordStrings=Germany<br>yearmonth=%{x}<br>count=%{y}<extra></extra>",
         "legendgroup": "Germany",
         "line": {
          "color": "#ab63fa",
          "dash": "solid"
         },
         "marker": {
          "symbol": "circle"
         },
         "mode": "lines",
         "name": "Germany",
         "orientation": "v",
         "showlegend": true,
         "type": "scatter",
         "x": [
          "2019-01-01T00:00:00",
          "2019-02-01T00:00:00",
          "2019-03-01T00:00:00",
          "2019-04-01T00:00:00",
          "2019-05-01T00:00:00",
          "2019-06-01T00:00:00",
          "2019-07-01T00:00:00",
          "2019-08-01T00:00:00",
          "2019-09-01T00:00:00",
          "2019-10-01T00:00:00",
          "2019-11-01T00:00:00",
          "2019-12-01T00:00:00",
          "2020-01-01T00:00:00",
          "2020-02-01T00:00:00",
          "2020-03-01T00:00:00",
          "2020-04-01T00:00:00",
          "2020-05-01T00:00:00",
          "2020-06-01T00:00:00",
          "2020-07-01T00:00:00",
          "2020-08-01T00:00:00",
          "2020-09-01T00:00:00",
          "2020-10-01T00:00:00",
          "2020-11-01T00:00:00",
          "2021-01-01T00:00:00",
          "2021-02-01T00:00:00",
          "2021-03-01T00:00:00",
          "2021-04-01T00:00:00",
          "2021-05-01T00:00:00",
          "2021-07-01T00:00:00",
          "2021-08-01T00:00:00",
          "2021-09-01T00:00:00",
          "2021-10-01T00:00:00",
          "2021-11-01T00:00:00",
          "2021-12-01T00:00:00"
         ],
         "xaxis": "x",
         "y": [
          125,
          108,
          100,
          106,
          96,
          120,
          99,
          105,
          90,
          91,
          129,
          112,
          80,
          100,
          75,
          67,
          100,
          123,
          125,
          121,
          102,
          113,
          11,
          85,
          109,
          96,
          43,
          2,
          103,
          114,
          116,
          106,
          89,
          101
         ],
         "yaxis": "y"
        },
        {
         "hovertemplate": "keywordStrings=Bundesliga<br>yearmonth=%{x}<br>count=%{y}<extra></extra>",
         "legendgroup": "Bundesliga",
         "line": {
          "color": "#FFA15A",
          "dash": "solid"
         },
         "marker": {
          "symbol": "circle"
         },
         "mode": "lines",
         "name": "Bundesliga",
         "orientation": "v",
         "showlegend": true,
         "type": "scatter",
         "x": [
          "2019-01-01T00:00:00",
          "2019-02-01T00:00:00",
          "2019-03-01T00:00:00",
          "2019-04-01T00:00:00",
          "2019-05-01T00:00:00",
          "2019-06-01T00:00:00",
          "2019-07-01T00:00:00",
          "2019-08-01T00:00:00",
          "2019-09-01T00:00:00",
          "2019-10-01T00:00:00",
          "2019-11-01T00:00:00",
          "2019-12-01T00:00:00",
          "2020-01-01T00:00:00",
          "2020-02-01T00:00:00",
          "2020-03-01T00:00:00",
          "2020-04-01T00:00:00",
          "2020-05-01T00:00:00",
          "2020-06-01T00:00:00",
          "2020-07-01T00:00:00",
          "2020-08-01T00:00:00",
          "2020-09-01T00:00:00",
          "2020-10-01T00:00:00",
          "2020-11-01T00:00:00",
          "2020-12-01T00:00:00",
          "2021-01-01T00:00:00",
          "2021-02-01T00:00:00",
          "2021-03-01T00:00:00",
          "2021-04-01T00:00:00",
          "2021-05-01T00:00:00",
          "2021-06-01T00:00:00",
          "2021-07-01T00:00:00",
          "2021-08-01T00:00:00",
          "2021-09-01T00:00:00",
          "2021-10-01T00:00:00",
          "2021-11-01T00:00:00",
          "2021-12-01T00:00:00"
         ],
         "xaxis": "x",
         "y": [
          31,
          45,
          41,
          46,
          39,
          9,
          10,
          45,
          39,
          29,
          29,
          28,
          28,
          38,
          28,
          28,
          43,
          42,
          27,
          17,
          24,
          26,
          1,
          3,
          36,
          29,
          25,
          13,
          3,
          1,
          8,
          21,
          11,
          19,
          14,
          23
         ],
         "yaxis": "y"
        },
        {
         "hovertemplate": "keywordStrings=Russia<br>yearmonth=%{x}<br>count=%{y}<extra></extra>",
         "legendgroup": "Russia",
         "line": {
          "color": "#19d3f3",
          "dash": "solid"
         },
         "marker": {
          "symbol": "circle"
         },
         "mode": "lines",
         "name": "Russia",
         "orientation": "v",
         "showlegend": true,
         "type": "scatter",
         "x": [
          "2019-01-01T00:00:00",
          "2019-02-01T00:00:00",
          "2019-03-01T00:00:00",
          "2019-04-01T00:00:00",
          "2019-05-01T00:00:00",
          "2019-06-01T00:00:00",
          "2019-07-01T00:00:00",
          "2019-08-01T00:00:00",
          "2019-09-01T00:00:00",
          "2019-10-01T00:00:00",
          "2019-11-01T00:00:00",
          "2019-12-01T00:00:00",
          "2020-01-01T00:00:00",
          "2020-02-01T00:00:00",
          "2020-03-01T00:00:00",
          "2020-04-01T00:00:00",
          "2020-05-01T00:00:00",
          "2020-06-01T00:00:00",
          "2020-07-01T00:00:00",
          "2020-08-01T00:00:00",
          "2020-09-01T00:00:00",
          "2020-10-01T00:00:00",
          "2020-11-01T00:00:00",
          "2021-01-01T00:00:00",
          "2021-02-01T00:00:00",
          "2021-03-01T00:00:00",
          "2021-04-01T00:00:00",
          "2021-05-01T00:00:00",
          "2021-07-01T00:00:00",
          "2021-08-01T00:00:00",
          "2021-09-01T00:00:00",
          "2021-10-01T00:00:00",
          "2021-11-01T00:00:00",
          "2021-12-01T00:00:00"
         ],
         "xaxis": "x",
         "y": [
          33,
          44,
          32,
          42,
          47,
          55,
          58,
          51,
          37,
          40,
          38,
          62,
          30,
          34,
          30,
          14,
          31,
          35,
          44,
          41,
          44,
          53,
          5,
          41,
          53,
          39,
          29,
          1,
          39,
          46,
          42,
          38,
          40,
          63
         ],
         "yaxis": "y"
        },
        {
         "hovertemplate": "keywordStrings=China<br>yearmonth=%{x}<br>count=%{y}<extra></extra>",
         "legendgroup": "China",
         "line": {
          "color": "#FF6692",
          "dash": "solid"
         },
         "marker": {
          "symbol": "circle"
         },
         "mode": "lines",
         "name": "China",
         "orientation": "v",
         "showlegend": true,
         "type": "scatter",
         "x": [
          "2019-01-01T00:00:00",
          "2019-02-01T00:00:00",
          "2019-03-01T00:00:00",
          "2019-04-01T00:00:00",
          "2019-05-01T00:00:00",
          "2019-06-01T00:00:00",
          "2019-07-01T00:00:00",
          "2019-08-01T00:00:00",
          "2019-09-01T00:00:00",
          "2019-10-01T00:00:00",
          "2019-11-01T00:00:00",
          "2019-12-01T00:00:00",
          "2020-01-01T00:00:00",
          "2020-02-01T00:00:00",
          "2020-03-01T00:00:00",
          "2020-04-01T00:00:00",
          "2020-05-01T00:00:00",
          "2020-06-01T00:00:00",
          "2020-07-01T00:00:00",
          "2020-08-01T00:00:00",
          "2020-09-01T00:00:00",
          "2020-10-01T00:00:00",
          "2020-11-01T00:00:00",
          "2021-01-01T00:00:00",
          "2021-02-01T00:00:00",
          "2021-03-01T00:00:00",
          "2021-04-01T00:00:00",
          "2021-05-01T00:00:00",
          "2021-07-01T00:00:00",
          "2021-08-01T00:00:00",
          "2021-09-01T00:00:00",
          "2021-10-01T00:00:00",
          "2021-11-01T00:00:00",
          "2021-12-01T00:00:00"
         ],
         "xaxis": "x",
         "y": [
          53,
          29,
          55,
          32,
          46,
          69,
          58,
          63,
          57,
          57,
          63,
          45,
          66,
          66,
          27,
          35,
          57,
          71,
          68,
          49,
          55,
          36,
          4,
          61,
          37,
          71,
          27,
          3,
          40,
          47,
          54,
          48,
          61,
          44
         ],
         "yaxis": "y"
        },
        {
         "hovertemplate": "keywordStrings=US<br>yearmonth=%{x}<br>count=%{y}<extra></extra>",
         "legendgroup": "US",
         "line": {
          "color": "#B6E880",
          "dash": "solid"
         },
         "marker": {
          "symbol": "circle"
         },
         "mode": "lines",
         "name": "US",
         "orientation": "v",
         "showlegend": true,
         "type": "scatter",
         "x": [
          "2019-01-01T00:00:00",
          "2019-02-01T00:00:00",
          "2019-03-01T00:00:00",
          "2019-04-01T00:00:00",
          "2019-05-01T00:00:00",
          "2019-06-01T00:00:00",
          "2019-07-01T00:00:00",
          "2019-08-01T00:00:00",
          "2019-09-01T00:00:00",
          "2019-10-01T00:00:00",
          "2019-11-01T00:00:00",
          "2019-12-01T00:00:00",
          "2020-01-01T00:00:00",
          "2020-02-01T00:00:00",
          "2020-03-01T00:00:00",
          "2020-04-01T00:00:00",
          "2020-05-01T00:00:00",
          "2020-06-01T00:00:00",
          "2020-07-01T00:00:00",
          "2020-08-01T00:00:00",
          "2020-09-01T00:00:00",
          "2020-10-01T00:00:00",
          "2020-11-01T00:00:00",
          "2021-01-01T00:00:00",
          "2021-02-01T00:00:00",
          "2021-03-01T00:00:00",
          "2021-04-01T00:00:00",
          "2021-07-01T00:00:00",
          "2021-08-01T00:00:00",
          "2021-09-01T00:00:00",
          "2021-10-01T00:00:00",
          "2021-11-01T00:00:00",
          "2021-12-01T00:00:00"
         ],
         "xaxis": "x",
         "y": [
          33,
          28,
          29,
          12,
          47,
          45,
          42,
          35,
          41,
          24,
          22,
          25,
          34,
          17,
          20,
          11,
          26,
          38,
          43,
          36,
          40,
          38,
          2,
          55,
          42,
          44,
          17,
          40,
          44,
          48,
          39,
          35,
          32
         ],
         "yaxis": "y"
        },
        {
         "hovertemplate": "keywordStrings=coronavirus<br>yearmonth=%{x}<br>count=%{y}<extra></extra>",
         "legendgroup": "coronavirus",
         "line": {
          "color": "#FF97FF",
          "dash": "solid"
         },
         "marker": {
          "symbol": "circle"
         },
         "mode": "lines",
         "name": "coronavirus",
         "orientation": "v",
         "showlegend": true,
         "type": "scatter",
         "x": [
          "2020-01-01T00:00:00",
          "2020-02-01T00:00:00",
          "2020-03-01T00:00:00",
          "2020-04-01T00:00:00",
          "2020-05-01T00:00:00",
          "2020-06-01T00:00:00",
          "2020-07-01T00:00:00",
          "2020-08-01T00:00:00",
          "2020-09-01T00:00:00",
          "2020-10-01T00:00:00",
          "2020-11-01T00:00:00",
          "2020-12-01T00:00:00",
          "2021-01-01T00:00:00",
          "2021-02-01T00:00:00",
          "2021-03-01T00:00:00",
          "2021-04-01T00:00:00",
          "2021-05-01T00:00:00",
          "2021-06-01T00:00:00",
          "2021-07-01T00:00:00",
          "2021-08-01T00:00:00",
          "2021-09-01T00:00:00",
          "2021-10-01T00:00:00",
          "2021-11-01T00:00:00",
          "2021-12-01T00:00:00"
         ],
         "xaxis": "x",
         "y": [
          31,
          66,
          240,
          357,
          303,
          224,
          212,
          147,
          130,
          199,
          10,
          4,
          204,
          158,
          173,
          75,
          12,
          1,
          106,
          88,
          73,
          56,
          116,
          104
         ],
         "yaxis": "y"
        },
        {
         "hovertemplate": "keywordStrings=COVID-19<br>yearmonth=%{x}<br>count=%{y}<extra></extra>",
         "legendgroup": "COVID-19",
         "line": {
          "color": "#FECB52",
          "dash": "solid"
         },
         "marker": {
          "symbol": "circle"
         },
         "mode": "lines",
         "name": "COVID-19",
         "orientation": "v",
         "showlegend": true,
         "type": "scatter",
         "x": [
          "2020-02-01T00:00:00",
          "2020-03-01T00:00:00",
          "2020-04-01T00:00:00",
          "2020-05-01T00:00:00",
          "2020-06-01T00:00:00",
          "2020-07-01T00:00:00",
          "2020-08-01T00:00:00",
          "2020-09-01T00:00:00",
          "2020-10-01T00:00:00",
          "2020-11-01T00:00:00",
          "2020-12-01T00:00:00",
          "2021-01-01T00:00:00",
          "2021-02-01T00:00:00",
          "2021-03-01T00:00:00",
          "2021-04-01T00:00:00",
          "2021-05-01T00:00:00",
          "2021-06-01T00:00:00",
          "2021-07-01T00:00:00",
          "2021-08-01T00:00:00",
          "2021-09-01T00:00:00",
          "2021-10-01T00:00:00",
          "2021-11-01T00:00:00",
          "2021-12-01T00:00:00"
         ],
         "xaxis": "x",
         "y": [
          23,
          163,
          263,
          250,
          181,
          164,
          142,
          100,
          152,
          9,
          3,
          167,
          142,
          158,
          66,
          10,
          1,
          101,
          74,
          76,
          58,
          140,
          107
         ],
         "yaxis": "y"
        }
       ],
       "layout": {
        "legend": {
         "title": {
          "text": "keywordStrings"
         },
         "tracegroupgap": 0
        },
        "margin": {
         "t": 60
        },
        "template": {
         "data": {
          "bar": [
           {
            "error_x": {
             "color": "#2a3f5f"
            },
            "error_y": {
             "color": "#2a3f5f"
            },
            "marker": {
             "line": {
              "color": "#E5ECF6",
              "width": 0.5
             },
             "pattern": {
              "fillmode": "overlay",
              "size": 10,
              "solidity": 0.2
             }
            },
            "type": "bar"
           }
          ],
          "barpolar": [
           {
            "marker": {
             "line": {
              "color": "#E5ECF6",
              "width": 0.5
             },
             "pattern": {
              "fillmode": "overlay",
              "size": 10,
              "solidity": 0.2
             }
            },
            "type": "barpolar"
           }
          ],
          "carpet": [
           {
            "aaxis": {
             "endlinecolor": "#2a3f5f",
             "gridcolor": "white",
             "linecolor": "white",
             "minorgridcolor": "white",
             "startlinecolor": "#2a3f5f"
            },
            "baxis": {
             "endlinecolor": "#2a3f5f",
             "gridcolor": "white",
             "linecolor": "white",
             "minorgridcolor": "white",
             "startlinecolor": "#2a3f5f"
            },
            "type": "carpet"
           }
          ],
          "choropleth": [
           {
            "colorbar": {
             "outlinewidth": 0,
             "ticks": ""
            },
            "type": "choropleth"
           }
          ],
          "contour": [
           {
            "colorbar": {
             "outlinewidth": 0,
             "ticks": ""
            },
            "colorscale": [
             [
              0,
              "#0d0887"
             ],
             [
              0.1111111111111111,
              "#46039f"
             ],
             [
              0.2222222222222222,
              "#7201a8"
             ],
             [
              0.3333333333333333,
              "#9c179e"
             ],
             [
              0.4444444444444444,
              "#bd3786"
             ],
             [
              0.5555555555555556,
              "#d8576b"
             ],
             [
              0.6666666666666666,
              "#ed7953"
             ],
             [
              0.7777777777777778,
              "#fb9f3a"
             ],
             [
              0.8888888888888888,
              "#fdca26"
             ],
             [
              1,
              "#f0f921"
             ]
            ],
            "type": "contour"
           }
          ],
          "contourcarpet": [
           {
            "colorbar": {
             "outlinewidth": 0,
             "ticks": ""
            },
            "type": "contourcarpet"
           }
          ],
          "heatmap": [
           {
            "colorbar": {
             "outlinewidth": 0,
             "ticks": ""
            },
            "colorscale": [
             [
              0,
              "#0d0887"
             ],
             [
              0.1111111111111111,
              "#46039f"
             ],
             [
              0.2222222222222222,
              "#7201a8"
             ],
             [
              0.3333333333333333,
              "#9c179e"
             ],
             [
              0.4444444444444444,
              "#bd3786"
             ],
             [
              0.5555555555555556,
              "#d8576b"
             ],
             [
              0.6666666666666666,
              "#ed7953"
             ],
             [
              0.7777777777777778,
              "#fb9f3a"
             ],
             [
              0.8888888888888888,
              "#fdca26"
             ],
             [
              1,
              "#f0f921"
             ]
            ],
            "type": "heatmap"
           }
          ],
          "heatmapgl": [
           {
            "colorbar": {
             "outlinewidth": 0,
             "ticks": ""
            },
            "colorscale": [
             [
              0,
              "#0d0887"
             ],
             [
              0.1111111111111111,
              "#46039f"
             ],
             [
              0.2222222222222222,
              "#7201a8"
             ],
             [
              0.3333333333333333,
              "#9c179e"
             ],
             [
              0.4444444444444444,
              "#bd3786"
             ],
             [
              0.5555555555555556,
              "#d8576b"
             ],
             [
              0.6666666666666666,
              "#ed7953"
             ],
             [
              0.7777777777777778,
              "#fb9f3a"
             ],
             [
              0.8888888888888888,
              "#fdca26"
             ],
             [
              1,
              "#f0f921"
             ]
            ],
            "type": "heatmapgl"
           }
          ],
          "histogram": [
           {
            "marker": {
             "pattern": {
              "fillmode": "overlay",
              "size": 10,
              "solidity": 0.2
             }
            },
            "type": "histogram"
           }
          ],
          "histogram2d": [
           {
            "colorbar": {
             "outlinewidth": 0,
             "ticks": ""
            },
            "colorscale": [
             [
              0,
              "#0d0887"
             ],
             [
              0.1111111111111111,
              "#46039f"
             ],
             [
              0.2222222222222222,
              "#7201a8"
             ],
             [
              0.3333333333333333,
              "#9c179e"
             ],
             [
              0.4444444444444444,
              "#bd3786"
             ],
             [
              0.5555555555555556,
              "#d8576b"
             ],
             [
              0.6666666666666666,
              "#ed7953"
             ],
             [
              0.7777777777777778,
              "#fb9f3a"
             ],
             [
              0.8888888888888888,
              "#fdca26"
             ],
             [
              1,
              "#f0f921"
             ]
            ],
            "type": "histogram2d"
           }
          ],
          "histogram2dcontour": [
           {
            "colorbar": {
             "outlinewidth": 0,
             "ticks": ""
            },
            "colorscale": [
             [
              0,
              "#0d0887"
             ],
             [
              0.1111111111111111,
              "#46039f"
             ],
             [
              0.2222222222222222,
              "#7201a8"
             ],
             [
              0.3333333333333333,
              "#9c179e"
             ],
             [
              0.4444444444444444,
              "#bd3786"
             ],
             [
              0.5555555555555556,
              "#d8576b"
             ],
             [
              0.6666666666666666,
              "#ed7953"
             ],
             [
              0.7777777777777778,
              "#fb9f3a"
             ],
             [
              0.8888888888888888,
              "#fdca26"
             ],
             [
              1,
              "#f0f921"
             ]
            ],
            "type": "histogram2dcontour"
           }
          ],
          "mesh3d": [
           {
            "colorbar": {
             "outlinewidth": 0,
             "ticks": ""
            },
            "type": "mesh3d"
           }
          ],
          "parcoords": [
           {
            "line": {
             "colorbar": {
              "outlinewidth": 0,
              "ticks": ""
             }
            },
            "type": "parcoords"
           }
          ],
          "pie": [
           {
            "automargin": true,
            "type": "pie"
           }
          ],
          "scatter": [
           {
            "fillpattern": {
             "fillmode": "overlay",
             "size": 10,
             "solidity": 0.2
            },
            "type": "scatter"
           }
          ],
          "scatter3d": [
           {
            "line": {
             "colorbar": {
              "outlinewidth": 0,
              "ticks": ""
             }
            },
            "marker": {
             "colorbar": {
              "outlinewidth": 0,
              "ticks": ""
             }
            },
            "type": "scatter3d"
           }
          ],
          "scattercarpet": [
           {
            "marker": {
             "colorbar": {
              "outlinewidth": 0,
              "ticks": ""
             }
            },
            "type": "scattercarpet"
           }
          ],
          "scattergeo": [
           {
            "marker": {
             "colorbar": {
              "outlinewidth": 0,
              "ticks": ""
             }
            },
            "type": "scattergeo"
           }
          ],
          "scattergl": [
           {
            "marker": {
             "colorbar": {
              "outlinewidth": 0,
              "ticks": ""
             }
            },
            "type": "scattergl"
           }
          ],
          "scattermapbox": [
           {
            "marker": {
             "colorbar": {
              "outlinewidth": 0,
              "ticks": ""
             }
            },
            "type": "scattermapbox"
           }
          ],
          "scatterpolar": [
           {
            "marker": {
             "colorbar": {
              "outlinewidth": 0,
              "ticks": ""
             }
            },
            "type": "scatterpolar"
           }
          ],
          "scatterpolargl": [
           {
            "marker": {
             "colorbar": {
              "outlinewidth": 0,
              "ticks": ""
             }
            },
            "type": "scatterpolargl"
           }
          ],
          "scatterternary": [
           {
            "marker": {
             "colorbar": {
              "outlinewidth": 0,
              "ticks": ""
             }
            },
            "type": "scatterternary"
           }
          ],
          "surface": [
           {
            "colorbar": {
             "outlinewidth": 0,
             "ticks": ""
            },
            "colorscale": [
             [
              0,
              "#0d0887"
             ],
             [
              0.1111111111111111,
              "#46039f"
             ],
             [
              0.2222222222222222,
              "#7201a8"
             ],
             [
              0.3333333333333333,
              "#9c179e"
             ],
             [
              0.4444444444444444,
              "#bd3786"
             ],
             [
              0.5555555555555556,
              "#d8576b"
             ],
             [
              0.6666666666666666,
              "#ed7953"
             ],
             [
              0.7777777777777778,
              "#fb9f3a"
             ],
             [
              0.8888888888888888,
              "#fdca26"
             ],
             [
              1,
              "#f0f921"
             ]
            ],
            "type": "surface"
           }
          ],
          "table": [
           {
            "cells": {
             "fill": {
              "color": "#EBF0F8"
             },
             "line": {
              "color": "white"
             }
            },
            "header": {
             "fill": {
              "color": "#C8D4E3"
             },
             "line": {
              "color": "white"
             }
            },
            "type": "table"
           }
          ]
         },
         "layout": {
          "annotationdefaults": {
           "arrowcolor": "#2a3f5f",
           "arrowhead": 0,
           "arrowwidth": 1
          },
          "autotypenumbers": "strict",
          "coloraxis": {
           "colorbar": {
            "outlinewidth": 0,
            "ticks": ""
           }
          },
          "colorscale": {
           "diverging": [
            [
             0,
             "#8e0152"
            ],
            [
             0.1,
             "#c51b7d"
            ],
            [
             0.2,
             "#de77ae"
            ],
            [
             0.3,
             "#f1b6da"
            ],
            [
             0.4,
             "#fde0ef"
            ],
            [
             0.5,
             "#f7f7f7"
            ],
            [
             0.6,
             "#e6f5d0"
            ],
            [
             0.7,
             "#b8e186"
            ],
            [
             0.8,
             "#7fbc41"
            ],
            [
             0.9,
             "#4d9221"
            ],
            [
             1,
             "#276419"
            ]
           ],
           "sequential": [
            [
             0,
             "#0d0887"
            ],
            [
             0.1111111111111111,
             "#46039f"
            ],
            [
             0.2222222222222222,
             "#7201a8"
            ],
            [
             0.3333333333333333,
             "#9c179e"
            ],
            [
             0.4444444444444444,
             "#bd3786"
            ],
            [
             0.5555555555555556,
             "#d8576b"
            ],
            [
             0.6666666666666666,
             "#ed7953"
            ],
            [
             0.7777777777777778,
             "#fb9f3a"
            ],
            [
             0.8888888888888888,
             "#fdca26"
            ],
            [
             1,
             "#f0f921"
            ]
           ],
           "sequentialminus": [
            [
             0,
             "#0d0887"
            ],
            [
             0.1111111111111111,
             "#46039f"
            ],
            [
             0.2222222222222222,
             "#7201a8"
            ],
            [
             0.3333333333333333,
             "#9c179e"
            ],
            [
             0.4444444444444444,
             "#bd3786"
            ],
            [
             0.5555555555555556,
             "#d8576b"
            ],
            [
             0.6666666666666666,
             "#ed7953"
            ],
            [
             0.7777777777777778,
             "#fb9f3a"
            ],
            [
             0.8888888888888888,
             "#fdca26"
            ],
            [
             1,
             "#f0f921"
            ]
           ]
          },
          "colorway": [
           "#636efa",
           "#EF553B",
           "#00cc96",
           "#ab63fa",
           "#FFA15A",
           "#19d3f3",
           "#FF6692",
           "#B6E880",
           "#FF97FF",
           "#FECB52"
          ],
          "font": {
           "color": "#2a3f5f"
          },
          "geo": {
           "bgcolor": "white",
           "lakecolor": "white",
           "landcolor": "#E5ECF6",
           "showlakes": true,
           "showland": true,
           "subunitcolor": "white"
          },
          "hoverlabel": {
           "align": "left"
          },
          "hovermode": "closest",
          "mapbox": {
           "style": "light"
          },
          "paper_bgcolor": "white",
          "plot_bgcolor": "#E5ECF6",
          "polar": {
           "angularaxis": {
            "gridcolor": "white",
            "linecolor": "white",
            "ticks": ""
           },
           "bgcolor": "#E5ECF6",
           "radialaxis": {
            "gridcolor": "white",
            "linecolor": "white",
            "ticks": ""
           }
          },
          "scene": {
           "xaxis": {
            "backgroundcolor": "#E5ECF6",
            "gridcolor": "white",
            "gridwidth": 2,
            "linecolor": "white",
            "showbackground": true,
            "ticks": "",
            "zerolinecolor": "white"
           },
           "yaxis": {
            "backgroundcolor": "#E5ECF6",
            "gridcolor": "white",
            "gridwidth": 2,
            "linecolor": "white",
            "showbackground": true,
            "ticks": "",
            "zerolinecolor": "white"
           },
           "zaxis": {
            "backgroundcolor": "#E5ECF6",
            "gridcolor": "white",
            "gridwidth": 2,
            "linecolor": "white",
            "showbackground": true,
            "ticks": "",
            "zerolinecolor": "white"
           }
          },
          "shapedefaults": {
           "line": {
            "color": "#2a3f5f"
           }
          },
          "ternary": {
           "aaxis": {
            "gridcolor": "white",
            "linecolor": "white",
            "ticks": ""
           },
           "baxis": {
            "gridcolor": "white",
            "linecolor": "white",
            "ticks": ""
           },
           "bgcolor": "#E5ECF6",
           "caxis": {
            "gridcolor": "white",
            "linecolor": "white",
            "ticks": ""
           }
          },
          "title": {
           "x": 0.05
          },
          "xaxis": {
           "automargin": true,
           "gridcolor": "white",
           "linecolor": "white",
           "ticks": "",
           "title": {
            "standoff": 15
           },
           "zerolinecolor": "white",
           "zerolinewidth": 2
          },
          "yaxis": {
           "automargin": true,
           "gridcolor": "white",
           "linecolor": "white",
           "ticks": "",
           "title": {
            "standoff": 15
           },
           "zerolinecolor": "white",
           "zerolinewidth": 2
          }
         }
        },
        "xaxis": {
         "anchor": "y",
         "domain": [
          0,
          1
         ],
         "title": {
          "text": "yearmonth"
         }
        },
        "yaxis": {
         "anchor": "x",
         "domain": [
          0,
          1
         ],
         "title": {
          "text": "count"
         }
        }
       }
      }
     },
     "metadata": {},
     "output_type": "display_data"
    }
   ],
   "source": [
    "fig_df = grouped_keys_times.loc[grouped_keys_times['keywordStrings'].isin(top10.index)]\n",
    "fig_df = fig_df.sort_values(by=\"yearmonth\")\n",
    "\n",
    "fig = px.line(fig_df, x='yearmonth', y=\"count\", color=\"keywordStrings\")\n",
    "fig.show()"
   ]
  }
 ],
 "metadata": {
  "kernelspec": {
   "display_name": "Python 3",
   "language": "python",
   "name": "python3"
  },
  "language_info": {
   "codemirror_mode": {
    "name": "ipython",
    "version": 3
   },
   "file_extension": ".py",
   "mimetype": "text/x-python",
   "name": "python",
   "nbconvert_exporter": "python",
   "pygments_lexer": "ipython3",
   "version": "3.7.16"
  },
  "orig_nbformat": 4
 },
 "nbformat": 4,
 "nbformat_minor": 2
}
