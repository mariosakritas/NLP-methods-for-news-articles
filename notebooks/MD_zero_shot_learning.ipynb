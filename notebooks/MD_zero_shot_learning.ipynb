{
 "cells": [
  {
   "cell_type": "code",
   "execution_count": 128,
   "metadata": {},
   "outputs": [],
   "source": [
    "import pandas as pd\n",
    "from transformers import pipeline"
   ]
  },
  {
   "cell_type": "markdown",
   "metadata": {},
   "source": [
    "## Load data and models"
   ]
  },
  {
   "cell_type": "code",
   "execution_count": 47,
   "metadata": {},
   "outputs": [],
   "source": [
    "# Load DW data\n",
    "df_dw = pd.read_json('../data/interim/clean_keywords_2022-01-01_2023-01-01.json', orient ='split', compression = 'infer')\n",
    "\n",
    "# Load Google data\n",
    "df_google = pd.read_json('../data/interim/2022-daily-trending-searches.json', orient ='split', compression = 'infer')\n",
    "\n",
    "# Load pre-trained zero shot learning model\n",
    "pipe = pipeline(model=\"facebook/bart-large-mnli\") "
   ]
  },
  {
   "attachments": {},
   "cell_type": "markdown",
   "metadata": {},
   "source": [
    "## Match datasets in time"
   ]
  },
  {
   "cell_type": "code",
   "execution_count": 192,
   "metadata": {},
   "outputs": [],
   "source": [
    "# Extract date range in data\n",
    "start_date_dw = pd.to_datetime(df_dw['Date']).min()\n",
    "end_date_dw = pd.to_datetime(df_dw['Date']).max()\n",
    "\n",
    "# Remove rows witn no category\n",
    "df_dw.dropna(subset=['cleanFocusCategory'], inplace = True)\n",
    "df_dw.reset_index(drop = True, inplace = True)\n",
    "\n",
    "# Keeps only google data within DW data date range\n",
    "df_google.sort_values(by ='date', inplace = True) \n",
    "mask = (pd.to_datetime(df_google['date']) > start_date_dw) & (pd.to_datetime(df_google['date']) <= end_date_dw)\n",
    "df_google_subset = df_google.loc[mask].copy()"
   ]
  },
  {
   "attachments": {},
   "cell_type": "markdown",
   "metadata": {},
   "source": [
    "## Zero-shot learning model"
   ]
  },
  {
   "cell_type": "code",
   "execution_count": 93,
   "metadata": {},
   "outputs": [
    {
     "name": "stdout",
     "output_type": "stream",
     "text": [
      "24 categories:  ['Politics', 'Technology', 'Health', 'Learning German', 'Digital World', 'Culture', 'Nature and Environment', 'Business', 'Religion', 'Sports', 'Education', 'Migration', 'Catastrophe', 'History', 'Lifestyle', 'Media', 'Society', 'Cars and Transportation', 'Innovation', 'Offbeat', 'Human Rights', 'Science', 'Travel', 'Law and Justice']\n"
     ]
    }
   ],
   "source": [
    "# Target variable (category)\n",
    "focus_category_list = list(set(df_dw['cleanFocusCategory']))\n",
    "print(len(focus_category_list), 'categories: ', focus_category_list)"
   ]
  },
  {
   "cell_type": "code",
   "execution_count": 101,
   "metadata": {},
   "outputs": [],
   "source": [
    "# Replace 'Topic' by None and remove them for now (TODO)\n",
    "df_google_subset['topic_type'].replace({'Topic': None}, inplace = True)\n",
    "df_google_subset.dropna(subset=['topic_type'], inplace = True)\n",
    "\n",
    "# Make a new column combining those 2\n",
    "df_google_subset['topic_title_type'] = df_google_subset['topic_title'] + ', ' + df_google_subset['topic_type']"
   ]
  },
  {
   "cell_type": "code",
   "execution_count": 136,
   "metadata": {},
   "outputs": [],
   "source": [
    "# Run the model - 1min for 5\n",
    "google_keywords_category = df_google_subset['topic_title_type'].to_list()[0:5]\n",
    "google_keywords = df_google_subset['topic_title'].to_list()[0:5]\n",
    "category_outputs = [pipe(kw, candidate_labels = focus_category_list) for kw in google_keywords_category]\n",
    "labels = list(map(lambda x: x['labels'][0], category_outputs))"
   ]
  },
  {
   "cell_type": "code",
   "execution_count": 137,
   "metadata": {},
   "outputs": [
    {
     "data": {
      "text/html": [
       "<div>\n",
       "<style scoped>\n",
       "    .dataframe tbody tr th:only-of-type {\n",
       "        vertical-align: middle;\n",
       "    }\n",
       "\n",
       "    .dataframe tbody tr th {\n",
       "        vertical-align: top;\n",
       "    }\n",
       "\n",
       "    .dataframe thead th {\n",
       "        text-align: right;\n",
       "    }\n",
       "</style>\n",
       "<table border=\"1\" class=\"dataframe\">\n",
       "  <thead>\n",
       "    <tr style=\"text-align: right;\">\n",
       "      <th></th>\n",
       "      <th>Google keywords</th>\n",
       "      <th>Google keyword category</th>\n",
       "      <th>Predicted category</th>\n",
       "    </tr>\n",
       "  </thead>\n",
       "  <tbody>\n",
       "    <tr>\n",
       "      <th>0</th>\n",
       "      <td>National Football League Playoffs</td>\n",
       "      <td>National Football League Playoffs, Championship</td>\n",
       "      <td>Sports</td>\n",
       "    </tr>\n",
       "    <tr>\n",
       "      <th>1</th>\n",
       "      <td>Secondary school</td>\n",
       "      <td>Secondary school, School category</td>\n",
       "      <td>Education</td>\n",
       "    </tr>\n",
       "    <tr>\n",
       "      <th>2</th>\n",
       "      <td>Ole Miss Rebels football</td>\n",
       "      <td>Ole Miss Rebels football, Football team</td>\n",
       "      <td>Sports</td>\n",
       "    </tr>\n",
       "    <tr>\n",
       "      <th>3</th>\n",
       "      <td>Yellowstone</td>\n",
       "      <td>Yellowstone, Drama series</td>\n",
       "      <td>Media</td>\n",
       "    </tr>\n",
       "    <tr>\n",
       "      <th>4</th>\n",
       "      <td>Week</td>\n",
       "      <td>Week, Unit of time</td>\n",
       "      <td>Offbeat</td>\n",
       "    </tr>\n",
       "  </tbody>\n",
       "</table>\n",
       "</div>"
      ],
      "text/plain": [
       "                     Google keywords  \\\n",
       "0  National Football League Playoffs   \n",
       "1                   Secondary school   \n",
       "2           Ole Miss Rebels football   \n",
       "3                        Yellowstone   \n",
       "4                               Week   \n",
       "\n",
       "                           Google keyword category Predicted category  \n",
       "0  National Football League Playoffs, Championship             Sports  \n",
       "1                Secondary school, School category          Education  \n",
       "2          Ole Miss Rebels football, Football team             Sports  \n",
       "3                        Yellowstone, Drama series              Media  \n",
       "4                               Week, Unit of time            Offbeat  "
      ]
     },
     "execution_count": 137,
     "metadata": {},
     "output_type": "execute_result"
    }
   ],
   "source": [
    "df_prediction = pd.DataFrame(list(zip(google_keywords, google_keywords_category, labels)), columns =['Google keywords', 'Google keyword category', 'Predicted category'])\n",
    "df_prediction"
   ]
  },
  {
   "cell_type": "code",
   "execution_count": 190,
   "metadata": {},
   "outputs": [],
   "source": [
    "# TODO: finding closest word to Google keywords\t(e.g., National Football League Playoffs) in DF"
   ]
  }
 ],
 "metadata": {
  "kernelspec": {
   "display_name": "venv",
   "language": "python",
   "name": "python3"
  },
  "language_info": {
   "codemirror_mode": {
    "name": "ipython",
    "version": 3
   },
   "file_extension": ".py",
   "mimetype": "text/x-python",
   "name": "python",
   "nbconvert_exporter": "python",
   "pygments_lexer": "ipython3",
   "version": "3.7.16"
  },
  "orig_nbformat": 4
 },
 "nbformat": 4,
 "nbformat_minor": 2
}
