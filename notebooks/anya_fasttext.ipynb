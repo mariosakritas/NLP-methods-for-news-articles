{
 "cells": [
  {
   "attachments": {},
   "cell_type": "markdown",
   "metadata": {},
   "source": [
    "## Fasttext\n",
    "\n",
    "following tutorial https://fasttext.cc/docs/en/supervised-tutorial.html"
   ]
  },
  {
   "attachments": {},
   "cell_type": "markdown",
   "metadata": {},
   "source": [
    "## TODO\n",
    "- prepare an input file with categories and their keywords\n",
    "- prepare input file with categories and single keywords\n",
    "- split datasets in training and validation\n",
    "- run simple model settings (default as above)\n",
    "- balance datasets for training \n",
    " - feed GOOOGLE search words!\n",
    "\n",
    " \n",
    "- try to use it as a word vectorizer and measure distance?"
   ]
  },
  {
   "cell_type": "code",
   "execution_count": 3,
   "metadata": {},
   "outputs": [
    {
     "name": "stdout",
     "output_type": "stream",
     "text": [
      "Getting data...\n",
      "Loading data DONE. Number of articles is 175659\n",
      "Extracting data DONE. Number of articles from 2017-01-01 to 2022-01-01 is 69432\n"
     ]
    }
   ],
   "source": [
    "## load the data\n",
    "import sys\n",
    "# Add src folder to the path\n",
    "sys.path.append('../src/')\n",
    "from data.preprocess_keywords import make_cleaned_keywords_df\n",
    "from data.make_datasets import get_data\n",
    "# Specify wanted time range\n",
    "start_date = '2017-01-01' #'2020-01-01' #'2017-01-01'\n",
    "end_date = '2022-01-01'\n",
    "# Path to data\n",
    "data_file = '/home/anya_m/data/dw-project-data/CMS_2010_to_June_2022_ENGLISH.json'\n",
    "# Load and extract data within time range\n",
    "df_subset = get_data(data_file, start_date, end_date)\n",
    "# Cleans keywords and saves data as a dataframe\n",
    "#make_cleaned_keywords_df(df_subset, start_date, end_date)"
   ]
  },
  {
   "cell_type": "code",
   "execution_count": 4,
   "metadata": {},
   "outputs": [],
   "source": [
    "# Load DW data\n",
    "import pandas as pd\n",
    "# start_date = '2017-01-01' #'2019-01-01' #'2021-01-01'\n",
    "# end_date = '2022-01-01'\n",
    "filepath = '../data/interim/clean_keywords_' + start_date + '_' + end_date + '.json'\n",
    "df = pd.read_json(filepath, orient ='split', compression = 'infer')"
   ]
  },
  {
   "cell_type": "code",
   "execution_count": 5,
   "metadata": {},
   "outputs": [
    {
     "data": {
      "text/html": [
       "<div>\n",
       "<style scoped>\n",
       "    .dataframe tbody tr th:only-of-type {\n",
       "        vertical-align: middle;\n",
       "    }\n",
       "\n",
       "    .dataframe tbody tr th {\n",
       "        vertical-align: top;\n",
       "    }\n",
       "\n",
       "    .dataframe thead th {\n",
       "        text-align: right;\n",
       "    }\n",
       "</style>\n",
       "<table border=\"1\" class=\"dataframe\">\n",
       "  <thead>\n",
       "    <tr style=\"text-align: right;\">\n",
       "      <th></th>\n",
       "      <th>id</th>\n",
       "      <th>lastModifiedDate</th>\n",
       "      <th>Date</th>\n",
       "      <th>keywordStrings</th>\n",
       "      <th>cleanFocusParentCategory</th>\n",
       "      <th>cleanFocusCategory</th>\n",
       "      <th>teaser</th>\n",
       "      <th>keywordStringsCleanAfterFuzz</th>\n",
       "    </tr>\n",
       "  </thead>\n",
       "  <tbody>\n",
       "    <tr>\n",
       "      <th>132314</th>\n",
       "      <td>36957838</td>\n",
       "      <td>2017-01-01T00:56:37.218Z</td>\n",
       "      <td>2017-01-01</td>\n",
       "      <td>[Margaret Thatcher, Helmut Kohl, German reunif...</td>\n",
       "      <td>History</td>\n",
       "      <td>History</td>\n",
       "      <td>Thatcher was warned of Germany's aggressive ch...</td>\n",
       "      <td>[margaret thatcher, helmut kohl, german unific...</td>\n",
       "    </tr>\n",
       "    <tr>\n",
       "      <th>132315</th>\n",
       "      <td>36961015</td>\n",
       "      <td>2017-01-01T01:29:04.030Z</td>\n",
       "      <td>2017-01-01</td>\n",
       "      <td>[Syria, Russia, rebels, ceasefire]</td>\n",
       "      <td>Politics</td>\n",
       "      <td>Conflicts</td>\n",
       "      <td>Opposition groups have accused the government ...</td>\n",
       "      <td>[syria, russia, rebels, ceasefire]</td>\n",
       "    </tr>\n",
       "    <tr>\n",
       "      <th>132316</th>\n",
       "      <td>36963373</td>\n",
       "      <td>2017-01-01T01:32:34.240Z</td>\n",
       "      <td>2017-01-01</td>\n",
       "      <td>[Syria, Yemen, war, Bashar al-Assad, Saudi Ara...</td>\n",
       "      <td>Politics</td>\n",
       "      <td>Conflicts</td>\n",
       "      <td>Another year has passed and again Syrians and ...</td>\n",
       "      <td>[syria, yemen, war, bashar al-assad, saudi ara...</td>\n",
       "    </tr>\n",
       "    <tr>\n",
       "      <th>132317</th>\n",
       "      <td>36963742</td>\n",
       "      <td>2017-01-01T01:33:38.106Z</td>\n",
       "      <td>2017-01-01</td>\n",
       "      <td>[Syria, Russia, Donald Trump, Iran, Turkey, Jo...</td>\n",
       "      <td>Politics</td>\n",
       "      <td>Conflicts</td>\n",
       "      <td>The arms are silent in Syria and civilian suff...</td>\n",
       "      <td>[syria, russia, donald trump, iran, turkey, jo...</td>\n",
       "    </tr>\n",
       "    <tr>\n",
       "      <th>132318</th>\n",
       "      <td>36959234</td>\n",
       "      <td>2017-01-01T01:35:56.153Z</td>\n",
       "      <td>2017-01-01</td>\n",
       "      <td>[Angela Merkel]</td>\n",
       "      <td>Politics</td>\n",
       "      <td>Politics</td>\n",
       "      <td>In her New Year's speech, German Chancellor An...</td>\n",
       "      <td>[angela merkel]</td>\n",
       "    </tr>\n",
       "  </tbody>\n",
       "</table>\n",
       "</div>"
      ],
      "text/plain": [
       "              id          lastModifiedDate       Date  \\\n",
       "132314  36957838  2017-01-01T00:56:37.218Z 2017-01-01   \n",
       "132315  36961015  2017-01-01T01:29:04.030Z 2017-01-01   \n",
       "132316  36963373  2017-01-01T01:32:34.240Z 2017-01-01   \n",
       "132317  36963742  2017-01-01T01:33:38.106Z 2017-01-01   \n",
       "132318  36959234  2017-01-01T01:35:56.153Z 2017-01-01   \n",
       "\n",
       "                                           keywordStrings  \\\n",
       "132314  [Margaret Thatcher, Helmut Kohl, German reunif...   \n",
       "132315                 [Syria, Russia, rebels, ceasefire]   \n",
       "132316  [Syria, Yemen, war, Bashar al-Assad, Saudi Ara...   \n",
       "132317  [Syria, Russia, Donald Trump, Iran, Turkey, Jo...   \n",
       "132318                                    [Angela Merkel]   \n",
       "\n",
       "       cleanFocusParentCategory cleanFocusCategory  \\\n",
       "132314                  History            History   \n",
       "132315                 Politics          Conflicts   \n",
       "132316                 Politics          Conflicts   \n",
       "132317                 Politics          Conflicts   \n",
       "132318                 Politics           Politics   \n",
       "\n",
       "                                                   teaser  \\\n",
       "132314  Thatcher was warned of Germany's aggressive ch...   \n",
       "132315  Opposition groups have accused the government ...   \n",
       "132316  Another year has passed and again Syrians and ...   \n",
       "132317  The arms are silent in Syria and civilian suff...   \n",
       "132318  In her New Year's speech, German Chancellor An...   \n",
       "\n",
       "                             keywordStringsCleanAfterFuzz  \n",
       "132314  [margaret thatcher, helmut kohl, german unific...  \n",
       "132315                 [syria, russia, rebels, ceasefire]  \n",
       "132316  [syria, yemen, war, bashar al-assad, saudi ara...  \n",
       "132317  [syria, russia, donald trump, iran, turkey, jo...  \n",
       "132318                                    [angela merkel]  "
      ]
     },
     "execution_count": 5,
     "metadata": {},
     "output_type": "execute_result"
    }
   ],
   "source": [
    "df.head()"
   ]
  },
  {
   "cell_type": "code",
   "execution_count": 6,
   "metadata": {},
   "outputs": [],
   "source": [
    "#add column teaser to the df cleaned dataframe\n",
    "#df=df.merge(df_subset['teaser'], left_on=df_subset['id'], right_on=df['id'])\n",
    "#df=df.drop(['key_0'], axis=1)\n",
    "df=df.drop(['keywordStrings'], axis=1)\n",
    "#add column with full text of the article into the dataframe\n",
    "# df=df.merge(df_subset['text'], left_on=df['id'], right_on=df_subset['id'] )"
   ]
  },
  {
   "cell_type": "code",
   "execution_count": 7,
   "metadata": {},
   "outputs": [
    {
     "name": "stderr",
     "output_type": "stream",
     "text": [
      "/home/anya_m/Documents/git_dw/venv/lib64/python3.7/site-packages/ipykernel_launcher.py:7: SettingWithCopyWarning: \n",
      "A value is trying to be set on a copy of a slice from a DataFrame.\n",
      "Try using .loc[row_indexer,col_indexer] = value instead\n",
      "\n",
      "See the caveats in the documentation: https://pandas.pydata.org/pandas-docs/stable/user_guide/indexing.html#returning-a-view-versus-a-copy\n",
      "  import sys\n",
      "/home/anya_m/Documents/git_dw/venv/lib64/python3.7/site-packages/ipykernel_launcher.py:8: SettingWithCopyWarning: \n",
      "A value is trying to be set on a copy of a slice from a DataFrame.\n",
      "Try using .loc[row_indexer,col_indexer] = value instead\n",
      "\n",
      "See the caveats in the documentation: https://pandas.pydata.org/pandas-docs/stable/user_guide/indexing.html#returning-a-view-versus-a-copy\n",
      "  \n",
      "/home/anya_m/Documents/git_dw/venv/lib64/python3.7/site-packages/ipykernel_launcher.py:9: SettingWithCopyWarning: \n",
      "A value is trying to be set on a copy of a slice from a DataFrame.\n",
      "Try using .loc[row_indexer,col_indexer] = value instead\n",
      "\n",
      "See the caveats in the documentation: https://pandas.pydata.org/pandas-docs/stable/user_guide/indexing.html#returning-a-view-versus-a-copy\n",
      "  if __name__ == \"__main__\":\n",
      "/home/anya_m/Documents/git_dw/venv/lib64/python3.7/site-packages/ipykernel_launcher.py:10: SettingWithCopyWarning: \n",
      "A value is trying to be set on a copy of a slice from a DataFrame.\n",
      "Try using .loc[row_indexer,col_indexer] = value instead\n",
      "\n",
      "See the caveats in the documentation: https://pandas.pydata.org/pandas-docs/stable/user_guide/indexing.html#returning-a-view-versus-a-copy\n",
      "  # Remove the CWD from sys.path while we load stuff.\n",
      "/home/anya_m/Documents/git_dw/venv/lib64/python3.7/site-packages/ipykernel_launcher.py:12: SettingWithCopyWarning: \n",
      "A value is trying to be set on a copy of a slice from a DataFrame.\n",
      "Try using .loc[row_indexer,col_indexer] = value instead\n",
      "\n",
      "See the caveats in the documentation: https://pandas.pydata.org/pandas-docs/stable/user_guide/indexing.html#returning-a-view-versus-a-copy\n",
      "  if sys.path[0] == \"\":\n",
      "/home/anya_m/Documents/git_dw/venv/lib64/python3.7/site-packages/ipykernel_launcher.py:14: SettingWithCopyWarning: \n",
      "A value is trying to be set on a copy of a slice from a DataFrame.\n",
      "Try using .loc[row_indexer,col_indexer] = value instead\n",
      "\n",
      "See the caveats in the documentation: https://pandas.pydata.org/pandas-docs/stable/user_guide/indexing.html#returning-a-view-versus-a-copy\n",
      "  \n"
     ]
    }
   ],
   "source": [
    "#remove all NaN fields\n",
    "df_clean=df.dropna(how='any')\n",
    "df_clean_copy = df_clean.copy(deep=True)\n",
    "##\n",
    "#df_clean['cleanFocusCategory']=='Law and Justice' replace with Law-and-Justice  and other categories\n",
    "\n",
    "df_clean['cleanFocusParentCategory'] = df_clean['cleanFocusParentCategory'].replace(['Law and Justice'], 'Law-and-Justice')\n",
    "df_clean['cleanFocusParentCategory'] = df_clean['cleanFocusParentCategory'].replace(['Nature and Environment'], 'Nature-and-Environment')\n",
    "df_clean['cleanFocusParentCategory'] = df_clean['cleanFocusParentCategory'].replace(['Human Rights'], 'Human-Rights')\n",
    "df_clean['cleanFocusParentCategory'] = df_clean['cleanFocusParentCategory'].replace(['Cars and Transportation'], 'Cars-and-Transportation')\n",
    "#df_clean['cleanFocusCategory'] = df_clean['cleanFocusCategory'].replace(['Press Freedom'], 'Press-Freedom')\n",
    "df_clean['cleanFocusParentCategory'] = df_clean['cleanFocusParentCategory'].replace(['Digital World'], 'Digital-World')\n",
    "#df_clean['cleanFocusCategory'] = df_clean['cleanFocusCategory'].replace(['Rule of Law'], 'Rule-of-Law')\n",
    "df_clean['cleanFocusParentCategory'] = df_clean['cleanFocusParentCategory'].replace(['Learning German'], 'Learning-German')\n",
    "#df_clean['cleanFocusCategory'] = df_clean['cleanFocusCategory'].replace(['Freedom of Speech'], 'Freedom-of-Speech')"
   ]
  },
  {
   "cell_type": "code",
   "execution_count": 8,
   "metadata": {},
   "outputs": [],
   "source": [
    "df_clean_single_kw=df_clean.explode('keywordStringsCleanAfterFuzz')\n",
    "\n",
    "label=df_clean['cleanFocusParentCategory'].apply(lambda x: ('__label__' +x+' '))\n",
    "kw=df_clean['keywordStringsCleanAfterFuzz'].apply(lambda x: (', '.join(x)))\n",
    "teaser=df_clean['teaser']"
   ]
  },
  {
   "cell_type": "code",
   "execution_count": 9,
   "metadata": {},
   "outputs": [],
   "source": [
    "df_clean_single_kw=df_clean_single_kw.dropna(how='any')"
   ]
  },
  {
   "cell_type": "code",
   "execution_count": 10,
   "metadata": {},
   "outputs": [
    {
     "name": "stdout",
     "output_type": "stream",
     "text": [
      "132314     __label__History margaret thatcher\n",
      "132314           __label__History helmut kohl\n",
      "132314    __label__History german unification\n",
      "132314           __label__History berlin wall\n",
      "132314               __label__History britain\n",
      "                         ...                 \n",
      "172678                 __label__Health france\n",
      "172678          __label__Health birth control\n",
      "172678          __label__Health contraception\n",
      "172678         __label__Health contraceptives\n",
      "172678    __label__Health reproductive health\n",
      "Length: 358724, dtype: object\n"
     ]
    }
   ],
   "source": [
    "single_kw_label=df_clean_single_kw['cleanFocusParentCategory'].apply(lambda x: ('__label__' +x+' '))\n",
    "single_kw=df_clean_single_kw['keywordStringsCleanAfterFuzz']\n",
    "print(single_kw_label+single_kw)"
   ]
  },
  {
   "cell_type": "code",
   "execution_count": 11,
   "metadata": {},
   "outputs": [],
   "source": [
    "label_kw=label+kw\n",
    "label_single_kw=single_kw_label+single_kw\n",
    "label_teaser=label+teaser"
   ]
  },
  {
   "cell_type": "code",
   "execution_count": 12,
   "metadata": {},
   "outputs": [],
   "source": [
    "# split dataset into train and test subsets\n",
    "import numpy as np\n",
    "from sklearn.model_selection import train_test_split as tts\n",
    "## TODO fix stratify?\n",
    "def split_dataset(dataset, label):\n",
    "    train_set, test_set=tts(dataset, random_state=0, test_size=0.33)#, stratify=label)\n",
    "    return train_set, test_set"
   ]
  },
  {
   "cell_type": "code",
   "execution_count": 13,
   "metadata": {},
   "outputs": [],
   "source": [
    "import os\n",
    "def save_txt(out_name,data_to_save):\n",
    "    from tqdm import tqdm\n",
    "    #!rm $out_name\n",
    "    if os.path.isfile(out_name):\n",
    "        os.remove(out_name)\n",
    "    with open(out_name,'a') as f:\n",
    "        for i,el in tqdm(enumerate(data_to_save)):\n",
    "            print(el,file=f)\n",
    "    input_file=out_name\n",
    "    return input_file"
   ]
  },
  {
   "cell_type": "code",
   "execution_count": 14,
   "metadata": {},
   "outputs": [],
   "source": [
    "label_kw_train,label_kw_test=split_dataset(label_kw,label)\n",
    "label_single_kw_train,label_single_kw_test=split_dataset(label_single_kw,single_kw_label)\n",
    "label_teaser_train,label_teaser_test=split_dataset(label_teaser,label)"
   ]
  },
  {
   "cell_type": "code",
   "execution_count": 15,
   "metadata": {},
   "outputs": [
    {
     "name": "stderr",
     "output_type": "stream",
     "text": [
      "45882it [00:00, 417033.56it/s]\n",
      "22599it [00:00, 190913.99it/s]\n"
     ]
    }
   ],
   "source": [
    "all_kw_train=save_txt('./fasttext/all_kw_train.txt',label_kw_train)\n",
    "all_kw_test=save_txt('./fasttext/all_kw_test.txt',label_kw_test)\n",
    "#all_kw_train\n",
    "#!head ./fasttext/all_kw_train.txt"
   ]
  },
  {
   "cell_type": "code",
   "execution_count": 16,
   "metadata": {},
   "outputs": [
    {
     "name": "stderr",
     "output_type": "stream",
     "text": [
      "240345it [00:00, 386112.39it/s]\n",
      "118379it [00:00, 493597.88it/s]\n"
     ]
    }
   ],
   "source": [
    "single_kw_train=save_txt('./fasttext/single_kw_train.txt',label_single_kw_train)\n",
    "single_kw_test=save_txt('./fasttext/single_kw_test.txt',label_single_kw_test)\n",
    "\n",
    "!cat ./fasttext/single_kw_train.txt | sed -e \"s/\\([.\\!?,'/()]\\)/ \\1 /g\" | tr \"[:upper:]\" \"[:lower:]\" > ./fasttext/single_kw_train.preprocessed.txt\n",
    "!cat ./fasttext/single_kw_test.txt | sed -e \"s/\\([.\\!?,'/()]\\)/ \\1 /g\" | tr \"[:upper:]\" \"[:lower:]\" > ./fasttext/single_kw_test.preprocessed.txt\n",
    "\n",
    "single_kw_train_prec='./fasttext/single_kw_train.preprocessed.txt'\n",
    "single_kw_test_prec='./fasttext/single_kw_test.preprocessed.txt'\n"
   ]
  },
  {
   "cell_type": "code",
   "execution_count": 17,
   "metadata": {},
   "outputs": [
    {
     "name": "stderr",
     "output_type": "stream",
     "text": [
      "45882it [00:00, 343400.58it/s]\n",
      "22599it [00:00, 427201.66it/s]\n"
     ]
    }
   ],
   "source": [
    "teaser_train=save_txt('./fasttext/teaser_train.txt',label_teaser_train)\n",
    "teaser_test=save_txt('./fasttext/teaser_test.txt',label_teaser_test)\n",
    "\n",
    "!cat ./fasttext/teaser_train.txt | sed -e \"s/\\([.\\!?,'/()]\\)/ \\1 /g\" | tr \"[:upper:]\" \"[:lower:]\" > ./fasttext/teaser_train.preprocessed.txt\n",
    "!cat ./fasttext/teaser_test.txt | sed -e \"s/\\([.\\!?,'/()]\\)/ \\1 /g\" | tr \"[:upper:]\" \"[:lower:]\" > ./fasttext/teaser_test.preprocessed.txt\n",
    "\n",
    "teaser_train_prec='./fasttext/teaser_train.preprocessed.txt'\n",
    "teaser_test_prec='./fasttext/teaser_test.preprocessed.txt'\n"
   ]
  },
  {
   "attachments": {},
   "cell_type": "markdown",
   "metadata": {},
   "source": [
    "### Trying Fasttext\n",
    "- DW all kw + DW cats  - training + validation\n",
    "- DW all kw for training, DW single kw for validation\n",
    "- DW single kw for training + validation\n",
    "- DW teaser + DW cats          - training + validation\n",
    "\n",
    "implement train_test_split for splitting dataset\n",
    "\n",
    "- DW teaser / kw for training , google for ???\n",
    "- - validation based on similarity of google to DW kw (rapidfuzz? cdist / word embeddings using fasstext)\n",
    "\n",
    "- - make graphics to compare categories from DW and Google\n",
    "\n",
    "- DW text for training, DW kw for validation\n",
    "- - clean html (beautiful soup?)"
   ]
  },
  {
   "cell_type": "code",
   "execution_count": 18,
   "metadata": {},
   "outputs": [],
   "source": [
    "import fasttext"
   ]
  },
  {
   "cell_type": "code",
   "execution_count": 19,
   "metadata": {},
   "outputs": [],
   "source": [
    "#OLD way . now replaced with tran test split\n",
    "\n",
    "# # single kw \n",
    "# #preprocessing and \n",
    "# #splittig into training and validation sets\n",
    "# !cat ./fasttext/single_kw.txt | sed -e \"s/\\([.\\!?,'/()]\\)/ \\1 /g\" | tr \"[:upper:]\" \"[:lower:]\" > ./fasttext/single_kw.preprocessed.txt\n",
    "\n",
    "# !head -n 300000 ./fasttext/single_kw.preprocessed.txt > ./fasttext/single_kw_cl.train\n",
    "# !tail -n 60000 ./fasttext/single_kw.preprocessed.txt > ./fasttext/single_kw_cl.valid"
   ]
  },
  {
   "cell_type": "code",
   "execution_count": 20,
   "metadata": {},
   "outputs": [],
   "source": [
    "def fasttext_classifier(train_file,test_file,lr=1.0,epoch=12,k=1,wordNgrams=1):\n",
    "    model = fasttext.train_supervised(input=train_file, lr=lr, epoch=epoch)\n",
    "    #model.test(test_file,k=k)\n",
    "    print(model.test(test_file,k=1))\n",
    "    print(model.test(test_file,k=2))\n",
    "    print(model.test(test_file,k=3))\n",
    "    print(model.test(test_file,k=4))\n",
    "    print(model.test(test_file,k=5))\n",
    "    return model"
   ]
  },
  {
   "cell_type": "code",
   "execution_count": 21,
   "metadata": {},
   "outputs": [
    {
     "name": "stderr",
     "output_type": "stream",
     "text": [
      "Read 0M words\n",
      "Number of words:  36980\n",
      "Number of labels: 24\n",
      "Progress: 100.0% words/sec/thread:  398171 lr:  0.000000 avg.loss:  0.803290 ETA:   0h 0m 0s\n"
     ]
    },
    {
     "name": "stdout",
     "output_type": "stream",
     "text": [
      "(22599, 0.6904287800345148, 0.6904287800345148)\n",
      "(22599, 0.40917739722996593, 0.8183547944599319)\n",
      "(22599, 0.2935085623257666, 0.8805256869772998)\n",
      "(22599, 0.2283286871100491, 0.9133147484401964)\n",
      "(22599, 0.18639762821363778, 0.9319881410681888)\n"
     ]
    }
   ],
   "source": [
    "model_all_kw_check=fasttext_classifier(all_kw_train,all_kw_test,lr=1,wordNgrams=2)\n",
    "#model_all_kw_check.test(all_kw_test)"
   ]
  },
  {
   "cell_type": "code",
   "execution_count": 22,
   "metadata": {},
   "outputs": [
    {
     "name": "stderr",
     "output_type": "stream",
     "text": [
      "Read 0M words\n",
      "Number of words:  28634\n",
      "Number of labels: 24\n",
      "Progress: 100.0% words/sec/thread:  248003 lr:  0.000000 avg.loss: 10.223475 ETA:   0h 0m 0s\n"
     ]
    },
    {
     "name": "stdout",
     "output_type": "stream",
     "text": [
      "(118379, 0.5088824876033756, 0.5088824876033756)\n",
      "(118379, 0.2544792573007037, 0.5089585146014074)\n",
      "(118379, 0.17014842159504642, 0.5104452647851393)\n",
      "(118379, 0.13081923314101318, 0.5232769325640527)\n",
      "(118379, 0.1222733761900337, 0.6113668809501686)\n"
     ]
    }
   ],
   "source": [
    "model_single_kw_check=fasttext_classifier(single_kw_train,single_kw_test,lr=0.7,wordNgrams=2)\n",
    "#model_single_kw_check.test(single_kw_test)"
   ]
  },
  {
   "cell_type": "code",
   "execution_count": 23,
   "metadata": {},
   "outputs": [
    {
     "name": "stderr",
     "output_type": "stream",
     "text": [
      "Read 0M words\n",
      "Number of words:  28634\n",
      "Number of labels: 24\n",
      "Progress: 100.0% words/sec/thread:  244384 lr:  0.000000 avg.loss:  9.942472 ETA:   0h 0m 0s\n"
     ]
    },
    {
     "name": "stdout",
     "output_type": "stream",
     "text": [
      "(118379, 0.4991256895226349, 0.4991256895226349)\n",
      "(118379, 0.24960085826033335, 0.4992017165206667)\n",
      "(118379, 0.1668539183470041, 0.5005617550410123)\n",
      "(118379, 0.12841171153667458, 0.5136468461466983)\n",
      "(118379, 0.11894001469855295, 0.5947000734927648)\n"
     ]
    },
    {
     "data": {
      "text/plain": [
       "<fasttext.FastText._FastText at 0x7f0169173cd0>"
      ]
     },
     "execution_count": 23,
     "metadata": {},
     "output_type": "execute_result"
    }
   ],
   "source": [
    "fasttext_classifier(single_kw_train,single_kw_test,lr=0.7,wordNgrams=5)\n",
    "#model_single_kw_check.test(single_kw_test)"
   ]
  },
  {
   "cell_type": "code",
   "execution_count": 24,
   "metadata": {},
   "outputs": [
    {
     "name": "stderr",
     "output_type": "stream",
     "text": [
      "Read 0M words\n",
      "Number of words:  28575\n",
      "Number of labels: 24\n",
      "Progress:  99.7% words/sec/thread:  243681 lr:  0.002104 avg.loss: 10.248903 ETA:   0h 0m 0s"
     ]
    },
    {
     "name": "stdout",
     "output_type": "stream",
     "text": [
      "(118379, 0.5063060171145221, 0.5063060171145221)\n"
     ]
    },
    {
     "name": "stderr",
     "output_type": "stream",
     "text": [
      "Progress: 100.0% words/sec/thread:  242647 lr:  0.000000 avg.loss: 10.242036 ETA:   0h 0m 0s\n"
     ]
    },
    {
     "name": "stdout",
     "output_type": "stream",
     "text": [
      "(118379, 0.25319102205627686, 0.5063820441125537)\n",
      "(118379, 0.16928115065453614, 0.5078434519636084)\n",
      "(118379, 0.13003573268907492, 0.5201429307562997)\n",
      "(118379, 0.1222835131231046, 0.6114175656155231)\n"
     ]
    },
    {
     "data": {
      "text/plain": [
       "<fasttext.FastText._FastText at 0x7f016916a510>"
      ]
     },
     "execution_count": 24,
     "metadata": {},
     "output_type": "execute_result"
    }
   ],
   "source": [
    "fasttext_classifier(single_kw_train_prec,single_kw_test_prec,lr=0.7)\n",
    "#model_single_kw_check_prec.test(single_kw_test_prec)"
   ]
  },
  {
   "cell_type": "code",
   "execution_count": 25,
   "metadata": {},
   "outputs": [
    {
     "name": "stderr",
     "output_type": "stream",
     "text": [
      "Read 1M words\n",
      "Number of words:  89202\n",
      "Number of labels: 24\n",
      "Progress:  98.7% words/sec/thread: 1040846 lr:  0.012653 avg.loss:  0.706063 ETA:   0h 0m 0s"
     ]
    },
    {
     "name": "stdout",
     "output_type": "stream",
     "text": [
      "(22599, 0.6717996371520863, 0.6717996371520863)\n",
      "(22599, 0.4047302978007876, 0.8094605956015752)\n",
      "(22599, 0.289511335309822, 0.868534005929466)\n",
      "(22599, 0.2252422673569627, 0.9009690694278508)\n",
      "(22599, 0.1840877914951989, 0.9204389574759945)\n"
     ]
    },
    {
     "name": "stderr",
     "output_type": "stream",
     "text": [
      "Progress: 100.0% words/sec/thread: 1036640 lr:  0.000000 avg.loss:  0.697152 ETA:   0h 0m 0s\n"
     ]
    }
   ],
   "source": [
    "model_teaser=fasttext_classifier(teaser_train,teaser_test)"
   ]
  },
  {
   "cell_type": "code",
   "execution_count": 26,
   "metadata": {},
   "outputs": [
    {
     "name": "stderr",
     "output_type": "stream",
     "text": [
      "Read 1M words\n",
      "Number of words:  55003\n",
      "Number of labels: 24\n",
      "Progress:  98.4% words/sec/thread: 1109777 lr:  0.016119 avg.loss:  0.734298 ETA:   0h 0m 0s"
     ]
    },
    {
     "name": "stdout",
     "output_type": "stream",
     "text": [
      "(22599, 0.6814460816850303, 0.6814460816850303)\n",
      "(22599, 0.41108013628921636, 0.8221602725784327)\n",
      "(22599, 0.2947770550319336, 0.8843311650958007)\n",
      "(22599, 0.22949024293110315, 0.9179609717244126)\n",
      "(22599, 0.18761007124209036, 0.9380503562104517)\n"
     ]
    },
    {
     "name": "stderr",
     "output_type": "stream",
     "text": [
      "Progress: 100.0% words/sec/thread: 1110059 lr:  0.000000 avg.loss:  0.722952 ETA:   0h 0m 0s\n"
     ]
    }
   ],
   "source": [
    "model_teaser=fasttext_classifier(teaser_train_prec,teaser_test_prec)"
   ]
  },
  {
   "cell_type": "code",
   "execution_count": 27,
   "metadata": {},
   "outputs": [
    {
     "name": "stderr",
     "output_type": "stream",
     "text": [
      "Read 1M words\n",
      "Number of words:  55003\n",
      "Number of labels: 24\n",
      "Progress: 100.0% words/sec/thread: 1110084 lr:  0.000000 avg.loss:  0.844512 ETA:   0h 0m 0s\n"
     ]
    },
    {
     "name": "stdout",
     "output_type": "stream",
     "text": [
      "(22599, 0.6839240674366123, 0.6839240674366123)\n",
      "(22599, 0.4106818885791407, 0.8213637771582813)\n",
      "(22599, 0.2944083071522339, 0.8832249214567016)\n",
      "(22599, 0.22902562060268153, 0.9161024824107261)\n",
      "(22599, 0.18740652241249614, 0.9370326120624807)\n"
     ]
    }
   ],
   "source": [
    "model_teaser=fasttext_classifier(teaser_train_prec,teaser_test_prec,wordNgrams=3)"
   ]
  },
  {
   "cell_type": "code",
   "execution_count": 28,
   "metadata": {},
   "outputs": [
    {
     "name": "stderr",
     "output_type": "stream",
     "text": [
      "Read 1M words\n",
      "Number of words:  55003\n",
      "Number of labels: 24\n",
      "Progress: 100.0% words/sec/thread: 1109880 lr:  0.000000 avg.loss:  0.779877 ETA:   0h 0m 0s100.0% words/sec/thread: 1109888 lr: -0.000006 avg.loss:  0.779877 ETA:   0h 0m 0s\n"
     ]
    },
    {
     "name": "stdout",
     "output_type": "stream",
     "text": [
      "(118379, 0.3961935816318773, 0.3961935816318773)\n",
      "(118379, 0.2623522753191022, 0.5247045506382044)\n",
      "(118379, 0.20050853614239011, 0.6015256084271704)\n",
      "(118379, 0.16408315664095827, 0.6563326265638331)\n",
      "(118379, 0.1410098074827461, 0.7050490374137305)\n"
     ]
    }
   ],
   "source": [
    "model_teaser_single=fasttext_classifier(teaser_train_prec,single_kw_test_prec)"
   ]
  },
  {
   "cell_type": "code",
   "execution_count": 29,
   "metadata": {},
   "outputs": [],
   "source": [
    "# #automatic search for best hyperparameters https://fasttext.cc/docs/en/autotune.html \n",
    "# #last 5 minutes\n",
    "# model_best = fasttext.train_supervised(input=train_file, autotuneValidationFile='./fasttext/output_cl.valid')\n",
    "# model_best.test('./fasttext/output_cl.valid')"
   ]
  },
  {
   "cell_type": "code",
   "execution_count": 30,
   "metadata": {},
   "outputs": [],
   "source": [
    "#The output are the number of samples (here 14999), \n",
    "# the precision at one (0.6968)  69% and \n",
    "# the recall at one (0.0541).\n",
    "\n",
    "#The precision is the number of correct labels among the labels predicted by fastText. \n",
    "# The recall is the number of labels that successfully were predicted,\n",
    "# among all the real labels. "
   ]
  },
  {
   "attachments": {},
   "cell_type": "markdown",
   "metadata": {},
   "source": [
    "With a few steps, we were able to go from a precision at one of 12.4% to 59.9%. Important steps included:\n",
    "\n",
    "- preprocessing the data ;\n",
    "- changing the number of epochs (using the option -epoch, standard range [5 - 50]) ;\n",
    "- changing the learning rate (using the option -lr, standard range [0.1 - 1.0]) ;\n",
    "- using word n-grams (using the option -wordNgrams, standard range [1 - 5])."
   ]
  },
  {
   "cell_type": "code",
   "execution_count": 31,
   "metadata": {},
   "outputs": [],
   "source": [
    "# function to run predictions for a single kw and \n",
    "# make list of labels \n",
    "def prediction(model, keyword,k=1):\n",
    "    x=model.predict(keyword,k=k)\n",
    "    list_label=[]\n",
    "    for k in range(1,k+1):\n",
    "        pred_label=(x[0][k-1].split('__')[2])\n",
    "        list_label.append(pred_label)\n",
    "        tuple_label=tuple(list_label)\n",
    "    return tuple_label\n",
    "\n",
    "\n",
    "#list_labels=prediction(model_all_kw_check,selected_keyword,k=1)"
   ]
  },
  {
   "cell_type": "code",
   "execution_count": 32,
   "metadata": {},
   "outputs": [],
   "source": [
    "#prediction for list of input keywords\n",
    "def run_predict_for_series(model,series_kw):\n",
    "    list_of_series = []\n",
    "    for selected_keyword in series_kw:\n",
    "        list_of_k = [k for k in range(1,3)]\n",
    "        predictions = [prediction(model,selected_keyword,k=i) for i in list_of_k]\n",
    "        predictions = pd.Series(predictions, index=list_of_k, name=selected_keyword)\n",
    "        list_of_series.append(predictions)\n",
    "\n",
    "    result = pd.concat(list_of_series, axis=1).T\n",
    "    return result\n"
   ]
  },
  {
   "cell_type": "code",
   "execution_count": 34,
   "metadata": {},
   "outputs": [],
   "source": [
    "#count amount of predictions for each category\n",
    "def count_values_for_columns(result):\n",
    "    val_counts_for_cols = {}\n",
    "    for col in result.columns:\n",
    "        val_counts = result.explode(col)[col].value_counts()\n",
    "        val_counts_for_cols[col] = val_counts\n",
    "    return val_counts_for_cols"
   ]
  },
  {
   "cell_type": "code",
   "execution_count": 35,
   "metadata": {},
   "outputs": [],
   "source": [
    "#plot pie chart\n",
    "import matplotlib.pyplot as plt\n",
    "import seaborn as sns\n",
    "\n",
    "#define data\n",
    "\n",
    "def plot_pie(data, labels,title):\n",
    "    #define Seaborn color palette to use\n",
    "    colors = sns.color_palette('pastel')[0:25]\n",
    "\n",
    "    #create pie chart\n",
    "    plt.title(title)\n",
    "    plt.pie(data, labels = labels, colors = colors, autopct='%.0f%%')\n",
    "    plt.show()"
   ]
  },
  {
   "cell_type": "code",
   "execution_count": 33,
   "metadata": {},
   "outputs": [],
   "source": [
    "# make df with dw categories and extracted labels\n",
    "new_labels = single_kw_label.str.split('__').apply(lambda row: row[2])\n",
    "\n",
    "d={'dw_cat':new_labels,'dw_kw':single_kw}#,'pred_cat1','pred_cat2','pred_cat3','pred_cat4','pred_cat5'}\n",
    "df_single=pd.DataFrame(data=d)"
   ]
  },
  {
   "cell_type": "code",
   "execution_count": 48,
   "metadata": {},
   "outputs": [
    {
     "data": {
      "image/png": "[encoded data removed]",
      "text/plain": [
       "<Figure size 640x480 with 1 Axes>"
      ]
     },
     "metadata": {},
     "output_type": "display_data"
    }
   ],
   "source": [
    "#count_values_for_columns(df_single)['dw_cat']\n",
    "\n",
    "data = count_values_for_columns(df_single)['dw_cat'].values\n",
    "labels = count_values_for_columns(df_single)['dw_cat'].index\n",
    "title=('Pie-chart of a relative amount of articles published by DW \\n'+\n",
    "       'among ' +str(len(labels)) + ' categories between ' +start_date+' and ' +end_date)\n",
    "\n",
    "plot_pie(data,labels,title)"
   ]
  },
  {
   "cell_type": "code",
   "execution_count": 37,
   "metadata": {},
   "outputs": [],
   "source": [
    "#google keywords to dw categories\n",
    "# Load Google data\n",
    "google_usa_json='../data/interim/2021-daily-trending-searches.json'\n",
    "google_world_json='../data/interim/2021_daily_trending_searches_World.json'\n",
    "df_google = pd.read_json(google_world_json, orient ='split', compression = 'infer')\n",
    "\n",
    "# Keeps only google data within DW data date range\n",
    "start_date_dw=start_date\n",
    "end_date_dw=end_date\n",
    "df_google.sort_values(by ='date', inplace = True) \n",
    "mask = (pd.to_datetime(df_google['date']) > start_date_dw) & (pd.to_datetime(df_google['date']) <= end_date_dw)\n",
    "df_google_subset = df_google.loc[mask].copy()\n",
    "google_topic=df_google_subset['topic_title']\n",
    "google_topic_type=df_google_subset['topic_title']"
   ]
  },
  {
   "cell_type": "code",
   "execution_count": 47,
   "metadata": {},
   "outputs": [
    {
     "data": {
      "image/png": "[encoded data removed]",
      "text/plain": [
       "<Figure size 640x480 with 1 Axes>"
      ]
     },
     "metadata": {},
     "output_type": "display_data"
    }
   ],
   "source": [
    "#predict categories for google searches topic title+type\n",
    "google_data=df_google_subset['topic_title']+' '+df_google_subset['topic_type']\n",
    "\n",
    "#google_result=run_predict_for_series(model_all_kw_check,df_google_subset['topic_type']) #only topic type\n",
    "#google_result=run_predict_for_series(model_all_kw_check,df_google_subset['topic_title']) #only topic title\n",
    "google_result=run_predict_for_series(model_all_kw_check,google_data) #topic title+type\n",
    "\n",
    "#count amount GS words for each category\n",
    "#count_values_for_columns(google_result)[1]\n",
    "data_g = count_values_for_columns(google_result)[1].values\n",
    "labels_g = count_values_for_columns(google_result)[1].index\n",
    "\n",
    "#make pie plot for google searches\n",
    "title_g=('Pie-chart of a predicted interest from Google Search mapped onto \\n'+\n",
    "       ' ' +str(len(labels_g)) + ' categories between ' +start_date+' and ' +end_date)\n",
    "\n",
    "plot_pie(data_g,labels_g,title_g)"
   ]
  },
  {
   "cell_type": "code",
   "execution_count": null,
   "metadata": {},
   "outputs": [],
   "source": [
    "# #alternative plot for google predictions when predicting 2 categories with fasttext\n",
    "# title_g2=('Pie-chart of a predicted interest from Google Search mapped onto \\n'+\n",
    "#        ' ' +str(len(labels)) + ' categories between ' +start_date+' and ' +end_date+\n",
    "#        '\\n when predicting 2 categories')\n",
    "# data_g2 = count_values_for_columns(google_result)[2].values\n",
    "# labels_g2 = count_values_for_columns(google_result)[2].index\n",
    "\n",
    "# plot_pie(data_g2,labels_g2,title_g2)"
   ]
  },
  {
   "cell_type": "code",
   "execution_count": null,
   "metadata": {},
   "outputs": [],
   "source": [
    "#prediction of categories from google search words loook reasonable\n",
    "google_result[80:110]"
   ]
  },
  {
   "cell_type": "code",
   "execution_count": null,
   "metadata": {},
   "outputs": [],
   "source": [
    "#DW\n",
    "#predict dw category for each kw\n",
    "result=run_predict_for_series(model_all_kw_check,single_kw)\n",
    "\n",
    "result=result.merge(df_single, left_index=True, right_on='dw_kw')\n",
    "#count_values_for_columns(result)[]"
   ]
  },
  {
   "cell_type": "code",
   "execution_count": null,
   "metadata": {},
   "outputs": [],
   "source": [
    "#plot predicted DW categories\n",
    "data = count_values_for_columns(result)['dw_cat'].values\n",
    "labels = count_values_for_columns(result)['dw_cat'].index\n",
    "title=('Pie-chart of a relative amount of articles published by DW \\n'+\n",
    "       'among ' +str(len(labels)) + ' categories between ' +start_date+' and ' +end_date)\n",
    "\n",
    "\n",
    "plot_pie(data,labels,title)"
   ]
  },
  {
   "cell_type": "code",
   "execution_count": null,
   "metadata": {},
   "outputs": [],
   "source": [
    "import matplotlib.pyplot as plt\n",
    "import seaborn as sns\n",
    "\n",
    "#define data\n",
    "data_pred = val_counts_for_cols[1].values\n",
    "labels_pred = val_counts_for_cols[1].index\n",
    "title_pred='Pie-chart of a relative amount of predicted categories from DW keywords\\nfor ' +str(len(labels)) + ' categories between ' +start_date+' and ' +end_date\n",
    "\n",
    "plot_pie(data_pred,labels_pred,title_pred)"
   ]
  },
  {
   "cell_type": "code",
   "execution_count": null,
   "metadata": {},
   "outputs": [],
   "source": [
    "data_pred2 = val_counts_for_cols[1].values\n",
    "labels_pred2 = val_counts_for_cols[1].index\n",
    "title_pred2='Pie-chart of a relative amount of predicted categories from DW keywords\\nfor ' +str(len(labels)) + ' categories between ' +start_date+' and ' +end_date +'\\n when predicting 2 categories'\n",
    "\n",
    "plot_pie(data_pred2,labels_pred2,title_pred2)"
   ]
  }
 ],
 "metadata": {
  "kernelspec": {
   "display_name": "Python 3",
   "language": "python",
   "name": "python3"
  },
  "language_info": {
   "codemirror_mode": {
    "name": "ipython",
    "version": 3
   },
   "file_extension": ".py",
   "mimetype": "text/x-python",
   "name": "python",
   "nbconvert_exporter": "python",
   "pygments_lexer": "ipython3",
   "version": "3.7.16"
  },
  "orig_nbformat": 4
 },
 "nbformat": 4,
 "nbformat_minor": 2
}
