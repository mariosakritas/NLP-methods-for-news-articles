{
 "cells": [
  {
   "attachments": {},
   "cell_type": "markdown",
   "metadata": {},
   "source": [
    "## Fasttext\n",
    "\n",
    "following tutorial https://fasttext.cc/docs/en/supervised-tutorial.html"
   ]
  },
  {
   "cell_type": "code",
   "execution_count": null,
   "metadata": {},
   "outputs": [],
   "source": [
    "import fasttext"
   ]
  },
  {
   "cell_type": "code",
   "execution_count": null,
   "metadata": {},
   "outputs": [],
   "source": [
    "!wc ./fasttext/cooking.stackexchange.txt\n"
   ]
  },
  {
   "cell_type": "code",
   "execution_count": null,
   "metadata": {},
   "outputs": [],
   "source": [
    "#splitiing dataset into training and validation sets\n",
    "!head -n 12404 ./fasttext/cooking.stackexchange.txt > ./fasttext/cooking.train\n",
    "!tail -n 3000 ./fasttext/cooking.stackexchange.txt > ./fasttext/cooking.valid"
   ]
  },
  {
   "cell_type": "code",
   "execution_count": null,
   "metadata": {},
   "outputs": [],
   "source": [
    "#our first classifier\n",
    "model = fasttext.train_supervised(input=\"./fasttext/cooking.train\")"
   ]
  },
  {
   "cell_type": "code",
   "execution_count": null,
   "metadata": {},
   "outputs": [],
   "source": [
    "#saving the model\n",
    "model.save_model(\"./fasttext/model_cooking.bin\")"
   ]
  },
  {
   "cell_type": "code",
   "execution_count": null,
   "metadata": {},
   "outputs": [],
   "source": [
    "model.predict(\"Which baking dish is best to bake a banana bread ?\")"
   ]
  },
  {
   "cell_type": "code",
   "execution_count": null,
   "metadata": {},
   "outputs": [],
   "source": [
    "model.predict(\"Why not put knives in the dishwasher?\")"
   ]
  },
  {
   "cell_type": "code",
   "execution_count": null,
   "metadata": {},
   "outputs": [],
   "source": [
    "model.test(\"./fasttext/cooking.valid\")"
   ]
  },
  {
   "cell_type": "code",
   "execution_count": null,
   "metadata": {},
   "outputs": [],
   "source": [
    "model.test(\"./fasttext/cooking.valid\", k=5)"
   ]
  },
  {
   "cell_type": "code",
   "execution_count": null,
   "metadata": {},
   "outputs": [],
   "source": [
    "model.predict(\"Why not put knives in the dishwasher?\", k=5)"
   ]
  },
  {
   "attachments": {},
   "cell_type": "markdown",
   "metadata": {},
   "source": [
    "## TODO\n",
    "- prepare an input file with categories and their keywords\n",
    "- split dataset in training and validation\n",
    "- run simple model settings (defaukt as above)\n",
    "\n",
    "- try to use it as a word vectorizer and measure distance?"
   ]
  },
  {
   "cell_type": "code",
   "execution_count": 1,
   "metadata": {},
   "outputs": [
    {
     "name": "stdout",
     "output_type": "stream",
     "text": [
      "Getting data...\n",
      "Loading data DONE. Number of articles is 175659\n",
      "Extracting data DONE. Number of articles from 2018-01-01 to 2022-01-01 is 50438\n",
      "Cleaning step 1 out of 2 DONE. Number of unique keywords went from 44649 to 41356\n",
      "Cleaning step 2 out of 2 DONE. Number of unique keywords went from 41356 to 38097\n",
      "Finished. Data stored in ../data/interim/clean_keywords_2018-01-01_2022-01-01.json\n"
     ]
    }
   ],
   "source": [
    "## load the data\n",
    "import sys\n",
    "# Add src folder to the path\n",
    "sys.path.append('../src/')\n",
    "from data.preprocess_keywords import make_cleaned_keywords_df\n",
    "from data.make_datasets import get_data\n",
    "# Specify wanted time range\n",
    "start_date = '2018-01-01'\n",
    "end_date = '2022-01-01'\n",
    "# Path to data\n",
    "data_file = '/home/anya_m/data/dw-project-data/CMS_2010_to_June_2022_ENGLISH.json'\n",
    "# Load and extract data within time range\n",
    "df_subset = get_data(data_file, start_date, end_date)\n",
    "# Cleans keywords and saves data as a dataframe\n",
    "make_cleaned_keywords_df(df_subset, start_date, end_date)"
   ]
  },
  {
   "cell_type": "code",
   "execution_count": 2,
   "metadata": {},
   "outputs": [],
   "source": [
    "# Load data\n",
    "import pandas as pd\n",
    "# start_date = '2019-01-01'\n",
    "# end_date = '2022-01-01'\n",
    "filepath = '../data/interim/clean_keywords_' + start_date + '_' + end_date + '.json'\n",
    "df = pd.read_json(filepath, orient ='split', compression = 'infer')"
   ]
  },
  {
   "cell_type": "code",
   "execution_count": 3,
   "metadata": {},
   "outputs": [
    {
     "name": "stdout",
     "output_type": "stream",
     "text": [
      "<class 'pandas.core.frame.DataFrame'>\n",
      "Int64Index: 50438 entries, 0 to 50437\n",
      "Data columns (total 6 columns):\n",
      " #   Column                        Non-Null Count  Dtype         \n",
      "---  ------                        --------------  -----         \n",
      " 0   id                            50438 non-null  int64         \n",
      " 1   lastModifiedDate              50438 non-null  object        \n",
      " 2   Date                          50438 non-null  datetime64[ns]\n",
      " 3   keywordStrings                50438 non-null  object        \n",
      " 4   keywordStringsCleanAfterFuzz  50438 non-null  object        \n",
      " 5   cleanFocusCategory            50068 non-null  object        \n",
      "dtypes: datetime64[ns](1), int64(1), object(4)\n",
      "memory usage: 2.7+ MB\n"
     ]
    }
   ],
   "source": [
    "df.info()"
   ]
  },
  {
   "cell_type": "code",
   "execution_count": 17,
   "metadata": {},
   "outputs": [
    {
     "name": "stderr",
     "output_type": "stream",
     "text": [
      "/home/anya_m/Documents/git_dw/venv/lib64/python3.7/site-packages/ipykernel_launcher.py:6: SettingWithCopyWarning: \n",
      "A value is trying to be set on a copy of a slice from a DataFrame.\n",
      "Try using .loc[row_indexer,col_indexer] = value instead\n",
      "\n",
      "See the caveats in the documentation: https://pandas.pydata.org/pandas-docs/stable/user_guide/indexing.html#returning-a-view-versus-a-copy\n",
      "  \n",
      "/home/anya_m/Documents/git_dw/venv/lib64/python3.7/site-packages/ipykernel_launcher.py:7: SettingWithCopyWarning: \n",
      "A value is trying to be set on a copy of a slice from a DataFrame.\n",
      "Try using .loc[row_indexer,col_indexer] = value instead\n",
      "\n",
      "See the caveats in the documentation: https://pandas.pydata.org/pandas-docs/stable/user_guide/indexing.html#returning-a-view-versus-a-copy\n",
      "  import sys\n",
      "/home/anya_m/Documents/git_dw/venv/lib64/python3.7/site-packages/ipykernel_launcher.py:8: SettingWithCopyWarning: \n",
      "A value is trying to be set on a copy of a slice from a DataFrame.\n",
      "Try using .loc[row_indexer,col_indexer] = value instead\n",
      "\n",
      "See the caveats in the documentation: https://pandas.pydata.org/pandas-docs/stable/user_guide/indexing.html#returning-a-view-versus-a-copy\n",
      "  \n",
      "/home/anya_m/Documents/git_dw/venv/lib64/python3.7/site-packages/ipykernel_launcher.py:9: SettingWithCopyWarning: \n",
      "A value is trying to be set on a copy of a slice from a DataFrame.\n",
      "Try using .loc[row_indexer,col_indexer] = value instead\n",
      "\n",
      "See the caveats in the documentation: https://pandas.pydata.org/pandas-docs/stable/user_guide/indexing.html#returning-a-view-versus-a-copy\n",
      "  if __name__ == \"__main__\":\n",
      "/home/anya_m/Documents/git_dw/venv/lib64/python3.7/site-packages/ipykernel_launcher.py:10: SettingWithCopyWarning: \n",
      "A value is trying to be set on a copy of a slice from a DataFrame.\n",
      "Try using .loc[row_indexer,col_indexer] = value instead\n",
      "\n",
      "See the caveats in the documentation: https://pandas.pydata.org/pandas-docs/stable/user_guide/indexing.html#returning-a-view-versus-a-copy\n",
      "  # Remove the CWD from sys.path while we load stuff.\n",
      "/home/anya_m/Documents/git_dw/venv/lib64/python3.7/site-packages/ipykernel_launcher.py:11: SettingWithCopyWarning: \n",
      "A value is trying to be set on a copy of a slice from a DataFrame.\n",
      "Try using .loc[row_indexer,col_indexer] = value instead\n",
      "\n",
      "See the caveats in the documentation: https://pandas.pydata.org/pandas-docs/stable/user_guide/indexing.html#returning-a-view-versus-a-copy\n",
      "  # This is added back by InteractiveShellApp.init_path()\n",
      "/home/anya_m/Documents/git_dw/venv/lib64/python3.7/site-packages/ipykernel_launcher.py:12: SettingWithCopyWarning: \n",
      "A value is trying to be set on a copy of a slice from a DataFrame.\n",
      "Try using .loc[row_indexer,col_indexer] = value instead\n",
      "\n",
      "See the caveats in the documentation: https://pandas.pydata.org/pandas-docs/stable/user_guide/indexing.html#returning-a-view-versus-a-copy\n",
      "  if sys.path[0] == \"\":\n",
      "/home/anya_m/Documents/git_dw/venv/lib64/python3.7/site-packages/ipykernel_launcher.py:13: SettingWithCopyWarning: \n",
      "A value is trying to be set on a copy of a slice from a DataFrame.\n",
      "Try using .loc[row_indexer,col_indexer] = value instead\n",
      "\n",
      "See the caveats in the documentation: https://pandas.pydata.org/pandas-docs/stable/user_guide/indexing.html#returning-a-view-versus-a-copy\n",
      "  del sys.path[0]\n",
      "/home/anya_m/Documents/git_dw/venv/lib64/python3.7/site-packages/ipykernel_launcher.py:14: SettingWithCopyWarning: \n",
      "A value is trying to be set on a copy of a slice from a DataFrame.\n",
      "Try using .loc[row_indexer,col_indexer] = value instead\n",
      "\n",
      "See the caveats in the documentation: https://pandas.pydata.org/pandas-docs/stable/user_guide/indexing.html#returning-a-view-versus-a-copy\n",
      "  \n"
     ]
    }
   ],
   "source": [
    "df_clean=df.dropna(how='any')\n",
    "df_clean_copy = df_clean.copy(deep=True)\n",
    "##TODO\n",
    "#df_clean['cleanFocusCategory']=='Law and Justice' replace with Law-and-Justice  and other categories\n",
    "\n",
    "df_clean['cleanFocusCategory'] = df_clean['cleanFocusCategory'].replace(['Law and Justice'], 'Law-and-Justice')\n",
    "df_clean['cleanFocusCategory'] = df_clean['cleanFocusCategory'].replace(['Nature and Environment'], 'Nature-and-Environment')\n",
    "df_clean['cleanFocusCategory'] = df_clean['cleanFocusCategory'].replace(['Human Rights'], 'Human-Rights')\n",
    "df_clean['cleanFocusCategory'] = df_clean['cleanFocusCategory'].replace(['Cars and Transportation'], 'Cars-and-Transportation')\n",
    "df_clean['cleanFocusCategory'] = df_clean['cleanFocusCategory'].replace(['Press Freedom'], 'Press-Freedom')\n",
    "df_clean['cleanFocusCategory'] = df_clean['cleanFocusCategory'].replace(['Digital World'], 'Digital-World')\n",
    "df_clean['cleanFocusCategory'] = df_clean['cleanFocusCategory'].replace(['Rule of Law'], 'Rule-of-Law')\n",
    "df_clean['cleanFocusCategory'] = df_clean['cleanFocusCategory'].replace(['Learning German'], 'Learning-German')\n",
    "df_clean['cleanFocusCategory'] = df_clean['cleanFocusCategory'].replace(['Freedom of Speech'], 'Freedom-of-Speech')"
   ]
  },
  {
   "cell_type": "code",
   "execution_count": 38,
   "metadata": {},
   "outputs": [
    {
     "data": {
      "text/plain": [
       "array(['Politics', 'Religion', 'Culture', 'Society', 'Law-and-Justice',\n",
       "       'Business', 'Sports', 'Catastrophe', 'Health', 'Human-Rights',\n",
       "       'Nature-and-Environment', 'Travel', 'History',\n",
       "       'Cars-and-Transportation', 'Digital-World', 'Science', 'Media',\n",
       "       'Technology', 'Education', 'Lifestyle', 'Learning-German',\n",
       "       'Migration', 'Offbeat', 'Innovation'], dtype=object)"
      ]
     },
     "execution_count": 38,
     "metadata": {},
     "output_type": "execute_result"
    }
   ],
   "source": [
    "df_clean['cleanFocusCategory'].unique()"
   ]
  },
  {
   "cell_type": "code",
   "execution_count": 20,
   "metadata": {},
   "outputs": [],
   "source": [
    "label=df_clean['cleanFocusCategory'].apply(lambda x: ('__label__' +x+' '))\n",
    "kw=df_clean['keywordStrings'].apply(lambda x: (', '.join(x)))"
   ]
  },
  {
   "cell_type": "code",
   "execution_count": 21,
   "metadata": {},
   "outputs": [
    {
     "name": "stdout",
     "output_type": "stream",
     "text": [
      "0        __label__Politics Iran, Hassan Rouhani, protes...\n",
      "1        __label__Politics Tanzania, Africa, New Year, ...\n",
      "2        __label__Religion Pope Francis, nuclear war, e...\n",
      "3        __label__Politics Iran protests, Hassan Rouhan...\n",
      "4        __label__Politics Angela Merkel, coalition tal...\n",
      "                               ...                        \n",
      "50433    __label__Politics Putin, New Year, Coronavirus...\n",
      "50434    __label__Politics Germany, Olaf Scholz, New Ye...\n",
      "50435    __label__Catastrophe Colorado, wildfires, Boul...\n",
      "50436    __label__Business RCEP, Regional Comprehensive...\n",
      "50437    __label__Health France, birth control, contrac...\n",
      "Length: 50068, dtype: object\n"
     ]
    }
   ],
   "source": [
    "print(label+kw)"
   ]
  },
  {
   "cell_type": "code",
   "execution_count": 22,
   "metadata": {},
   "outputs": [
    {
     "name": "stderr",
     "output_type": "stream",
     "text": [
      "50068it [00:00, 82082.39it/s]\n"
     ]
    }
   ],
   "source": [
    "from tqdm import tqdm\n",
    "!rm ./fasttext/output.txt\n",
    "with open('./fasttext/output.txt', 'a') as f:\n",
    "    for i, el in tqdm(enumerate(label)):\n",
    "        #print(i)\n",
    "        #print(kw[i])\n",
    "        print(el+kw.iloc[i],file=f)\n",
    "    \n",
    "    \n",
    "    #el.apply(lambda x: ' '.join(kw[i]))"
   ]
  },
  {
   "cell_type": "code",
   "execution_count": 23,
   "metadata": {},
   "outputs": [],
   "source": [
    "import fasttext"
   ]
  },
  {
   "cell_type": "code",
   "execution_count": 24,
   "metadata": {},
   "outputs": [],
   "source": [
    "#splitiing dataset into training and validation sets\n",
    "\n",
    "!head -n 40000 ./fasttext/output.txt > ./fasttext/output.train\n",
    "!tail -n 15000 ./fasttext/output.txt > ./fasttext/output.valid"
   ]
  },
  {
   "cell_type": "code",
   "execution_count": 27,
   "metadata": {},
   "outputs": [],
   "source": [
    "#splitiing dataset into training and validation sets\n",
    "!cat ./fasttext/output.txt | sed -e \"s/\\([.\\!?,'/()]\\)/ \\1 /g\" | tr \"[:upper:]\" \"[:lower:]\" > ./fasttext/output.preprocessed.txt\n",
    "\n",
    "!head -n 40000 ./fasttext/output.preprocessed.txt > ./fasttext/output.train\n",
    "!tail -n 15000 ./fasttext/output.preprocessed.txt > ./fasttext/output.valid"
   ]
  },
  {
   "cell_type": "code",
   "execution_count": 28,
   "metadata": {},
   "outputs": [
    {
     "name": "stderr",
     "output_type": "stream",
     "text": [
      "Read 0M words\n",
      "Number of words:  26047\n",
      "Number of labels: 24\n",
      "Progress: 100.0% words/sec/thread: 1847993 lr:  0.000000 avg.loss:  0.851920 ETA:   0h 0m 0s100.0% words/sec/thread: 1848018 lr: -0.000004 avg.loss:  0.851920 ETA:   0h 0m 0s\n"
     ]
    }
   ],
   "source": [
    "#our first classifier\n",
    "train_file=\"./fasttext/output.train\"\n",
    "model = fasttext.train_supervised(input=train_file, lr=1.0, epoch=25, bucket=200000, dim=50, loss='hs')"
   ]
  },
  {
   "cell_type": "code",
   "execution_count": 29,
   "metadata": {},
   "outputs": [],
   "source": [
    "#saving the model\n",
    "model.save_model(\"./fasttext/model_output.bin\")"
   ]
  },
  {
   "cell_type": "code",
   "execution_count": 32,
   "metadata": {},
   "outputs": [
    {
     "data": {
      "text/plain": [
       "(('__label__politics',\n",
       "  '__label__law-and-justice',\n",
       "  '__label__business',\n",
       "  '__label__culture'),\n",
       " array([0.94289225, 0.05249672, 0.0027589 , 0.00186756]))"
      ]
     },
     "execution_count": 32,
     "metadata": {},
     "output_type": "execute_result"
    }
   ],
   "source": [
    "model.predict(\"house\",k=5)"
   ]
  },
  {
   "cell_type": "code",
   "execution_count": 33,
   "metadata": {},
   "outputs": [
    {
     "data": {
      "text/plain": [
       "(14999, 0.6968464564304286, 0.6968464564304286)"
      ]
     },
     "execution_count": 33,
     "metadata": {},
     "output_type": "execute_result"
    }
   ],
   "source": [
    "model.test(\"./fasttext/output.valid\")\n",
    "#The output are the number of samples (here 14999), \n",
    "# the precision at one (0.6968)  69% and \n",
    "# the recall at one (0.0541)."
   ]
  },
  {
   "attachments": {},
   "cell_type": "markdown",
   "metadata": {},
   "source": [
    "With a few steps, we were able to go from a precision at one of 12.4% to 59.9%. Important steps included:\n",
    "\n",
    "preprocessing the data ;\n",
    "changing the number of epochs (using the option -epoch, standard range [5 - 50]) ;\n",
    "changing the learning rate (using the option -lr, standard range [0.1 - 1.0]) ;\n",
    "using word n-grams (using the option -wordNgrams, standard range [1 - 5])."
   ]
  },
  {
   "cell_type": "code",
   "execution_count": 40,
   "metadata": {},
   "outputs": [
    {
     "data": {
      "text/plain": [
       "(('__label__law-and-justice',\n",
       "  '__label__media',\n",
       "  '__label__politics',\n",
       "  '__label__human-rights',\n",
       "  '__label__society'),\n",
       " array([9.00998354e-01, 7.69218579e-02, 1.21143926e-02, 9.97183938e-03,\n",
       "        2.52286791e-05]))"
      ]
     },
     "execution_count": 40,
     "metadata": {},
     "output_type": "execute_result"
    }
   ],
   "source": [
    "model.predict(\"knives\", k=5)"
   ]
  },
  {
   "cell_type": "code",
   "execution_count": null,
   "metadata": {},
   "outputs": [],
   "source": [
    "# # Skipgram model :\n",
    "# model = fasttext.train_unsupervised('data.txt', model='skipgram')\n",
    "\n",
    "# # or, cbow model :\n",
    "# model = fasttext.train_unsupervised('data.txt', model='cbow')\n",
    "\n",
    "\n",
    "# print(model.words)   # list of words in dictionary\n",
    "# print(model['king']) # get the vector of the word 'king'"
   ]
  }
 ],
 "metadata": {
  "kernelspec": {
   "display_name": "Python 3",
   "language": "python",
   "name": "python3"
  },
  "language_info": {
   "codemirror_mode": {
    "name": "ipython",
    "version": 3
   },
   "file_extension": ".py",
   "mimetype": "text/x-python",
   "name": "python",
   "nbconvert_exporter": "python",
   "pygments_lexer": "ipython3",
   "version": "3.7.16"
  },
  "orig_nbformat": 4
 },
 "nbformat": 4,
 "nbformat_minor": 2
}
