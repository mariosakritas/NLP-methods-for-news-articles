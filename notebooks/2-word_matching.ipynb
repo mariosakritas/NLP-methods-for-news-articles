{
 "cells": [
  {
   "cell_type": "code",
   "execution_count": 4,
   "metadata": {},
   "outputs": [],
   "source": [
    "# Import\n",
    "import json\n",
    "import pandas as pd"
   ]
  },
  {
   "cell_type": "code",
   "execution_count": 5,
   "metadata": {},
   "outputs": [
    {
     "name": "stdout",
     "output_type": "stream",
     "text": [
      "         id                                               name  \\\n",
      "0  16489913                 UN imposes sanctions on DRC rebels   \n",
      "1  16489912            Catholic Church abuse hotline goes cold   \n",
      "2  16489903  \"Fiscal cliff\" tax hikes go into effect in the US   \n",
      "3  16490025  Kim seeks reconciliation with South, economic ...   \n",
      "4  16490029  Senate-approved fiscal deal faces House consid...   \n",
      "\n",
      "                    shortTitle  \\\n",
      "0      UN sanctions DRC rebels   \n",
      "1                 Disconnected   \n",
      "2  US goes over \"fiscal cliff\"   \n",
      "3    A rare New Year's address   \n",
      "4   US House mulls fiscal deal   \n",
      "\n",
      "                                                text  \\\n",
      "0  <p>\\n\\tThe UN Security Council has sanctioned ...   \n",
      "1  <p>\\n\\tFor two and a half years, the counselin...   \n",
      "2  <p>\\n\\tAs the clock struck midnight in Washing...   \n",
      "3  <p>\\n\\tKim Jong Un, who came to office just ov...   \n",
      "4  <p>\\n\\tLess than two hours after the US had of...   \n",
      "\n",
      "                                              teaser  \\\n",
      "0  A UN Security Council sanctions committee has ...   \n",
      "1  The Catholic Church in Germany has closed its ...   \n",
      "2  A series of tax hikes and spending cuts have g...   \n",
      "3  North Korea's leader has used a rare New Year’...   \n",
      "4  The US Senate has approved a bill to stop a se...   \n",
      "\n",
      "                                         shortTeaser kicker regions  \\\n",
      "0                                                      None      []   \n",
      "1  The Catholic Church has shut down a hotline fo...   None      []   \n",
      "2                                                      None      []   \n",
      "3                                                      None      []   \n",
      "4                                                      None      []   \n",
      "\n",
      "                                            keywords  \\\n",
      "0  [{'name': 'DRC'}, {'name': 'M23'}, {'name': 'F...   \n",
      "1  [{'name': 'telephone'}, {'name': 'hotline'}, {...   \n",
      "2  [{'name': 'fiscal cliff'}, {'name': 'Obama'}, ...   \n",
      "3  [{'name': 'Kim Jong Un'}, {'name': 'Kim Jong I...   \n",
      "4  [{'name': 'fiscal cliff'}, {'name': 'US Senate...   \n",
      "\n",
      "                                      keywordStrings  ...  \\\n",
      "0  [DRC, M23, FDLR, Rwanda, Susan Rice, UN securi...  ...   \n",
      "1  [telephone, hotline, helpline, Catholic Church...  ...   \n",
      "2  [fiscal cliff, Obama, congress, spending cuts,...  ...   \n",
      "3  [Kim Jong Un, Kim Jong Il, Kim Il Sung, lee my...  ...   \n",
      "4  [fiscal cliff, US Senate, Senate vote, fiscal ...  ...   \n",
      "\n",
      "                                        contentLinks  \\\n",
      "0  [{'name': None}, {'name': 'Goma residents fear...   \n",
      "1  [{'name': None}, {'name': None}, {'name': None...   \n",
      "2  [{'name': None}, {'name': '2012 defined by leg...   \n",
      "3  [{'name': None}, {'name': 'South Korea condemn...   \n",
      "4  [{'name': None}, {'name': 'Soft landing as US ...   \n",
      "\n",
      "                                            articles isOpinion  \\\n",
      "0  [{'name': 'Goma residents fear renewed conflic...     False   \n",
      "1                                                 []     False   \n",
      "2  [{'name': '2012 defined by legislative gridloc...     False   \n",
      "3  [{'name': 'South Korea condemns North Korea's ...     False   \n",
      "4       [{'name': 'US reaches 'fiscal cliff' deal'}]     False   \n",
      "\n",
      "  geographicLocations                                contentAssociations  \\\n",
      "0                  []  [{'id': 30420921}, {'id': 30420923}, {'id': 30...   \n",
      "1                  []  [{'id': 30420944}, {'id': 30420945}, {'id': 30...   \n",
      "2                  []  [{'id': 30420865}, {'id': 30420867}, {'id': 30...   \n",
      "3                  []  [{'id': 30421237}, {'id': 30421239}, {'id': 30...   \n",
      "4                  []  [{'id': 30421071}, {'id': 30421073}, {'id': 30...   \n",
      "\n",
      "                                mainContentImageLink  \\\n",
      "0  {'description': 'Kongo M23 Rebellen ziehen aus...   \n",
      "1                                {'description': ''}   \n",
      "2                                {'description': ''}   \n",
      "3                                {'description': ''}   \n",
      "4                                {'description': ''}   \n",
      "\n",
      "                                              images externalLinks topStory  \\\n",
      "0  [{'name': 'Kongo M23 Rebellen ziehen aus beset...            []    False   \n",
      "1  [{'name': 'Symbolbild Missbrauch Opfer'}, {'na...            []    False   \n",
      "2  [{'name': 'Barack Obama PK Silvester Haushalts...            []    False   \n",
      "3  [{'name': 'Nordkorea Neujahrsansprache von Kim...            []    False   \n",
      "4  [{'name': 'USA Senat Fiskalklippe Verhandlunge...            []    False   \n",
      "\n",
      "  language  \n",
      "0     None  \n",
      "1     None  \n",
      "2     None  \n",
      "3     None  \n",
      "4     None  \n",
      "\n",
      "[5 rows x 28 columns]\n"
     ]
    }
   ],
   "source": [
    "# Open data\n",
    "# Opening JSON file\n",
    "f = open('../data/raw/CMS_2010_to_June_2022_ENGLISH.json')\n",
    "  \n",
    "# returns JSON object as \n",
    "# a dictionary\n",
    "data = json.load(f)\n",
    "\n",
    "df = pd.DataFrame.from_dict(data)\n",
    "\n",
    "print(df.head())"
   ]
  },
  {
   "cell_type": "code",
   "execution_count": 6,
   "metadata": {},
   "outputs": [],
   "source": [
    "# Plaground Ferdinand"
   ]
  },
  {
   "cell_type": "code",
   "execution_count": 7,
   "metadata": {},
   "outputs": [],
   "source": [
    "# Playground Magda"
   ]
  },
  {
   "cell_type": "code",
   "execution_count": null,
   "metadata": {},
   "outputs": [],
   "source": []
  }
 ],
 "metadata": {
  "kernelspec": {
   "display_name": "Python 3",
   "language": "python",
   "name": "python3"
  },
  "language_info": {
   "codemirror_mode": {
    "name": "ipython",
    "version": 3
   },
   "file_extension": ".py",
   "mimetype": "text/x-python",
   "name": "python",
   "nbconvert_exporter": "python",
   "pygments_lexer": "ipython3",
   "version": "3.7.16"
  },
  "orig_nbformat": 4
 },
 "nbformat": 4,
 "nbformat_minor": 2
}
