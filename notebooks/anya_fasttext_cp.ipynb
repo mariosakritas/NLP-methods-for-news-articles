{
 "cells": [
  {
   "cell_type": "code",
   "execution_count": 121,
   "metadata": {},
   "outputs": [],
   "source": [
    "# Import useful libraries\n",
    "import pandas as pd\n",
    "import os\n",
    "import sys\n",
    "import gensim.downloader as api\n",
    "from sklearn.model_selection import train_test_split\n",
    "from sklearn.metrics import accuracy_score\n",
    "import matplotlib.pyplot as plt\n",
    "import fasttext\n",
    "import seaborn as sns\n",
    "from sklearn.model_selection import train_test_split as tts\n",
    "\n",
    "# Import functions from source folder\n",
    "sys.path.append('../src/') \n",
    "from data.preprocess_keywords import make_cleaned_keywords_df\n",
    "from data.make_datasets import get_data, get_daily_trending_searches\n",
    "from features.build_features import get_vectors"
   ]
  },
  {
   "cell_type": "code",
   "execution_count": 141,
   "metadata": {},
   "outputs": [],
   "source": [
    "# Specify wanted time range\n",
    "start_date = '2019-01-01'\n",
    "end_date = '2020-01-01'\n",
    "\n",
    "# Where data files will be stored\n",
    "path_to_data_files = '../data/interim/'"
   ]
  },
  {
   "cell_type": "code",
   "execution_count": 142,
   "metadata": {},
   "outputs": [
    {
     "name": "stderr",
     "output_type": "stream",
     "text": [
      "/home/magda_d/venv/lib64/python3.7/site-packages/urllib3/connectionpool.py:1052: InsecureRequestWarning: Unverified HTTPS request is being made to host 'trends.google.com'. Adding certificate verification is strongly advised. See: https://urllib3.readthedocs.io/en/1.26.x/advanced-usage.html#ssl-warnings\n",
      "  InsecureRequestWarning,\n",
      "/home/magda_d/venv/lib64/python3.7/site-packages/urllib3/connectionpool.py:1052: InsecureRequestWarning: Unverified HTTPS request is being made to host 'trends.google.com'. Adding certificate verification is strongly advised. See: https://urllib3.readthedocs.io/en/1.26.x/advanced-usage.html#ssl-warnings\n",
      "  InsecureRequestWarning,\n",
      "/home/magda_d/venv/lib64/python3.7/site-packages/urllib3/connectionpool.py:1052: InsecureRequestWarning: Unverified HTTPS request is being made to host 'trends.google.com'. Adding certificate verification is strongly advised. See: https://urllib3.readthedocs.io/en/1.26.x/advanced-usage.html#ssl-warnings\n",
      "  InsecureRequestWarning,\n",
      "/home/magda_d/venv/lib64/python3.7/site-packages/urllib3/connectionpool.py:1052: InsecureRequestWarning: Unverified HTTPS request is being made to host 'trends.google.com'. Adding certificate verification is strongly advised. See: https://urllib3.readthedocs.io/en/1.26.x/advanced-usage.html#ssl-warnings\n",
      "  InsecureRequestWarning,\n"
     ]
    },
    {
     "name": "stdout",
     "output_type": "stream",
     "text": [
      "2019-01-01\n"
     ]
    },
    {
     "name": "stderr",
     "output_type": "stream",
     "text": [
      "/home/magda_d/venv/lib64/python3.7/site-packages/urllib3/connectionpool.py:1052: InsecureRequestWarning: Unverified HTTPS request is being made to host 'trends.google.com'. Adding certificate verification is strongly advised. See: https://urllib3.readthedocs.io/en/1.26.x/advanced-usage.html#ssl-warnings\n",
      "  InsecureRequestWarning,\n",
      "/home/magda_d/venv/lib64/python3.7/site-packages/urllib3/connectionpool.py:1052: InsecureRequestWarning: Unverified HTTPS request is being made to host 'trends.google.com'. Adding certificate verification is strongly advised. See: https://urllib3.readthedocs.io/en/1.26.x/advanced-usage.html#ssl-warnings\n",
      "  InsecureRequestWarning,\n"
     ]
    },
    {
     "name": "stdout",
     "output_type": "stream",
     "text": [
      "2019-01-02\n"
     ]
    },
    {
     "name": "stderr",
     "output_type": "stream",
     "text": [
      "/home/magda_d/venv/lib64/python3.7/site-packages/urllib3/connectionpool.py:1052: InsecureRequestWarning: Unverified HTTPS request is being made to host 'trends.google.com'. Adding certificate verification is strongly advised. See: https://urllib3.readthedocs.io/en/1.26.x/advanced-usage.html#ssl-warnings\n",
      "  InsecureRequestWarning,\n",
      "/home/magda_d/venv/lib64/python3.7/site-packages/urllib3/connectionpool.py:1052: InsecureRequestWarning: Unverified HTTPS request is being made to host 'trends.google.com'. Adding certificate verification is strongly advised. See: https://urllib3.readthedocs.io/en/1.26.x/advanced-usage.html#ssl-warnings\n",
      "  InsecureRequestWarning,\n"
     ]
    },
    {
     "name": "stdout",
     "output_type": "stream",
     "text": [
      "2019-01-03\n"
     ]
    },
    {
     "name": "stderr",
     "output_type": "stream",
     "text": [
      "/home/magda_d/venv/lib64/python3.7/site-packages/urllib3/connectionpool.py:1052: InsecureRequestWarning: Unverified HTTPS request is being made to host 'trends.google.com'. Adding certificate verification is strongly advised. See: https://urllib3.readthedocs.io/en/1.26.x/advanced-usage.html#ssl-warnings\n",
      "  InsecureRequestWarning,\n",
      "/home/magda_d/venv/lib64/python3.7/site-packages/urllib3/connectionpool.py:1052: InsecureRequestWarning: Unverified HTTPS request is being made to host 'trends.google.com'. Adding certificate verification is strongly advised. See: https://urllib3.readthedocs.io/en/1.26.x/advanced-usage.html#ssl-warnings\n",
      "  InsecureRequestWarning,\n"
     ]
    },
    {
     "name": "stdout",
     "output_type": "stream",
     "text": [
      "2019-01-04\n"
     ]
    },
    {
     "name": "stderr",
     "output_type": "stream",
     "text": [
      "/home/magda_d/venv/lib64/python3.7/site-packages/urllib3/connectionpool.py:1052: InsecureRequestWarning: Unverified HTTPS request is being made to host 'trends.google.com'. Adding certificate verification is strongly advised. See: https://urllib3.readthedocs.io/en/1.26.x/advanced-usage.html#ssl-warnings\n",
      "  InsecureRequestWarning,\n",
      "/home/magda_d/venv/lib64/python3.7/site-packages/urllib3/connectionpool.py:1052: InsecureRequestWarning: Unverified HTTPS request is being made to host 'trends.google.com'. Adding certificate verification is strongly advised. See: https://urllib3.readthedocs.io/en/1.26.x/advanced-usage.html#ssl-warnings\n",
      "  InsecureRequestWarning,\n"
     ]
    },
    {
     "name": "stdout",
     "output_type": "stream",
     "text": [
      "2019-01-05\n"
     ]
    },
    {
     "name": "stderr",
     "output_type": "stream",
     "text": [
      "/home/magda_d/venv/lib64/python3.7/site-packages/urllib3/connectionpool.py:1052: InsecureRequestWarning: Unverified HTTPS request is being made to host 'trends.google.com'. Adding certificate verification is strongly advised. See: https://urllib3.readthedocs.io/en/1.26.x/advanced-usage.html#ssl-warnings\n",
      "  InsecureRequestWarning,\n",
      "/home/magda_d/venv/lib64/python3.7/site-packages/urllib3/connectionpool.py:1052: InsecureRequestWarning: Unverified HTTPS request is being made to host 'trends.google.com'. Adding certificate verification is strongly advised. See: https://urllib3.readthedocs.io/en/1.26.x/advanced-usage.html#ssl-warnings\n",
      "  InsecureRequestWarning,\n"
     ]
    }
   ],
   "source": [
    "google_file = path_to_data_files + start_date + '_' + end_date + '_World_daily_trending_searches.json'\n",
    "\n",
    "if os.path.isfile(google_file) == False:\n",
    "    df_google = get_daily_trending_searches(path_to_data_files, start_date, end_date = end_date)\n",
    "else:\n",
    "    df_google = pd.read_json(google_file, orient ='split', compression = 'infer') "
   ]
  },
  {
   "cell_type": "code",
   "execution_count": 124,
   "metadata": {},
   "outputs": [],
   "source": [
    "# Clean data file in specific date range\n",
    "clean_data_file = '../data/interim/clean_keywords_' + start_date + '_' + end_date + '.json'\n",
    "\n",
    "# Generates the clean data file if it does not exist\n",
    "if os.path.isfile(clean_data_file) == False:\n",
    "\n",
    "    # Path to raw data\n",
    "    data_file = '../data/raw/CMS_2010_to_June_2022_ENGLISH.json'\n",
    "\n",
    "    # Load and extract data within time range\n",
    "    df_subset = get_data(data_file, start_date, end_date)\n",
    "\n",
    "    # Cleans keywords and saves data as a dataframe\n",
    "    make_cleaned_keywords_df(df_subset, start_date, end_date)\n",
    "\n",
    "\n",
    "# Loads the clean data file\n",
    "df_dw = pd.read_json(clean_data_file, orient ='split', compression = 'infer')\n",
    "\n",
    "# Remove rows witn no category\n",
    "df_dw.dropna(how='any', inplace = True)\n",
    "df_dw.reset_index(drop = True, inplace = True)"
   ]
  },
  {
   "cell_type": "code",
   "execution_count": 125,
   "metadata": {},
   "outputs": [],
   "source": [
    "df_dw['cleanFocusParentCategory'] = df_dw['cleanFocusParentCategory'].apply(lambda x: x.replace(' ','-'))\n",
    "df_clean_single_kw=df_dw.explode('keywordStringsCleanAfterFuzz')\n",
    "label=df_dw['cleanFocusParentCategory'].apply(lambda x: ('__label__' +x+' '))\n",
    "kw=df_dw['keywordStringsCleanAfterFuzz'].apply(lambda x: (', '.join(x)))\n",
    "label_kw=label+kw"
   ]
  },
  {
   "cell_type": "code",
   "execution_count": 117,
   "metadata": {},
   "outputs": [],
   "source": [
    "import os\n",
    "def save_txt(out_name,data_to_save):\n",
    "    from tqdm import tqdm\n",
    "    #!rm $out_name\n",
    "    if os.path.isfile(out_name):\n",
    "        os.remove(out_name)\n",
    "    with open(out_name,'a') as f:\n",
    "        for i,el in tqdm(enumerate(data_to_save)):\n",
    "            print(el,file=f)\n",
    "    input_file=out_name\n",
    "    return input_file"
   ]
  },
  {
   "cell_type": "code",
   "execution_count": 128,
   "metadata": {},
   "outputs": [
    {
     "name": "stderr",
     "output_type": "stream",
     "text": [
      "773it [00:00, 30033.69it/s]\n",
      "381it [00:00, 19735.59it/s]\n",
      "Read 0M words\n",
      "Number of words:  2755\n",
      "Number of labels: 20\n",
      "Progress: 100.0% words/sec/thread:  152449 lr:  0.000000 avg.loss:  0.324291 ETA:   0h 0m 0s\n"
     ]
    }
   ],
   "source": [
    "label_kw_train,label_kw_test = tts(label_kw, random_state=0, test_size=0.33)\n",
    "\n",
    "all_kw_train=save_txt( path_to_data_files + 'fasttext/all_kw_train.txt',label_kw_train)\n",
    "all_kw_test=save_txt( path_to_data_files + 'fasttext/all_kw_test.txt',label_kw_test)\n",
    "\n",
    "model_all_kw_check = fasttext.train_supervised(input=all_kw_train, lr=1, epoch=12)"
   ]
  },
  {
   "cell_type": "code",
   "execution_count": 129,
   "metadata": {},
   "outputs": [],
   "source": [
    "#prediction for list of input keywords\n",
    "def run_predict_for_series(model,series_kw):\n",
    "    list_of_series = []\n",
    "    for selected_keyword in series_kw:\n",
    "        list_of_k = [k for k in range(1,3)]\n",
    "        predictions = [prediction(model,selected_keyword,k=i) for i in list_of_k]\n",
    "        predictions = pd.Series(predictions, index=list_of_k, name=selected_keyword)\n",
    "        list_of_series.append(predictions)\n",
    "\n",
    "    result = pd.concat(list_of_series, axis=1).T\n",
    "    return result\n",
    "\n",
    "# function to run predictions for a single kw and \n",
    "# make list of labels \n",
    "def prediction(model, keyword,k=1):\n",
    "    x=model.predict(keyword,k=k)\n",
    "    list_label=[]\n",
    "    for k in range(1,k+1):\n",
    "        pred_label=(x[0][k-1].split('__')[2])\n",
    "        list_label.append(pred_label)\n",
    "        tuple_label=tuple(list_label)\n",
    "    return tuple_label\n",
    "\n",
    "\n",
    "#count amount of predictions for each category\n",
    "def count_values_for_columns(result):\n",
    "    val_counts_for_cols = {}\n",
    "    for col in result.columns:\n",
    "        val_counts = result.explode(col)[col].value_counts()\n",
    "        val_counts_for_cols[col] = val_counts\n",
    "    return val_counts_for_cols"
   ]
  },
  {
   "cell_type": "code",
   "execution_count": 130,
   "metadata": {},
   "outputs": [],
   "source": [
    "#predict categories for google searches topic title+type\n",
    "google_data=df_google['topic_title']+' '+df_google['topic_type']\n",
    "\n",
    "#google_result=run_predict_for_series(model_all_kw_check,df_google_subset['topic_type']) #only topic type\n",
    "#google_result=run_predict_for_series(model_all_kw_check,df_google_subset['topic_title']) #only topic title\n",
    "google_result=run_predict_for_series(model_all_kw_check,google_data) #topic title+type\n",
    "\n",
    "#count amount GS words for each category\n",
    "#count_values_for_columns(google_result)[1]\n",
    "data_g = count_values_for_columns(google_result)[1].values\n",
    "labels_g = count_values_for_columns(google_result)[1].index\n",
    "\n",
    "google_start_date='2021-12-31'\n",
    "#make pie plot for google searches\n",
    "title_g=('Pie-chart of a predicted interest from Google Search mapped onto \\n'+\n",
    "       ' ' +str(len(labels_g)) + ' categories between ' +google_start_date+' and ' +end_date)"
   ]
  },
  {
   "cell_type": "code",
   "execution_count": 131,
   "metadata": {},
   "outputs": [],
   "source": [
    "# make df with dw categories and extracted labels\n",
    "new_labels = single_kw_label.str.split('__').apply(lambda row: row[2]).str.strip()\n",
    "\n",
    "d={'dw_cat':new_labels,'dw_kw':single_kw}#,'pred_cat1','pred_cat2','pred_cat3','pred_cat4','pred_cat5'}\n",
    "df_single=pd.DataFrame(data=d)\n",
    "\n",
    "data_dw = count_values_for_columns(df_single)['dw_cat'].values\n",
    "labels_dw = count_values_for_columns(df_single)['dw_cat'].index\n",
    "title=('Pie-chart of a relative amount of articles published by DW \\n'+\n",
    "       'among ' +str(len(labels_dw)) + ' categories between ' +start_date+' and ' +end_date)"
   ]
  },
  {
   "cell_type": "code",
   "execution_count": 138,
   "metadata": {},
   "outputs": [
    {
     "data": {
      "image/png": "[encoded data removed]",
      "text/plain": [
       "<Figure size 640x480 with 1 Axes>"
      ]
     },
     "metadata": {},
     "output_type": "display_data"
    }
   ],
   "source": [
    "ds2 = pd.DataFrame({'Categories':labels_dw,'Percent':100*data_dw/data_dw.sum().round(1)})\n",
    "ds1 = pd.DataFrame({'Categories':labels_g,'Percent':100*data_g/data_g.sum().round(1)})\n",
    "\n",
    "\n",
    "ds2['source'] = 'dw'\n",
    "ds1['source'] = 'google'\n",
    "dss = pd.concat([ds2, ds1])\n",
    "\n",
    "#sns.barplot(x='Categories', y='Percent', hue='source', data=dss, palette='Set2')\n",
    "sns.barplot(x='Percent', y='Categories', hue='source', data=dss, palette='Set2')\n",
    "sns.color_palette(\"deep\")\n",
    "plt.legend(loc='lower right',frameon=False)\n",
    "plt.title('Relevance for ' + start_date + ' to ' + end_date)\n",
    "\n",
    "plt.show()\n"
   ]
  },
  {
   "cell_type": "code",
   "execution_count": null,
   "metadata": {},
   "outputs": [],
   "source": []
  }
 ],
 "metadata": {
  "kernelspec": {
   "display_name": "venv",
   "language": "python",
   "name": "python3"
  },
  "language_info": {
   "codemirror_mode": {
    "name": "ipython",
    "version": 3
   },
   "file_extension": ".py",
   "mimetype": "text/x-python",
   "name": "python",
   "nbconvert_exporter": "python",
   "pygments_lexer": "ipython3",
   "version": "3.7.16"
  },
  "orig_nbformat": 4,
  "vscode": {
   "interpreter": {
    "hash": "86d31112788d8d591df6d9172bab77b93e77a753c6d2f1b20dea50cac7e014ea"
   }
  }
 },
 "nbformat": 4,
 "nbformat_minor": 2
}
