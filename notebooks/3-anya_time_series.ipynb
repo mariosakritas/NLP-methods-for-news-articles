{
 "cells": [
  {
   "attachments": {},
   "cell_type": "markdown",
   "metadata": {},
   "source": [
    "# Time series analysis\n",
    "\n",
    "###- [https://www.kaggle.com/code/prashant111/complete-guide-on-time-series-analysis-in-python]\n",
    "- decomposition\n",
    "- detrend\n",
    "- cross correlation\n",
    "- Granger causality test - if one is sequence of another \n"
   ]
  },
  {
   "cell_type": "code",
   "execution_count": null,
   "metadata": {},
   "outputs": [],
   "source": []
  },
  {
   "cell_type": "code",
   "execution_count": null,
   "metadata": {},
   "outputs": [],
   "source": []
  }
 ],
 "metadata": {
  "language_info": {
   "name": "python"
  },
  "orig_nbformat": 4
 },
 "nbformat": 4,
 "nbformat_minor": 2
}
